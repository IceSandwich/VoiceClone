{
 "cells": [
  {
   "cell_type": "code",
   "execution_count": 1,
   "metadata": {},
   "outputs": [],
   "source": [
    "from audio_server import Model"
   ]
  },
  {
   "cell_type": "code",
   "execution_count": 2,
   "metadata": {},
   "outputs": [],
   "source": [
    "import pyaudio\n",
    "instance = pyaudio.PyAudio()\n",
    "stream = instance.open(\n",
    "    format=pyaudio.paFloat32,\n",
    "    channels=1, #单声道\n",
    "    rate=22050,\n",
    "    input=False,\n",
    "    output=True,\n",
    "    frames_per_buffer=10*1024,\n",
    ")"
   ]
  },
  {
   "cell_type": "code",
   "execution_count": 3,
   "metadata": {},
   "outputs": [
    {
     "name": "stdout",
     "output_type": "stream",
     "text": [
      "NodeArg(name='x', type='tensor(int64)', shape=['N', 'L'])\n",
      "NodeArg(name='x_length', type='tensor(int64)', shape=['N'])\n",
      "NodeArg(name='noise_scale', type='tensor(float)', shape=[1])\n",
      "NodeArg(name='length_scale', type='tensor(float)', shape=[1])\n",
      "-----\n",
      "NodeArg(name='mel', type='tensor(float)', shape=['N', 80, 'L'])\n",
      "NodeArg(name='mel', type='tensor(float)', shape=['N', 80, 'L'])\n",
      "-----\n",
      "NodeArg(name='audio', type='tensor(float)', shape=['N', 'L'])\n"
     ]
    }
   ],
   "source": [
    "model = Model(\n",
    "    \"assets/exports/kaggle/epoch-701/model-steps-3.onnx\",\n",
    "    \"assets/model/vocoder/hifigan_v2.onnx\",\n",
    "    \"assets/dataset/tokens.txt\",\n",
    "    \"assets/dataset/lexicon.txt\"\n",
    ")"
   ]
  },
  {
   "cell_type": "code",
   "execution_count": 33,
   "metadata": {},
   "outputs": [
    {
     "name": "stdout",
     "output_type": "stream",
     "text": [
      "x_lengths tensor([19])\n",
      "x torch.Size([1, 19])\n"
     ]
    }
   ],
   "source": [
    "audio = model.ForwardWithTokens([\n",
    "    \"ba4\", \"ba3\", \",\", \",\", \".\", \"san1\", \"shi2\", \"dian3\", \"wu3\"\n",
    "])"
   ]
  },
  {
   "cell_type": "code",
   "execution_count": 34,
   "metadata": {},
   "outputs": [],
   "source": [
    "stream.write(audio.numpy().tobytes())"
   ]
  },
  {
   "cell_type": "code",
   "execution_count": null,
   "metadata": {},
   "outputs": [],
   "source": []
  }
 ],
 "metadata": {
  "kernelspec": {
   "display_name": "voicelab",
   "language": "python",
   "name": "python3"
  },
  "language_info": {
   "codemirror_mode": {
    "name": "ipython",
    "version": 3
   },
   "file_extension": ".py",
   "mimetype": "text/x-python",
   "name": "python",
   "nbconvert_exporter": "python",
   "pygments_lexer": "ipython3",
   "version": "3.10.16"
  }
 },
 "nbformat": 4,
 "nbformat_minor": 2
}
