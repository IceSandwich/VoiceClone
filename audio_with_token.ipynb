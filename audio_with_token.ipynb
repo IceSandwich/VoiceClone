{
 "cells": [
  {
   "cell_type": "code",
   "execution_count": 2,
   "metadata": {},
   "outputs": [],
   "source": [
    "from audio_server import Model"
   ]
  },
  {
   "cell_type": "code",
   "execution_count": 3,
   "metadata": {},
   "outputs": [],
   "source": [
    "import pyaudio\n",
    "instance = pyaudio.PyAudio()\n",
    "stream = instance.open(\n",
    "    format=pyaudio.paFloat32,\n",
    "    channels=1, #单声道\n",
    "    rate=22050,\n",
    "    input=False,\n",
    "    output=True,\n",
    "    frames_per_buffer=10*1024,\n",
    ")"
   ]
  },
  {
   "cell_type": "code",
   "execution_count": 4,
   "metadata": {},
   "outputs": [
    {
     "name": "stdout",
     "output_type": "stream",
     "text": [
      "NodeArg(name='x', type='tensor(int64)', shape=['N', 'L'])\n",
      "NodeArg(name='x_length', type='tensor(int64)', shape=['N'])\n",
      "NodeArg(name='noise_scale', type='tensor(float)', shape=[1])\n",
      "NodeArg(name='length_scale', type='tensor(float)', shape=[1])\n",
      "-----\n",
      "NodeArg(name='mel', type='tensor(float)', shape=['N', 80, 'L'])\n",
      "NodeArg(name='mel', type='tensor(float)', shape=['N', 80, 'L'])\n",
      "-----\n",
      "NodeArg(name='audio', type='tensor(float)', shape=['N', 'L'])\n"
     ]
    }
   ],
   "source": [
    "model = Model(\n",
    "    \"assets/exports/exp-13/epoch-428/model-steps-3.onnx\",\n",
    "    \"assets/model/vocoder/hifigan_v2.onnx\",\n",
    "    \"assets/dataset/tokens.txt\",\n",
    "    \"assets/dataset/lexicon.txt\"\n",
    ")"
   ]
  },
  {
   "cell_type": "code",
   "execution_count": null,
   "metadata": {},
   "outputs": [
    {
     "name": "stdout",
     "output_type": "stream",
     "text": [
      "x_lengths tensor([27])\n",
      "x torch.Size([1, 27])\n"
     ]
    }
   ],
   "source": [
    "audio = model.ForwardWithTokens([\n",
    "    \"letterA\", \"letterB\"\n",
    "])"
   ]
  },
  {
   "cell_type": "code",
   "execution_count": 15,
   "metadata": {},
   "outputs": [],
   "source": [
    "stream.write(audio.numpy().tobytes())"
   ]
  },
  {
   "cell_type": "code",
   "execution_count": null,
   "metadata": {},
   "outputs": [],
   "source": []
  }
 ],
 "metadata": {
  "kernelspec": {
   "display_name": "Python 3",
   "language": "python",
   "name": "python3"
  },
  "language_info": {
   "codemirror_mode": {
    "name": "ipython",
    "version": 3
   },
   "file_extension": ".py",
   "mimetype": "text/x-python",
   "name": "python",
   "nbconvert_exporter": "python",
   "pygments_lexer": "ipython3",
   "version": "3.8.18"
  }
 },
 "nbformat": 4,
 "nbformat_minor": 2
}
