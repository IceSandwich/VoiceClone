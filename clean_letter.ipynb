{
 "cells": [
  {
   "cell_type": "code",
   "execution_count": 3,
   "metadata": {},
   "outputs": [],
   "source": [
    "import jieba, pypinyin, typing"
   ]
  },
  {
   "cell_type": "code",
   "execution_count": 8,
   "metadata": {},
   "outputs": [
    {
     "data": {
      "text/plain": [
       "[('从A到B的计划需要C和D的配合，以确保E可以成功执行。',\n",
       "  'cong2 letterA dao4 letterB de ji4 hua4 xu1 yao4 letterC he2 letterD de pei4 he2 ， yi3 que4 bao3 letterE ke2 yi3 cheng2 gong1 zhi2 xing2 。'),\n",
       " ('你从F到G的过程中，H的支持是不可缺少的，尤其是在I阶段。',\n",
       "  'ni3 cong2 letterF dao4 letterG de guo4 cheng2 zhong1 ， letterH de zhi1 chi2 shi4 bu4 ke3 que1 shao3 de ， you2 qi2 shi4 zai4 letterI jie1 duan4 。'),\n",
       " ('在项目进行中，J和K的合作将直接影响C的效率。',\n",
       "  'zai4 xiang4 mu4 jin4 xing2 zhong1 ， letterJ he2 letterK de he2 zuo4 jiang1 zhi2 jie1 ying3 xiang3 letterC de xiao4 lv4 。'),\n",
       " ('如果你想提高L到M的速度，N的调整将非常重要。',\n",
       "  'ru2 guo3 ni3 xiang3 ti2 gao1 letterL dao4 letterM de su4 du4 ， letterN de tiao2 zheng3 jiang1 fei1 chang2 zhong4 yao4 。'),\n",
       " ('在这次活动中，O的出现为P带来了更大的机会。',\n",
       "  'zai4 zhe4 ci4 huo2 dong4 zhong1 ， letterO de chu1 xian4 wei4 letterP dai4 lai2 le geng4 da4 de ji1 hui4 。')]"
      ]
     },
     "execution_count": 8,
     "metadata": {},
     "output_type": "execute_result"
    }
   ],
   "source": [
    "dataset: typing.List[typing.Tuple[str, str]] = []\n",
    "with open(\"assets/text/withLetter.txt\", 'r', encoding='utf-8') as f:\n",
    "\tfor line in f.readlines():\n",
    "\t\tline = line.strip().strip('\\n')\n",
    "\t\tcuts = jieba.cut(line)\n",
    "\t\tpinyin = []\n",
    "\t\tfor cut in cuts:\n",
    "\t\t\tpinyins = pypinyin.lazy_pinyin(cut, style=pypinyin.Style.TONE3, tone_sandhi=True)\n",
    "\t\t\tfor i, x in enumerate(pinyins):\n",
    "\t\t\t\tif len(x) == 1 and ord('A') <= ord(x[0]) and ord(x[0]) <= ord('Z'):\n",
    "\t\t\t\t\tpinyin.append(\"letter\" + x)\n",
    "\t\t\t\telse:\n",
    "\t\t\t\t\tpinyin.append(x)\n",
    "\t\tdataset.append((line,' '.join(pinyin)))\n",
    "dataset[:5]"
   ]
  },
  {
   "cell_type": "code",
   "execution_count": 9,
   "metadata": {},
   "outputs": [],
   "source": [
    "with open(\"assets/text/withLetter_clean.txt\", \"w\", encoding='utf-8') as f:\n",
    "\tfor line in dataset:\n",
    "\t\tf.write(line[0] + \"\\n\" + line[1] + \"\\n\")"
   ]
  },
  {
   "cell_type": "code",
   "execution_count": null,
   "metadata": {},
   "outputs": [],
   "source": []
  }
 ],
 "metadata": {
  "kernelspec": {
   "display_name": "Python 3",
   "language": "python",
   "name": "python3"
  },
  "language_info": {
   "codemirror_mode": {
    "name": "ipython",
    "version": 3
   },
   "file_extension": ".py",
   "mimetype": "text/x-python",
   "name": "python",
   "nbconvert_exporter": "python",
   "pygments_lexer": "ipython3",
   "version": "3.8.18"
  }
 },
 "nbformat": 4,
 "nbformat_minor": 2
}
