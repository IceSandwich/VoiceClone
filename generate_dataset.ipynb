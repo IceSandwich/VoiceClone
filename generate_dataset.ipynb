{
 "cells": [
  {
   "cell_type": "code",
   "execution_count": 1,
   "metadata": {},
   "outputs": [
    {
     "name": "stderr",
     "output_type": "stream",
     "text": [
      "2025-02-19 20:23:30,501 - modelscope - INFO - PyTorch version 2.3.1+cu121 Found.\n",
      "2025-02-19 20:23:30,504 - modelscope - INFO - Loading ast index from C:\\Users\\CHENHAOYUAN\\.cache\\modelscope\\ast_indexer\n",
      "2025-02-19 20:23:30,702 - modelscope - INFO - Loading done! Current index file version is 1.15.0, with md5 553a05bea23a95025342c8774cbd7108 and a total number of 980 components indexed\n"
     ]
    },
    {
     "name": "stdout",
     "output_type": "stream",
     "text": [
      "failed to import ttsfrd, use WeTextProcessing instead\n"
     ]
    }
   ],
   "source": [
    "import sys, os\n",
    "from tqdm import tqdm\n",
    "sys.path.append(R\"D:\\GITHUB\\FunAudioLLM-APP\\cosyvoice\")\n",
    "sys.path.append(R\"D:\\GITHUB\\FunAudioLLM-APP\\cosyvoice\\third_party\\Matcha-TTS\")\n",
    "\n",
    "from cosyvoice.cli.cosyvoice import CosyVoice, CosyVoice2\n",
    "from cosyvoice.utils.file_utils import load_wav\n",
    "from cosyvoice.utils.common import set_all_random_seed\n",
    "import torchaudio"
   ]
  },
  {
   "cell_type": "markdown",
   "metadata": {},
   "source": [
    "## 加载模型"
   ]
  },
  {
   "cell_type": "code",
   "execution_count": 2,
   "metadata": {},
   "outputs": [
    {
     "name": "stderr",
     "output_type": "stream",
     "text": [
      "d:\\anaconda3\\envs\\cosyvoice\\lib\\site-packages\\diffusers\\models\\lora.py:393: FutureWarning: `LoRACompatibleLinear` is deprecated and will be removed in version 1.0.0. Use of `LoRACompatibleLinear` is deprecated. Please switch to PEFT backend by installing PEFT: `pip install peft`.\n",
      "  deprecate(\"LoRACompatibleLinear\", \"1.0.0\", deprecation_message)\n",
      "2025-02-19 20:23:41,764 INFO input frame rate=25\n",
      "d:\\anaconda3\\envs\\cosyvoice\\lib\\site-packages\\onnxruntime\\capi\\onnxruntime_inference_collection.py:69: UserWarning: Specified provider 'CUDAExecutionProvider' is not in available provider names.Available providers: 'AzureExecutionProvider, CPUExecutionProvider'\n",
      "  warnings.warn(\n",
      "2025-02-19 20:23:43,577 WETEXT INFO building fst for zh_normalizer ...\n",
      "2025-02-19 20:23:43,577 INFO building fst for zh_normalizer ...\n",
      "2025-02-19 20:24:07,856 WETEXT INFO done\n",
      "2025-02-19 20:24:07,856 INFO done\n",
      "2025-02-19 20:24:07,857 WETEXT INFO fst path: d:\\anaconda3\\envs\\cosyvoice\\lib\\site-packages\\tn\\zh_tn_tagger.fst\n",
      "2025-02-19 20:24:07,857 INFO fst path: d:\\anaconda3\\envs\\cosyvoice\\lib\\site-packages\\tn\\zh_tn_tagger.fst\n",
      "2025-02-19 20:24:07,858 WETEXT INFO           d:\\anaconda3\\envs\\cosyvoice\\lib\\site-packages\\tn\\zh_tn_verbalizer.fst\n",
      "2025-02-19 20:24:07,858 INFO           d:\\anaconda3\\envs\\cosyvoice\\lib\\site-packages\\tn\\zh_tn_verbalizer.fst\n",
      "2025-02-19 20:24:07,867 WETEXT INFO found existing fst: d:\\anaconda3\\envs\\cosyvoice\\lib\\site-packages\\tn\\en_tn_tagger.fst\n",
      "2025-02-19 20:24:07,867 INFO found existing fst: d:\\anaconda3\\envs\\cosyvoice\\lib\\site-packages\\tn\\en_tn_tagger.fst\n",
      "2025-02-19 20:24:07,868 WETEXT INFO                     d:\\anaconda3\\envs\\cosyvoice\\lib\\site-packages\\tn\\en_tn_verbalizer.fst\n",
      "2025-02-19 20:24:07,868 INFO                     d:\\anaconda3\\envs\\cosyvoice\\lib\\site-packages\\tn\\en_tn_verbalizer.fst\n",
      "2025-02-19 20:24:07,869 WETEXT INFO skip building fst for en_normalizer ...\n",
      "2025-02-19 20:24:07,869 INFO skip building fst for en_normalizer ...\n"
     ]
    }
   ],
   "source": [
    "cosyvoice = CosyVoice2(R'D:\\GITHUB\\FunAudioLLM-APP\\cosyvoice\\pretrained_models\\CosyVoice2-0.5B', load_jit=False, load_trt=False, fp16=False)"
   ]
  },
  {
   "cell_type": "markdown",
   "metadata": {},
   "source": [
    "## 加载音频\n",
    "需要手动标记一下音频的内容"
   ]
  },
  {
   "cell_type": "code",
   "execution_count": 3,
   "metadata": {},
   "outputs": [],
   "source": [
    "prompt_audio = load_wav(R'D:\\GITHUB\\OpenVoice\\inputs\\train\\tvboy1_denoised.wav', 16000)\n",
    "prompt_text = \"两个或者三个吧，嗯肚子很胀，就是，有点，嗯，有时候会吐的\""
   ]
  },
  {
   "cell_type": "markdown",
   "metadata": {},
   "source": [
    "## 配置"
   ]
  },
  {
   "cell_type": "code",
   "execution_count": 4,
   "metadata": {},
   "outputs": [
    {
     "name": "stdout",
     "output_type": "stream",
     "text": [
      "Got dataset:  729\n",
      "Output folder:  ./assets/dataset/tvboy_denoised_mandarin_seed34751218\n",
      "Using seed:  34751218\n"
     ]
    }
   ],
   "source": [
    "batch = 4 # doesn't work at this moment\n",
    "output_dir = \"./assets/dataset/tvboy_denoised_mandarin_seed34751218\"\n",
    "seed = 34751218\n",
    "\n",
    "# 以下选一个\n",
    "\n",
    "## 普通话\n",
    "input_txts = \"./assets/text/mandarin.txt\"\n",
    "cross_lang = \"\"\n",
    "\n",
    "## 粤语\n",
    "# input_txts = \"./cantonese.txt\"\n",
    "# cross_lang = \"粤语\"\n",
    "\n",
    "# ！！下面的不要动\n",
    "\n",
    "if not os.path.exists(output_dir):\n",
    "\tos.makedirs(output_dir, exist_ok=True)\n",
    "with open(input_txts, 'r', encoding='utf-8') as f:\n",
    "\tinput_text_lines = [ x.strip() for x in f.readlines() if x.strip() != \"\" ]\n",
    "\tprint(\"Got dataset: \", len(input_text_lines))\n",
    "\tdef input_generator():\n",
    "\t\tfor i in range(0, len(input_text_lines), batch):\n",
    "\t\t\tyield input_text_lines[i:min(i+batch, len(input_text_lines))]\n",
    "set_all_random_seed(seed)\n",
    "print(\"Output folder: \", output_dir)\n",
    "print(\"Using seed: \", seed)"
   ]
  },
  {
   "cell_type": "markdown",
   "metadata": {},
   "source": [
    "## 测试推理"
   ]
  },
  {
   "cell_type": "code",
   "execution_count": 61,
   "metadata": {},
   "outputs": [
    {
     "name": "stdout",
     "output_type": "stream",
     "text": [
      "Using zero infer.\n"
     ]
    },
    {
     "name": "stderr",
     "output_type": "stream",
     "text": [
      "  0%|          | 0/1 [00:00<?, ?it/s]2025-02-17 11:49:48,140 INFO synthesis text 他在家里吃苹果，喝茶，打电话，唱歌。\n",
      "2025-02-17 11:49:53,008 INFO yield speech len 6.92, rtf 0.7034620453167513\n",
      "100%|██████████| 1/1 [00:05<00:00,  5.28s/it]"
     ]
    },
    {
     "name": "stdout",
     "output_type": "stream",
     "text": [
      "Done.\n"
     ]
    },
    {
     "name": "stderr",
     "output_type": "stream",
     "text": [
      "\n"
     ]
    }
   ],
   "source": [
    "sample_text = input_text_lines[0]\n",
    "def zero_infer():\n",
    "\tprint(\"Using zero infer.\")\n",
    "\tret = list(cosyvoice.inference_zero_shot(sample_text, prompt_text, prompt_audio, stream=False))[0]\n",
    "\ttorchaudio.save(\"zero_infer.wav\", ret['tts_speech'], cosyvoice.sample_rate)\n",
    "def cross_infer():\n",
    "\tprint(\"Using cross shot to \" + cross_lang + \".\")\n",
    "\tinstruct_text = f\"用{cross_lang}说这句话\"\n",
    "\tret = list(cosyvoice.inference_instruct2(sample_text, instruct_text, prompt_audio, stream=False))[0]\n",
    "\ttorchaudio.save(\"cross_infer.wav\", ret['tts_speech'], cosyvoice.sample_rate)\n",
    "if cross_lang == \"\":\n",
    "\tzero_infer()\n",
    "else:\n",
    "\tcross_infer()\n",
    "print(\"Done.\")"
   ]
  },
  {
   "cell_type": "markdown",
   "metadata": {},
   "source": [
    "## 生成"
   ]
  },
  {
   "cell_type": "code",
   "execution_count": 5,
   "metadata": {},
   "outputs": [
    {
     "name": "stdout",
     "output_type": "stream",
     "text": [
      "Using zero shot.\n"
     ]
    },
    {
     "name": "stderr",
     "output_type": "stream",
     "text": [
      "0it [00:00, ?it/s]"
     ]
    },
    {
     "name": "stdout",
     "output_type": "stream",
     "text": [
      "Skip  ./assets/dataset/tvboy_denoised_mandarin_seed34751218\\1.wav\n",
      "Skip  ./assets/dataset/tvboy_denoised_mandarin_seed34751218\\2.wav\n",
      "Skip  ./assets/dataset/tvboy_denoised_mandarin_seed34751218\\3.wav\n",
      "Skip  ./assets/dataset/tvboy_denoised_mandarin_seed34751218\\4.wav\n",
      "Skip  ./assets/dataset/tvboy_denoised_mandarin_seed34751218\\5.wav\n",
      "Skip  ./assets/dataset/tvboy_denoised_mandarin_seed34751218\\6.wav\n",
      "Skip  ./assets/dataset/tvboy_denoised_mandarin_seed34751218\\7.wav\n",
      "Skip  ./assets/dataset/tvboy_denoised_mandarin_seed34751218\\8.wav\n",
      "Skip  ./assets/dataset/tvboy_denoised_mandarin_seed34751218\\9.wav\n",
      "Skip  ./assets/dataset/tvboy_denoised_mandarin_seed34751218\\10.wav\n",
      "Skip  ./assets/dataset/tvboy_denoised_mandarin_seed34751218\\11.wav\n",
      "Skip  ./assets/dataset/tvboy_denoised_mandarin_seed34751218\\12.wav\n",
      "Skip  ./assets/dataset/tvboy_denoised_mandarin_seed34751218\\13.wav\n",
      "Skip  ./assets/dataset/tvboy_denoised_mandarin_seed34751218\\14.wav\n",
      "Skip  ./assets/dataset/tvboy_denoised_mandarin_seed34751218\\15.wav\n",
      "Skip  ./assets/dataset/tvboy_denoised_mandarin_seed34751218\\16.wav\n",
      "Skip  ./assets/dataset/tvboy_denoised_mandarin_seed34751218\\17.wav\n",
      "Skip  ./assets/dataset/tvboy_denoised_mandarin_seed34751218\\18.wav\n",
      "Skip  ./assets/dataset/tvboy_denoised_mandarin_seed34751218\\19.wav\n",
      "Skip  ./assets/dataset/tvboy_denoised_mandarin_seed34751218\\20.wav\n",
      "Skip  ./assets/dataset/tvboy_denoised_mandarin_seed34751218\\21.wav\n",
      "Skip  ./assets/dataset/tvboy_denoised_mandarin_seed34751218\\22.wav\n",
      "Skip  ./assets/dataset/tvboy_denoised_mandarin_seed34751218\\23.wav\n",
      "Skip  ./assets/dataset/tvboy_denoised_mandarin_seed34751218\\24.wav\n",
      "Skip  ./assets/dataset/tvboy_denoised_mandarin_seed34751218\\25.wav\n",
      "Skip  ./assets/dataset/tvboy_denoised_mandarin_seed34751218\\26.wav\n",
      "Skip  ./assets/dataset/tvboy_denoised_mandarin_seed34751218\\27.wav\n",
      "Skip  ./assets/dataset/tvboy_denoised_mandarin_seed34751218\\28.wav\n",
      "Skip  ./assets/dataset/tvboy_denoised_mandarin_seed34751218\\29.wav\n",
      "Skip  ./assets/dataset/tvboy_denoised_mandarin_seed34751218\\30.wav\n",
      "Skip  ./assets/dataset/tvboy_denoised_mandarin_seed34751218\\31.wav\n",
      "Skip  ./assets/dataset/tvboy_denoised_mandarin_seed34751218\\32.wav\n",
      "Skip  ./assets/dataset/tvboy_denoised_mandarin_seed34751218\\33.wav\n",
      "Skip  ./assets/dataset/tvboy_denoised_mandarin_seed34751218\\34.wav\n",
      "Skip  ./assets/dataset/tvboy_denoised_mandarin_seed34751218\\35.wav\n",
      "Skip  ./assets/dataset/tvboy_denoised_mandarin_seed34751218\\36.wav\n",
      "Skip  ./assets/dataset/tvboy_denoised_mandarin_seed34751218\\37.wav\n",
      "Skip  ./assets/dataset/tvboy_denoised_mandarin_seed34751218\\38.wav\n",
      "Skip  ./assets/dataset/tvboy_denoised_mandarin_seed34751218\\39.wav\n",
      "Skip  ./assets/dataset/tvboy_denoised_mandarin_seed34751218\\40.wav\n",
      "Skip  ./assets/dataset/tvboy_denoised_mandarin_seed34751218\\41.wav\n",
      "Skip  ./assets/dataset/tvboy_denoised_mandarin_seed34751218\\42.wav\n",
      "Skip  ./assets/dataset/tvboy_denoised_mandarin_seed34751218\\43.wav\n",
      "Skip  ./assets/dataset/tvboy_denoised_mandarin_seed34751218\\44.wav\n",
      "Skip  ./assets/dataset/tvboy_denoised_mandarin_seed34751218\\45.wav\n",
      "Skip  ./assets/dataset/tvboy_denoised_mandarin_seed34751218\\46.wav\n",
      "Skip  ./assets/dataset/tvboy_denoised_mandarin_seed34751218\\47.wav\n",
      "Skip  ./assets/dataset/tvboy_denoised_mandarin_seed34751218\\48.wav\n",
      "Skip  ./assets/dataset/tvboy_denoised_mandarin_seed34751218\\49.wav\n",
      "Skip  ./assets/dataset/tvboy_denoised_mandarin_seed34751218\\50.wav\n",
      "Skip  ./assets/dataset/tvboy_denoised_mandarin_seed34751218\\51.wav\n",
      "Skip  ./assets/dataset/tvboy_denoised_mandarin_seed34751218\\52.wav\n",
      "Skip  ./assets/dataset/tvboy_denoised_mandarin_seed34751218\\53.wav\n",
      "Skip  ./assets/dataset/tvboy_denoised_mandarin_seed34751218\\54.wav\n",
      "Skip  ./assets/dataset/tvboy_denoised_mandarin_seed34751218\\55.wav\n",
      "Skip  ./assets/dataset/tvboy_denoised_mandarin_seed34751218\\56.wav\n",
      "Skip  ./assets/dataset/tvboy_denoised_mandarin_seed34751218\\57.wav\n",
      "Skip  ./assets/dataset/tvboy_denoised_mandarin_seed34751218\\58.wav\n",
      "Skip  ./assets/dataset/tvboy_denoised_mandarin_seed34751218\\59.wav\n",
      "Skip  ./assets/dataset/tvboy_denoised_mandarin_seed34751218\\60.wav\n",
      "Skip  ./assets/dataset/tvboy_denoised_mandarin_seed34751218\\61.wav\n",
      "Skip  ./assets/dataset/tvboy_denoised_mandarin_seed34751218\\62.wav\n",
      "Skip  ./assets/dataset/tvboy_denoised_mandarin_seed34751218\\63.wav\n",
      "Skip  ./assets/dataset/tvboy_denoised_mandarin_seed34751218\\64.wav\n",
      "Skip  ./assets/dataset/tvboy_denoised_mandarin_seed34751218\\65.wav\n",
      "Skip  ./assets/dataset/tvboy_denoised_mandarin_seed34751218\\66.wav\n",
      "Skip  ./assets/dataset/tvboy_denoised_mandarin_seed34751218\\67.wav\n",
      "Skip  ./assets/dataset/tvboy_denoised_mandarin_seed34751218\\68.wav\n",
      "Skip  ./assets/dataset/tvboy_denoised_mandarin_seed34751218\\69.wav\n",
      "Skip  ./assets/dataset/tvboy_denoised_mandarin_seed34751218\\70.wav\n",
      "Skip  ./assets/dataset/tvboy_denoised_mandarin_seed34751218\\71.wav\n",
      "Skip  ./assets/dataset/tvboy_denoised_mandarin_seed34751218\\72.wav\n",
      "Skip  ./assets/dataset/tvboy_denoised_mandarin_seed34751218\\73.wav\n",
      "Skip  ./assets/dataset/tvboy_denoised_mandarin_seed34751218\\74.wav\n",
      "Skip  ./assets/dataset/tvboy_denoised_mandarin_seed34751218\\75.wav\n",
      "Skip  ./assets/dataset/tvboy_denoised_mandarin_seed34751218\\76.wav\n",
      "Skip  ./assets/dataset/tvboy_denoised_mandarin_seed34751218\\77.wav\n",
      "Skip  ./assets/dataset/tvboy_denoised_mandarin_seed34751218\\78.wav\n",
      "Skip  ./assets/dataset/tvboy_denoised_mandarin_seed34751218\\79.wav\n",
      "Skip  ./assets/dataset/tvboy_denoised_mandarin_seed34751218\\80.wav\n",
      "Skip  ./assets/dataset/tvboy_denoised_mandarin_seed34751218\\81.wav\n",
      "Skip  ./assets/dataset/tvboy_denoised_mandarin_seed34751218\\82.wav\n",
      "Skip  ./assets/dataset/tvboy_denoised_mandarin_seed34751218\\83.wav\n",
      "Skip  ./assets/dataset/tvboy_denoised_mandarin_seed34751218\\84.wav\n",
      "Skip  ./assets/dataset/tvboy_denoised_mandarin_seed34751218\\85.wav\n",
      "Skip  ./assets/dataset/tvboy_denoised_mandarin_seed34751218\\86.wav\n",
      "Skip  ./assets/dataset/tvboy_denoised_mandarin_seed34751218\\87.wav\n",
      "Skip  ./assets/dataset/tvboy_denoised_mandarin_seed34751218\\88.wav\n",
      "Skip  ./assets/dataset/tvboy_denoised_mandarin_seed34751218\\89.wav\n",
      "Skip  ./assets/dataset/tvboy_denoised_mandarin_seed34751218\\90.wav\n",
      "Skip  ./assets/dataset/tvboy_denoised_mandarin_seed34751218\\91.wav\n",
      "Skip  ./assets/dataset/tvboy_denoised_mandarin_seed34751218\\92.wav\n",
      "Skip  ./assets/dataset/tvboy_denoised_mandarin_seed34751218\\93.wav\n",
      "Skip  ./assets/dataset/tvboy_denoised_mandarin_seed34751218\\94.wav\n",
      "Skip  ./assets/dataset/tvboy_denoised_mandarin_seed34751218\\95.wav\n",
      "Skip  ./assets/dataset/tvboy_denoised_mandarin_seed34751218\\96.wav\n",
      "Skip  ./assets/dataset/tvboy_denoised_mandarin_seed34751218\\97.wav\n",
      "Skip  ./assets/dataset/tvboy_denoised_mandarin_seed34751218\\98.wav\n",
      "Skip  ./assets/dataset/tvboy_denoised_mandarin_seed34751218\\99.wav\n",
      "Skip  ./assets/dataset/tvboy_denoised_mandarin_seed34751218\\100.wav\n",
      "Skip  ./assets/dataset/tvboy_denoised_mandarin_seed34751218\\101.wav\n",
      "Skip  ./assets/dataset/tvboy_denoised_mandarin_seed34751218\\102.wav\n",
      "Skip  ./assets/dataset/tvboy_denoised_mandarin_seed34751218\\103.wav\n",
      "Skip  ./assets/dataset/tvboy_denoised_mandarin_seed34751218\\104.wav\n",
      "Skip  ./assets/dataset/tvboy_denoised_mandarin_seed34751218\\105.wav\n",
      "Skip  ./assets/dataset/tvboy_denoised_mandarin_seed34751218\\106.wav\n",
      "Skip  ./assets/dataset/tvboy_denoised_mandarin_seed34751218\\107.wav\n",
      "Skip  ./assets/dataset/tvboy_denoised_mandarin_seed34751218\\108.wav\n",
      "Skip  ./assets/dataset/tvboy_denoised_mandarin_seed34751218\\109.wav\n",
      "Skip  ./assets/dataset/tvboy_denoised_mandarin_seed34751218\\110.wav\n",
      "Skip  ./assets/dataset/tvboy_denoised_mandarin_seed34751218\\111.wav\n",
      "Skip  ./assets/dataset/tvboy_denoised_mandarin_seed34751218\\112.wav\n",
      "Skip  ./assets/dataset/tvboy_denoised_mandarin_seed34751218\\113.wav\n",
      "Skip  ./assets/dataset/tvboy_denoised_mandarin_seed34751218\\114.wav\n",
      "Skip  ./assets/dataset/tvboy_denoised_mandarin_seed34751218\\115.wav\n",
      "Skip  ./assets/dataset/tvboy_denoised_mandarin_seed34751218\\116.wav\n",
      "Skip  ./assets/dataset/tvboy_denoised_mandarin_seed34751218\\117.wav\n",
      "Skip  ./assets/dataset/tvboy_denoised_mandarin_seed34751218\\118.wav\n",
      "Skip  ./assets/dataset/tvboy_denoised_mandarin_seed34751218\\119.wav\n",
      "Skip  ./assets/dataset/tvboy_denoised_mandarin_seed34751218\\120.wav\n",
      "Skip  ./assets/dataset/tvboy_denoised_mandarin_seed34751218\\121.wav\n",
      "Skip  ./assets/dataset/tvboy_denoised_mandarin_seed34751218\\122.wav\n",
      "Skip  ./assets/dataset/tvboy_denoised_mandarin_seed34751218\\123.wav\n",
      "Skip  ./assets/dataset/tvboy_denoised_mandarin_seed34751218\\124.wav\n",
      "Skip  ./assets/dataset/tvboy_denoised_mandarin_seed34751218\\125.wav\n",
      "Skip  ./assets/dataset/tvboy_denoised_mandarin_seed34751218\\126.wav\n",
      "Skip  ./assets/dataset/tvboy_denoised_mandarin_seed34751218\\127.wav\n",
      "Skip  ./assets/dataset/tvboy_denoised_mandarin_seed34751218\\128.wav\n",
      "Skip  ./assets/dataset/tvboy_denoised_mandarin_seed34751218\\129.wav\n",
      "Skip  ./assets/dataset/tvboy_denoised_mandarin_seed34751218\\130.wav\n",
      "Skip  ./assets/dataset/tvboy_denoised_mandarin_seed34751218\\131.wav\n",
      "Skip  ./assets/dataset/tvboy_denoised_mandarin_seed34751218\\132.wav\n",
      "Skip  ./assets/dataset/tvboy_denoised_mandarin_seed34751218\\133.wav\n",
      "Skip  ./assets/dataset/tvboy_denoised_mandarin_seed34751218\\134.wav\n",
      "Skip  ./assets/dataset/tvboy_denoised_mandarin_seed34751218\\135.wav\n",
      "Skip  ./assets/dataset/tvboy_denoised_mandarin_seed34751218\\136.wav\n",
      "Skip  ./assets/dataset/tvboy_denoised_mandarin_seed34751218\\137.wav\n",
      "Skip  ./assets/dataset/tvboy_denoised_mandarin_seed34751218\\138.wav\n",
      "Skip  ./assets/dataset/tvboy_denoised_mandarin_seed34751218\\139.wav\n",
      "Skip  ./assets/dataset/tvboy_denoised_mandarin_seed34751218\\140.wav\n",
      "Skip  ./assets/dataset/tvboy_denoised_mandarin_seed34751218\\141.wav\n",
      "Skip  ./assets/dataset/tvboy_denoised_mandarin_seed34751218\\142.wav\n",
      "Skip  ./assets/dataset/tvboy_denoised_mandarin_seed34751218\\143.wav\n",
      "Skip  ./assets/dataset/tvboy_denoised_mandarin_seed34751218\\144.wav\n",
      "Skip  ./assets/dataset/tvboy_denoised_mandarin_seed34751218\\145.wav\n",
      "Skip  ./assets/dataset/tvboy_denoised_mandarin_seed34751218\\146.wav\n",
      "Skip  ./assets/dataset/tvboy_denoised_mandarin_seed34751218\\147.wav\n",
      "Skip  ./assets/dataset/tvboy_denoised_mandarin_seed34751218\\148.wav\n",
      "Skip  ./assets/dataset/tvboy_denoised_mandarin_seed34751218\\149.wav\n",
      "Skip  ./assets/dataset/tvboy_denoised_mandarin_seed34751218\\150.wav\n",
      "Skip  ./assets/dataset/tvboy_denoised_mandarin_seed34751218\\151.wav\n",
      "Skip  ./assets/dataset/tvboy_denoised_mandarin_seed34751218\\152.wav\n",
      "Skip  ./assets/dataset/tvboy_denoised_mandarin_seed34751218\\153.wav\n",
      "Skip  ./assets/dataset/tvboy_denoised_mandarin_seed34751218\\154.wav\n",
      "Skip  ./assets/dataset/tvboy_denoised_mandarin_seed34751218\\155.wav\n",
      "Skip  ./assets/dataset/tvboy_denoised_mandarin_seed34751218\\156.wav\n",
      "Skip  ./assets/dataset/tvboy_denoised_mandarin_seed34751218\\157.wav\n",
      "Skip  ./assets/dataset/tvboy_denoised_mandarin_seed34751218\\158.wav\n",
      "Skip  ./assets/dataset/tvboy_denoised_mandarin_seed34751218\\159.wav\n",
      "Skip  ./assets/dataset/tvboy_denoised_mandarin_seed34751218\\160.wav\n",
      "Skip  ./assets/dataset/tvboy_denoised_mandarin_seed34751218\\161.wav\n",
      "Skip  ./assets/dataset/tvboy_denoised_mandarin_seed34751218\\162.wav\n",
      "Skip  ./assets/dataset/tvboy_denoised_mandarin_seed34751218\\163.wav\n",
      "Skip  ./assets/dataset/tvboy_denoised_mandarin_seed34751218\\164.wav\n",
      "Skip  ./assets/dataset/tvboy_denoised_mandarin_seed34751218\\165.wav\n",
      "Skip  ./assets/dataset/tvboy_denoised_mandarin_seed34751218\\166.wav\n",
      "Skip  ./assets/dataset/tvboy_denoised_mandarin_seed34751218\\167.wav\n",
      "Skip  ./assets/dataset/tvboy_denoised_mandarin_seed34751218\\168.wav\n",
      "Skip  ./assets/dataset/tvboy_denoised_mandarin_seed34751218\\169.wav\n",
      "Skip  ./assets/dataset/tvboy_denoised_mandarin_seed34751218\\170.wav\n",
      "Skip  ./assets/dataset/tvboy_denoised_mandarin_seed34751218\\171.wav\n",
      "Skip  ./assets/dataset/tvboy_denoised_mandarin_seed34751218\\172.wav\n",
      "Skip  ./assets/dataset/tvboy_denoised_mandarin_seed34751218\\173.wav\n",
      "Skip  ./assets/dataset/tvboy_denoised_mandarin_seed34751218\\174.wav\n",
      "Skip  ./assets/dataset/tvboy_denoised_mandarin_seed34751218\\175.wav\n",
      "Skip  ./assets/dataset/tvboy_denoised_mandarin_seed34751218\\176.wav\n",
      "Skip  ./assets/dataset/tvboy_denoised_mandarin_seed34751218\\177.wav\n",
      "Skip  ./assets/dataset/tvboy_denoised_mandarin_seed34751218\\178.wav\n",
      "Skip  ./assets/dataset/tvboy_denoised_mandarin_seed34751218\\179.wav\n",
      "Skip  ./assets/dataset/tvboy_denoised_mandarin_seed34751218\\180.wav\n",
      "Skip  ./assets/dataset/tvboy_denoised_mandarin_seed34751218\\181.wav\n",
      "Skip  ./assets/dataset/tvboy_denoised_mandarin_seed34751218\\182.wav\n",
      "Skip  ./assets/dataset/tvboy_denoised_mandarin_seed34751218\\183.wav\n",
      "Skip  ./assets/dataset/tvboy_denoised_mandarin_seed34751218\\184.wav\n",
      "Skip  ./assets/dataset/tvboy_denoised_mandarin_seed34751218\\185.wav\n",
      "Skip  ./assets/dataset/tvboy_denoised_mandarin_seed34751218\\186.wav\n",
      "Skip  ./assets/dataset/tvboy_denoised_mandarin_seed34751218\\187.wav\n",
      "Skip  ./assets/dataset/tvboy_denoised_mandarin_seed34751218\\188.wav\n",
      "Skip  ./assets/dataset/tvboy_denoised_mandarin_seed34751218\\189.wav\n",
      "Skip  ./assets/dataset/tvboy_denoised_mandarin_seed34751218\\190.wav\n",
      "Skip  ./assets/dataset/tvboy_denoised_mandarin_seed34751218\\191.wav\n",
      "Skip  ./assets/dataset/tvboy_denoised_mandarin_seed34751218\\192.wav\n",
      "Skip  ./assets/dataset/tvboy_denoised_mandarin_seed34751218\\193.wav\n",
      "Skip  ./assets/dataset/tvboy_denoised_mandarin_seed34751218\\194.wav\n",
      "Skip  ./assets/dataset/tvboy_denoised_mandarin_seed34751218\\195.wav\n",
      "Skip  ./assets/dataset/tvboy_denoised_mandarin_seed34751218\\196.wav\n",
      "Skip  ./assets/dataset/tvboy_denoised_mandarin_seed34751218\\197.wav\n",
      "Skip  ./assets/dataset/tvboy_denoised_mandarin_seed34751218\\198.wav\n",
      "Skip  ./assets/dataset/tvboy_denoised_mandarin_seed34751218\\199.wav\n",
      "Skip  ./assets/dataset/tvboy_denoised_mandarin_seed34751218\\200.wav\n",
      "Skip  ./assets/dataset/tvboy_denoised_mandarin_seed34751218\\201.wav\n",
      "Skip  ./assets/dataset/tvboy_denoised_mandarin_seed34751218\\202.wav\n",
      "Skip  ./assets/dataset/tvboy_denoised_mandarin_seed34751218\\203.wav\n",
      "Skip  ./assets/dataset/tvboy_denoised_mandarin_seed34751218\\204.wav\n",
      "Skip  ./assets/dataset/tvboy_denoised_mandarin_seed34751218\\205.wav\n",
      "Skip  ./assets/dataset/tvboy_denoised_mandarin_seed34751218\\206.wav\n",
      "Skip  ./assets/dataset/tvboy_denoised_mandarin_seed34751218\\207.wav\n",
      "Skip  ./assets/dataset/tvboy_denoised_mandarin_seed34751218\\208.wav\n",
      "Skip  ./assets/dataset/tvboy_denoised_mandarin_seed34751218\\209.wav\n",
      "Skip  ./assets/dataset/tvboy_denoised_mandarin_seed34751218\\210.wav\n",
      "Skip  ./assets/dataset/tvboy_denoised_mandarin_seed34751218\\211.wav\n",
      "Skip  ./assets/dataset/tvboy_denoised_mandarin_seed34751218\\212.wav\n",
      "Skip  ./assets/dataset/tvboy_denoised_mandarin_seed34751218\\213.wav\n",
      "Skip  ./assets/dataset/tvboy_denoised_mandarin_seed34751218\\214.wav\n",
      "Skip  ./assets/dataset/tvboy_denoised_mandarin_seed34751218\\215.wav\n",
      "Skip  ./assets/dataset/tvboy_denoised_mandarin_seed34751218\\216.wav\n",
      "Skip  ./assets/dataset/tvboy_denoised_mandarin_seed34751218\\217.wav\n",
      "Skip  ./assets/dataset/tvboy_denoised_mandarin_seed34751218\\218.wav\n",
      "Skip  ./assets/dataset/tvboy_denoised_mandarin_seed34751218\\219.wav\n",
      "Skip  ./assets/dataset/tvboy_denoised_mandarin_seed34751218\\220.wav\n",
      "Skip  ./assets/dataset/tvboy_denoised_mandarin_seed34751218\\221.wav\n",
      "Skip  ./assets/dataset/tvboy_denoised_mandarin_seed34751218\\222.wav\n",
      "Skip  ./assets/dataset/tvboy_denoised_mandarin_seed34751218\\223.wav\n",
      "Skip  ./assets/dataset/tvboy_denoised_mandarin_seed34751218\\224.wav\n",
      "Skip  ./assets/dataset/tvboy_denoised_mandarin_seed34751218\\225.wav\n",
      "Skip  ./assets/dataset/tvboy_denoised_mandarin_seed34751218\\226.wav\n",
      "Skip  ./assets/dataset/tvboy_denoised_mandarin_seed34751218\\227.wav\n",
      "Skip  ./assets/dataset/tvboy_denoised_mandarin_seed34751218\\228.wav\n",
      "Skip  ./assets/dataset/tvboy_denoised_mandarin_seed34751218\\229.wav\n",
      "Skip  ./assets/dataset/tvboy_denoised_mandarin_seed34751218\\230.wav\n",
      "Skip  ./assets/dataset/tvboy_denoised_mandarin_seed34751218\\231.wav\n",
      "Skip  ./assets/dataset/tvboy_denoised_mandarin_seed34751218\\232.wav\n",
      "Skip  ./assets/dataset/tvboy_denoised_mandarin_seed34751218\\233.wav\n",
      "Skip  ./assets/dataset/tvboy_denoised_mandarin_seed34751218\\234.wav\n",
      "Skip  ./assets/dataset/tvboy_denoised_mandarin_seed34751218\\235.wav\n",
      "Skip  ./assets/dataset/tvboy_denoised_mandarin_seed34751218\\236.wav\n",
      "Skip  ./assets/dataset/tvboy_denoised_mandarin_seed34751218\\237.wav\n",
      "Skip  ./assets/dataset/tvboy_denoised_mandarin_seed34751218\\238.wav\n",
      "Skip  ./assets/dataset/tvboy_denoised_mandarin_seed34751218\\239.wav\n",
      "Skip  ./assets/dataset/tvboy_denoised_mandarin_seed34751218\\240.wav\n",
      "Skip  ./assets/dataset/tvboy_denoised_mandarin_seed34751218\\241.wav\n",
      "Skip  ./assets/dataset/tvboy_denoised_mandarin_seed34751218\\242.wav\n",
      "Skip  ./assets/dataset/tvboy_denoised_mandarin_seed34751218\\243.wav\n",
      "Skip  ./assets/dataset/tvboy_denoised_mandarin_seed34751218\\244.wav\n",
      "Skip  ./assets/dataset/tvboy_denoised_mandarin_seed34751218\\245.wav\n",
      "Skip  ./assets/dataset/tvboy_denoised_mandarin_seed34751218\\246.wav\n",
      "Skip  ./assets/dataset/tvboy_denoised_mandarin_seed34751218\\247.wav\n",
      "Skip  ./assets/dataset/tvboy_denoised_mandarin_seed34751218\\248.wav\n",
      "Skip  ./assets/dataset/tvboy_denoised_mandarin_seed34751218\\249.wav\n",
      "Skip  ./assets/dataset/tvboy_denoised_mandarin_seed34751218\\250.wav\n",
      "Skip  ./assets/dataset/tvboy_denoised_mandarin_seed34751218\\251.wav\n",
      "Skip  ./assets/dataset/tvboy_denoised_mandarin_seed34751218\\252.wav\n",
      "Skip  ./assets/dataset/tvboy_denoised_mandarin_seed34751218\\253.wav\n",
      "Skip  ./assets/dataset/tvboy_denoised_mandarin_seed34751218\\254.wav\n",
      "Skip  ./assets/dataset/tvboy_denoised_mandarin_seed34751218\\255.wav\n",
      "Skip  ./assets/dataset/tvboy_denoised_mandarin_seed34751218\\256.wav\n",
      "Skip  ./assets/dataset/tvboy_denoised_mandarin_seed34751218\\257.wav\n",
      "Skip  ./assets/dataset/tvboy_denoised_mandarin_seed34751218\\258.wav\n",
      "Skip  ./assets/dataset/tvboy_denoised_mandarin_seed34751218\\259.wav\n",
      "Skip  ./assets/dataset/tvboy_denoised_mandarin_seed34751218\\260.wav\n",
      "Skip  ./assets/dataset/tvboy_denoised_mandarin_seed34751218\\261.wav\n",
      "Skip  ./assets/dataset/tvboy_denoised_mandarin_seed34751218\\262.wav\n",
      "Skip  ./assets/dataset/tvboy_denoised_mandarin_seed34751218\\263.wav\n",
      "Skip  ./assets/dataset/tvboy_denoised_mandarin_seed34751218\\264.wav\n",
      "Skip  ./assets/dataset/tvboy_denoised_mandarin_seed34751218\\265.wav\n",
      "Skip  ./assets/dataset/tvboy_denoised_mandarin_seed34751218\\266.wav\n",
      "Skip  ./assets/dataset/tvboy_denoised_mandarin_seed34751218\\267.wav\n",
      "Skip  ./assets/dataset/tvboy_denoised_mandarin_seed34751218\\268.wav\n",
      "Skip  ./assets/dataset/tvboy_denoised_mandarin_seed34751218\\269.wav\n",
      "Skip  ./assets/dataset/tvboy_denoised_mandarin_seed34751218\\270.wav\n",
      "Skip  ./assets/dataset/tvboy_denoised_mandarin_seed34751218\\271.wav\n",
      "Skip  ./assets/dataset/tvboy_denoised_mandarin_seed34751218\\272.wav\n",
      "Skip  ./assets/dataset/tvboy_denoised_mandarin_seed34751218\\273.wav\n",
      "Skip  ./assets/dataset/tvboy_denoised_mandarin_seed34751218\\274.wav\n",
      "Skip  ./assets/dataset/tvboy_denoised_mandarin_seed34751218\\275.wav\n",
      "Skip  ./assets/dataset/tvboy_denoised_mandarin_seed34751218\\276.wav\n",
      "Skip  ./assets/dataset/tvboy_denoised_mandarin_seed34751218\\277.wav\n",
      "Skip  ./assets/dataset/tvboy_denoised_mandarin_seed34751218\\278.wav\n",
      "Skip  ./assets/dataset/tvboy_denoised_mandarin_seed34751218\\279.wav\n",
      "Skip  ./assets/dataset/tvboy_denoised_mandarin_seed34751218\\280.wav\n",
      "Skip  ./assets/dataset/tvboy_denoised_mandarin_seed34751218\\281.wav\n",
      "Skip  ./assets/dataset/tvboy_denoised_mandarin_seed34751218\\282.wav\n",
      "Skip  ./assets/dataset/tvboy_denoised_mandarin_seed34751218\\283.wav\n",
      "Skip  ./assets/dataset/tvboy_denoised_mandarin_seed34751218\\284.wav\n",
      "Skip  ./assets/dataset/tvboy_denoised_mandarin_seed34751218\\285.wav\n",
      "Skip  ./assets/dataset/tvboy_denoised_mandarin_seed34751218\\286.wav\n",
      "Skip  ./assets/dataset/tvboy_denoised_mandarin_seed34751218\\287.wav\n",
      "Skip  ./assets/dataset/tvboy_denoised_mandarin_seed34751218\\288.wav\n",
      "Skip  ./assets/dataset/tvboy_denoised_mandarin_seed34751218\\289.wav\n",
      "Skip  ./assets/dataset/tvboy_denoised_mandarin_seed34751218\\290.wav\n",
      "Skip  ./assets/dataset/tvboy_denoised_mandarin_seed34751218\\291.wav\n",
      "Skip  ./assets/dataset/tvboy_denoised_mandarin_seed34751218\\292.wav\n",
      "Skip  ./assets/dataset/tvboy_denoised_mandarin_seed34751218\\293.wav\n",
      "Skip  ./assets/dataset/tvboy_denoised_mandarin_seed34751218\\294.wav\n",
      "Skip  ./assets/dataset/tvboy_denoised_mandarin_seed34751218\\295.wav\n",
      "Skip  ./assets/dataset/tvboy_denoised_mandarin_seed34751218\\296.wav\n",
      "Skip  ./assets/dataset/tvboy_denoised_mandarin_seed34751218\\297.wav\n",
      "Skip  ./assets/dataset/tvboy_denoised_mandarin_seed34751218\\298.wav\n",
      "Skip  ./assets/dataset/tvboy_denoised_mandarin_seed34751218\\299.wav\n",
      "Skip  ./assets/dataset/tvboy_denoised_mandarin_seed34751218\\300.wav\n",
      "Skip  ./assets/dataset/tvboy_denoised_mandarin_seed34751218\\301.wav\n",
      "Skip  ./assets/dataset/tvboy_denoised_mandarin_seed34751218\\302.wav\n",
      "Skip  ./assets/dataset/tvboy_denoised_mandarin_seed34751218\\303.wav\n",
      "Skip  ./assets/dataset/tvboy_denoised_mandarin_seed34751218\\304.wav\n",
      "Skip  ./assets/dataset/tvboy_denoised_mandarin_seed34751218\\305.wav\n",
      "Skip  ./assets/dataset/tvboy_denoised_mandarin_seed34751218\\306.wav\n",
      "Skip  ./assets/dataset/tvboy_denoised_mandarin_seed34751218\\307.wav\n",
      "Skip  ./assets/dataset/tvboy_denoised_mandarin_seed34751218\\308.wav\n",
      "Skip  ./assets/dataset/tvboy_denoised_mandarin_seed34751218\\309.wav\n",
      "Skip  ./assets/dataset/tvboy_denoised_mandarin_seed34751218\\310.wav\n",
      "Skip  ./assets/dataset/tvboy_denoised_mandarin_seed34751218\\311.wav\n",
      "Skip  ./assets/dataset/tvboy_denoised_mandarin_seed34751218\\312.wav\n",
      "Skip  ./assets/dataset/tvboy_denoised_mandarin_seed34751218\\313.wav\n",
      "Skip  ./assets/dataset/tvboy_denoised_mandarin_seed34751218\\314.wav\n",
      "Skip  ./assets/dataset/tvboy_denoised_mandarin_seed34751218\\315.wav\n",
      "Skip  ./assets/dataset/tvboy_denoised_mandarin_seed34751218\\316.wav\n",
      "Skip  ./assets/dataset/tvboy_denoised_mandarin_seed34751218\\317.wav\n",
      "Skip  ./assets/dataset/tvboy_denoised_mandarin_seed34751218\\318.wav\n",
      "Skip  ./assets/dataset/tvboy_denoised_mandarin_seed34751218\\319.wav\n",
      "Skip  ./assets/dataset/tvboy_denoised_mandarin_seed34751218\\320.wav\n",
      "Skip  ./assets/dataset/tvboy_denoised_mandarin_seed34751218\\321.wav\n",
      "Skip  ./assets/dataset/tvboy_denoised_mandarin_seed34751218\\322.wav\n",
      "Skip  ./assets/dataset/tvboy_denoised_mandarin_seed34751218\\323.wav\n",
      "Skip  ./assets/dataset/tvboy_denoised_mandarin_seed34751218\\324.wav\n",
      "Skip  ./assets/dataset/tvboy_denoised_mandarin_seed34751218\\325.wav\n",
      "Skip  ./assets/dataset/tvboy_denoised_mandarin_seed34751218\\326.wav\n",
      "Skip  ./assets/dataset/tvboy_denoised_mandarin_seed34751218\\327.wav\n",
      "Skip  ./assets/dataset/tvboy_denoised_mandarin_seed34751218\\328.wav\n",
      "Skip  ./assets/dataset/tvboy_denoised_mandarin_seed34751218\\329.wav\n",
      "Skip  ./assets/dataset/tvboy_denoised_mandarin_seed34751218\\330.wav\n",
      "Skip  ./assets/dataset/tvboy_denoised_mandarin_seed34751218\\331.wav\n",
      "Skip  ./assets/dataset/tvboy_denoised_mandarin_seed34751218\\332.wav\n",
      "Skip  ./assets/dataset/tvboy_denoised_mandarin_seed34751218\\333.wav\n",
      "Skip  ./assets/dataset/tvboy_denoised_mandarin_seed34751218\\334.wav\n",
      "Skip  ./assets/dataset/tvboy_denoised_mandarin_seed34751218\\335.wav\n",
      "Skip  ./assets/dataset/tvboy_denoised_mandarin_seed34751218\\336.wav\n",
      "Skip  ./assets/dataset/tvboy_denoised_mandarin_seed34751218\\337.wav\n",
      "Skip  ./assets/dataset/tvboy_denoised_mandarin_seed34751218\\338.wav\n",
      "Skip  ./assets/dataset/tvboy_denoised_mandarin_seed34751218\\339.wav\n",
      "Skip  ./assets/dataset/tvboy_denoised_mandarin_seed34751218\\340.wav\n",
      "Skip  ./assets/dataset/tvboy_denoised_mandarin_seed34751218\\341.wav\n",
      "Skip  ./assets/dataset/tvboy_denoised_mandarin_seed34751218\\342.wav\n",
      "Skip  ./assets/dataset/tvboy_denoised_mandarin_seed34751218\\343.wav\n",
      "Skip  ./assets/dataset/tvboy_denoised_mandarin_seed34751218\\344.wav\n",
      "Skip  ./assets/dataset/tvboy_denoised_mandarin_seed34751218\\345.wav\n",
      "Skip  ./assets/dataset/tvboy_denoised_mandarin_seed34751218\\346.wav\n",
      "Skip  ./assets/dataset/tvboy_denoised_mandarin_seed34751218\\347.wav\n",
      "Skip  ./assets/dataset/tvboy_denoised_mandarin_seed34751218\\348.wav\n",
      "Skip  ./assets/dataset/tvboy_denoised_mandarin_seed34751218\\349.wav\n",
      "Skip  ./assets/dataset/tvboy_denoised_mandarin_seed34751218\\350.wav\n",
      "Skip  ./assets/dataset/tvboy_denoised_mandarin_seed34751218\\351.wav\n",
      "Skip  ./assets/dataset/tvboy_denoised_mandarin_seed34751218\\352.wav\n",
      "Skip  ./assets/dataset/tvboy_denoised_mandarin_seed34751218\\353.wav\n",
      "Skip  ./assets/dataset/tvboy_denoised_mandarin_seed34751218\\354.wav\n",
      "Skip  ./assets/dataset/tvboy_denoised_mandarin_seed34751218\\355.wav\n",
      "Skip  ./assets/dataset/tvboy_denoised_mandarin_seed34751218\\356.wav\n",
      "Skip  ./assets/dataset/tvboy_denoised_mandarin_seed34751218\\357.wav\n",
      "Skip  ./assets/dataset/tvboy_denoised_mandarin_seed34751218\\358.wav\n",
      "Skip  ./assets/dataset/tvboy_denoised_mandarin_seed34751218\\359.wav\n",
      "Skip  ./assets/dataset/tvboy_denoised_mandarin_seed34751218\\360.wav\n",
      "Skip  ./assets/dataset/tvboy_denoised_mandarin_seed34751218\\361.wav\n",
      "Skip  ./assets/dataset/tvboy_denoised_mandarin_seed34751218\\362.wav\n",
      "Skip  ./assets/dataset/tvboy_denoised_mandarin_seed34751218\\363.wav\n",
      "Skip  ./assets/dataset/tvboy_denoised_mandarin_seed34751218\\364.wav\n",
      "Skip  ./assets/dataset/tvboy_denoised_mandarin_seed34751218\\365.wav\n",
      "Skip  ./assets/dataset/tvboy_denoised_mandarin_seed34751218\\366.wav\n",
      "Skip  ./assets/dataset/tvboy_denoised_mandarin_seed34751218\\367.wav\n",
      "Skip  ./assets/dataset/tvboy_denoised_mandarin_seed34751218\\368.wav\n",
      "Skip  ./assets/dataset/tvboy_denoised_mandarin_seed34751218\\369.wav\n",
      "Skip  ./assets/dataset/tvboy_denoised_mandarin_seed34751218\\370.wav\n",
      "Skip  ./assets/dataset/tvboy_denoised_mandarin_seed34751218\\371.wav\n",
      "Skip  ./assets/dataset/tvboy_denoised_mandarin_seed34751218\\372.wav\n",
      "Skip  ./assets/dataset/tvboy_denoised_mandarin_seed34751218\\373.wav\n",
      "Skip  ./assets/dataset/tvboy_denoised_mandarin_seed34751218\\374.wav\n",
      "Skip  ./assets/dataset/tvboy_denoised_mandarin_seed34751218\\375.wav\n",
      "Skip  ./assets/dataset/tvboy_denoised_mandarin_seed34751218\\376.wav\n",
      "Skip  ./assets/dataset/tvboy_denoised_mandarin_seed34751218\\377.wav\n",
      "Skip  ./assets/dataset/tvboy_denoised_mandarin_seed34751218\\378.wav\n",
      "Skip  ./assets/dataset/tvboy_denoised_mandarin_seed34751218\\379.wav\n",
      "Skip  ./assets/dataset/tvboy_denoised_mandarin_seed34751218\\380.wav\n",
      "Skip  ./assets/dataset/tvboy_denoised_mandarin_seed34751218\\381.wav\n",
      "Skip  ./assets/dataset/tvboy_denoised_mandarin_seed34751218\\382.wav\n",
      "Skip  ./assets/dataset/tvboy_denoised_mandarin_seed34751218\\383.wav\n",
      "Skip  ./assets/dataset/tvboy_denoised_mandarin_seed34751218\\384.wav\n",
      "Skip  ./assets/dataset/tvboy_denoised_mandarin_seed34751218\\385.wav\n",
      "Skip  ./assets/dataset/tvboy_denoised_mandarin_seed34751218\\386.wav\n",
      "Skip  ./assets/dataset/tvboy_denoised_mandarin_seed34751218\\387.wav\n",
      "Skip  ./assets/dataset/tvboy_denoised_mandarin_seed34751218\\388.wav\n",
      "Skip  ./assets/dataset/tvboy_denoised_mandarin_seed34751218\\389.wav\n",
      "Skip  ./assets/dataset/tvboy_denoised_mandarin_seed34751218\\390.wav\n",
      "Skip  ./assets/dataset/tvboy_denoised_mandarin_seed34751218\\391.wav\n",
      "Skip  ./assets/dataset/tvboy_denoised_mandarin_seed34751218\\392.wav\n",
      "Skip  ./assets/dataset/tvboy_denoised_mandarin_seed34751218\\393.wav\n",
      "Skip  ./assets/dataset/tvboy_denoised_mandarin_seed34751218\\394.wav\n",
      "Skip  ./assets/dataset/tvboy_denoised_mandarin_seed34751218\\395.wav\n",
      "Skip  ./assets/dataset/tvboy_denoised_mandarin_seed34751218\\396.wav\n",
      "Skip  ./assets/dataset/tvboy_denoised_mandarin_seed34751218\\397.wav\n",
      "Skip  ./assets/dataset/tvboy_denoised_mandarin_seed34751218\\398.wav\n",
      "Skip  ./assets/dataset/tvboy_denoised_mandarin_seed34751218\\399.wav\n",
      "Skip  ./assets/dataset/tvboy_denoised_mandarin_seed34751218\\400.wav\n",
      "Skip  ./assets/dataset/tvboy_denoised_mandarin_seed34751218\\401.wav\n",
      "Skip  ./assets/dataset/tvboy_denoised_mandarin_seed34751218\\402.wav\n",
      "Skip  ./assets/dataset/tvboy_denoised_mandarin_seed34751218\\403.wav\n",
      "Skip  ./assets/dataset/tvboy_denoised_mandarin_seed34751218\\404.wav\n",
      "Skip  ./assets/dataset/tvboy_denoised_mandarin_seed34751218\\405.wav\n",
      "Skip  ./assets/dataset/tvboy_denoised_mandarin_seed34751218\\406.wav\n",
      "Skip  ./assets/dataset/tvboy_denoised_mandarin_seed34751218\\407.wav\n",
      "Skip  ./assets/dataset/tvboy_denoised_mandarin_seed34751218\\408.wav\n",
      "Skip  ./assets/dataset/tvboy_denoised_mandarin_seed34751218\\409.wav\n",
      "Skip  ./assets/dataset/tvboy_denoised_mandarin_seed34751218\\410.wav\n",
      "Skip  ./assets/dataset/tvboy_denoised_mandarin_seed34751218\\411.wav\n",
      "Skip  ./assets/dataset/tvboy_denoised_mandarin_seed34751218\\412.wav\n",
      "Skip  ./assets/dataset/tvboy_denoised_mandarin_seed34751218\\413.wav\n",
      "Skip  ./assets/dataset/tvboy_denoised_mandarin_seed34751218\\414.wav\n",
      "Skip  ./assets/dataset/tvboy_denoised_mandarin_seed34751218\\415.wav\n",
      "Skip  ./assets/dataset/tvboy_denoised_mandarin_seed34751218\\416.wav\n",
      "Skip  ./assets/dataset/tvboy_denoised_mandarin_seed34751218\\417.wav\n",
      "Skip  ./assets/dataset/tvboy_denoised_mandarin_seed34751218\\418.wav\n"
     ]
    },
    {
     "name": "stderr",
     "output_type": "stream",
     "text": []
    },
    {
     "name": "stdout",
     "output_type": "stream",
     "text": [
      "min value is  tensor(-1.0223)\n",
      "max value is  tensor(1.0314)\n"
     ]
    },
    {
     "name": "stderr",
     "output_type": "stream",
     "text": [
      "2025-02-19 20:24:41,311 INFO synthesis text 今天的天气真好，我们一起去公园散步吧！\n",
      "d:\\anaconda3\\envs\\cosyvoice\\lib\\site-packages\\transformers\\models\\qwen2\\modeling_qwen2.py:544: UserWarning: 1Torch was not compiled with flash attention. (Triggered internally at C:\\actions-runner\\_work\\pytorch\\pytorch\\builder\\windows\\pytorch\\aten\\src\\ATen\\native\\transformers\\cuda\\sdp_utils.cpp:455.)\n",
      "  attn_output = torch.nn.functional.scaled_dot_product_attention(\n",
      "We detected that you are passing `past_key_values` as a tuple of tuples. This is deprecated and will be removed in v4.47. Please convert your cache or use an appropriate `Cache` class (https://huggingface.co/docs/transformers/kv_cache#legacy-cache-format)\n",
      "2025-02-19 20:24:46,015 INFO yield speech len 4.52, rtf 1.0407022670306991\n",
      "100%|██████████| 1/1 [00:05<00:00,  5.39s/it]\n",
      "2025-02-19 20:24:46,034 WARNING synthesis text 我喜欢吃苹果和香蕉。 too short than prompt text 两个或者三个吧，嗯肚子很胀，就是，有点，嗯，有时候会吐的, this may lead to bad performance\n"
     ]
    },
    {
     "name": "stdout",
     "output_type": "stream",
     "text": [
      "min value is  tensor(-1.0223)\n",
      "max value is  tensor(1.0314)\n"
     ]
    },
    {
     "name": "stderr",
     "output_type": "stream",
     "text": [
      "2025-02-19 20:24:46,605 INFO synthesis text 我喜欢吃苹果和香蕉。\n",
      "2025-02-19 20:24:49,193 INFO yield speech len 2.88, rtf 0.8986163470480177\n",
      "100%|██████████| 1/1 [00:03<00:00,  3.16s/it]\n",
      "105it [00:08, 12.20it/s]2025-02-19 20:24:49,207 WARNING synthesis text 你昨天做了什么？ too short than prompt text 两个或者三个吧，嗯肚子很胀，就是，有点，嗯，有时候会吐的, this may lead to bad performance\n"
     ]
    },
    {
     "name": "stdout",
     "output_type": "stream",
     "text": [
      "min value is  tensor(-1.0223)\n",
      "max value is  tensor(1.0314)\n"
     ]
    },
    {
     "name": "stderr",
     "output_type": "stream",
     "text": [
      "2025-02-19 20:24:49,783 INFO synthesis text 你昨天做了什么？\n",
      "2025-02-19 20:24:51,675 INFO yield speech len 1.88, rtf 1.0054036657860939\n",
      "100%|██████████| 1/1 [00:02<00:00,  2.47s/it]\n"
     ]
    },
    {
     "name": "stdout",
     "output_type": "stream",
     "text": [
      "min value is  tensor(-1.0223)\n",
      "max value is  tensor(1.0314)\n"
     ]
    },
    {
     "name": "stderr",
     "output_type": "stream",
     "text": [
      "2025-02-19 20:24:52,273 INFO synthesis text 今天天气非常好，适合出去玩。\n",
      "2025-02-19 20:24:54,683 INFO yield speech len 2.64, rtf 0.9127675583868315\n",
      "100%|██████████| 1/1 [00:02<00:00,  3.00s/it]\n",
      "2025-02-19 20:24:54,698 WARNING synthesis text 她的书包很漂亮，是粉色的。 too short than prompt text 两个或者三个吧，嗯肚子很胀，就是，有点，嗯，有时候会吐的, this may lead to bad performance\n"
     ]
    },
    {
     "name": "stdout",
     "output_type": "stream",
     "text": [
      "min value is  tensor(-1.0223)\n",
      "max value is  tensor(1.0314)\n"
     ]
    },
    {
     "name": "stderr",
     "output_type": "stream",
     "text": [
      "2025-02-19 20:24:55,270 INFO synthesis text 她的书包很漂亮，是粉色的。\n",
      "2025-02-19 20:24:57,758 INFO yield speech len 2.8, rtf 0.8885139226913453\n",
      "100%|██████████| 1/1 [00:03<00:00,  3.06s/it]\n"
     ]
    },
    {
     "name": "stdout",
     "output_type": "stream",
     "text": [
      "min value is  tensor(-1.0223)\n",
      "max value is  tensor(1.0314)\n"
     ]
    },
    {
     "name": "stderr",
     "output_type": "stream",
     "text": [
      "2025-02-19 20:24:58,370 INFO synthesis text 那只小狗非常可爱，喜欢跑来跑去。\n",
      "105it [00:20, 12.20it/s]2025-02-19 20:25:03,283 INFO yield speech len 6.88, rtf 0.7140955606172251\n",
      "100%|██████████| 1/1 [00:05<00:00,  5.51s/it]\n",
      "106it [00:22,  3.70it/s]2025-02-19 20:25:03,298 WARNING synthesis text 请给我一杯水，我渴了。 too short than prompt text 两个或者三个吧，嗯肚子很胀，就是，有点，嗯，有时候会吐的, this may lead to bad performance\n"
     ]
    },
    {
     "name": "stdout",
     "output_type": "stream",
     "text": [
      "min value is  tensor(-1.0223)\n",
      "max value is  tensor(1.0314)\n"
     ]
    },
    {
     "name": "stderr",
     "output_type": "stream",
     "text": [
      "2025-02-19 20:25:03,867 INFO synthesis text 请给我一杯水，我渴了。\n",
      "2025-02-19 20:25:06,047 INFO yield speech len 2.44, rtf 0.8929205722496159\n",
      "100%|██████████| 1/1 [00:02<00:00,  2.75s/it]\n"
     ]
    },
    {
     "name": "stdout",
     "output_type": "stream",
     "text": [
      "min value is  tensor(-1.0223)\n",
      "max value is  tensor(1.0314)\n"
     ]
    },
    {
     "name": "stderr",
     "output_type": "stream",
     "text": [
      "2025-02-19 20:25:06,636 INFO synthesis text 他的中文说得很好，发音很标准。\n",
      "2025-02-19 20:25:09,565 INFO yield speech len 3.68, rtf 0.7959955412408579\n",
      "100%|██████████| 1/1 [00:03<00:00,  3.51s/it]\n"
     ]
    },
    {
     "name": "stdout",
     "output_type": "stream",
     "text": [
      "min value is  tensor(-1.0223)\n",
      "max value is  tensor(1.0314)\n"
     ]
    },
    {
     "name": "stderr",
     "output_type": "stream",
     "text": [
      "2025-02-19 20:25:10,151 INFO synthesis text 这本书很有意思，内容很精彩。\n",
      "2025-02-19 20:25:12,904 INFO yield speech len 3.2, rtf 0.8603857457637787\n",
      "100%|██████████| 1/1 [00:03<00:00,  3.33s/it]\n"
     ]
    },
    {
     "name": "stdout",
     "output_type": "stream",
     "text": [
      "min value is  tensor(-1.0223)\n",
      "max value is  tensor(1.0314)\n"
     ]
    },
    {
     "name": "stderr",
     "output_type": "stream",
     "text": [
      "2025-02-19 20:25:13,488 INFO synthesis text 我的家在城市的中心，交通很方便。\n",
      "2025-02-19 20:25:17,046 INFO yield speech len 4.76, rtf 0.7475869996207102\n",
      "100%|██████████| 1/1 [00:04<00:00,  4.13s/it]\n",
      "107it [00:36,  1.91it/s]"
     ]
    },
    {
     "name": "stdout",
     "output_type": "stream",
     "text": [
      "min value is  tensor(-1.0223)\n",
      "max value is  tensor(1.0314)\n"
     ]
    },
    {
     "name": "stderr",
     "output_type": "stream",
     "text": [
      "2025-02-19 20:25:17,629 INFO synthesis text 我们学校的图书馆很大，书很多。\n",
      "2025-02-19 20:25:20,791 INFO yield speech len 4.08, rtf 0.7751813121870452\n",
      "100%|██████████| 1/1 [00:03<00:00,  3.73s/it]\n"
     ]
    },
    {
     "name": "stdout",
     "output_type": "stream",
     "text": [
      "min value is  tensor(-1.0223)\n",
      "max value is  tensor(1.0314)\n"
     ]
    },
    {
     "name": "stderr",
     "output_type": "stream",
     "text": [
      "2025-02-19 20:25:21,377 INFO synthesis text 明天我们去旅行，你准备好了吗？\n",
      "2025-02-19 20:25:24,406 INFO yield speech len 3.72, rtf 0.8140747906059347\n",
      "100%|██████████| 1/1 [00:03<00:00,  3.60s/it]\n"
     ]
    },
    {
     "name": "stdout",
     "output_type": "stream",
     "text": [
      "min value is  tensor(-1.0223)\n",
      "max value is  tensor(1.0314)\n"
     ]
    },
    {
     "name": "stderr",
     "output_type": "stream",
     "text": [
      "2025-02-19 20:25:24,994 INFO synthesis text 我喜欢听音乐，尤其是古典音乐。\n",
      "2025-02-19 20:25:27,596 INFO yield speech len 3.2, rtf 0.8133386820554733\n",
      "100%|██████████| 1/1 [00:03<00:00,  3.18s/it]\n",
      "2025-02-19 20:25:27,614 WARNING synthesis text 你知道他最近怎么样吗？ too short than prompt text 两个或者三个吧，嗯肚子很胀，就是，有点，嗯，有时候会吐的, this may lead to bad performance\n"
     ]
    },
    {
     "name": "stdout",
     "output_type": "stream",
     "text": [
      "min value is  tensor(-1.0223)\n",
      "max value is  tensor(1.0314)\n"
     ]
    },
    {
     "name": "stderr",
     "output_type": "stream",
     "text": [
      "2025-02-19 20:25:28,195 INFO synthesis text 你知道他最近怎么样吗？\n",
      "2025-02-19 20:25:30,333 INFO yield speech len 2.36, rtf 0.905158762204445\n",
      "100%|██████████| 1/1 [00:02<00:00,  2.72s/it]\n",
      "108it [00:49,  1.17it/s]2025-02-19 20:25:30,347 WARNING synthesis text 春天是最适合旅行的季节。 too short than prompt text 两个或者三个吧，嗯肚子很胀，就是，有点，嗯，有时候会吐的, this may lead to bad performance\n"
     ]
    },
    {
     "name": "stdout",
     "output_type": "stream",
     "text": [
      "min value is  tensor(-1.0223)\n",
      "max value is  tensor(1.0314)\n"
     ]
    },
    {
     "name": "stderr",
     "output_type": "stream",
     "text": [
      "2025-02-19 20:25:30,922 INFO synthesis text 春天是最适合旅行的季节。\n",
      "2025-02-19 20:25:34,275 INFO yield speech len 4.24, rtf 0.7908686714352301\n",
      "100%|██████████| 1/1 [00:03<00:00,  3.93s/it]\n"
     ]
    },
    {
     "name": "stdout",
     "output_type": "stream",
     "text": [
      "min value is  tensor(-1.0223)\n",
      "max value is  tensor(1.0314)\n"
     ]
    },
    {
     "name": "stderr",
     "output_type": "stream",
     "text": [
      "2025-02-19 20:25:34,862 INFO synthesis text 这道菜味道鲜美，吃了还想再吃。\n",
      "2025-02-19 20:25:37,828 INFO yield speech len 3.6, rtf 0.8237702978981866\n",
      "100%|██████████| 1/1 [00:03<00:00,  3.54s/it]\n"
     ]
    },
    {
     "name": "stdout",
     "output_type": "stream",
     "text": [
      "min value is  tensor(-1.0223)\n",
      "max value is  tensor(1.0314)\n"
     ]
    },
    {
     "name": "stderr",
     "output_type": "stream",
     "text": [
      "2025-02-19 20:25:38,426 INFO synthesis text 她的笑容非常温暖，给人一种亲切感。\n",
      "2025-02-19 20:25:41,524 INFO yield speech len 4.08, rtf 0.7593629406947715\n",
      "100%|██████████| 1/1 [00:03<00:00,  3.68s/it]\n"
     ]
    },
    {
     "name": "stdout",
     "output_type": "stream",
     "text": [
      "min value is  tensor(-1.0223)\n",
      "max value is  tensor(1.0314)\n"
     ]
    },
    {
     "name": "stderr",
     "output_type": "stream",
     "text": [
      "2025-02-19 20:25:42,114 INFO synthesis text 爸爸妈妈每天都会陪我做作业。\n",
      "2025-02-19 20:25:44,664 INFO yield speech len 2.92, rtf 0.8733369716226238\n",
      "100%|██████████| 1/1 [00:03<00:00,  3.13s/it]\n",
      "109it [01:04,  1.34s/it]"
     ]
    },
    {
     "name": "stdout",
     "output_type": "stream",
     "text": [
      "min value is  tensor(-1.0223)\n",
      "max value is  tensor(1.0314)\n"
     ]
    },
    {
     "name": "stderr",
     "output_type": "stream",
     "text": [
      "2025-02-19 20:25:45,253 INFO synthesis text 今天晚上有一场电影，我很期待。\n",
      "2025-02-19 20:25:48,096 INFO yield speech len 3.64, rtf 0.7807932712219573\n",
      "100%|██████████| 1/1 [00:03<00:00,  3.42s/it]\n"
     ]
    },
    {
     "name": "stdout",
     "output_type": "stream",
     "text": [
      "min value is  tensor(-1.0223)\n",
      "max value is  tensor(1.0314)\n"
     ]
    },
    {
     "name": "stderr",
     "output_type": "stream",
     "text": [
      "2025-02-19 20:25:48,692 INFO synthesis text 我正在学习汉语，希望能说得更流利。\n",
      "2025-02-19 20:25:51,828 INFO yield speech len 4.12, rtf 0.7612209875606796\n",
      "100%|██████████| 1/1 [00:03<00:00,  3.72s/it]\n"
     ]
    },
    {
     "name": "stdout",
     "output_type": "stream",
     "text": [
      "min value is  tensor(-1.0223)\n",
      "max value is  tensor(1.0314)\n"
     ]
    },
    {
     "name": "stderr",
     "output_type": "stream",
     "text": [
      "2025-02-19 20:25:52,416 INFO synthesis text 我的朋友很聪明，学习成绩总是很好。\n",
      "2025-02-19 20:25:55,166 INFO yield speech len 3.48, rtf 0.790306411940476\n",
      "100%|██████████| 1/1 [00:03<00:00,  3.33s/it]\n"
     ]
    },
    {
     "name": "stdout",
     "output_type": "stream",
     "text": [
      "min value is  tensor(-1.0223)\n",
      "max value is  tensor(1.0314)\n"
     ]
    },
    {
     "name": "stderr",
     "output_type": "stream",
     "text": [
      "2025-02-19 20:25:55,753 INFO synthesis text 他每天都去公园跑步，锻炼身体，保持健康的生活方式。\n",
      "2025-02-19 20:26:00,368 INFO yield speech len 6.16, rtf 0.7492048012745844\n",
      "100%|██████████| 1/1 [00:05<00:00,  5.19s/it]\n",
      "110it [01:19,  2.05s/it]"
     ]
    },
    {
     "name": "stdout",
     "output_type": "stream",
     "text": [
      "min value is  tensor(-1.0223)\n",
      "max value is  tensor(1.0314)\n"
     ]
    },
    {
     "name": "stderr",
     "output_type": "stream",
     "text": [
      "2025-02-19 20:26:00,956 INFO synthesis text 我们准备去旅行，打算参观一些有历史文化的城市和景点。\n",
      "2025-02-19 20:26:06,397 INFO yield speech len 7.4, rtf 0.7351949086060394\n",
      "100%|██████████| 1/1 [00:06<00:00,  6.01s/it]\n"
     ]
    },
    {
     "name": "stdout",
     "output_type": "stream",
     "text": [
      "min value is  tensor(-1.0223)\n",
      "max value is  tensor(1.0314)\n"
     ]
    },
    {
     "name": "stderr",
     "output_type": "stream",
     "text": [
      "2025-02-19 20:26:06,985 INFO synthesis text 这个周末我打算和朋友一起去爬山，享受大自然的美丽风光。\n",
      "2025-02-19 20:26:12,009 INFO yield speech len 6.92, rtf 0.7260721542931705\n",
      "100%|██████████| 1/1 [00:05<00:00,  5.60s/it]\n"
     ]
    },
    {
     "name": "stdout",
     "output_type": "stream",
     "text": [
      "min value is  tensor(-1.0223)\n",
      "max value is  tensor(1.0314)\n"
     ]
    },
    {
     "name": "stderr",
     "output_type": "stream",
     "text": [
      "2025-02-19 20:26:12,598 INFO synthesis text 春天是最适合种花的季节，花园里鲜花盛开，生机勃勃。\n",
      "2025-02-19 20:26:18,501 INFO yield speech len 8.56, rtf 0.6896005612667475\n",
      "100%|██████████| 1/1 [00:06<00:00,  6.48s/it]\n"
     ]
    },
    {
     "name": "stdout",
     "output_type": "stream",
     "text": [
      "min value is  tensor(-1.0223)\n",
      "max value is  tensor(1.0314)\n"
     ]
    },
    {
     "name": "stderr",
     "output_type": "stream",
     "text": [
      "2025-02-19 20:26:19,090 INFO synthesis text 她很喜欢看书，尤其是历史类的书籍，每天都会读上一会儿。\n",
      "2025-02-19 20:26:23,752 INFO yield speech len 6.28, rtf 0.7422704225892474\n",
      "100%|██████████| 1/1 [00:05<00:00,  5.24s/it]\n",
      "111it [01:43,  3.44s/it]"
     ]
    },
    {
     "name": "stdout",
     "output_type": "stream",
     "text": [
      "min value is  tensor(-1.0223)\n",
      "max value is  tensor(1.0314)\n"
     ]
    },
    {
     "name": "stderr",
     "output_type": "stream",
     "text": [
      "2025-02-19 20:26:24,342 INFO synthesis text 昨天晚上下了一场大雨，今天早上天气晴朗，空气清新。\n",
      "2025-02-19 20:26:28,251 INFO yield speech len 5.0, rtf 0.7821310520172119\n",
      "100%|██████████| 1/1 [00:04<00:00,  4.49s/it]\n"
     ]
    },
    {
     "name": "stdout",
     "output_type": "stream",
     "text": [
      "min value is  tensor(-1.0223)\n",
      "max value is  tensor(1.0314)\n"
     ]
    },
    {
     "name": "stderr",
     "output_type": "stream",
     "text": [
      "2025-02-19 20:26:28,845 INFO synthesis text 他是一个非常努力的学生，每天都花很多时间做作业和复习。\n",
      "2025-02-19 20:26:33,713 INFO yield speech len 6.44, rtf 0.7557917455708758\n",
      "100%|██████████| 1/1 [00:05<00:00,  5.45s/it]\n"
     ]
    },
    {
     "name": "stdout",
     "output_type": "stream",
     "text": [
      "min value is  tensor(-1.0223)\n",
      "max value is  tensor(1.0314)\n"
     ]
    },
    {
     "name": "stderr",
     "output_type": "stream",
     "text": [
      "2025-02-19 20:26:34,309 INFO synthesis text 这座城市的夜景非常美丽，灯光闪烁，街道上热闹非凡。\n",
      "2025-02-19 20:26:40,337 INFO yield speech len 8.52, rtf 0.7075288486032979\n",
      "100%|██████████| 1/1 [00:06<00:00,  6.61s/it]\n"
     ]
    },
    {
     "name": "stdout",
     "output_type": "stream",
     "text": [
      "min value is  tensor(-1.0223)\n",
      "max value is  tensor(1.0314)\n"
     ]
    },
    {
     "name": "stderr",
     "output_type": "stream",
     "text": [
      "2025-02-19 20:26:40,935 INFO synthesis text 每次去图书馆，我都能找到很多有趣的书，学习收获很大。\n",
      "2025-02-19 20:26:45,518 INFO yield speech len 6.0, rtf 0.7635794083277384\n",
      "100%|██████████| 1/1 [00:05<00:00,  5.17s/it]\n",
      "112it [02:04,  5.01s/it]"
     ]
    },
    {
     "name": "stdout",
     "output_type": "stream",
     "text": [
      "min value is  tensor(-1.0223)\n",
      "max value is  tensor(1.0314)\n"
     ]
    },
    {
     "name": "stderr",
     "output_type": "stream",
     "text": [
      "2025-02-19 20:26:46,116 INFO synthesis text 我们家附近有一个很大的超市，买东西方便，种类也很多。\n",
      "2025-02-19 20:26:50,474 INFO yield speech len 5.84, rtf 0.7462578685316321\n",
      "100%|██████████| 1/1 [00:04<00:00,  4.94s/it]\n"
     ]
    },
    {
     "name": "stdout",
     "output_type": "stream",
     "text": [
      "min value is  tensor(-1.0223)\n",
      "max value is  tensor(1.0314)\n"
     ]
    },
    {
     "name": "stderr",
     "output_type": "stream",
     "text": [
      "2025-02-19 20:26:51,067 INFO synthesis text 我喜欢看电影，尤其是悬疑和科幻类的影片，非常刺激有趣。\n",
      "2025-02-19 20:26:56,565 INFO yield speech len 7.52, rtf 0.7311600953974623\n",
      "100%|██████████| 1/1 [00:06<00:00,  6.08s/it]\n"
     ]
    },
    {
     "name": "stdout",
     "output_type": "stream",
     "text": [
      "min value is  tensor(-1.0223)\n",
      "max value is  tensor(1.0314)\n"
     ]
    },
    {
     "name": "stderr",
     "output_type": "stream",
     "text": [
      "2025-02-19 20:26:57,163 INFO synthesis text 他的中文非常流利，发音标准，听起来非常自然和清晰。\n",
      "2025-02-19 20:27:01,300 INFO yield speech len 5.72, rtf 0.7233202457427979\n",
      "100%|██████████| 1/1 [00:04<00:00,  4.72s/it]\n"
     ]
    },
    {
     "name": "stdout",
     "output_type": "stream",
     "text": [
      "min value is  tensor(-1.0223)\n",
      "max value is  tensor(1.0314)\n"
     ]
    },
    {
     "name": "stderr",
     "output_type": "stream",
     "text": [
      "2025-02-19 20:27:01,899 INFO synthesis text 这个季节适合喝热茶，尤其是早晨，喝一杯热茶非常舒服。\n",
      "2025-02-19 20:27:07,119 INFO yield speech len 7.08, rtf 0.7373517179219736\n",
      "100%|██████████| 1/1 [00:05<00:00,  5.81s/it]\n",
      "113it [02:26,  6.81s/it]"
     ]
    },
    {
     "name": "stdout",
     "output_type": "stream",
     "text": [
      "min value is  tensor(-1.0223)\n",
      "max value is  tensor(1.0314)\n"
     ]
    },
    {
     "name": "stderr",
     "output_type": "stream",
     "text": [
      "2025-02-19 20:27:07,724 INFO synthesis text 明天我们计划去参观博物馆，了解更多关于历史和文化的知识。\n",
      "2025-02-19 20:27:12,881 INFO yield speech len 7.48, rtf 0.6894707361007119\n",
      "100%|██████████| 1/1 [00:05<00:00,  5.75s/it]\n"
     ]
    },
    {
     "name": "stdout",
     "output_type": "stream",
     "text": [
      "min value is  tensor(-1.0223)\n",
      "max value is  tensor(1.0314)\n"
     ]
    },
    {
     "name": "stderr",
     "output_type": "stream",
     "text": [
      "2025-02-19 20:27:13,469 INFO synthesis text 这家餐厅的菜肴非常美味，服务也很好，是很多人喜欢去的地方。\n",
      "2025-02-19 20:27:18,506 INFO yield speech len 7.12, rtf 0.7074322258488516\n",
      "100%|██████████| 1/1 [00:05<00:00,  5.61s/it]\n"
     ]
    },
    {
     "name": "stdout",
     "output_type": "stream",
     "text": [
      "min value is  tensor(-1.0223)\n",
      "max value is  tensor(1.0314)\n"
     ]
    },
    {
     "name": "stderr",
     "output_type": "stream",
     "text": [
      "2025-02-19 20:27:19,099 INFO synthesis text 我的家在一个安静的小区，周围绿树成荫，环境非常宜人。\n",
      "2025-02-19 20:27:23,602 INFO yield speech len 6.28, rtf 0.7169830950961751\n",
      "100%|██████████| 1/1 [00:05<00:00,  5.08s/it]\n"
     ]
    },
    {
     "name": "stdout",
     "output_type": "stream",
     "text": [
      "min value is  tensor(-1.0223)\n",
      "max value is  tensor(1.0314)\n"
     ]
    },
    {
     "name": "stderr",
     "output_type": "stream",
     "text": [
      "2025-02-19 20:27:24,195 INFO synthesis text 昨天我们一起去看了一场音乐会，表演非常精彩，大家都很喜欢。\n",
      "2025-02-19 20:27:29,635 INFO yield speech len 7.6, rtf 0.7156752598913093\n",
      "100%|██████████| 1/1 [00:06<00:00,  6.02s/it]\n",
      "114it [02:49,  8.92s/it]"
     ]
    },
    {
     "name": "stdout",
     "output_type": "stream",
     "text": [
      "min value is  tensor(-1.0223)\n",
      "max value is  tensor(1.0314)\n"
     ]
    },
    {
     "name": "stderr",
     "output_type": "stream",
     "text": [
      "2025-02-19 20:27:30,256 INFO synthesis text 他学钢琴已经有很多年了，每天都坚持练习，水平提高很快。\n",
      "2025-02-19 20:27:34,758 INFO yield speech len 6.08, rtf 0.7405251656707964\n",
      "100%|██████████| 1/1 [00:05<00:00,  5.11s/it]\n"
     ]
    },
    {
     "name": "stdout",
     "output_type": "stream",
     "text": [
      "min value is  tensor(-1.0223)\n",
      "max value is  tensor(1.0314)\n"
     ]
    },
    {
     "name": "stderr",
     "output_type": "stream",
     "text": [
      "2025-02-19 20:27:35,347 INFO synthesis text 我们计划去海边度假，晒太阳，游泳，享受温暖的海风。\n",
      "2025-02-19 20:27:39,931 INFO yield speech len 6.44, rtf 0.7117703834675854\n",
      "100%|██████████| 1/1 [00:05<00:00,  5.16s/it]\n"
     ]
    },
    {
     "name": "stdout",
     "output_type": "stream",
     "text": [
      "min value is  tensor(-1.0223)\n",
      "max value is  tensor(1.0314)\n"
     ]
    },
    {
     "name": "stderr",
     "output_type": "stream",
     "text": [
      "2025-02-19 20:27:40,520 INFO synthesis text 这本书的内容非常丰富，涉及了很多方面的知识，非常有启发性。\n",
      "2025-02-19 20:27:46,274 INFO yield speech len 8.2, rtf 0.7017065839069646\n",
      "100%|██████████| 1/1 [00:06<00:00,  6.33s/it]\n"
     ]
    },
    {
     "name": "stdout",
     "output_type": "stream",
     "text": [
      "min value is  tensor(-1.0223)\n",
      "max value is  tensor(1.0314)\n"
     ]
    },
    {
     "name": "stderr",
     "output_type": "stream",
     "text": [
      "2025-02-19 20:27:46,864 INFO synthesis text 他正在学习如何做饭，已经能做出一些简单的家常菜。\n",
      "2025-02-19 20:27:51,542 INFO yield speech len 6.48, rtf 0.721846870434137\n",
      "100%|██████████| 1/1 [00:05<00:00,  5.25s/it]\n",
      "115it [03:10, 11.02s/it]"
     ]
    },
    {
     "name": "stdout",
     "output_type": "stream",
     "text": [
      "min value is  tensor(-1.0223)\n",
      "max value is  tensor(1.0314)\n"
     ]
    },
    {
     "name": "stderr",
     "output_type": "stream",
     "text": [
      "2025-02-19 20:27:52,142 INFO synthesis text 这个城市的交通十分便利，地铁和公交都很方便快捷。\n",
      "2025-02-19 20:27:57,974 INFO yield speech len 8.56, rtf 0.6812923143957262\n",
      "100%|██████████| 1/1 [00:06<00:00,  6.42s/it]\n"
     ]
    },
    {
     "name": "stdout",
     "output_type": "stream",
     "text": [
      "min value is  tensor(-1.0223)\n",
      "max value is  tensor(1.0314)\n"
     ]
    },
    {
     "name": "stderr",
     "output_type": "stream",
     "text": [
      "2025-02-19 20:27:58,562 INFO synthesis text 每天早上，我都会去跑步，保持良好的运动习惯，感觉很充实。\n",
      "2025-02-19 20:28:03,639 INFO yield speech len 7.2, rtf 0.70513473616706\n",
      "100%|██████████| 1/1 [00:05<00:00,  5.65s/it]\n"
     ]
    },
    {
     "name": "stdout",
     "output_type": "stream",
     "text": [
      "min value is  tensor(-1.0223)\n",
      "max value is  tensor(1.0314)\n"
     ]
    },
    {
     "name": "stderr",
     "output_type": "stream",
     "text": [
      "2025-02-19 20:28:04,230 INFO synthesis text 他的书桌上堆满了各种书籍，有文学、历史和哲学的书。\n",
      "2025-02-19 20:28:09,068 INFO yield speech len 6.64, rtf 0.7287561175334885\n",
      "100%|██████████| 1/1 [00:05<00:00,  5.42s/it]\n"
     ]
    },
    {
     "name": "stdout",
     "output_type": "stream",
     "text": [
      "min value is  tensor(-1.0223)\n",
      "max value is  tensor(1.0314)\n"
     ]
    },
    {
     "name": "stderr",
     "output_type": "stream",
     "text": [
      "2025-02-19 20:28:09,661 INFO synthesis text 我很喜欢去博物馆看展览，每次都有新的收获和感悟。\n",
      "2025-02-19 20:28:14,610 INFO yield speech len 7.0, rtf 0.7070604733058384\n",
      "100%|██████████| 1/1 [00:05<00:00,  5.53s/it]\n",
      "116it [03:34, 13.27s/it]"
     ]
    },
    {
     "name": "stdout",
     "output_type": "stream",
     "text": [
      "min value is  tensor(-1.0223)\n",
      "max value is  tensor(1.0314)\n"
     ]
    },
    {
     "name": "stderr",
     "output_type": "stream",
     "text": [
      "2025-02-19 20:28:15,196 INFO synthesis text 我们班的同学都很友好，大家互相帮助，关系非常和谐。\n",
      "2025-02-19 20:28:19,501 INFO yield speech len 5.8, rtf 0.7422552848684377\n",
      "100%|██████████| 1/1 [00:04<00:00,  4.88s/it]\n"
     ]
    },
    {
     "name": "stdout",
     "output_type": "stream",
     "text": [
      "min value is  tensor(-1.0223)\n",
      "max value is  tensor(1.0314)\n"
     ]
    },
    {
     "name": "stderr",
     "output_type": "stream",
     "text": [
      "2025-02-19 20:28:20,099 INFO synthesis text 这个周末我打算去参加一个朋友的生日聚会，很期待。\n",
      "2025-02-19 20:28:24,986 INFO yield speech len 6.8, rtf 0.7187463255489573\n",
      "100%|██████████| 1/1 [00:05<00:00,  5.47s/it]\n"
     ]
    },
    {
     "name": "stdout",
     "output_type": "stream",
     "text": [
      "min value is  tensor(-1.0223)\n",
      "max value is  tensor(1.0314)\n"
     ]
    },
    {
     "name": "stderr",
     "output_type": "stream",
     "text": [
      "2025-02-19 20:28:25,572 INFO synthesis text 你喜欢喝咖啡吗？我每天都喝一杯，提神又温暖。\n",
      "2025-02-19 20:28:29,870 INFO yield speech len 5.92, rtf 0.7260962917998031\n",
      "100%|██████████| 1/1 [00:04<00:00,  4.87s/it]\n"
     ]
    },
    {
     "name": "stdout",
     "output_type": "stream",
     "text": [
      "min value is  tensor(-1.0223)\n",
      "max value is  tensor(1.0314)\n"
     ]
    },
    {
     "name": "stderr",
     "output_type": "stream",
     "text": [
      "2025-02-19 20:28:30,460 INFO synthesis text 她是一个非常有耐心的人，总是能细心地照顾每一个细节。\n",
      "2025-02-19 20:28:34,066 INFO yield speech len 4.88, rtf 0.739004524027715\n",
      "100%|██████████| 1/1 [00:04<00:00,  4.18s/it]\n",
      "117it [03:53, 14.58s/it]"
     ]
    },
    {
     "name": "stdout",
     "output_type": "stream",
     "text": [
      "min value is  tensor(-1.0223)\n",
      "max value is  tensor(1.0314)\n"
     ]
    },
    {
     "name": "stderr",
     "output_type": "stream",
     "text": [
      "2025-02-19 20:28:34,660 INFO synthesis text 最近天气很冷，我每天都穿得很厚，早晚都得加衣服。\n",
      "2025-02-19 20:28:38,815 INFO yield speech len 5.6, rtf 0.7418438366481237\n",
      "100%|██████████| 1/1 [00:04<00:00,  4.73s/it]\n"
     ]
    },
    {
     "name": "stdout",
     "output_type": "stream",
     "text": [
      "min value is  tensor(-1.0223)\n",
      "max value is  tensor(1.0314)\n"
     ]
    },
    {
     "name": "stderr",
     "output_type": "stream",
     "text": [
      "2025-02-19 20:28:39,417 INFO synthesis text 我的父母常常提醒我，做事要认真，不能马虎，要有责任心。\n",
      "2025-02-19 20:28:44,452 INFO yield speech len 7.48, rtf 0.6731359078922373\n",
      "100%|██████████| 1/1 [00:05<00:00,  5.62s/it]\n"
     ]
    },
    {
     "name": "stdout",
     "output_type": "stream",
     "text": [
      "min value is  tensor(-1.0223)\n",
      "max value is  tensor(1.0314)\n"
     ]
    },
    {
     "name": "stderr",
     "output_type": "stream",
     "text": [
      "2025-02-19 20:28:45,041 INFO synthesis text 这个月我们要进行大扫除，家里各个角落都要清理干净。\n",
      "2025-02-19 20:28:49,700 INFO yield speech len 6.4, rtf 0.728025920689106\n",
      "100%|██████████| 1/1 [00:05<00:00,  5.23s/it]\n"
     ]
    },
    {
     "name": "stdout",
     "output_type": "stream",
     "text": [
      "min value is  tensor(-1.0223)\n",
      "max value is  tensor(1.0314)\n"
     ]
    },
    {
     "name": "stderr",
     "output_type": "stream",
     "text": [
      "2025-02-19 20:28:50,305 INFO synthesis text 每次旅行回来，我都会整理照片，回忆那段美好的时光。\n",
      "2025-02-19 20:28:55,026 INFO yield speech len 6.84, rtf 0.6902589086900678\n",
      "100%|██████████| 1/1 [00:05<00:00,  5.31s/it]\n",
      "118it [04:14, 16.06s/it]"
     ]
    },
    {
     "name": "stdout",
     "output_type": "stream",
     "text": [
      "min value is  tensor(-1.0223)\n",
      "max value is  tensor(1.0314)\n"
     ]
    },
    {
     "name": "stderr",
     "output_type": "stream",
     "text": [
      "2025-02-19 20:28:55,627 INFO synthesis text 他每天都在图书馆里待很长时间，专心致志地看书学习。\n",
      "2025-02-19 20:28:59,724 INFO yield speech len 5.68, rtf 0.7213679837508941\n",
      "100%|██████████| 1/1 [00:04<00:00,  4.68s/it]\n"
     ]
    },
    {
     "name": "stdout",
     "output_type": "stream",
     "text": [
      "min value is  tensor(-1.0223)\n",
      "max value is  tensor(1.0314)\n"
     ]
    },
    {
     "name": "stderr",
     "output_type": "stream",
     "text": [
      "2025-02-19 20:29:00,307 INFO synthesis text 春天到了，公园里花开得很漂亮，人们在草地上玩耍、散步。\n",
      "2025-02-19 20:29:06,864 INFO yield speech len 9.84, rtf 0.6663299672971896\n",
      "100%|██████████| 1/1 [00:07<00:00,  7.13s/it]\n"
     ]
    },
    {
     "name": "stdout",
     "output_type": "stream",
     "text": [
      "min value is  tensor(-1.0223)\n",
      "max value is  tensor(1.0314)\n"
     ]
    },
    {
     "name": "stderr",
     "output_type": "stream",
     "text": [
      "2025-02-19 20:29:07,468 INFO synthesis text 昨天我去看了场话剧，演员的表演非常生动，剧情也很精彩。\n",
      "2025-02-19 20:29:12,360 INFO yield speech len 6.6, rtf 0.7411549669323546\n",
      "100%|██████████| 1/1 [00:05<00:00,  5.48s/it]\n"
     ]
    },
    {
     "name": "stdout",
     "output_type": "stream",
     "text": [
      "min value is  tensor(-1.0223)\n",
      "max value is  tensor(1.0314)\n"
     ]
    },
    {
     "name": "stderr",
     "output_type": "stream",
     "text": [
      "2025-02-19 20:29:12,954 INFO synthesis text 我家附近有一个小超市，卖各种日常用品，非常方便。\n",
      "2025-02-19 20:29:17,035 INFO yield speech len 5.32, rtf 0.7669703852861447\n",
      "100%|██████████| 1/1 [00:04<00:00,  4.66s/it]\n",
      "119it [04:36, 17.53s/it]"
     ]
    },
    {
     "name": "stdout",
     "output_type": "stream",
     "text": [
      "min value is  tensor(-1.0223)\n",
      "max value is  tensor(1.0314)\n"
     ]
    },
    {
     "name": "stderr",
     "output_type": "stream",
     "text": [
      "2025-02-19 20:29:17,633 INFO synthesis text 他在学校里成绩优秀，老师和同学们都很喜欢他。\n",
      "2025-02-19 20:29:22,354 INFO yield speech len 6.48, rtf 0.7285923501591623\n",
      "100%|██████████| 1/1 [00:05<00:00,  5.31s/it]\n"
     ]
    },
    {
     "name": "stdout",
     "output_type": "stream",
     "text": [
      "min value is  tensor(-1.0223)\n",
      "max value is  tensor(1.0314)\n"
     ]
    },
    {
     "name": "stderr",
     "output_type": "stream",
     "text": [
      "2025-02-19 20:29:22,945 INFO synthesis text 我每天都要早起，做完早操后再去上班，保持充沛的精力。\n",
      "2025-02-19 20:29:28,845 INFO yield speech len 8.52, rtf 0.6924849160960023\n",
      "100%|██████████| 1/1 [00:06<00:00,  6.48s/it]\n"
     ]
    },
    {
     "name": "stdout",
     "output_type": "stream",
     "text": [
      "min value is  tensor(-1.0223)\n",
      "max value is  tensor(1.0314)\n"
     ]
    },
    {
     "name": "stderr",
     "output_type": "stream",
     "text": [
      "2025-02-19 20:29:29,433 INFO synthesis text 周末我和朋友一起去逛街，买了一些衣服和饰品，很开心。\n",
      "2025-02-19 20:29:34,292 INFO yield speech len 6.88, rtf 0.7062679459882337\n",
      "100%|██████████| 1/1 [00:05<00:00,  5.43s/it]\n"
     ]
    },
    {
     "name": "stdout",
     "output_type": "stream",
     "text": [
      "min value is  tensor(-1.0223)\n",
      "max value is  tensor(1.0314)\n"
     ]
    },
    {
     "name": "stderr",
     "output_type": "stream",
     "text": [
      "2025-02-19 20:29:34,884 INFO synthesis text 那场比赛非常激烈，双方都拼尽全力，最终的结果让人惊讶。\n",
      "2025-02-19 20:29:39,510 INFO yield speech len 6.4, rtf 0.7228554412722588\n",
      "100%|██████████| 1/1 [00:05<00:00,  5.20s/it]\n",
      "120it [04:58, 18.83s/it]"
     ]
    },
    {
     "name": "stdout",
     "output_type": "stream",
     "text": [
      "min value is  tensor(-1.0223)\n",
      "max value is  tensor(1.0314)\n"
     ]
    },
    {
     "name": "stderr",
     "output_type": "stream",
     "text": [
      "2025-02-19 20:29:40,100 INFO synthesis text 我特别喜欢吃中餐，尤其是麻辣火锅和炒面，味道很棒。\n",
      "2025-02-19 20:29:44,908 INFO yield speech len 6.8, rtf 0.7071986268548405\n",
      "100%|██████████| 1/1 [00:05<00:00,  5.38s/it]\n"
     ]
    },
    {
     "name": "stdout",
     "output_type": "stream",
     "text": [
      "min value is  tensor(-1.0223)\n",
      "max value is  tensor(1.0314)\n"
     ]
    },
    {
     "name": "stderr",
     "output_type": "stream",
     "text": [
      "2025-02-19 20:29:45,498 INFO synthesis text 今天我和家人去公园散步，享受温暖的阳光和清新的空气。\n",
      "2025-02-19 20:29:50,926 INFO yield speech len 7.88, rtf 0.6888074620726145\n",
      "100%|██████████| 1/1 [00:06<00:00,  6.00s/it]\n"
     ]
    },
    {
     "name": "stdout",
     "output_type": "stream",
     "text": [
      "min value is  tensor(-1.0223)\n",
      "max value is  tensor(1.0314)\n"
     ]
    },
    {
     "name": "stderr",
     "output_type": "stream",
     "text": [
      "2025-02-19 20:29:51,514 INFO synthesis text 这座城市的文化氛围非常浓厚，每年都有很多文化活动举办。\n",
      "2025-02-19 20:29:55,625 INFO yield speech len 5.52, rtf 0.7447462151016014\n",
      "100%|██████████| 1/1 [00:04<00:00,  4.68s/it]\n"
     ]
    },
    {
     "name": "stdout",
     "output_type": "stream",
     "text": [
      "min value is  tensor(-1.0223)\n",
      "max value is  tensor(1.0314)\n"
     ]
    },
    {
     "name": "stderr",
     "output_type": "stream",
     "text": [
      "2025-02-19 20:29:56,212 INFO synthesis text 他是一个非常有创意的人，总能想出一些新奇的点子。\n",
      "2025-02-19 20:29:59,731 INFO yield speech len 4.64, rtf 0.7584865237104482\n",
      "100%|██████████| 1/1 [00:04<00:00,  4.09s/it]\n",
      "121it [05:19, 19.21s/it]"
     ]
    },
    {
     "name": "stdout",
     "output_type": "stream",
     "text": [
      "min value is  tensor(-1.0223)\n",
      "max value is  tensor(1.0314)\n"
     ]
    },
    {
     "name": "stderr",
     "output_type": "stream",
     "text": [
      "2025-02-19 20:30:00,323 INFO synthesis text 明天我们要去郊游，准备好野餐食物，大家一起去享受自然。\n",
      "2025-02-19 20:30:05,577 INFO yield speech len 7.8, rtf 0.6736825368343256\n",
      "100%|██████████| 1/1 [00:05<00:00,  5.83s/it]\n"
     ]
    },
    {
     "name": "stdout",
     "output_type": "stream",
     "text": [
      "min value is  tensor(-1.0223)\n",
      "max value is  tensor(1.0314)\n"
     ]
    },
    {
     "name": "stderr",
     "output_type": "stream",
     "text": [
      "2025-02-19 20:30:06,167 INFO synthesis text 我在网上看到了一家餐厅的推荐，打算去尝试一下。\n",
      "2025-02-19 20:30:10,464 INFO yield speech len 5.76, rtf 0.7460817694664001\n",
      "100%|██████████| 1/1 [00:04<00:00,  4.87s/it]\n"
     ]
    },
    {
     "name": "stdout",
     "output_type": "stream",
     "text": [
      "min value is  tensor(-1.0223)\n",
      "max value is  tensor(1.0314)\n"
     ]
    },
    {
     "name": "stderr",
     "output_type": "stream",
     "text": [
      "2025-02-19 20:30:11,061 INFO synthesis text 每年春节期间，家家户户都会张灯结彩，庆祝这个传统节日。\n",
      "2025-02-19 20:30:15,334 INFO yield speech len 5.8, rtf 0.7367164513160442\n",
      "100%|██████████| 1/1 [00:04<00:00,  4.85s/it]\n"
     ]
    },
    {
     "name": "stdout",
     "output_type": "stream",
     "text": [
      "min value is  tensor(-1.0223)\n",
      "max value is  tensor(1.0314)\n"
     ]
    },
    {
     "name": "stderr",
     "output_type": "stream",
     "text": [
      "2025-02-19 20:30:15,925 INFO synthesis text 昨天我们一起去了电影院看电影，影片的特效非常震撼。\n",
      "2025-02-19 20:30:20,449 INFO yield speech len 6.28, rtf 0.7204348494292824\n",
      "100%|██████████| 1/1 [00:05<00:00,  5.10s/it]\n",
      "122it [05:39, 19.63s/it]"
     ]
    },
    {
     "name": "stdout",
     "output_type": "stream",
     "text": [
      "min value is  tensor(-1.0223)\n",
      "max value is  tensor(1.0314)\n"
     ]
    },
    {
     "name": "stderr",
     "output_type": "stream",
     "text": [
      "2025-02-19 20:30:21,042 INFO synthesis text 她非常喜欢旅行，每次去一个新地方都觉得很有趣和兴奋。\n",
      "2025-02-19 20:30:25,186 INFO yield speech len 5.68, rtf 0.7294830302117576\n",
      "100%|██████████| 1/1 [00:04<00:00,  4.72s/it]\n"
     ]
    },
    {
     "name": "stdout",
     "output_type": "stream",
     "text": [
      "min value is  tensor(-1.0223)\n",
      "max value is  tensor(1.0314)\n"
     ]
    },
    {
     "name": "stderr",
     "output_type": "stream",
     "text": [
      "2025-02-19 20:30:25,785 INFO synthesis text 明天我会去买一些新书，准备继续学习和提升自己。\n",
      "2025-02-19 20:30:29,894 INFO yield speech len 5.48, rtf 0.7499517315495623\n",
      "100%|██████████| 1/1 [00:04<00:00,  4.69s/it]\n"
     ]
    },
    {
     "name": "stdout",
     "output_type": "stream",
     "text": [
      "min value is  tensor(-1.0223)\n",
      "max value is  tensor(1.0314)\n"
     ]
    },
    {
     "name": "stderr",
     "output_type": "stream",
     "text": [
      "2025-02-19 20:30:30,486 INFO synthesis text 今天的午餐非常丰富，有酸辣汤、炒饭和小笼包。\n",
      "2025-02-19 20:30:35,869 INFO yield speech len 7.52, rtf 0.7158796203897355\n",
      "100%|██████████| 1/1 [00:05<00:00,  5.96s/it]\n"
     ]
    },
    {
     "name": "stdout",
     "output_type": "stream",
     "text": [
      "min value is  tensor(-1.0223)\n",
      "max value is  tensor(1.0314)\n"
     ]
    },
    {
     "name": "stderr",
     "output_type": "stream",
     "text": [
      "2025-02-19 20:30:36,468 INFO synthesis text 他喜欢在空闲的时候听音乐，尤其是爵士乐和古典音乐。\n",
      "2025-02-19 20:30:40,821 INFO yield speech len 6.04, rtf 0.7205780373503831\n",
      "100%|██████████| 1/1 [00:04<00:00,  4.93s/it]\n",
      "123it [06:00, 19.84s/it]"
     ]
    },
    {
     "name": "stdout",
     "output_type": "stream",
     "text": [
      "min value is  tensor(-1.0223)\n",
      "max value is  tensor(1.0314)\n"
     ]
    },
    {
     "name": "stderr",
     "output_type": "stream",
     "text": [
      "2025-02-19 20:30:41,405 INFO synthesis text 我家附近的公园非常漂亮，绿树成荫，花草也很茂盛。\n",
      "2025-02-19 20:30:45,933 INFO yield speech len 6.24, rtf 0.7257242997487385\n",
      "100%|██████████| 1/1 [00:05<00:00,  5.10s/it]\n"
     ]
    },
    {
     "name": "stdout",
     "output_type": "stream",
     "text": [
      "min value is  tensor(-1.0223)\n",
      "max value is  tensor(1.0314)\n"
     ]
    },
    {
     "name": "stderr",
     "output_type": "stream",
     "text": [
      "2025-02-19 20:30:46,520 INFO synthesis text 她每天都去健身房锻炼，希望能变得更加健康和有活力。\n",
      "2025-02-19 20:30:50,469 INFO yield speech len 5.68, rtf 0.695154112829289\n",
      "100%|██████████| 1/1 [00:04<00:00,  4.52s/it]\n"
     ]
    },
    {
     "name": "stdout",
     "output_type": "stream",
     "text": [
      "min value is  tensor(-1.0223)\n",
      "max value is  tensor(1.0314)\n"
     ]
    },
    {
     "name": "stderr",
     "output_type": "stream",
     "text": [
      "2025-02-19 20:30:51,039 INFO synthesis text 昨晚我们看了场非常精彩的电影，故事情节很扣人心弦。\n",
      "2025-02-19 20:30:55,670 INFO yield speech len 6.92, rtf 0.669224138204762\n",
      "100%|██████████| 1/1 [00:05<00:00,  5.19s/it]\n"
     ]
    },
    {
     "name": "stdout",
     "output_type": "stream",
     "text": [
      "min value is  tensor(-1.0223)\n",
      "max value is  tensor(1.0314)\n"
     ]
    },
    {
     "name": "stderr",
     "output_type": "stream",
     "text": [
      "2025-02-19 20:30:56,240 INFO synthesis text 我经常在周末去超市购物，买一些新鲜的蔬菜和水果。\n",
      "2025-02-19 20:31:01,405 INFO yield speech len 7.68, rtf 0.6725519585112731\n",
      "100%|██████████| 1/1 [00:05<00:00,  5.72s/it]\n",
      "124it [06:20, 20.06s/it]"
     ]
    },
    {
     "name": "stdout",
     "output_type": "stream",
     "text": [
      "min value is  tensor(-1.0223)\n",
      "max value is  tensor(1.0314)\n"
     ]
    },
    {
     "name": "stderr",
     "output_type": "stream",
     "text": [
      "2025-02-19 20:31:01,977 INFO synthesis text 你喜欢去旅游吗？我喜欢去不同的地方，体验当地文化。\n",
      "2025-02-19 20:31:05,908 INFO yield speech len 6.04, rtf 0.6509054575534846\n",
      "100%|██████████| 1/1 [00:04<00:00,  4.49s/it]\n"
     ]
    },
    {
     "name": "stdout",
     "output_type": "stream",
     "text": [
      "min value is  tensor(-1.0223)\n",
      "max value is  tensor(1.0314)\n"
     ]
    },
    {
     "name": "stderr",
     "output_type": "stream",
     "text": [
      "2025-02-19 20:31:06,479 INFO synthesis text 这家餐馆的菜肴种类很多，味道也很好，适合家庭聚会。\n",
      "2025-02-19 20:31:10,971 INFO yield speech len 7.0, rtf 0.6415953976767403\n",
      "100%|██████████| 1/1 [00:05<00:00,  5.05s/it]\n"
     ]
    },
    {
     "name": "stdout",
     "output_type": "stream",
     "text": [
      "min value is  tensor(-1.0223)\n",
      "max value is  tensor(1.0314)\n"
     ]
    },
    {
     "name": "stderr",
     "output_type": "stream",
     "text": [
      "2025-02-19 20:31:11,540 INFO synthesis text 他们家有两只可爱的小狗，毛茸茸的，特别喜欢跑来跑去。\n",
      "2025-02-19 20:31:16,450 INFO yield speech len 7.4, rtf 0.6636106967926025\n",
      "100%|██████████| 1/1 [00:05<00:00,  5.47s/it]\n"
     ]
    },
    {
     "name": "stdout",
     "output_type": "stream",
     "text": [
      "min value is  tensor(-1.0223)\n",
      "max value is  tensor(1.0314)\n"
     ]
    },
    {
     "name": "stderr",
     "output_type": "stream",
     "text": [
      "2025-02-19 20:31:17,028 INFO synthesis text 我正在学习如何烹饪各种美食，今天尝试做了意大利面。\n",
      "2025-02-19 20:31:21,314 INFO yield speech len 6.52, rtf 0.6573252517021507\n",
      "100%|██████████| 1/1 [00:04<00:00,  4.84s/it]\n",
      "125it [06:40, 20.01s/it]"
     ]
    },
    {
     "name": "stdout",
     "output_type": "stream",
     "text": [
      "min value is  tensor(-1.0223)\n",
      "max value is  tensor(1.0314)\n"
     ]
    },
    {
     "name": "stderr",
     "output_type": "stream",
     "text": [
      "2025-02-19 20:31:21,895 INFO synthesis text 这座城市有许多历史悠久的建筑，每一栋都有独特的风格。\n",
      "2025-02-19 20:31:27,003 INFO yield speech len 7.72, rtf 0.6617342561020135\n",
      "100%|██████████| 1/1 [00:05<00:00,  5.67s/it]\n"
     ]
    },
    {
     "name": "stdout",
     "output_type": "stream",
     "text": [
      "min value is  tensor(-1.0223)\n",
      "max value is  tensor(1.0314)\n"
     ]
    },
    {
     "name": "stderr",
     "output_type": "stream",
     "text": [
      "2025-02-19 20:31:27,572 INFO synthesis text 我们计划去海边度假，游泳、晒太阳，享受温暖的阳光。\n",
      "2025-02-19 20:31:32,451 INFO yield speech len 7.64, rtf 0.63855701092026\n",
      "100%|██████████| 1/1 [00:05<00:00,  5.43s/it]\n"
     ]
    },
    {
     "name": "stdout",
     "output_type": "stream",
     "text": [
      "min value is  tensor(-1.0223)\n",
      "max value is  tensor(1.0314)\n"
     ]
    },
    {
     "name": "stderr",
     "output_type": "stream",
     "text": [
      "2025-02-19 20:31:33,025 INFO synthesis text 他在做科研工作，每天都需要大量阅读和整理资料。\n",
      "2025-02-19 20:31:36,553 INFO yield speech len 5.24, rtf 0.6734004457488314\n",
      "100%|██████████| 1/1 [00:04<00:00,  4.09s/it]\n"
     ]
    },
    {
     "name": "stdout",
     "output_type": "stream",
     "text": [
      "min value is  tensor(-1.0223)\n",
      "max value is  tensor(1.0314)\n"
     ]
    },
    {
     "name": "stderr",
     "output_type": "stream",
     "text": [
      "2025-02-19 20:31:37,123 INFO synthesis text 我的父母每天都早起，做早饭后去上班，生活节奏很快。\n",
      "2025-02-19 20:31:42,017 INFO yield speech len 6.96, rtf 0.703290002099399\n",
      "100%|██████████| 1/1 [00:05<00:00,  5.45s/it]\n",
      "126it [07:01, 20.22s/it]"
     ]
    },
    {
     "name": "stdout",
     "output_type": "stream",
     "text": [
      "min value is  tensor(-1.0223)\n",
      "max value is  tensor(1.0314)\n"
     ]
    },
    {
     "name": "stderr",
     "output_type": "stream",
     "text": [
      "2025-02-19 20:31:42,589 INFO synthesis text 春天到了，公园里百花齐放，气温适宜，大家都喜欢外出。\n",
      "2025-02-19 20:31:47,017 INFO yield speech len 6.68, rtf 0.6628147856204096\n",
      "100%|██████████| 1/1 [00:04<00:00,  4.98s/it]\n"
     ]
    },
    {
     "name": "stdout",
     "output_type": "stream",
     "text": [
      "min value is  tensor(-1.0223)\n",
      "max value is  tensor(1.0314)\n"
     ]
    },
    {
     "name": "stderr",
     "output_type": "stream",
     "text": [
      "2025-02-19 20:31:47,586 INFO synthesis text 这场篮球比赛异常激烈，双方都拼尽全力，最后以平局结束。\n",
      "2025-02-19 20:31:52,517 INFO yield speech len 7.28, rtf 0.6772977637720632\n",
      "100%|██████████| 1/1 [00:05<00:00,  5.49s/it]\n"
     ]
    },
    {
     "name": "stdout",
     "output_type": "stream",
     "text": [
      "min value is  tensor(-1.0223)\n",
      "max value is  tensor(1.0314)\n"
     ]
    },
    {
     "name": "stderr",
     "output_type": "stream",
     "text": [
      "2025-02-19 20:31:53,090 INFO synthesis text 我喜欢在安静的环境里读书，尤其是晚上的时候。\n",
      "2025-02-19 20:31:57,073 INFO yield speech len 5.52, rtf 0.7215827703475953\n",
      "100%|██████████| 1/1 [00:04<00:00,  4.54s/it]\n"
     ]
    },
    {
     "name": "stdout",
     "output_type": "stream",
     "text": [
      "min value is  tensor(-1.0223)\n",
      "max value is  tensor(1.0314)\n"
     ]
    },
    {
     "name": "stderr",
     "output_type": "stream",
     "text": [
      "2025-02-19 20:31:57,654 INFO synthesis text 每次参加朋友的聚会，我都能认识到很多新朋友，收获很大。\n",
      "2025-02-19 20:32:02,136 INFO yield speech len 6.84, rtf 0.6551877448433324\n",
      "100%|██████████| 1/1 [00:05<00:00,  5.05s/it]\n",
      "127it [07:21, 20.19s/it]"
     ]
    },
    {
     "name": "stdout",
     "output_type": "stream",
     "text": [
      "min value is  tensor(-1.0223)\n",
      "max value is  tensor(1.0314)\n"
     ]
    },
    {
     "name": "stderr",
     "output_type": "stream",
     "text": [
      "2025-02-19 20:32:02,705 INFO synthesis text 昨天晚上我们在外面散步，空气新鲜，心情也特别愉快。\n",
      "2025-02-19 20:32:07,213 INFO yield speech len 7.0, rtf 0.6440283230372837\n",
      "100%|██████████| 1/1 [00:05<00:00,  5.06s/it]\n"
     ]
    },
    {
     "name": "stdout",
     "output_type": "stream",
     "text": [
      "min value is  tensor(-1.0223)\n",
      "max value is  tensor(1.0314)\n"
     ]
    },
    {
     "name": "stderr",
     "output_type": "stream",
     "text": [
      "2025-02-19 20:32:07,793 INFO synthesis text 他是一个非常细心的人，总是能照顾到别人没有注意到的细节。\n",
      "2025-02-19 20:32:11,541 INFO yield speech len 5.16, rtf 0.7264237071192542\n",
      "100%|██████████| 1/1 [00:04<00:00,  4.31s/it]\n"
     ]
    },
    {
     "name": "stdout",
     "output_type": "stream",
     "text": [
      "min value is  tensor(-1.0223)\n",
      "max value is  tensor(1.0314)\n"
     ]
    },
    {
     "name": "stderr",
     "output_type": "stream",
     "text": [
      "2025-02-19 20:32:12,116 INFO synthesis text 我们学校的图书馆很大，书架上摆满了各类书籍，种类齐全。\n",
      "2025-02-19 20:32:17,031 INFO yield speech len 7.4, rtf 0.6640898536991429\n",
      "100%|██████████| 1/1 [00:05<00:00,  5.48s/it]\n"
     ]
    },
    {
     "name": "stdout",
     "output_type": "stream",
     "text": [
      "min value is  tensor(-1.0223)\n",
      "max value is  tensor(1.0314)\n"
     ]
    },
    {
     "name": "stderr",
     "output_type": "stream",
     "text": [
      "2025-02-19 20:32:17,611 INFO synthesis text 这家店的衣服款式非常时尚，每次去都能找到自己喜欢的。\n",
      "2025-02-19 20:32:22,063 INFO yield speech len 6.68, rtf 0.666458556752005\n",
      "100%|██████████| 1/1 [00:05<00:00,  5.02s/it]\n",
      "128it [07:41, 20.11s/it]"
     ]
    },
    {
     "name": "stdout",
     "output_type": "stream",
     "text": [
      "min value is  tensor(-1.0223)\n",
      "max value is  tensor(1.0314)\n"
     ]
    },
    {
     "name": "stderr",
     "output_type": "stream",
     "text": [
      "2025-02-19 20:32:22,638 INFO synthesis text 明天我们会去爬山，打算带上水和干粮，准备好一整天的活动。\n",
      "2025-02-19 20:32:27,642 INFO yield speech len 7.6, rtf 0.6585136840217992\n",
      "100%|██████████| 1/1 [00:05<00:00,  5.56s/it]\n"
     ]
    },
    {
     "name": "stdout",
     "output_type": "stream",
     "text": [
      "min value is  tensor(-1.0223)\n",
      "max value is  tensor(1.0314)\n"
     ]
    },
    {
     "name": "stderr",
     "output_type": "stream",
     "text": [
      "2025-02-19 20:32:28,218 INFO synthesis text 他们家的花园里种了很多蔬菜和水果，看起来非常绿意盎然。\n",
      "2025-02-19 20:32:33,101 INFO yield speech len 7.24, rtf 0.6744065666725623\n",
      "100%|██████████| 1/1 [00:05<00:00,  5.44s/it]\n"
     ]
    },
    {
     "name": "stdout",
     "output_type": "stream",
     "text": [
      "min value is  tensor(-1.0223)\n",
      "max value is  tensor(1.0314)\n"
     ]
    },
    {
     "name": "stderr",
     "output_type": "stream",
     "text": [
      "2025-02-19 20:32:33,685 INFO synthesis text 每天早晨，街道上总是非常安静，偶尔有几辆车经过。\n",
      "2025-02-19 20:32:38,131 INFO yield speech len 6.6, rtf 0.6736032529310747\n",
      "100%|██████████| 1/1 [00:05<00:00,  5.02s/it]\n"
     ]
    },
    {
     "name": "stdout",
     "output_type": "stream",
     "text": [
      "min value is  tensor(-1.0223)\n",
      "max value is  tensor(1.0314)\n"
     ]
    },
    {
     "name": "stderr",
     "output_type": "stream",
     "text": [
      "2025-02-19 20:32:38,710 INFO synthesis text 她的中文说得很流利，几乎没有口音，发音非常标准。\n",
      "2025-02-19 20:32:43,273 INFO yield speech len 6.64, rtf 0.6872724696814296\n",
      "100%|██████████| 1/1 [00:05<00:00,  5.13s/it]\n",
      "129it [08:02, 20.44s/it]"
     ]
    },
    {
     "name": "stdout",
     "output_type": "stream",
     "text": [
      "min value is  tensor(-1.0223)\n",
      "max value is  tensor(1.0314)\n"
     ]
    },
    {
     "name": "stderr",
     "output_type": "stream",
     "text": [
      "2025-02-19 20:32:43,846 INFO synthesis text 我特别喜欢晚上散步，月光下的景色总是让人感到放松。\n",
      "2025-02-19 20:32:49,309 INFO yield speech len 8.6, rtf 0.6351774792338527\n",
      "100%|██████████| 1/1 [00:06<00:00,  6.02s/it]\n"
     ]
    },
    {
     "name": "stdout",
     "output_type": "stream",
     "text": [
      "min value is  tensor(-1.0223)\n",
      "max value is  tensor(1.0314)\n"
     ]
    },
    {
     "name": "stderr",
     "output_type": "stream",
     "text": [
      "2025-02-19 20:32:49,891 INFO synthesis text 我常常和朋友一起去看电影，特别喜欢那些科幻和悬疑片。\n",
      "2025-02-19 20:32:54,171 INFO yield speech len 6.24, rtf 0.6860304337281447\n",
      "100%|██████████| 1/1 [00:04<00:00,  4.85s/it]\n"
     ]
    },
    {
     "name": "stdout",
     "output_type": "stream",
     "text": [
      "min value is  tensor(-1.0223)\n",
      "max value is  tensor(1.0314)\n"
     ]
    },
    {
     "name": "stderr",
     "output_type": "stream",
     "text": [
      "2025-02-19 20:32:54,749 INFO synthesis text 我们一起去了博物馆，参观了许多古老的艺术品和文物。\n",
      "2025-02-19 20:32:58,728 INFO yield speech len 6.04, rtf 0.6587677049321055\n",
      "100%|██████████| 1/1 [00:04<00:00,  4.54s/it]\n"
     ]
    },
    {
     "name": "stdout",
     "output_type": "stream",
     "text": [
      "min value is  tensor(-1.0223)\n",
      "max value is  tensor(1.0314)\n"
     ]
    },
    {
     "name": "stderr",
     "output_type": "stream",
     "text": [
      "2025-02-19 20:32:59,301 INFO synthesis text 人工智能技术正在快速发展，未来将改变许多行业的运作方式。\n",
      "2025-02-19 20:33:04,144 INFO yield speech len 7.2, rtf 0.6725743744108412\n",
      "100%|██████████| 1/1 [00:05<00:00,  5.40s/it]\n",
      "130it [08:23, 20.57s/it]"
     ]
    },
    {
     "name": "stdout",
     "output_type": "stream",
     "text": [
      "min value is  tensor(-1.0223)\n",
      "max value is  tensor(1.0314)\n"
     ]
    },
    {
     "name": "stderr",
     "output_type": "stream",
     "text": [
      "2025-02-19 20:33:04,725 INFO synthesis text 量子计算是现代科技的前沿领域，它能够解决传统计算机无法处理的问题。\n",
      "2025-02-19 20:33:10,641 INFO yield speech len 8.72, rtf 0.6785031578956393\n",
      "100%|██████████| 1/1 [00:06<00:00,  6.48s/it]\n"
     ]
    },
    {
     "name": "stdout",
     "output_type": "stream",
     "text": [
      "min value is  tensor(-1.0223)\n",
      "max value is  tensor(1.0314)\n"
     ]
    },
    {
     "name": "stderr",
     "output_type": "stream",
     "text": [
      "2025-02-19 20:33:11,211 INFO synthesis text 五G网络的普及将大大提高数据传输速度，推动智能设备的普及。\n",
      "2025-02-19 20:33:16,777 INFO yield speech len 8.4, rtf 0.6626180240086147\n",
      "100%|██████████| 1/1 [00:06<00:00,  6.12s/it]\n"
     ]
    },
    {
     "name": "stdout",
     "output_type": "stream",
     "text": [
      "min value is  tensor(-1.0223)\n",
      "max value is  tensor(1.0314)\n"
     ]
    },
    {
     "name": "stderr",
     "output_type": "stream",
     "text": [
      "2025-02-19 20:33:17,354 INFO synthesis text 虚拟现实和增强现实技术正在被广泛应用于教育、医疗和娱乐行业。\n",
      "2025-02-19 20:33:21,950 INFO yield speech len 7.0, rtf 0.6564673355647496\n",
      "100%|██████████| 1/1 [00:05<00:00,  5.16s/it]\n"
     ]
    },
    {
     "name": "stdout",
     "output_type": "stream",
     "text": [
      "min value is  tensor(-1.0223)\n",
      "max value is  tensor(1.0314)\n"
     ]
    },
    {
     "name": "stderr",
     "output_type": "stream",
     "text": [
      "2025-02-19 20:33:22,521 INFO synthesis text 大数据分析可以帮助企业从海量信息中提取有价值的洞察，优化决策。\n",
      "2025-02-19 20:33:27,489 INFO yield speech len 7.6, rtf 0.6537138160906341\n",
      "100%|██████████| 1/1 [00:05<00:00,  5.53s/it]\n",
      "131it [08:46, 21.40s/it]"
     ]
    },
    {
     "name": "stdout",
     "output_type": "stream",
     "text": [
      "min value is  tensor(-1.0223)\n",
      "max value is  tensor(1.0314)\n"
     ]
    },
    {
     "name": "stderr",
     "output_type": "stream",
     "text": [
      "2025-02-19 20:33:28,061 INFO synthesis text 区块链技术被广泛应用于金融、物流和供应链管理等领域。\n",
      "2025-02-19 20:33:33,095 INFO yield speech len 7.6, rtf 0.6622558204751265\n",
      "100%|██████████| 1/1 [00:05<00:00,  5.59s/it]\n"
     ]
    },
    {
     "name": "stdout",
     "output_type": "stream",
     "text": [
      "min value is  tensor(-1.0223)\n",
      "max value is  tensor(1.0314)\n"
     ]
    },
    {
     "name": "stderr",
     "output_type": "stream",
     "text": [
      "2025-02-19 20:33:33,664 INFO synthesis text 基因编辑技术的进步为许多遗传病的治疗提供了新的希望。\n",
      "2025-02-19 20:33:37,930 INFO yield speech len 6.28, rtf 0.6792364606432094\n",
      "100%|██████████| 1/1 [00:04<00:00,  4.82s/it]\n"
     ]
    },
    {
     "name": "stdout",
     "output_type": "stream",
     "text": [
      "min value is  tensor(-1.0223)\n",
      "max value is  tensor(1.0314)\n"
     ]
    },
    {
     "name": "stderr",
     "output_type": "stream",
     "text": [
      "2025-02-19 20:33:38,501 INFO synthesis text 细胞疗法在癌症治疗中展现了巨大的潜力，改变了传统治疗方法。\n",
      "2025-02-19 20:33:43,864 INFO yield speech len 8.0, rtf 0.67034712433815\n",
      "100%|██████████| 1/1 [00:05<00:00,  5.92s/it]\n"
     ]
    },
    {
     "name": "stdout",
     "output_type": "stream",
     "text": [
      "min value is  tensor(-1.0223)\n",
      "max value is  tensor(1.0314)\n"
     ]
    },
    {
     "name": "stderr",
     "output_type": "stream",
     "text": [
      "2025-02-19 20:33:44,435 INFO synthesis text 免疫治疗已经成为治疗某些癌症的新方向，效果越来越显著。\n",
      "2025-02-19 20:33:49,676 INFO yield speech len 8.0, rtf 0.6551059782505035\n",
      "100%|██████████| 1/1 [00:05<00:00,  5.80s/it]\n",
      "132it [09:09, 21.63s/it]"
     ]
    },
    {
     "name": "stdout",
     "output_type": "stream",
     "text": [
      "min value is  tensor(-1.0223)\n",
      "max value is  tensor(1.0314)\n"
     ]
    },
    {
     "name": "stderr",
     "output_type": "stream",
     "text": [
      "2025-02-19 20:33:50,273 INFO synthesis text 近年来，精准医疗的发展使得每位患者能够根据自身的基因信息接受个性化治疗。\n",
      "2025-02-19 20:33:55,986 INFO yield speech len 9.24, rtf 0.6182150923328482\n",
      "100%|██████████| 1/1 [00:06<00:00,  6.29s/it]\n"
     ]
    },
    {
     "name": "stdout",
     "output_type": "stream",
     "text": [
      "min value is  tensor(-1.0223)\n",
      "max value is  tensor(1.0314)\n"
     ]
    },
    {
     "name": "stderr",
     "output_type": "stream",
     "text": [
      "2025-02-19 20:33:56,561 INFO synthesis text 心血管疾病是全球致死率最高的疾病之一，早期筛查至关重要。\n",
      "2025-02-19 20:34:01,201 INFO yield speech len 6.88, rtf 0.6743811590726986\n",
      "100%|██████████| 1/1 [00:05<00:00,  5.20s/it]\n"
     ]
    },
    {
     "name": "stdout",
     "output_type": "stream",
     "text": [
      "min value is  tensor(-1.0223)\n",
      "max value is  tensor(1.0314)\n"
     ]
    },
    {
     "name": "stderr",
     "output_type": "stream",
     "text": [
      "2025-02-19 20:34:01,781 INFO synthesis text 新冠疫情推动了全球疫苗研发和分发，疫情防控成为全球焦点。\n",
      "2025-02-19 20:34:07,681 INFO yield speech len 9.2, rtf 0.6413364410400391\n",
      "100%|██████████| 1/1 [00:06<00:00,  6.46s/it]\n"
     ]
    },
    {
     "name": "stdout",
     "output_type": "stream",
     "text": [
      "min value is  tensor(-1.0223)\n",
      "max value is  tensor(1.0314)\n"
     ]
    },
    {
     "name": "stderr",
     "output_type": "stream",
     "text": [
      "2025-02-19 20:34:08,247 INFO synthesis text 市场营销策略的成功与否取决于对消费者行为的深入了解和分析。\n",
      "2025-02-19 20:34:13,252 INFO yield speech len 7.52, rtf 0.6655013941703959\n",
      "100%|██████████| 1/1 [00:05<00:00,  5.56s/it]\n",
      "133it [09:32, 22.22s/it]"
     ]
    },
    {
     "name": "stdout",
     "output_type": "stream",
     "text": [
      "min value is  tensor(-1.0223)\n",
      "max value is  tensor(1.0314)\n"
     ]
    },
    {
     "name": "stderr",
     "output_type": "stream",
     "text": [
      "2025-02-19 20:34:13,825 INFO synthesis text 电子商务的快速发展改变了传统零售业，在线购物成为主流。\n",
      "2025-02-19 20:34:18,545 INFO yield speech len 6.92, rtf 0.6821751594543457\n",
      "100%|██████████| 1/1 [00:05<00:00,  5.28s/it]\n"
     ]
    },
    {
     "name": "stdout",
     "output_type": "stream",
     "text": [
      "min value is  tensor(-1.0223)\n",
      "max value is  tensor(1.0314)\n"
     ]
    },
    {
     "name": "stderr",
     "output_type": "stream",
     "text": [
      "2025-02-19 20:34:19,118 INFO synthesis text 公司治理结构的完善能够提高管理效率，提升企业的核心竞争力。\n",
      "2025-02-19 20:34:24,481 INFO yield speech len 8.0, rtf 0.6703484952449799\n",
      "100%|██████████| 1/1 [00:05<00:00,  5.92s/it]\n"
     ]
    },
    {
     "name": "stdout",
     "output_type": "stream",
     "text": [
      "min value is  tensor(-1.0223)\n",
      "max value is  tensor(1.0314)\n"
     ]
    },
    {
     "name": "stderr",
     "output_type": "stream",
     "text": [
      "2025-02-19 20:34:25,057 INFO synthesis text 在全球化的背景下，跨国公司必须应对不同国家和地区的文化差异。\n",
      "2025-02-19 20:34:29,737 INFO yield speech len 7.32, rtf 0.639246884590941\n",
      "100%|██████████| 1/1 [00:05<00:00,  5.24s/it]\n"
     ]
    },
    {
     "name": "stdout",
     "output_type": "stream",
     "text": [
      "min value is  tensor(-1.0223)\n",
      "max value is  tensor(1.0314)\n"
     ]
    },
    {
     "name": "stderr",
     "output_type": "stream",
     "text": [
      "2025-02-19 20:34:30,320 INFO synthesis text 数据隐私保护已成为企业面临的重要问题，尤其是在GDPR实施后。\n",
      "2025-02-19 20:34:35,731 INFO yield speech len 8.6, rtf 0.629214464231979\n",
      "100%|██████████| 1/1 [00:05<00:00,  5.98s/it]\n",
      "134it [09:55, 22.30s/it]"
     ]
    },
    {
     "name": "stdout",
     "output_type": "stream",
     "text": [
      "min value is  tensor(-1.0223)\n",
      "max value is  tensor(1.0314)\n"
     ]
    },
    {
     "name": "stderr",
     "output_type": "stream",
     "text": [
      "2025-02-19 20:34:36,305 INFO synthesis text 共享经济的模式正在颠覆传统的商业结构，促进资源的高效利用。\n",
      "2025-02-19 20:34:41,126 INFO yield speech len 7.28, rtf 0.6622956676797552\n",
      "100%|██████████| 1/1 [00:05<00:00,  5.38s/it]\n"
     ]
    },
    {
     "name": "stdout",
     "output_type": "stream",
     "text": [
      "min value is  tensor(-1.0223)\n",
      "max value is  tensor(1.0314)\n"
     ]
    },
    {
     "name": "stderr",
     "output_type": "stream",
     "text": [
      "2025-02-19 20:34:41,702 INFO synthesis text 知识产权保护是推动创新和技术发展的重要保障，尤其在数字时代。\n",
      "2025-02-19 20:34:47,396 INFO yield speech len 8.72, rtf 0.6529068454689936\n",
      "100%|██████████| 1/1 [00:06<00:00,  6.25s/it]\n"
     ]
    },
    {
     "name": "stdout",
     "output_type": "stream",
     "text": [
      "min value is  tensor(-1.0223)\n",
      "max value is  tensor(1.0314)\n"
     ]
    },
    {
     "name": "stderr",
     "output_type": "stream",
     "text": [
      "2025-02-19 20:34:47,980 INFO synthesis text 环境法的出台有效规范了企业的环保行为，推动绿色经济的转型。\n",
      "2025-02-19 20:34:53,459 INFO yield speech len 8.08, rtf 0.6781029229116912\n",
      "100%|██████████| 1/1 [00:06<00:00,  6.05s/it]\n"
     ]
    },
    {
     "name": "stdout",
     "output_type": "stream",
     "text": [
      "min value is  tensor(-1.0223)\n",
      "max value is  tensor(1.0314)\n"
     ]
    },
    {
     "name": "stderr",
     "output_type": "stream",
     "text": [
      "2025-02-19 20:34:54,042 INFO synthesis text 国际贸易中的知识产权问题一直是多国争议的焦点，涉及到多个法律体系。\n",
      "2025-02-19 20:34:59,937 INFO yield speech len 8.8, rtf 0.6699036197228865\n",
      "100%|██████████| 1/1 [00:06<00:00,  6.46s/it]\n",
      "135it [10:19, 22.87s/it]"
     ]
    },
    {
     "name": "stdout",
     "output_type": "stream",
     "text": [
      "min value is  tensor(-1.0223)\n",
      "max value is  tensor(1.0314)\n"
     ]
    },
    {
     "name": "stderr",
     "output_type": "stream",
     "text": [
      "2025-02-19 20:35:00,524 INFO synthesis text 刑法中的“故意伤害”罪涉及复杂的法律界定，需要仔细辨析案件的事实。\n",
      "2025-02-19 20:35:05,591 INFO yield speech len 7.8, rtf 0.6495264860299917\n",
      "100%|██████████| 1/1 [00:05<00:00,  5.64s/it]\n"
     ]
    },
    {
     "name": "stdout",
     "output_type": "stream",
     "text": [
      "min value is  tensor(-1.0223)\n",
      "max value is  tensor(1.0314)\n"
     ]
    },
    {
     "name": "stderr",
     "output_type": "stream",
     "text": [
      "2025-02-19 20:35:06,183 INFO synthesis text 民法典的实施为公民的基本权利提供了更加明确的法律保障。\n",
      "2025-02-19 20:35:11,476 INFO yield speech len 7.84, rtf 0.675175141315071\n",
      "100%|██████████| 1/1 [00:05<00:00,  5.87s/it]\n"
     ]
    },
    {
     "name": "stdout",
     "output_type": "stream",
     "text": [
      "min value is  tensor(-1.0223)\n",
      "max value is  tensor(1.0314)\n"
     ]
    },
    {
     "name": "stderr",
     "output_type": "stream",
     "text": [
      "2025-02-19 20:35:12,062 INFO synthesis text 随着网络犯罪的增加，网络安全法成为各国政府关注的重点。\n",
      "2025-02-19 20:35:16,915 INFO yield speech len 7.08, rtf 0.6854202451005493\n",
      "100%|██████████| 1/1 [00:05<00:00,  5.43s/it]\n"
     ]
    },
    {
     "name": "stdout",
     "output_type": "stream",
     "text": [
      "min value is  tensor(-1.0223)\n",
      "max value is  tensor(1.0314)\n"
     ]
    },
    {
     "name": "stderr",
     "output_type": "stream",
     "text": [
      "2025-02-19 20:35:17,502 INFO synthesis text 教育公平是社会发展的重要目标，努力缩小城乡教育资源的差距。\n",
      "2025-02-19 20:35:22,935 INFO yield speech len 8.12, rtf 0.6691451436780357\n",
      "100%|██████████| 1/1 [00:06<00:00,  6.00s/it]\n",
      "136it [10:42, 22.91s/it]"
     ]
    },
    {
     "name": "stdout",
     "output_type": "stream",
     "text": [
      "min value is  tensor(-1.0223)\n",
      "max value is  tensor(1.0314)\n"
     ]
    },
    {
     "name": "stderr",
     "output_type": "stream",
     "text": [
      "2025-02-19 20:35:23,545 INFO synthesis text 在线教育的兴起为偏远地区的学生提供了更多学习机会。\n",
      "2025-02-19 20:35:30,129 INFO yield speech len 9.68, rtf 0.6801499808130186\n",
      "100%|██████████| 1/1 [00:07<00:00,  7.18s/it]\n"
     ]
    },
    {
     "name": "stdout",
     "output_type": "stream",
     "text": [
      "min value is  tensor(-1.0223)\n",
      "max value is  tensor(1.0314)\n"
     ]
    },
    {
     "name": "stderr",
     "output_type": "stream",
     "text": [
      "2025-02-19 20:35:30,742 INFO synthesis text 多元文化教育能够促进学生对不同文化的理解与包容。\n",
      "2025-02-19 20:35:35,075 INFO yield speech len 6.36, rtf 0.681180511630556\n",
      "100%|██████████| 1/1 [00:04<00:00,  4.93s/it]\n"
     ]
    },
    {
     "name": "stdout",
     "output_type": "stream",
     "text": [
      "min value is  tensor(-1.0223)\n",
      "max value is  tensor(1.0314)\n"
     ]
    },
    {
     "name": "stderr",
     "output_type": "stream",
     "text": [
      "2025-02-19 20:35:35,650 INFO synthesis text 素质教育强调学生的综合能力培养，而非单纯的学术成绩。\n",
      "2025-02-19 20:35:40,733 INFO yield speech len 7.44, rtf 0.6833072631589827\n",
      "100%|██████████| 1/1 [00:05<00:00,  5.64s/it]\n"
     ]
    },
    {
     "name": "stdout",
     "output_type": "stream",
     "text": [
      "min value is  tensor(-1.0223)\n",
      "max value is  tensor(1.0314)\n"
     ]
    },
    {
     "name": "stderr",
     "output_type": "stream",
     "text": [
      "2025-02-19 20:35:41,313 INFO synthesis text 教育信息化的推进为课堂教学和管理带来了革新，提供了更多个性化学习方案。\n",
      "2025-02-19 20:35:47,985 INFO yield speech len 10.28, rtf 0.6489506491427293\n",
      "100%|██████████| 1/1 [00:07<00:00,  7.24s/it]\n",
      "137it [11:07, 23.55s/it]"
     ]
    },
    {
     "name": "stdout",
     "output_type": "stream",
     "text": [
      "min value is  tensor(-1.0223)\n",
      "max value is  tensor(1.0314)\n"
     ]
    },
    {
     "name": "stderr",
     "output_type": "stream",
     "text": [
      "2025-02-19 20:35:48,563 INFO synthesis text 高等教育的国际化为学生提供了更多跨文化交流的机会，促进全球视野的拓展。\n",
      "2025-02-19 20:35:54,767 INFO yield speech len 9.12, rtf 0.6802069774845191\n",
      "100%|██████████| 1/1 [00:06<00:00,  6.77s/it]\n"
     ]
    },
    {
     "name": "stdout",
     "output_type": "stream",
     "text": [
      "min value is  tensor(-1.0223)\n",
      "max value is  tensor(1.0314)\n"
     ]
    },
    {
     "name": "stderr",
     "output_type": "stream",
     "text": [
      "2025-02-19 20:35:55,349 INFO synthesis text 未来的智能城市将利用物联网技术实现高效的资源管理和优化。\n",
      "2025-02-19 20:36:00,689 INFO yield speech len 8.28, rtf 0.6449332559742214\n",
      "100%|██████████| 1/1 [00:05<00:00,  5.90s/it]\n"
     ]
    },
    {
     "name": "stdout",
     "output_type": "stream",
     "text": [
      "min value is  tensor(-1.0223)\n",
      "max value is  tensor(1.0314)\n"
     ]
    },
    {
     "name": "stderr",
     "output_type": "stream",
     "text": [
      "2025-02-19 20:36:01,266 INFO synthesis text 大数据技术能够帮助企业从庞大的信息中提炼出关键的商业洞察。\n",
      "2025-02-19 20:36:06,007 INFO yield speech len 6.92, rtf 0.6852009392887182\n",
      "100%|██████████| 1/1 [00:05<00:00,  5.31s/it]\n"
     ]
    },
    {
     "name": "stdout",
     "output_type": "stream",
     "text": [
      "min value is  tensor(-1.0223)\n",
      "max value is  tensor(1.0314)\n"
     ]
    },
    {
     "name": "stderr",
     "output_type": "stream",
     "text": [
      "2025-02-19 20:36:06,610 INFO synthesis text 现代计算机的图形处理单元已经能够高效支持深度学习和AI应用。\n",
      "2025-02-19 20:36:11,390 INFO yield speech len 7.16, rtf 0.6676404502804719\n",
      "100%|██████████| 1/1 [00:05<00:00,  5.36s/it]\n",
      "138it [11:30, 23.51s/it]"
     ]
    },
    {
     "name": "stdout",
     "output_type": "stream",
     "text": [
      "min value is  tensor(-1.0223)\n",
      "max value is  tensor(1.0314)\n"
     ]
    },
    {
     "name": "stderr",
     "output_type": "stream",
     "text": [
      "2025-02-19 20:36:11,981 INFO synthesis text 绿色能源技术的发展，有助于减少温室气体排放，推动可持续发展。\n",
      "2025-02-19 20:36:17,936 INFO yield speech len 9.16, rtf 0.6500796199365474\n",
      "100%|██████████| 1/1 [00:06<00:00,  6.52s/it]\n"
     ]
    },
    {
     "name": "stdout",
     "output_type": "stream",
     "text": [
      "min value is  tensor(-1.0223)\n",
      "max value is  tensor(1.0314)\n"
     ]
    },
    {
     "name": "stderr",
     "output_type": "stream",
     "text": [
      "2025-02-19 20:36:18,509 INFO synthesis text 自驾驶汽车依靠传感器、AI算法以及高速网络实现道路安全的自动化。\n",
      "2025-02-19 20:36:25,380 INFO yield speech len 11.0, rtf 0.6246159943667325\n",
      "100%|██████████| 1/1 [00:07<00:00,  7.43s/it]\n"
     ]
    },
    {
     "name": "stdout",
     "output_type": "stream",
     "text": [
      "min value is  tensor(-1.0223)\n",
      "max value is  tensor(1.0314)\n"
     ]
    },
    {
     "name": "stderr",
     "output_type": "stream",
     "text": [
      "2025-02-19 20:36:25,947 INFO synthesis text 量子计算的突破有望带来无可比拟的计算能力，解决目前无法完成的任务。\n",
      "2025-02-19 20:36:30,455 INFO yield speech len 6.84, rtf 0.6590535069069667\n",
      "100%|██████████| 1/1 [00:05<00:00,  5.06s/it]\n"
     ]
    },
    {
     "name": "stdout",
     "output_type": "stream",
     "text": [
      "min value is  tensor(-1.0223)\n",
      "max value is  tensor(1.0314)\n"
     ]
    },
    {
     "name": "stderr",
     "output_type": "stream",
     "text": [
      "2025-02-19 20:36:31,020 INFO synthesis text 癌症免疫疗法通过激活人体的免疫系统，攻击并摧毁癌细胞。\n",
      "2025-02-19 20:36:35,097 INFO yield speech len 6.0, rtf 0.6794113318125407\n",
      "100%|██████████| 1/1 [00:04<00:00,  4.63s/it]\n",
      "139it [11:54, 23.57s/it]"
     ]
    },
    {
     "name": "stdout",
     "output_type": "stream",
     "text": [
      "min value is  tensor(-1.0223)\n",
      "max value is  tensor(1.0314)\n"
     ]
    },
    {
     "name": "stderr",
     "output_type": "stream",
     "text": [
      "2025-02-19 20:36:35,673 INFO synthesis text 基因组学研究为我们提供了更多理解人体遗传特征的视角。\n",
      "2025-02-19 20:36:39,910 INFO yield speech len 6.0, rtf 0.7062523365020752\n",
      "100%|██████████| 1/1 [00:04<00:00,  4.80s/it]\n"
     ]
    },
    {
     "name": "stdout",
     "output_type": "stream",
     "text": [
      "min value is  tensor(-1.0223)\n",
      "max value is  tensor(1.0314)\n"
     ]
    },
    {
     "name": "stderr",
     "output_type": "stream",
     "text": [
      "2025-02-19 20:36:40,484 INFO synthesis text 疫苗接种是预防传染病传播和控制公共卫生危机的重要手段。\n",
      "2025-02-19 20:36:46,004 INFO yield speech len 8.52, rtf 0.6478638156478954\n",
      "100%|██████████| 1/1 [00:06<00:00,  6.08s/it]\n"
     ]
    },
    {
     "name": "stdout",
     "output_type": "stream",
     "text": [
      "min value is  tensor(-1.0223)\n",
      "max value is  tensor(1.0314)\n"
     ]
    },
    {
     "name": "stderr",
     "output_type": "stream",
     "text": [
      "2025-02-19 20:36:46,580 INFO synthesis text 精准医疗的核心在于根据个体的基因、环境与生活方式量身定制治疗方案。\n",
      "2025-02-19 20:36:51,595 INFO yield speech len 7.48, rtf 0.6705013507190235\n",
      "100%|██████████| 1/1 [00:05<00:00,  5.57s/it]\n"
     ]
    },
    {
     "name": "stdout",
     "output_type": "stream",
     "text": [
      "min value is  tensor(-1.0223)\n",
      "max value is  tensor(1.0314)\n"
     ]
    },
    {
     "name": "stderr",
     "output_type": "stream",
     "text": [
      "2025-02-19 20:36:52,165 INFO synthesis text 临床试验阶段的药物测试非常严格，以确保疗效和安全性。\n",
      "2025-02-19 20:36:56,026 INFO yield speech len 5.56, rtf 0.6944102777851572\n",
      "100%|██████████| 1/1 [00:04<00:00,  4.42s/it]\n",
      "140it [12:15, 22.78s/it]"
     ]
    },
    {
     "name": "stdout",
     "output_type": "stream",
     "text": [
      "min value is  tensor(-1.0223)\n",
      "max value is  tensor(1.0314)\n"
     ]
    },
    {
     "name": "stderr",
     "output_type": "stream",
     "text": [
      "2025-02-19 20:36:56,597 INFO synthesis text 心脏病患者需要通过饮食、运动和药物来管理病情，保持心血管健康。\n",
      "2025-02-19 20:37:01,809 INFO yield speech len 7.52, rtf 0.69308100228614\n",
      "100%|██████████| 1/1 [00:05<00:00,  5.77s/it]\n"
     ]
    },
    {
     "name": "stdout",
     "output_type": "stream",
     "text": [
      "min value is  tensor(-1.0223)\n",
      "max value is  tensor(1.0314)\n"
     ]
    },
    {
     "name": "stderr",
     "output_type": "stream",
     "text": [
      "2025-02-19 20:37:02,386 INFO synthesis text 跨境电商让全球消费者可以直接购买到外国商品，促进国际贸易。\n",
      "2025-02-19 20:37:06,616 INFO yield speech len 6.24, rtf 0.6780478816766005\n",
      "100%|██████████| 1/1 [00:04<00:00,  4.79s/it]\n"
     ]
    },
    {
     "name": "stdout",
     "output_type": "stream",
     "text": [
      "min value is  tensor(-1.0223)\n",
      "max value is  tensor(1.0314)\n"
     ]
    },
    {
     "name": "stderr",
     "output_type": "stream",
     "text": [
      "2025-02-19 20:37:07,202 INFO synthesis text 创新型企业通过技术变革和业务模式创新，推动行业的飞速发展。\n",
      "2025-02-19 20:37:12,290 INFO yield speech len 7.64, rtf 0.6660747590489413\n",
      "100%|██████████| 1/1 [00:05<00:00,  5.66s/it]\n"
     ]
    },
    {
     "name": "stdout",
     "output_type": "stream",
     "text": [
      "min value is  tensor(-1.0223)\n",
      "max value is  tensor(1.0314)\n"
     ]
    },
    {
     "name": "stderr",
     "output_type": "stream",
     "text": [
      "2025-02-19 20:37:12,881 INFO synthesis text 股市的波动受到多种因素影响，包括国际政治、经济数据和投资者心理。\n",
      "2025-02-19 20:37:18,489 INFO yield speech len 8.4, rtf 0.6676428658621651\n",
      "100%|██████████| 1/1 [00:06<00:00,  6.18s/it]\n",
      "141it [12:37, 22.68s/it]"
     ]
    },
    {
     "name": "stdout",
     "output_type": "stream",
     "text": [
      "min value is  tensor(-1.0223)\n",
      "max value is  tensor(1.0314)\n"
     ]
    },
    {
     "name": "stderr",
     "output_type": "stream",
     "text": [
      "2025-02-19 20:37:19,076 INFO synthesis text 确保数据隐私和保护消费者信息是企业建立信任的关键。\n",
      "2025-02-19 20:37:24,413 INFO yield speech len 7.92, rtf 0.67387211202371\n",
      "100%|██████████| 1/1 [00:05<00:00,  5.91s/it]\n"
     ]
    },
    {
     "name": "stdout",
     "output_type": "stream",
     "text": [
      "min value is  tensor(-1.0223)\n",
      "max value is  tensor(1.0314)\n"
     ]
    },
    {
     "name": "stderr",
     "output_type": "stream",
     "text": [
      "2025-02-19 20:37:24,999 INFO synthesis text 金融科技的发展使得传统银行业务发生了显著变化，提供更多在线服务。\n",
      "2025-02-19 20:37:29,863 INFO yield speech len 7.48, rtf 0.650210877790808\n",
      "100%|██████████| 1/1 [00:05<00:00,  5.44s/it]\n"
     ]
    },
    {
     "name": "stdout",
     "output_type": "stream",
     "text": [
      "min value is  tensor(-1.0223)\n",
      "max value is  tensor(1.0314)\n"
     ]
    },
    {
     "name": "stderr",
     "output_type": "stream",
     "text": [
      "2025-02-19 20:37:30,447 INFO synthesis text 企业文化的塑造不仅有助于员工的凝聚力，也促进了企业的长期发展。\n",
      "2025-02-19 20:37:35,085 INFO yield speech len 6.92, rtf 0.6703159368107084\n",
      "100%|██████████| 1/1 [00:05<00:00,  5.21s/it]\n"
     ]
    },
    {
     "name": "stdout",
     "output_type": "stream",
     "text": [
      "min value is  tensor(-1.0223)\n",
      "max value is  tensor(1.0314)\n"
     ]
    },
    {
     "name": "stderr",
     "output_type": "stream",
     "text": [
      "2025-02-19 20:37:35,656 INFO synthesis text 知识产权保护不仅有助于保护创作者的权益，也促进了创新和技术进步。\n",
      "2025-02-19 20:37:40,661 INFO yield speech len 7.08, rtf 0.7069995511049605\n",
      "100%|██████████| 1/1 [00:05<00:00,  5.56s/it]\n",
      "142it [13:00, 22.53s/it]"
     ]
    },
    {
     "name": "stdout",
     "output_type": "stream",
     "text": [
      "min value is  tensor(-1.0223)\n",
      "max value is  tensor(1.0314)\n"
     ]
    },
    {
     "name": "stderr",
     "output_type": "stream",
     "text": [
      "2025-02-19 20:37:41,243 INFO synthesis text 法律的公平性和透明度直接影响社会的稳定和公民的信任。\n",
      "2025-02-19 20:37:46,066 INFO yield speech len 7.48, rtf 0.6447052573137741\n",
      "100%|██████████| 1/1 [00:05<00:00,  5.39s/it]\n"
     ]
    },
    {
     "name": "stdout",
     "output_type": "stream",
     "text": [
      "min value is  tensor(-1.0223)\n",
      "max value is  tensor(1.0314)\n"
     ]
    },
    {
     "name": "stderr",
     "output_type": "stream",
     "text": [
      "2025-02-19 20:37:46,657 INFO synthesis text 在全球化背景下，国际法律合作成为解决跨国争端的有效手段。\n",
      "2025-02-19 20:37:51,891 INFO yield speech len 8.0, rtf 0.6542479693889618\n",
      "100%|██████████| 1/1 [00:05<00:00,  5.81s/it]\n"
     ]
    },
    {
     "name": "stdout",
     "output_type": "stream",
     "text": [
      "min value is  tensor(-1.0223)\n",
      "max value is  tensor(1.0314)\n"
     ]
    },
    {
     "name": "stderr",
     "output_type": "stream",
     "text": [
      "2025-02-19 20:37:52,467 INFO synthesis text 民法典中关于隐私权的规定，对现代社会个人信息保护起到了保障作用。\n",
      "2025-02-19 20:37:57,229 INFO yield speech len 7.08, rtf 0.6726443430798202\n",
      "100%|██████████| 1/1 [00:05<00:00,  5.32s/it]\n"
     ]
    },
    {
     "name": "stdout",
     "output_type": "stream",
     "text": [
      "min value is  tensor(-1.0223)\n",
      "max value is  tensor(1.0314)\n"
     ]
    },
    {
     "name": "stderr",
     "output_type": "stream",
     "text": [
      "2025-02-19 20:37:57,808 INFO synthesis text 环境保护法的实施要求企业遵守环保标准，以减少污染。\n",
      "2025-02-19 20:38:02,266 INFO yield speech len 6.64, rtf 0.6713522845003979\n",
      "100%|██████████| 1/1 [00:05<00:00,  5.02s/it]\n",
      "143it [13:21, 22.25s/it]"
     ]
    },
    {
     "name": "stdout",
     "output_type": "stream",
     "text": [
      "min value is  tensor(-1.0223)\n",
      "max value is  tensor(1.0314)\n"
     ]
    },
    {
     "name": "stderr",
     "output_type": "stream",
     "text": [
      "2025-02-19 20:38:02,858 INFO synthesis text 网络安全法的出台有效保障了互联网空间的秩序与数据安全。\n",
      "2025-02-19 20:38:07,803 INFO yield speech len 7.64, rtf 0.6472713972261439\n",
      "100%|██████████| 1/1 [00:05<00:00,  5.52s/it]\n"
     ]
    },
    {
     "name": "stdout",
     "output_type": "stream",
     "text": [
      "min value is  tensor(-1.0223)\n",
      "max value is  tensor(1.0314)\n"
     ]
    },
    {
     "name": "stderr",
     "output_type": "stream",
     "text": [
      "2025-02-19 20:38:08,400 INFO synthesis text 多元智能理论认为，除了传统的语言和数学智力外，还有音乐、空间等智能。\n",
      "2025-02-19 20:38:15,824 INFO yield speech len 10.72, rtf 0.6925491032315724\n",
      "100%|██████████| 1/1 [00:08<00:00,  8.00s/it]\n"
     ]
    },
    {
     "name": "stdout",
     "output_type": "stream",
     "text": [
      "min value is  tensor(-1.0223)\n",
      "max value is  tensor(1.0314)\n"
     ]
    },
    {
     "name": "stderr",
     "output_type": "stream",
     "text": [
      "2025-02-19 20:38:16,418 INFO synthesis text 学生的情绪管理能力直接影响其学习效果和人际关系的建立。\n",
      "2025-02-19 20:38:21,658 INFO yield speech len 7.84, rtf 0.6683489193721693\n",
      "100%|██████████| 1/1 [00:05<00:00,  5.82s/it]\n"
     ]
    },
    {
     "name": "stdout",
     "output_type": "stream",
     "text": [
      "min value is  tensor(-1.0223)\n",
      "max value is  tensor(1.0314)\n"
     ]
    },
    {
     "name": "stderr",
     "output_type": "stream",
     "text": [
      "2025-02-19 20:38:22,247 INFO synthesis text 在全球化时代，跨文化交流已成为培养学生全球视野的重要途径。\n",
      "2025-02-19 20:38:27,467 INFO yield speech len 8.12, rtf 0.6428781988585525\n",
      "100%|██████████| 1/1 [00:05<00:00,  5.79s/it]\n",
      "144it [13:46, 23.14s/it]"
     ]
    },
    {
     "name": "stdout",
     "output_type": "stream",
     "text": [
      "min value is  tensor(-1.0223)\n",
      "max value is  tensor(1.0314)\n"
     ]
    },
    {
     "name": "stderr",
     "output_type": "stream",
     "text": [
      "2025-02-19 20:38:28,069 INFO synthesis text 现代教育技术为课堂教学带来了更多互动和个性化学习的机会。\n",
      "2025-02-19 20:38:32,041 INFO yield speech len 5.72, rtf 0.6942586465315386\n",
      "100%|██████████| 1/1 [00:04<00:00,  4.56s/it]\n"
     ]
    },
    {
     "name": "stdout",
     "output_type": "stream",
     "text": [
      "min value is  tensor(-1.0223)\n",
      "max value is  tensor(1.0314)\n"
     ]
    },
    {
     "name": "stderr",
     "output_type": "stream",
     "text": [
      "2025-02-19 20:38:32,632 INFO synthesis text 心理健康教育的重要性日益凸显，学校应提供更多的支持和资源。\n",
      "2025-02-19 20:38:37,732 INFO yield speech len 7.52, rtf 0.6782063144318601\n",
      "100%|██████████| 1/1 [00:05<00:00,  5.67s/it]\n"
     ]
    },
    {
     "name": "stdout",
     "output_type": "stream",
     "text": [
      "min value is  tensor(-1.0223)\n",
      "max value is  tensor(1.0314)\n"
     ]
    },
    {
     "name": "stderr",
     "output_type": "stream",
     "text": [
      "2025-02-19 20:38:38,317 INFO synthesis text 终身学习理念鼓励个人不断通过学习提升自身能力，应对快速变化的社会需求。\n",
      "2025-02-19 20:38:45,455 INFO yield speech len 10.8, rtf 0.6609299227043434\n",
      "100%|██████████| 1/1 [00:07<00:00,  7.71s/it]\n"
     ]
    },
    {
     "name": "stdout",
     "output_type": "stream",
     "text": [
      "min value is  tensor(-1.0223)\n",
      "max value is  tensor(1.0314)\n"
     ]
    },
    {
     "name": "stderr",
     "output_type": "stream",
     "text": [
      "2025-02-19 20:38:46,028 INFO synthesis text 这个项目的成功，离不开团队的齐心协力和共同努力，大家真是众志成城。\n",
      "2025-02-19 20:38:52,513 INFO yield speech len 10.36, rtf 0.6259654479597526\n",
      "100%|██████████| 1/1 [00:07<00:00,  7.04s/it]\n",
      "145it [14:11, 23.71s/it]"
     ]
    },
    {
     "name": "stdout",
     "output_type": "stream",
     "text": [
      "min value is  tensor(-1.0223)\n",
      "max value is  tensor(1.0314)\n"
     ]
    },
    {
     "name": "stderr",
     "output_type": "stream",
     "text": [
      "2025-02-19 20:38:53,084 INFO synthesis text 他在比赛中的表现简直是出类拔萃，完全超出了我们的预期。\n",
      "2025-02-19 20:38:57,309 INFO yield speech len 6.16, rtf 0.6859119836386148\n",
      "100%|██████████| 1/1 [00:04<00:00,  4.78s/it]\n"
     ]
    },
    {
     "name": "stdout",
     "output_type": "stream",
     "text": [
      "min value is  tensor(-1.0223)\n",
      "max value is  tensor(1.0314)\n"
     ]
    },
    {
     "name": "stderr",
     "output_type": "stream",
     "text": [
      "2025-02-19 20:38:57,879 INFO synthesis text 虽然他刚开始时一无所有，但凭借着坚持不懈的努力，最终他迎来了柳暗花明。\n",
      "2025-02-19 20:39:02,971 INFO yield speech len 7.96, rtf 0.6395847653623802\n",
      "100%|██████████| 1/1 [00:05<00:00,  5.65s/it]\n"
     ]
    },
    {
     "name": "stdout",
     "output_type": "stream",
     "text": [
      "min value is  tensor(-1.0223)\n",
      "max value is  tensor(1.0314)\n"
     ]
    },
    {
     "name": "stderr",
     "output_type": "stream",
     "text": [
      "2025-02-19 20:39:03,542 INFO synthesis text 经过多年的研究，科学家终于揭开了这个古老谜题的面纱，真是豁然开朗。\n",
      "2025-02-19 20:39:08,740 INFO yield speech len 7.88, rtf 0.659614650126036\n",
      "100%|██████████| 1/1 [00:05<00:00,  5.75s/it]\n"
     ]
    },
    {
     "name": "stdout",
     "output_type": "stream",
     "text": [
      "min value is  tensor(-1.0223)\n",
      "max value is  tensor(1.0314)\n"
     ]
    },
    {
     "name": "stderr",
     "output_type": "stream",
     "text": [
      "2025-02-19 20:39:09,315 INFO synthesis text 我们的公司正在进行全面改革，力求变革中的脱颖而出，迎接新的挑战。\n",
      "2025-02-19 20:39:14,393 INFO yield speech len 7.72, rtf 0.6577882124352332\n",
      "100%|██████████| 1/1 [00:05<00:00,  5.64s/it]\n",
      "146it [14:33, 23.16s/it]"
     ]
    },
    {
     "name": "stdout",
     "output_type": "stream",
     "text": [
      "min value is  tensor(-1.0223)\n",
      "max value is  tensor(1.0314)\n"
     ]
    },
    {
     "name": "stderr",
     "output_type": "stream",
     "text": [
      "2025-02-19 20:39:14,968 INFO synthesis text 他在比赛中一马当先，早早就占据了领先地位，最终稳操胜券。\n",
      "2025-02-19 20:39:19,629 INFO yield speech len 6.72, rtf 0.693522748493013\n",
      "100%|██████████| 1/1 [00:05<00:00,  5.22s/it]\n"
     ]
    },
    {
     "name": "stdout",
     "output_type": "stream",
     "text": [
      "min value is  tensor(-1.0223)\n",
      "max value is  tensor(1.0314)\n"
     ]
    },
    {
     "name": "stderr",
     "output_type": "stream",
     "text": [
      "2025-02-19 20:39:20,204 INFO synthesis text 她的演讲十分精彩，语重心长，听后令人感慨万千，仿佛豁然开朗。\n",
      "2025-02-19 20:39:26,450 INFO yield speech len 9.32, rtf 0.6701972095751455\n",
      "100%|██████████| 1/1 [00:06<00:00,  6.81s/it]\n"
     ]
    },
    {
     "name": "stdout",
     "output_type": "stream",
     "text": [
      "min value is  tensor(-1.0223)\n",
      "max value is  tensor(1.0314)\n"
     ]
    },
    {
     "name": "stderr",
     "output_type": "stream",
     "text": [
      "2025-02-19 20:39:27,037 INFO synthesis text 这个项目的成功，是大家不畏艰难、克服重重困难的结果，真是披荆斩棘。\n",
      "2025-02-19 20:39:33,162 INFO yield speech len 9.44, rtf 0.6488268153142122\n",
      "100%|██████████| 1/1 [00:06<00:00,  6.70s/it]\n"
     ]
    },
    {
     "name": "stdout",
     "output_type": "stream",
     "text": [
      "min value is  tensor(-1.0223)\n",
      "max value is  tensor(1.0314)\n"
     ]
    },
    {
     "name": "stderr",
     "output_type": "stream",
     "text": [
      "2025-02-19 20:39:33,735 INFO synthesis text 他的提议被大多数人接受，这真是众望所归，大家纷纷表示赞同。\n",
      "2025-02-19 20:39:38,705 INFO yield speech len 7.52, rtf 0.66082423671763\n",
      "100%|██████████| 1/1 [00:05<00:00,  5.53s/it]\n",
      "147it [14:58, 23.51s/it]"
     ]
    },
    {
     "name": "stdout",
     "output_type": "stream",
     "text": [
      "min value is  tensor(-1.0223)\n",
      "max value is  tensor(1.0314)\n"
     ]
    },
    {
     "name": "stderr",
     "output_type": "stream",
     "text": [
      "2025-02-19 20:39:39,273 INFO synthesis text 尽管面临重重压力，他依旧不慌不忙，稳扎稳打，最终成功解决了问题。\n",
      "2025-02-19 20:39:45,020 INFO yield speech len 8.88, rtf 0.6471844943794044\n",
      "100%|██████████| 1/1 [00:06<00:00,  6.30s/it]\n"
     ]
    },
    {
     "name": "stdout",
     "output_type": "stream",
     "text": [
      "min value is  tensor(-1.0223)\n",
      "max value is  tensor(1.0314)\n"
     ]
    },
    {
     "name": "stderr",
     "output_type": "stream",
     "text": [
      "2025-02-19 20:39:45,596 INFO synthesis text 经过几个月的努力，终于见到了曙光，一切困境都迎刃而解。\n",
      "2025-02-19 20:39:49,753 INFO yield speech len 6.36, rtf 0.6536591727778597\n",
      "100%|██████████| 1/1 [00:04<00:00,  4.72s/it]\n"
     ]
    },
    {
     "name": "stdout",
     "output_type": "stream",
     "text": [
      "min value is  tensor(-1.0223)\n",
      "max value is  tensor(1.0314)\n"
     ]
    },
    {
     "name": "stderr",
     "output_type": "stream",
     "text": [
      "2025-02-19 20:39:50,330 INFO synthesis text 我们公司正在制定新的战略目标，力求乘风破浪，开创未来。\n",
      "2025-02-19 20:39:54,131 INFO yield speech len 5.72, rtf 0.6644309400678515\n",
      "100%|██████████| 1/1 [00:04<00:00,  4.36s/it]\n"
     ]
    },
    {
     "name": "stdout",
     "output_type": "stream",
     "text": [
      "min value is  tensor(-1.0223)\n",
      "max value is  tensor(1.0314)\n"
     ]
    },
    {
     "name": "stderr",
     "output_type": "stream",
     "text": [
      "2025-02-19 20:39:54,710 INFO synthesis text 他在学术领域的成就无可匹敌，可以说是登峰造极，达到了一种新的高度。\n",
      "2025-02-19 20:39:59,890 INFO yield speech len 7.76, rtf 0.6675527267849323\n",
      "100%|██████████| 1/1 [00:05<00:00,  5.74s/it]\n",
      "148it [15:19, 22.81s/it]"
     ]
    },
    {
     "name": "stdout",
     "output_type": "stream",
     "text": [
      "min value is  tensor(-1.0223)\n",
      "max value is  tensor(1.0314)\n"
     ]
    },
    {
     "name": "stderr",
     "output_type": "stream",
     "text": [
      "2025-02-19 20:40:00,465 INFO synthesis text 今天的天气格外晴朗，阳光明媚，真是春暖花开，令人心情愉快。\n",
      "2025-02-19 20:40:06,016 INFO yield speech len 8.48, rtf 0.6545538047574601\n",
      "100%|██████████| 1/1 [00:06<00:00,  6.11s/it]\n"
     ]
    },
    {
     "name": "stdout",
     "output_type": "stream",
     "text": [
      "min value is  tensor(-1.0223)\n",
      "max value is  tensor(1.0314)\n"
     ]
    },
    {
     "name": "stderr",
     "output_type": "stream",
     "text": [
      "2025-02-19 20:40:06,597 INFO synthesis text 经历了多次失败后，他依然没有灰心丧气，而是重新振作，勇敢地东山再起。\n",
      "2025-02-19 20:40:12,536 INFO yield speech len 8.64, rtf 0.6874481836954752\n",
      "100%|██████████| 1/1 [00:06<00:00,  6.50s/it]\n"
     ]
    },
    {
     "name": "stdout",
     "output_type": "stream",
     "text": [
      "min value is  tensor(-1.0223)\n",
      "max value is  tensor(1.0314)\n"
     ]
    },
    {
     "name": "stderr",
     "output_type": "stream",
     "text": [
      "2025-02-19 20:40:13,111 INFO synthesis text 她的才华得到了大家的认可，真是才高八斗，令人佩服。\n",
      "2025-02-19 20:40:16,574 INFO yield speech len 5.08, rtf 0.6815654086315726\n",
      "100%|██████████| 1/1 [00:04<00:00,  4.02s/it]\n"
     ]
    },
    {
     "name": "stdout",
     "output_type": "stream",
     "text": [
      "min value is  tensor(-1.0223)\n",
      "max value is  tensor(1.0314)\n"
     ]
    },
    {
     "name": "stderr",
     "output_type": "stream",
     "text": [
      "2025-02-19 20:40:17,146 INFO synthesis text 在长时间的辛勤工作后，他终于迎来了事业的高峰，成就了不世之功。\n",
      "2025-02-19 20:40:22,612 INFO yield speech len 8.32, rtf 0.657052775988212\n",
      "100%|██████████| 1/1 [00:06<00:00,  6.02s/it]\n",
      "149it [15:42, 22.78s/it]"
     ]
    },
    {
     "name": "stdout",
     "output_type": "stream",
     "text": [
      "min value is  tensor(-1.0223)\n",
      "max value is  tensor(1.0314)\n"
     ]
    },
    {
     "name": "stderr",
     "output_type": "stream",
     "text": [
      "2025-02-19 20:40:23,203 INFO synthesis text 经过激烈的市场竞争，他终于抓住了机会，达到了势如破竹的成功。\n",
      "2025-02-19 20:40:29,012 INFO yield speech len 8.8, rtf 0.6601084091446616\n",
      "100%|██████████| 1/1 [00:06<00:00,  6.38s/it]\n"
     ]
    },
    {
     "name": "stdout",
     "output_type": "stream",
     "text": [
      "min value is  tensor(-1.0223)\n",
      "max value is  tensor(1.0314)\n"
     ]
    },
    {
     "name": "stderr",
     "output_type": "stream",
     "text": [
      "2025-02-19 20:40:29,592 INFO synthesis text 这项技术的创新突破，彻底改变了传统的工作方式，堪称耳目一新。\n",
      "2025-02-19 20:40:35,317 INFO yield speech len 9.08, rtf 0.6304850924907802\n",
      "100%|██████████| 1/1 [00:06<00:00,  6.29s/it]\n"
     ]
    },
    {
     "name": "stdout",
     "output_type": "stream",
     "text": [
      "min value is  tensor(-1.0223)\n",
      "max value is  tensor(1.0314)\n"
     ]
    },
    {
     "name": "stderr",
     "output_type": "stream",
     "text": [
      "2025-02-19 20:40:35,896 INFO synthesis text 尽管面对很多压力和质疑，他依然保持冷静，迎难而上，展现了临危不惧的精神。\n",
      "2025-02-19 20:40:41,293 INFO yield speech len 8.32, rtf 0.6487187571250476\n",
      "100%|██████████| 1/1 [00:05<00:00,  5.96s/it]\n"
     ]
    },
    {
     "name": "stdout",
     "output_type": "stream",
     "text": [
      "min value is  tensor(-1.0223)\n",
      "max value is  tensor(1.0314)\n"
     ]
    },
    {
     "name": "stderr",
     "output_type": "stream",
     "text": [
      "2025-02-19 20:40:41,871 INFO synthesis text 这次考察令我深刻认识到，市场的潜力远超预期，真是别开生面。\n",
      "2025-02-19 20:40:46,963 INFO yield speech len 7.84, rtf 0.6495430761454056\n",
      "100%|██████████| 1/1 [00:05<00:00,  5.65s/it]\n",
      "150it [16:06, 23.25s/it]"
     ]
    },
    {
     "name": "stdout",
     "output_type": "stream",
     "text": [
      "min value is  tensor(-1.0223)\n",
      "max value is  tensor(1.0314)\n"
     ]
    },
    {
     "name": "stderr",
     "output_type": "stream",
     "text": [
      "2025-02-19 20:40:47,534 INFO synthesis text 不管遇到什么样的困难，她总是能保持积极乐观，真是百折不挠。\n",
      "2025-02-19 20:40:52,034 INFO yield speech len 6.68, rtf 0.6736677563832906\n",
      "100%|██████████| 1/1 [00:05<00:00,  5.06s/it]\n"
     ]
    },
    {
     "name": "stdout",
     "output_type": "stream",
     "text": [
      "min value is  tensor(-1.0223)\n",
      "max value is  tensor(1.0314)\n"
     ]
    },
    {
     "name": "stderr",
     "output_type": "stream",
     "text": [
      "2025-02-19 20:40:52,608 INFO synthesis text 在这次会议中，各方的意见得到了充分的讨论，最终达成了共识，水落石出。\n",
      "2025-02-19 20:40:59,110 INFO yield speech len 10.52, rtf 0.6181451757597833\n",
      "100%|██████████| 1/1 [00:07<00:00,  7.06s/it]\n"
     ]
    },
    {
     "name": "stdout",
     "output_type": "stream",
     "text": [
      "min value is  tensor(-1.0223)\n",
      "max value is  tensor(1.0314)\n"
     ]
    },
    {
     "name": "stderr",
     "output_type": "stream",
     "text": [
      "2025-02-19 20:40:59,690 INFO synthesis text 他的人生经历了很多波折，但最终他凭借智慧和勇气，一路走来，成功逆袭。\n",
      "2025-02-19 20:41:05,150 INFO yield speech len 8.32, rtf 0.6562613523923434\n",
      "100%|██████████| 1/1 [00:06<00:00,  6.02s/it]\n"
     ]
    },
    {
     "name": "stdout",
     "output_type": "stream",
     "text": [
      "min value is  tensor(-1.0223)\n",
      "max value is  tensor(1.0314)\n"
     ]
    },
    {
     "name": "stderr",
     "output_type": "stream",
     "text": [
      "2025-02-19 20:41:05,726 INFO synthesis text 通过多次实验验证，我们最终得出结论，真是证实了不言而喻的真理。\n",
      "2025-02-19 20:41:10,784 INFO yield speech len 7.52, rtf 0.6725957736055902\n",
      "100%|██████████| 1/1 [00:05<00:00,  5.62s/it]\n",
      "151it [16:30, 23.42s/it]"
     ]
    },
    {
     "name": "stdout",
     "output_type": "stream",
     "text": [
      "min value is  tensor(-1.0223)\n",
      "max value is  tensor(1.0314)\n"
     ]
    },
    {
     "name": "stderr",
     "output_type": "stream",
     "text": [
      "2025-02-19 20:41:11,360 INFO synthesis text 她在工作中精益求精，始终保持一丝不苟的态度，事事做到尽善尽美。\n",
      "2025-02-19 20:41:16,318 INFO yield speech len 7.96, rtf 0.6228599117029852\n",
      "100%|██████████| 1/1 [00:05<00:00,  5.52s/it]\n"
     ]
    },
    {
     "name": "stdout",
     "output_type": "stream",
     "text": [
      "min value is  tensor(-1.0223)\n",
      "max value is  tensor(1.0314)\n"
     ]
    },
    {
     "name": "stderr",
     "output_type": "stream",
     "text": [
      "2025-02-19 20:41:16,889 INFO synthesis text 每一次失败他都能从中吸取教训，真正做到了化险为夷。\n",
      "2025-02-19 20:41:20,812 INFO yield speech len 5.68, rtf 0.6905214467518767\n",
      "100%|██████████| 1/1 [00:04<00:00,  4.48s/it]\n"
     ]
    },
    {
     "name": "stdout",
     "output_type": "stream",
     "text": [
      "min value is  tensor(-1.0223)\n",
      "max value is  tensor(1.0314)\n"
     ]
    },
    {
     "name": "stderr",
     "output_type": "stream",
     "text": [
      "2025-02-19 20:41:21,380 INFO synthesis text 通过团队的协作，项目终于突破重围，取得了显著进展，成功可期。\n",
      "2025-02-19 20:41:26,970 INFO yield speech len 8.52, rtf 0.6560113228542704\n",
      "100%|██████████| 1/1 [00:06<00:00,  6.14s/it]\n"
     ]
    },
    {
     "name": "stdout",
     "output_type": "stream",
     "text": [
      "min value is  tensor(-1.0223)\n",
      "max value is  tensor(1.0314)\n"
     ]
    },
    {
     "name": "stderr",
     "output_type": "stream",
     "text": [
      "2025-02-19 20:41:27,541 INFO synthesis text 他不仅才华横溢，而且待人真诚，常常乐于助人，真是人见人爱。\n",
      "2025-02-19 20:41:33,026 INFO yield speech len 7.88, rtf 0.6960089436642409\n",
      "100%|██████████| 1/1 [00:06<00:00,  6.04s/it]\n",
      "152it [16:52, 23.07s/it]"
     ]
    },
    {
     "name": "stdout",
     "output_type": "stream",
     "text": [
      "min value is  tensor(-1.0223)\n",
      "max value is  tensor(1.0314)\n"
     ]
    },
    {
     "name": "stderr",
     "output_type": "stream",
     "text": [
      "2025-02-19 20:41:33,602 INFO synthesis text 经过一段时间的努力，市场终于回暖，前景可期，形势大好。\n",
      "2025-02-19 20:41:38,137 INFO yield speech len 7.0, rtf 0.6478512627737862\n",
      "100%|██████████| 1/1 [00:05<00:00,  5.09s/it]\n"
     ]
    },
    {
     "name": "stdout",
     "output_type": "stream",
     "text": [
      "min value is  tensor(-1.0223)\n",
      "max value is  tensor(1.0314)\n"
     ]
    },
    {
     "name": "stderr",
     "output_type": "stream",
     "text": [
      "2025-02-19 20:41:38,710 INFO synthesis text 他经过多年的奋斗，终于在这个行业中脱颖而出，成为了领军人物。\n",
      "2025-02-19 20:41:43,743 INFO yield speech len 7.52, rtf 0.6692576598613821\n",
      "100%|██████████| 1/1 [00:05<00:00,  5.59s/it]\n"
     ]
    },
    {
     "name": "stdout",
     "output_type": "stream",
     "text": [
      "min value is  tensor(-1.0223)\n",
      "max value is  tensor(1.0314)\n"
     ]
    },
    {
     "name": "stderr",
     "output_type": "stream",
     "text": [
      "2025-02-19 20:41:44,314 INFO synthesis text 尽管公司面临诸多困难，但凭借着大家的共同努力，最终迎难而上，化险为夷。\n",
      "2025-02-19 20:41:49,983 INFO yield speech len 8.68, rtf 0.6531557454491541\n",
      "100%|██████████| 1/1 [00:06<00:00,  6.22s/it]\n"
     ]
    },
    {
     "name": "stdout",
     "output_type": "stream",
     "text": [
      "min value is  tensor(-1.0223)\n",
      "max value is  tensor(1.0314)\n"
     ]
    },
    {
     "name": "stderr",
     "output_type": "stream",
     "text": [
      "2025-02-19 20:41:50,569 INFO synthesis text 今天的比赛，他一马当先，最终顺利夺冠，真是实力与运气并存。\n",
      "2025-02-19 20:41:56,191 INFO yield speech len 8.32, rtf 0.6757239882762616\n",
      "100%|██████████| 1/1 [00:06<00:00,  6.19s/it]\n",
      "153it [17:15, 23.10s/it]"
     ]
    },
    {
     "name": "stdout",
     "output_type": "stream",
     "text": [
      "min value is  tensor(-1.0223)\n",
      "max value is  tensor(1.0314)\n"
     ]
    },
    {
     "name": "stderr",
     "output_type": "stream",
     "text": [
      "2025-02-19 20:41:56,765 INFO synthesis text 在这次展览中，各种创意作品琳琅满目，真是眼花缭乱，令人叹为观止。\n",
      "2025-02-19 20:42:02,421 INFO yield speech len 8.72, rtf 0.6485376882990566\n",
      "100%|██████████| 1/1 [00:06<00:00,  6.22s/it]\n"
     ]
    },
    {
     "name": "stdout",
     "output_type": "stream",
     "text": [
      "min value is  tensor(-1.0223)\n",
      "max value is  tensor(1.0314)\n"
     ]
    },
    {
     "name": "stderr",
     "output_type": "stream",
     "text": [
      "2025-02-19 20:42:02,994 INFO synthesis text 经过无数次的尝试，他终于完成了这个复杂的项目，取得了不小的成就。\n",
      "2025-02-19 20:42:07,616 INFO yield speech len 7.16, rtf 0.6455297243661721\n",
      "100%|██████████| 1/1 [00:05<00:00,  5.18s/it]\n"
     ]
    },
    {
     "name": "stdout",
     "output_type": "stream",
     "text": [
      "min value is  tensor(-1.0223)\n",
      "max value is  tensor(1.0314)\n"
     ]
    },
    {
     "name": "stderr",
     "output_type": "stream",
     "text": [
      "2025-02-19 20:42:08,193 INFO synthesis text 经过长期的努力，科学家们终于揭开了这个谜题，真是豁然开朗。\n",
      "2025-02-19 20:42:12,237 INFO yield speech len 5.8, rtf 0.6972659456318823\n",
      "100%|██████████| 1/1 [00:04<00:00,  4.60s/it]\n"
     ]
    },
    {
     "name": "stdout",
     "output_type": "stream",
     "text": [
      "min value is  tensor(-1.0223)\n",
      "max value is  tensor(1.0314)\n"
     ]
    },
    {
     "name": "stderr",
     "output_type": "stream",
     "text": [
      "2025-02-19 20:42:12,814 INFO synthesis text 在面对激烈的竞争时，他始终保持冷静，稳扎稳打，最终打破了僵局。\n",
      "2025-02-19 20:42:19,106 INFO yield speech len 9.76, rtf 0.6446570402286091\n",
      "100%|██████████| 1/1 [00:06<00:00,  6.85s/it]\n",
      "154it [17:38, 23.04s/it]"
     ]
    },
    {
     "name": "stdout",
     "output_type": "stream",
     "text": [
      "min value is  tensor(-1.0223)\n",
      "max value is  tensor(1.0314)\n"
     ]
    },
    {
     "name": "stderr",
     "output_type": "stream",
     "text": [
      "2025-02-19 20:42:19,681 INFO synthesis text 她的表演可谓是珠光宝气，精致而优雅，吸引了所有观众的目光。\n",
      "2025-02-19 20:42:24,010 INFO yield speech len 6.36, rtf 0.6807233927384863\n",
      "100%|██████████| 1/1 [00:04<00:00,  4.89s/it]\n"
     ]
    },
    {
     "name": "stdout",
     "output_type": "stream",
     "text": [
      "min value is  tensor(-1.0223)\n",
      "max value is  tensor(1.0314)\n"
     ]
    },
    {
     "name": "stderr",
     "output_type": "stream",
     "text": [
      "2025-02-19 20:42:24,583 INFO synthesis text 他善于从失败中总结经验，正因如此，才能百折不挠，最终成功逆袭。\n",
      "2025-02-19 20:42:31,300 INFO yield speech len 10.32, rtf 0.6508227928664333\n",
      "100%|██████████| 1/1 [00:07<00:00,  7.28s/it]\n"
     ]
    },
    {
     "name": "stdout",
     "output_type": "stream",
     "text": [
      "min value is  tensor(-1.0223)\n",
      "max value is  tensor(1.0314)\n"
     ]
    },
    {
     "name": "stderr",
     "output_type": "stream",
     "text": [
      "2025-02-19 20:42:31,880 INFO synthesis text 通过不断的学习和实践，他终于掌握了这一技能，堪称登峰造极。\n",
      "2025-02-19 20:42:36,849 INFO yield speech len 7.36, rtf 0.6750878432522649\n",
      "100%|██████████| 1/1 [00:05<00:00,  5.53s/it]\n"
     ]
    },
    {
     "name": "stdout",
     "output_type": "stream",
     "text": [
      "min value is  tensor(-1.0223)\n",
      "max value is  tensor(1.0314)\n"
     ]
    },
    {
     "name": "stderr",
     "output_type": "stream",
     "text": [
      "2025-02-19 20:42:37,422 INFO synthesis text 不论困难有多大，他都能够从容应对，真是临危不惧，果断行动。\n",
      "2025-02-19 20:42:42,888 INFO yield speech len 8.4, rtf 0.6507448639188493\n",
      "100%|██████████| 1/1 [00:06<00:00,  6.02s/it]\n",
      "155it [18:02, 23.26s/it]"
     ]
    },
    {
     "name": "stdout",
     "output_type": "stream",
     "text": [
      "min value is  tensor(-1.0223)\n",
      "max value is  tensor(1.0314)\n"
     ]
    },
    {
     "name": "stderr",
     "output_type": "stream",
     "text": [
      "2025-02-19 20:42:43,459 INFO synthesis text 经过几个月的艰苦努力，他们终于在产品研发方面取得了突破，令人大吃一惊。\n",
      "2025-02-19 20:42:49,564 INFO yield speech len 9.72, rtf 0.6280302265543997\n",
      "100%|██████████| 1/1 [00:06<00:00,  6.66s/it]\n"
     ]
    },
    {
     "name": "stdout",
     "output_type": "stream",
     "text": [
      "min value is  tensor(-1.0223)\n",
      "max value is  tensor(1.0314)\n"
     ]
    },
    {
     "name": "stderr",
     "output_type": "stream",
     "text": [
      "2025-02-19 20:42:50,152 INFO synthesis text 新技术的应用让这项工作效率大大提高，真是事半功倍，值得推广。\n",
      "2025-02-19 20:42:56,139 INFO yield speech len 9.4, rtf 0.6368878800818261\n",
      "100%|██████████| 1/1 [00:06<00:00,  6.56s/it]\n"
     ]
    },
    {
     "name": "stdout",
     "output_type": "stream",
     "text": [
      "min value is  tensor(-1.0223)\n",
      "max value is  tensor(1.0314)\n"
     ]
    },
    {
     "name": "stderr",
     "output_type": "stream",
     "text": [
      "2025-02-19 20:42:56,712 INFO synthesis text 经过长时间的积累，他的经验和能力已经到了炉火纯青的境界。\n",
      "2025-02-19 20:43:00,996 INFO yield speech len 6.12, rtf 0.7000624743941563\n",
      "100%|██████████| 1/1 [00:04<00:00,  4.84s/it]\n"
     ]
    },
    {
     "name": "stdout",
     "output_type": "stream",
     "text": [
      "min value is  tensor(-1.0223)\n",
      "max value is  tensor(1.0314)\n"
     ]
    },
    {
     "name": "stderr",
     "output_type": "stream",
     "text": [
      "2025-02-19 20:43:01,570 INFO synthesis text 尽管遇到许多不顺，他始终坚持自己的信念，终于迎来了柳暗花明。\n",
      "2025-02-19 20:43:06,111 INFO yield speech len 7.0, rtf 0.6486096382141113\n",
      "100%|██████████| 1/1 [00:05<00:00,  5.10s/it]\n",
      "156it [18:25, 23.25s/it]"
     ]
    },
    {
     "name": "stdout",
     "output_type": "stream",
     "text": [
      "min value is  tensor(-1.0223)\n",
      "max value is  tensor(1.0314)\n"
     ]
    },
    {
     "name": "stderr",
     "output_type": "stream",
     "text": [
      "2025-02-19 20:43:06,685 INFO synthesis text 这部电影的情节紧凑、画面精美，令人如痴如醉，真是美不胜收。\n",
      "2025-02-19 20:43:10,778 INFO yield speech len 6.04, rtf 0.6777889286445467\n",
      "100%|██████████| 1/1 [00:04<00:00,  4.65s/it]\n"
     ]
    },
    {
     "name": "stdout",
     "output_type": "stream",
     "text": [
      "min value is  tensor(-1.0223)\n",
      "max value is  tensor(1.0314)\n"
     ]
    },
    {
     "name": "stderr",
     "output_type": "stream",
     "text": [
      "2025-02-19 20:43:11,355 INFO synthesis text 他在困难面前从不低头，始终保持着拼搏的精神，展现了逆风飞扬的力量。\n",
      "2025-02-19 20:43:16,807 INFO yield speech len 8.4, rtf 0.6490244751884824\n",
      "100%|██████████| 1/1 [00:06<00:00,  6.01s/it]\n"
     ]
    },
    {
     "name": "stdout",
     "output_type": "stream",
     "text": [
      "min value is  tensor(-1.0223)\n",
      "max value is  tensor(1.0314)\n"
     ]
    },
    {
     "name": "stderr",
     "output_type": "stream",
     "text": [
      "2025-02-19 20:43:17,376 INFO synthesis text 这次的研究成果堪称空前绝后，深刻影响了相关领域的发展。\n",
      "2025-02-19 20:43:22,217 INFO yield speech len 7.24, rtf 0.6686442794062156\n",
      "100%|██████████| 1/1 [00:05<00:00,  5.40s/it]\n"
     ]
    },
    {
     "name": "stdout",
     "output_type": "stream",
     "text": [
      "min value is  tensor(-1.0223)\n",
      "max value is  tensor(1.0314)\n"
     ]
    },
    {
     "name": "stderr",
     "output_type": "stream",
     "text": [
      "2025-02-19 20:43:22,792 INFO synthesis text 他身处高位，处事老练，真是洞察秋毫，眼光独到。\n",
      "2025-02-19 20:43:26,772 INFO yield speech len 5.44, rtf 0.731688124292037\n",
      "100%|██████████| 1/1 [00:04<00:00,  4.54s/it]\n",
      "157it [18:46, 22.47s/it]"
     ]
    },
    {
     "name": "stdout",
     "output_type": "stream",
     "text": [
      "min value is  tensor(-1.0223)\n",
      "max value is  tensor(1.0314)\n"
     ]
    },
    {
     "name": "stderr",
     "output_type": "stream",
     "text": [
      "2025-02-19 20:43:27,346 INFO synthesis text 虽然项目进展缓慢，但他依然保持乐观，坚持不懈，终于成功了。\n",
      "2025-02-19 20:43:33,059 INFO yield speech len 8.76, rtf 0.6521112298312253\n",
      "100%|██████████| 1/1 [00:06<00:00,  6.27s/it]\n"
     ]
    },
    {
     "name": "stdout",
     "output_type": "stream",
     "text": [
      "min value is  tensor(-1.0223)\n",
      "max value is  tensor(1.0314)\n"
     ]
    },
    {
     "name": "stderr",
     "output_type": "stream",
     "text": [
      "2025-02-19 20:43:33,631 INFO synthesis text 经过多次讨论与修改，最终达成了共识，水落石出，结果不言而喻。\n",
      "2025-02-19 20:43:38,033 INFO yield speech len 6.6, rtf 0.6669160091515743\n",
      "100%|██████████| 1/1 [00:04<00:00,  4.96s/it]\n"
     ]
    },
    {
     "name": "stdout",
     "output_type": "stream",
     "text": [
      "min value is  tensor(-1.0223)\n",
      "max value is  tensor(1.0314)\n"
     ]
    },
    {
     "name": "stderr",
     "output_type": "stream",
     "text": [
      "2025-02-19 20:43:38,609 INFO synthesis text 这次的商业合作不仅拓展了市场，而且实现了互利共赢，令人欣喜若狂。\n",
      "2025-02-19 20:43:43,119 INFO yield speech len 6.64, rtf 0.679111229368003\n",
      "100%|██████████| 1/1 [00:05<00:00,  5.07s/it]\n"
     ]
    },
    {
     "name": "stdout",
     "output_type": "stream",
     "text": [
      "min value is  tensor(-1.0223)\n",
      "max value is  tensor(1.0314)\n"
     ]
    },
    {
     "name": "stderr",
     "output_type": "stream",
     "text": [
      "2025-02-19 20:43:43,692 INFO synthesis text 面对复杂的情况，他迅速做出了决策，稳操胜券，避免了不必要的损失。\n",
      "2025-02-19 20:43:49,616 INFO yield speech len 9.12, rtf 0.6495952083353411\n",
      "100%|██████████| 1/1 [00:06<00:00,  6.48s/it]\n",
      "158it [19:09, 22.59s/it]"
     ]
    },
    {
     "name": "stdout",
     "output_type": "stream",
     "text": [
      "min value is  tensor(-1.0223)\n",
      "max value is  tensor(1.0314)\n"
     ]
    },
    {
     "name": "stderr",
     "output_type": "stream",
     "text": [
      "2025-02-19 20:43:50,195 INFO synthesis text 他凭借自身的才华和毅力，一步步打破重重困难，最终走向成功。\n",
      "2025-02-19 20:43:54,406 INFO yield speech len 6.08, rtf 0.6925222512922788\n",
      "100%|██████████| 1/1 [00:04<00:00,  4.77s/it]\n"
     ]
    },
    {
     "name": "stdout",
     "output_type": "stream",
     "text": [
      "min value is  tensor(-1.0223)\n",
      "max value is  tensor(1.0314)\n"
     ]
    },
    {
     "name": "stderr",
     "output_type": "stream",
     "text": [
      "2025-02-19 20:43:54,980 INFO synthesis text 他在自己的领域中早已功成名就，达到了巅峰，真是人中龙凤。\n",
      "2025-02-19 20:43:59,762 INFO yield speech len 7.08, rtf 0.6753953836731992\n",
      "100%|██████████| 1/1 [00:05<00:00,  5.34s/it]\n"
     ]
    },
    {
     "name": "stdout",
     "output_type": "stream",
     "text": [
      "min value is  tensor(-1.0223)\n",
      "max value is  tensor(1.0314)\n"
     ]
    },
    {
     "name": "stderr",
     "output_type": "stream",
     "text": [
      "2025-02-19 20:44:00,338 INFO synthesis text 每一次的失败对他来说，都是一次宝贵的经验，化腐朽为神奇。\n",
      "2025-02-19 20:44:05,515 INFO yield speech len 7.72, rtf 0.6706111789367359\n",
      "100%|██████████| 1/1 [00:05<00:00,  5.74s/it]\n"
     ]
    },
    {
     "name": "stdout",
     "output_type": "stream",
     "text": [
      "min value is  tensor(-1.0223)\n",
      "max value is  tensor(1.0314)\n"
     ]
    },
    {
     "name": "stderr",
     "output_type": "stream",
     "text": [
      "2025-02-19 20:44:06,093 INFO synthesis text 公司面临的挑战无数，但在团队的共同努力下，一切都迎刃而解。\n",
      "2025-02-19 20:44:12,176 INFO yield speech len 9.44, rtf 0.6443938461400696\n",
      "100%|██████████| 1/1 [00:06<00:00,  6.65s/it]\n",
      "159it [19:31, 22.58s/it]"
     ]
    },
    {
     "name": "stdout",
     "output_type": "stream",
     "text": [
      "min value is  tensor(-1.0223)\n",
      "max value is  tensor(1.0314)\n"
     ]
    },
    {
     "name": "stderr",
     "output_type": "stream",
     "text": [
      "2025-02-19 20:44:12,751 INFO synthesis text 他有着过人的才智，真是才高八斗，处事不惊。\n",
      "2025-02-19 20:44:16,789 INFO yield speech len 6.0, rtf 0.6731013854344686\n",
      "100%|██████████| 1/1 [00:04<00:00,  4.60s/it]\n"
     ]
    },
    {
     "name": "stdout",
     "output_type": "stream",
     "text": [
      "min value is  tensor(-1.0223)\n",
      "max value is  tensor(1.0314)\n"
     ]
    },
    {
     "name": "stderr",
     "output_type": "stream",
     "text": [
      "2025-02-19 20:44:17,361 INFO synthesis text 他们的合作无间，充分发挥了各自的优势，最终创造了辉煌的成绩。\n",
      "2025-02-19 20:44:23,098 INFO yield speech len 8.92, rtf 0.6431488178236068\n",
      "100%|██████████| 1/1 [00:06<00:00,  6.29s/it]\n"
     ]
    },
    {
     "name": "stdout",
     "output_type": "stream",
     "text": [
      "min value is  tensor(-1.0223)\n",
      "max value is  tensor(1.0314)\n"
     ]
    },
    {
     "name": "stderr",
     "output_type": "stream",
     "text": [
      "2025-02-19 20:44:23,672 INFO synthesis text 他的成功并非偶然，背后是多年如一日的坚持，真是滴水穿石，功到自然成。\n",
      "2025-02-19 20:44:31,155 INFO yield speech len 11.36, rtf 0.6587310366227593\n",
      "100%|██████████| 1/1 [00:08<00:00,  8.04s/it]\n"
     ]
    },
    {
     "name": "stdout",
     "output_type": "stream",
     "text": [
      "min value is  tensor(-1.0223)\n",
      "max value is  tensor(1.0314)\n"
     ]
    },
    {
     "name": "stderr",
     "output_type": "stream",
     "text": [
      "2025-02-19 20:44:31,731 INFO synthesis text 这幅画充满了奇妙的意境，仿佛能让人流连忘返，回味无穷。\n",
      "2025-02-19 20:44:35,557 INFO yield speech len 5.72, rtf 0.6687347288731929\n",
      "100%|██████████| 1/1 [00:04<00:00,  4.39s/it]\n",
      "160it [19:54, 22.82s/it]"
     ]
    },
    {
     "name": "stdout",
     "output_type": "stream",
     "text": [
      "min value is  tensor(-1.0223)\n",
      "max value is  tensor(1.0314)\n"
     ]
    },
    {
     "name": "stderr",
     "output_type": "stream",
     "text": [
      "2025-02-19 20:44:36,133 INFO synthesis text 他在古籍中的研究成果堪称卓绝，深得学界推崇。\n",
      "2025-02-19 20:44:40,868 INFO yield speech len 7.08, rtf 0.6687743515618103\n",
      "100%|██████████| 1/1 [00:05<00:00,  5.30s/it]\n"
     ]
    },
    {
     "name": "stdout",
     "output_type": "stream",
     "text": [
      "min value is  tensor(-1.0223)\n",
      "max value is  tensor(1.0314)\n"
     ]
    },
    {
     "name": "stderr",
     "output_type": "stream",
     "text": [
      "2025-02-19 20:44:41,443 INFO synthesis text 他们的探险队穿越了茫茫的荒漠，克服了重重艰险，终于抵达目的地。\n",
      "2025-02-19 20:44:47,105 INFO yield speech len 8.72, rtf 0.6493972528965101\n",
      "100%|██████████| 1/1 [00:06<00:00,  6.22s/it]\n"
     ]
    },
    {
     "name": "stdout",
     "output_type": "stream",
     "text": [
      "min value is  tensor(-1.0223)\n",
      "max value is  tensor(1.0314)\n"
     ]
    },
    {
     "name": "stderr",
     "output_type": "stream",
     "text": [
      "2025-02-19 20:44:47,674 INFO synthesis text 突如其来的暴雨使得城市的交通陷入了“癸亥”的困境。\n",
      "2025-02-19 20:44:51,854 INFO yield speech len 6.2, rtf 0.6740819638775241\n",
      "100%|██████████| 1/1 [00:04<00:00,  4.73s/it]\n"
     ]
    },
    {
     "name": "stdout",
     "output_type": "stream",
     "text": [
      "min value is  tensor(-1.0223)\n",
      "max value is  tensor(1.0314)\n"
     ]
    },
    {
     "name": "stderr",
     "output_type": "stream",
     "text": [
      "2025-02-19 20:44:52,432 INFO synthesis text 她的书法作品端庄大气，笔力遒劲，堪称一绝。\n",
      "2025-02-19 20:44:57,433 INFO yield speech len 7.52, rtf 0.6650952899709661\n",
      "100%|██████████| 1/1 [00:05<00:00,  5.57s/it]\n",
      "161it [20:16, 22.54s/it]"
     ]
    },
    {
     "name": "stdout",
     "output_type": "stream",
     "text": [
      "min value is  tensor(-1.0223)\n",
      "max value is  tensor(1.0314)\n"
     ]
    },
    {
     "name": "stderr",
     "output_type": "stream",
     "text": [
      "2025-02-19 20:44:58,004 INFO synthesis text 这些古老的文物仿佛有着千年历史，每一件都透出幽深的韵味。\n",
      "2025-02-19 20:45:02,731 INFO yield speech len 6.32, rtf 0.7478254128106032\n",
      "100%|██████████| 1/1 [00:05<00:00,  5.28s/it]\n"
     ]
    },
    {
     "name": "stdout",
     "output_type": "stream",
     "text": [
      "min value is  tensor(-1.0223)\n",
      "max value is  tensor(1.0314)\n"
     ]
    },
    {
     "name": "stderr",
     "output_type": "stream",
     "text": [
      "2025-02-19 20:45:03,308 INFO synthesis text 他喜好收藏一些罕见的书籍，其中不乏珍本和古籍，堪称满腹经纶。\n",
      "2025-02-19 20:45:08,856 INFO yield speech len 8.24, rtf 0.6733028344737673\n",
      "100%|██████████| 1/1 [00:06<00:00,  6.11s/it]\n"
     ]
    },
    {
     "name": "stdout",
     "output_type": "stream",
     "text": [
      "min value is  tensor(-1.0223)\n",
      "max value is  tensor(1.0314)\n"
     ]
    },
    {
     "name": "stderr",
     "output_type": "stream",
     "text": [
      "2025-02-19 20:45:09,427 INFO synthesis text 他的发明灵感来自古代的智慧，运用了许多已被遗忘的技艺。\n",
      "2025-02-19 20:45:13,655 INFO yield speech len 6.52, rtf 0.6484669776050591\n",
      "100%|██████████| 1/1 [00:04<00:00,  4.79s/it]\n"
     ]
    },
    {
     "name": "stdout",
     "output_type": "stream",
     "text": [
      "min value is  tensor(-1.0223)\n",
      "max value is  tensor(1.0314)\n"
     ]
    },
    {
     "name": "stderr",
     "output_type": "stream",
     "text": [
      "2025-02-19 20:45:14,229 INFO synthesis text 在这片风光如画的山谷里，鸟语花香，令人陶醉。\n",
      "2025-02-19 20:45:18,650 INFO yield speech len 6.6, rtf 0.6698577331774163\n",
      "100%|██████████| 1/1 [00:04<00:00,  4.98s/it]\n",
      "162it [20:38, 22.14s/it]"
     ]
    },
    {
     "name": "stdout",
     "output_type": "stream",
     "text": [
      "min value is  tensor(-1.0223)\n",
      "max value is  tensor(1.0314)\n"
     ]
    },
    {
     "name": "stderr",
     "output_type": "stream",
     "text": [
      "2025-02-19 20:45:19,225 INFO synthesis text 这些竹简上的文字已难以辨识，但其中的智慧却依然闪耀着光辉。\n",
      "2025-02-19 20:45:24,275 INFO yield speech len 7.68, rtf 0.6576176732778549\n",
      "100%|██████████| 1/1 [00:05<00:00,  5.61s/it]\n"
     ]
    },
    {
     "name": "stdout",
     "output_type": "stream",
     "text": [
      "min value is  tensor(-1.0223)\n",
      "max value is  tensor(1.0314)\n"
     ]
    },
    {
     "name": "stderr",
     "output_type": "stream",
     "text": [
      "2025-02-19 20:45:24,849 INFO synthesis text 这座山峰高耸入云，气势磅礴，仿佛天上神仙的栖息地。\n",
      "2025-02-19 20:45:29,779 INFO yield speech len 7.24, rtf 0.6809450315507077\n",
      "100%|██████████| 1/1 [00:05<00:00,  5.49s/it]\n"
     ]
    },
    {
     "name": "stdout",
     "output_type": "stream",
     "text": [
      "min value is  tensor(-1.0223)\n",
      "max value is  tensor(1.0314)\n"
     ]
    },
    {
     "name": "stderr",
     "output_type": "stream",
     "text": [
      "2025-02-19 20:45:30,354 INFO synthesis text 他的诗词优美，意境深远，每一个字都充满了“古韵”。\n",
      "2025-02-19 20:45:34,914 INFO yield speech len 7.16, rtf 0.6369260436329761\n",
      "100%|██████████| 1/1 [00:05<00:00,  5.12s/it]\n"
     ]
    },
    {
     "name": "stdout",
     "output_type": "stream",
     "text": [
      "min value is  tensor(-1.0223)\n",
      "max value is  tensor(1.0314)\n"
     ]
    },
    {
     "name": "stderr",
     "output_type": "stream",
     "text": [
      "2025-02-19 20:45:35,491 INFO synthesis text 古书上的字迹有些模糊不清，但依然能看出它们的珍贵。\n",
      "2025-02-19 20:45:39,590 INFO yield speech len 5.92, rtf 0.6924632433298472\n",
      "100%|██████████| 1/1 [00:04<00:00,  4.66s/it]\n",
      "163it [20:59, 21.78s/it]"
     ]
    },
    {
     "name": "stdout",
     "output_type": "stream",
     "text": [
      "min value is  tensor(-1.0223)\n",
      "max value is  tensor(1.0314)\n"
     ]
    },
    {
     "name": "stderr",
     "output_type": "stream",
     "text": [
      "2025-02-19 20:45:40,165 INFO synthesis text 她性格温婉，待人接物如水，温文尔雅，举止大方。\n",
      "2025-02-19 20:45:45,095 INFO yield speech len 7.8, rtf 0.6319775642492832\n",
      "100%|██████████| 1/1 [00:05<00:00,  5.49s/it]\n"
     ]
    },
    {
     "name": "stdout",
     "output_type": "stream",
     "text": [
      "min value is  tensor(-1.0223)\n",
      "max value is  tensor(1.0314)\n"
     ]
    },
    {
     "name": "stderr",
     "output_type": "stream",
     "text": [
      "2025-02-19 20:45:45,666 INFO synthesis text 这个地方的风景如诗如画，给人一种超凡脱俗的美感。\n",
      "2025-02-19 20:45:50,289 INFO yield speech len 6.92, rtf 0.6680900995441944\n",
      "100%|██████████| 1/1 [00:05<00:00,  5.18s/it]\n"
     ]
    },
    {
     "name": "stdout",
     "output_type": "stream",
     "text": [
      "min value is  tensor(-1.0223)\n",
      "max value is  tensor(1.0314)\n"
     ]
    },
    {
     "name": "stderr",
     "output_type": "stream",
     "text": [
      "2025-02-19 20:45:50,864 INFO synthesis text 他的古董收藏中有一枚稀世珍宝，令人赞叹不已。\n",
      "2025-02-19 20:45:55,808 INFO yield speech len 7.28, rtf 0.6789835272254524\n",
      "100%|██████████| 1/1 [00:05<00:00,  5.51s/it]\n"
     ]
    },
    {
     "name": "stdout",
     "output_type": "stream",
     "text": [
      "min value is  tensor(-1.0223)\n",
      "max value is  tensor(1.0314)\n"
     ]
    },
    {
     "name": "stderr",
     "output_type": "stream",
     "text": [
      "2025-02-19 20:45:56,389 INFO synthesis text 他们通过多年艰苦的探索，终于找到了那片被遗忘的神秘之地。\n",
      "2025-02-19 20:46:00,991 INFO yield speech len 6.56, rtf 0.7016006766296015\n",
      "100%|██████████| 1/1 [00:05<00:00,  5.16s/it]\n",
      "164it [21:20, 21.67s/it]"
     ]
    },
    {
     "name": "stdout",
     "output_type": "stream",
     "text": [
      "min value is  tensor(-1.0223)\n",
      "max value is  tensor(1.0314)\n"
     ]
    },
    {
     "name": "stderr",
     "output_type": "stream",
     "text": [
      "2025-02-19 20:46:01,561 INFO synthesis text 这篇文章涉及了不少鲜为人知的历史事件，内容颇具考古价值。\n",
      "2025-02-19 20:46:05,988 INFO yield speech len 6.44, rtf 0.687411742180771\n",
      "100%|██████████| 1/1 [00:04<00:00,  4.98s/it]\n"
     ]
    },
    {
     "name": "stdout",
     "output_type": "stream",
     "text": [
      "min value is  tensor(-1.0223)\n",
      "max value is  tensor(1.0314)\n"
     ]
    },
    {
     "name": "stderr",
     "output_type": "stream",
     "text": [
      "2025-02-19 20:46:06,559 INFO synthesis text 他在专业领域中的成就可谓举世无双，堪称学术泰斗。\n",
      "2025-02-19 20:46:10,781 INFO yield speech len 6.16, rtf 0.6854023639257852\n",
      "100%|██████████| 1/1 [00:04<00:00,  4.78s/it]\n"
     ]
    },
    {
     "name": "stdout",
     "output_type": "stream",
     "text": [
      "min value is  tensor(-1.0223)\n",
      "max value is  tensor(1.0314)\n"
     ]
    },
    {
     "name": "stderr",
     "output_type": "stream",
     "text": [
      "2025-02-19 20:46:11,356 INFO synthesis text 这片古老的森林充满了“幽冥”的气息，令人感到神秘莫测。\n",
      "2025-02-19 20:46:15,002 INFO yield speech len 5.04, rtf 0.7234895040118505\n",
      "100%|██████████| 1/1 [00:04<00:00,  4.20s/it]\n"
     ]
    },
    {
     "name": "stdout",
     "output_type": "stream",
     "text": [
      "min value is  tensor(-1.0223)\n",
      "max value is  tensor(1.0314)\n"
     ]
    },
    {
     "name": "stderr",
     "output_type": "stream",
     "text": [
      "2025-02-19 20:46:15,572 INFO synthesis text 他极爱古诗词，经常引经据典，能够信手拈来。\n",
      "2025-02-19 20:46:19,377 INFO yield speech len 5.48, rtf 0.6943975051824193\n",
      "100%|██████████| 1/1 [00:04<00:00,  4.36s/it]\n",
      "165it [21:38, 20.68s/it]"
     ]
    },
    {
     "name": "stdout",
     "output_type": "stream",
     "text": [
      "min value is  tensor(-1.0223)\n",
      "max value is  tensor(1.0314)\n"
     ]
    },
    {
     "name": "stderr",
     "output_type": "stream",
     "text": [
      "2025-02-19 20:46:19,948 INFO synthesis text 此地历史悠久，许多遗址都保存完好，是考古学者的“宝藏”。\n",
      "2025-02-19 20:46:24,227 INFO yield speech len 6.32, rtf 0.6769126351875595\n",
      "100%|██████████| 1/1 [00:04<00:00,  4.84s/it]\n"
     ]
    },
    {
     "name": "stdout",
     "output_type": "stream",
     "text": [
      "min value is  tensor(-1.0223)\n",
      "max value is  tensor(1.0314)\n"
     ]
    },
    {
     "name": "stderr",
     "output_type": "stream",
     "text": [
      "2025-02-19 20:46:24,798 INFO synthesis text 这款设计独具匠心，融合了现代与古典元素，颇具特色。\n",
      "2025-02-19 20:46:28,549 INFO yield speech len 5.56, rtf 0.6747048106982554\n",
      "100%|██████████| 1/1 [00:04<00:00,  4.31s/it]\n"
     ]
    },
    {
     "name": "stdout",
     "output_type": "stream",
     "text": [
      "min value is  tensor(-1.0223)\n",
      "max value is  tensor(1.0314)\n"
     ]
    },
    {
     "name": "stderr",
     "output_type": "stream",
     "text": [
      "2025-02-19 20:46:29,123 INFO synthesis text 这次的实验突破了以往的技术瓶颈，成果令人“叹为观止”。\n",
      "2025-02-19 20:46:34,059 INFO yield speech len 7.12, rtf 0.6932537877157833\n",
      "100%|██████████| 1/1 [00:05<00:00,  5.50s/it]\n"
     ]
    },
    {
     "name": "stdout",
     "output_type": "stream",
     "text": [
      "min value is  tensor(-1.0223)\n",
      "max value is  tensor(1.0314)\n"
     ]
    },
    {
     "name": "stderr",
     "output_type": "stream",
     "text": [
      "2025-02-19 20:46:34,653 INFO synthesis text 他一直梦想着能够“踏雪寻梅”，品味大自然的幽静。\n",
      "2025-02-19 20:46:39,274 INFO yield speech len 6.16, rtf 0.7501368011747087\n",
      "100%|██████████| 1/1 [00:05<00:00,  5.19s/it]\n",
      "166it [21:58, 20.45s/it]"
     ]
    },
    {
     "name": "stdout",
     "output_type": "stream",
     "text": [
      "min value is  tensor(-1.0223)\n",
      "max value is  tensor(1.0314)\n"
     ]
    },
    {
     "name": "stderr",
     "output_type": "stream",
     "text": [
      "2025-02-19 20:46:39,876 INFO synthesis text 那些古老的符号，似乎承载着深奥的文化含义，令人难以解读。\n",
      "2025-02-19 20:46:45,450 INFO yield speech len 7.68, rtf 0.7258479483425617\n",
      "100%|██████████| 1/1 [00:06<00:00,  6.16s/it]\n"
     ]
    },
    {
     "name": "stdout",
     "output_type": "stream",
     "text": [
      "min value is  tensor(-1.0223)\n",
      "max value is  tensor(1.0314)\n"
     ]
    },
    {
     "name": "stderr",
     "output_type": "stream",
     "text": [
      "2025-02-19 20:46:46,063 INFO synthesis text 他在研究过程中，用“博古通今”的方法分析了大量的古代文献。\n",
      "2025-02-19 20:46:51,790 INFO yield speech len 7.56, rtf 0.7576164429780667\n",
      "100%|██████████| 1/1 [00:06<00:00,  6.32s/it]\n"
     ]
    },
    {
     "name": "stdout",
     "output_type": "stream",
     "text": [
      "min value is  tensor(-1.0223)\n",
      "max value is  tensor(1.0314)\n"
     ]
    },
    {
     "name": "stderr",
     "output_type": "stream",
     "text": [
      "2025-02-19 20:46:52,403 INFO synthesis text 这本典籍的内容丰富，涉及了古代哲学、历史和文学等多个领域。\n",
      "2025-02-19 20:46:57,994 INFO yield speech len 7.8, rtf 0.7167485738411928\n",
      "100%|██████████| 1/1 [00:06<00:00,  6.19s/it]\n"
     ]
    },
    {
     "name": "stdout",
     "output_type": "stream",
     "text": [
      "min value is  tensor(-1.0223)\n",
      "max value is  tensor(1.0314)\n"
     ]
    },
    {
     "name": "stderr",
     "output_type": "stream",
     "text": [
      "2025-02-19 20:46:58,588 INFO synthesis text 他以“豁达”的胸怀，坦然面对了人生的种种挑战。\n",
      "2025-02-19 20:47:03,490 INFO yield speech len 6.32, rtf 0.7757128793982011\n",
      "100%|██████████| 1/1 [00:05<00:00,  5.48s/it]\n",
      "167it [22:22, 21.58s/it]"
     ]
    },
    {
     "name": "stdout",
     "output_type": "stream",
     "text": [
      "min value is  tensor(-1.0223)\n",
      "max value is  tensor(1.0314)\n"
     ]
    },
    {
     "name": "stderr",
     "output_type": "stream",
     "text": [
      "2025-02-19 20:47:04,099 INFO synthesis text 此次的展览展出了许多稀世珍品，每一件都堪称“绝世之宝”。\n",
      "2025-02-19 20:47:08,990 INFO yield speech len 6.44, rtf 0.7595383232424717\n",
      "100%|██████████| 1/1 [00:05<00:00,  5.48s/it]\n"
     ]
    },
    {
     "name": "stdout",
     "output_type": "stream",
     "text": [
      "min value is  tensor(-1.0223)\n",
      "max value is  tensor(1.0314)\n"
     ]
    },
    {
     "name": "stderr",
     "output_type": "stream",
     "text": [
      "2025-02-19 20:47:09,600 INFO synthesis text 北京的秋天是一个温暖又宜人的季节，蓝天白云，阳光透过树枝洒在大地上，仿佛是人们理想中的完美天气，空气清新，仿佛可以清晰地闻到树木的芬芳。\n",
      "2025-02-19 20:47:23,552 INFO yield speech len 19.56, rtf 0.7132798372358389\n",
      "100%|██████████| 1/1 [00:14<00:00, 14.54s/it]\n"
     ]
    },
    {
     "name": "stdout",
     "output_type": "stream",
     "text": [
      "min value is  tensor(-1.0223)\n",
      "max value is  tensor(1.0314)\n"
     ]
    },
    {
     "name": "stderr",
     "output_type": "stream",
     "text": [
      "2025-02-19 20:47:24,159 INFO synthesis text 今天下午我和朋友们去公园散步，天气晴朗，微风拂面，我们聊了很多，分享了各自的生活和工作，真是一段轻松愉快的时光，心情也因此变得特别好。\n",
      "2025-02-19 20:47:34,013 INFO yield speech len 14.84, rtf 0.66400308493334\n",
      "100%|██████████| 1/1 [00:10<00:00, 10.44s/it]\n"
     ]
    },
    {
     "name": "stdout",
     "output_type": "stream",
     "text": [
      "min value is  tensor(-1.0223)\n",
      "max value is  tensor(1.0314)\n"
     ]
    },
    {
     "name": "stderr",
     "output_type": "stream",
     "text": [
      "2025-02-19 20:47:34,611 INFO synthesis text 这次的科学实验非常复杂，涉及到多个学科的知识，实验结果既出乎意料，又符合预期，让我们感到非常惊讶和满意，大家都期待能够进行更深入的研究。\n",
      "2025-02-19 20:47:46,740 INFO yield speech len 17.36, rtf 0.6986903018116402\n",
      "100%|██████████| 1/1 [00:12<00:00, 12.71s/it]\n",
      "168it [23:06, 28.08s/it]"
     ]
    },
    {
     "name": "stdout",
     "output_type": "stream",
     "text": [
      "min value is  tensor(-1.0223)\n",
      "max value is  tensor(1.0314)\n"
     ]
    },
    {
     "name": "stderr",
     "output_type": "stream",
     "text": [
      "2025-02-19 20:47:47,339 INFO synthesis text 当我站在山顶远眺，眼前的景色如画般美丽，连绵的山脉、碧绿的草原和蜿蜒的河流相互交织，形成了一幅绝妙的画卷，令人陶醉、难以忘怀。\n",
      "2025-02-19 20:47:59,631 INFO yield speech len 17.76, rtf 0.692068308860332\n",
      "100%|██████████| 1/1 [00:12<00:00, 12.87s/it]\n"
     ]
    },
    {
     "name": "stdout",
     "output_type": "stream",
     "text": [
      "min value is  tensor(-1.0223)\n",
      "max value is  tensor(1.0314)\n"
     ]
    },
    {
     "name": "stderr",
     "output_type": "stream",
     "text": [
      "2025-02-19 20:48:00,227 INFO synthesis text 他是一个非常聪明的孩子，学习成绩优异，每次考试都能轻松获得高分，老师和同学们都对他赞不绝口，然而他依然保持谦虚、低调的态度，从不张扬。\n",
      "2025-02-19 20:48:11,251 INFO yield speech len 15.56, rtf 0.7084501126738011\n",
      "100%|██████████| 1/1 [00:11<00:00, 11.60s/it]\n"
     ]
    },
    {
     "name": "stdout",
     "output_type": "stream",
     "text": [
      "min value is  tensor(-1.0223)\n",
      "max value is  tensor(1.0314)\n"
     ]
    },
    {
     "name": "stderr",
     "output_type": "stream",
     "text": [
      "2025-02-19 20:48:11,861 INFO synthesis text 这个小镇充满了浓厚的历史氛围，街道两旁的建筑古色古香，每一栋房子都有着几百年的历史，走在这里仿佛进入了另一个时空，仿佛时间静止了。\n",
      "2025-02-19 20:48:24,801 INFO yield speech len 18.56, rtf 0.6972144261516374\n",
      "100%|██████████| 1/1 [00:13<00:00, 13.53s/it]\n"
     ]
    },
    {
     "name": "stdout",
     "output_type": "stream",
     "text": [
      "min value is  tensor(-1.0223)\n",
      "max value is  tensor(1.0314)\n"
     ]
    },
    {
     "name": "stderr",
     "output_type": "stream",
     "text": [
      "2025-02-19 20:48:25,402 INFO synthesis text 每个人的一生都像一部电影，有高潮也有低谷，有时我们需要从失败中吸取教训，重整旗鼓，勇敢面对未来的挑战，而不是停滞不前，保持进取的心态。\n",
      "2025-02-19 20:48:37,174 INFO yield speech len 16.64, rtf 0.7074746804741713\n",
      "100%|██████████| 1/1 [00:12<00:00, 12.35s/it]\n",
      "169it [23:56, 34.79s/it]"
     ]
    },
    {
     "name": "stdout",
     "output_type": "stream",
     "text": [
      "min value is  tensor(-1.0223)\n",
      "max value is  tensor(1.0314)\n"
     ]
    },
    {
     "name": "stderr",
     "output_type": "stream",
     "text": [
      "2025-02-19 20:48:37,779 INFO synthesis text 我们计划在下个月举行一次大型的公司会议，讨论未来的发展方向，届时将有很多业内专家和领导参加，大家会分享各自的见解和经验，希望能激发新的灵感。\n",
      "2025-02-19 20:48:50,743 INFO yield speech len 18.8, rtf 0.689548964196063\n",
      "100%|██████████| 1/1 [00:13<00:00, 13.55s/it]\n"
     ]
    },
    {
     "name": "stdout",
     "output_type": "stream",
     "text": [
      "min value is  tensor(-1.0223)\n",
      "max value is  tensor(1.0314)\n"
     ]
    },
    {
     "name": "stderr",
     "output_type": "stream",
     "text": [
      "2025-02-19 20:48:51,349 INFO synthesis text 这个城市的交通非常繁忙，高峰时段的路况十分拥堵，人们匆匆忙忙地赶着去上班或是去见客户，每个人的脸上都写满了焦虑，但也因此加深了对生活的思考。\n",
      "2025-02-19 20:49:02,785 INFO yield speech len 16.56, rtf 0.6905963887339054\n",
      "100%|██████████| 1/1 [00:12<00:00, 12.02s/it]\n"
     ]
    },
    {
     "name": "stdout",
     "output_type": "stream",
     "text": [
      "min value is  tensor(-1.0223)\n",
      "max value is  tensor(1.0314)\n"
     ]
    },
    {
     "name": "stderr",
     "output_type": "stream",
     "text": [
      "2025-02-19 20:49:03,381 INFO synthesis text 今天是个特别的日子，我和家人一起去吃了一顿丰盛的晚餐，大家围坐在餐桌旁，分享着彼此的心情，笑声、交谈声此起彼伏，整个气氛温馨又和谐。\n",
      "2025-02-19 20:49:15,040 INFO yield speech len 17.16, rtf 0.6794439468072566\n",
      "100%|██████████| 1/1 [00:12<00:00, 12.23s/it]\n"
     ]
    },
    {
     "name": "stdout",
     "output_type": "stream",
     "text": [
      "min value is  tensor(-1.0223)\n",
      "max value is  tensor(1.0314)\n"
     ]
    },
    {
     "name": "stderr",
     "output_type": "stream",
     "text": [
      "2025-02-19 20:49:15,638 INFO synthesis text 这个新的文化中心是市政府精心打造的一个项目，内有多个展览馆和表演厅，旨在展示传统文化与现代艺术的结合，希望能够吸引更多游客前来参观。\n",
      "2025-02-19 20:49:25,872 INFO yield speech len 15.64, rtf 0.6543237534935212\n",
      "100%|██████████| 1/1 [00:10<00:00, 10.81s/it]\n",
      "170it [24:45, 38.96s/it]"
     ]
    },
    {
     "name": "stdout",
     "output_type": "stream",
     "text": [
      "min value is  tensor(-1.0223)\n",
      "max value is  tensor(1.0314)\n"
     ]
    },
    {
     "name": "stderr",
     "output_type": "stream",
     "text": [
      "2025-02-19 20:49:26,466 INFO synthesis text 春天的花园里，各种花朵竞相开放，红的、黄的、白的，色彩斑斓，蝴蝶和蜜蜂忙着采蜜，空气中弥漫着清新的花香，让人感到心情愉悦、精神焕发。\n",
      "2025-02-19 20:49:39,167 INFO yield speech len 18.16, rtf 0.6993937728688581\n",
      "100%|██████████| 1/1 [00:13<00:00, 13.27s/it]\n"
     ]
    },
    {
     "name": "stdout",
     "output_type": "stream",
     "text": [
      "min value is  tensor(-1.0223)\n",
      "max value is  tensor(1.0314)\n"
     ]
    },
    {
     "name": "stderr",
     "output_type": "stream",
     "text": [
      "2025-02-19 20:49:39,774 INFO synthesis text 在这场大雨中，街道变得湿漉漉的，行人匆忙地避雨，车水马龙的道路上车轮溅起阵阵水花，仿佛是城市的一首无声的交响乐，充满了节奏感与活力。\n",
      "2025-02-19 20:49:51,687 INFO yield speech len 17.28, rtf 0.6893791396308828\n",
      "100%|██████████| 1/1 [00:12<00:00, 12.50s/it]\n"
     ]
    },
    {
     "name": "stdout",
     "output_type": "stream",
     "text": [
      "min value is  tensor(-1.0223)\n",
      "max value is  tensor(1.0314)\n"
     ]
    },
    {
     "name": "stderr",
     "output_type": "stream",
     "text": [
      "2025-02-19 20:49:52,288 INFO synthesis text 昨晚的电影令人震撼，剧情扣人心弦，演员的表现十分出色，尤其是主角的演技，将人物内心的复杂情感展现得淋漓尽致，电影结束后大家都沉浸在思考中。\n",
      "2025-02-19 20:50:03,448 INFO yield speech len 16.56, rtf 0.6739273451376653\n",
      "100%|██████████| 1/1 [00:11<00:00, 11.74s/it]\n"
     ]
    },
    {
     "name": "stdout",
     "output_type": "stream",
     "text": [
      "min value is  tensor(-1.0223)\n",
      "max value is  tensor(1.0314)\n"
     ]
    },
    {
     "name": "stderr",
     "output_type": "stream",
     "text": [
      "2025-02-19 20:50:04,049 INFO synthesis text 这个项目非常具有挑战性，不仅要求我们具备专业的技能，还需要团队成员之间紧密合作，只有发挥每个人的优势，才能够完成这个庞大的任务，实现目标。\n",
      "2025-02-19 20:50:15,315 INFO yield speech len 16.48, rtf 0.6836035297912301\n",
      "100%|██████████| 1/1 [00:11<00:00, 11.85s/it]\n",
      "171it [25:34, 42.10s/it]"
     ]
    },
    {
     "name": "stdout",
     "output_type": "stream",
     "text": [
      "min value is  tensor(-1.0223)\n",
      "max value is  tensor(1.0314)\n"
     ]
    },
    {
     "name": "stderr",
     "output_type": "stream",
     "text": [
      "2025-02-19 20:50:15,913 INFO synthesis text 每个人的梦想都是独一无二的，但实现梦想的过程往往充满了波折和挑战，我们要有足够的耐心和决心，才能在艰难的时光里坚持下去，最终取得成功。\n",
      "2025-02-19 20:50:27,128 INFO yield speech len 16.24, rtf 0.6906143990643506\n",
      "100%|██████████| 1/1 [00:11<00:00, 11.79s/it]\n"
     ]
    },
    {
     "name": "stdout",
     "output_type": "stream",
     "text": [
      "min value is  tensor(-1.0223)\n",
      "max value is  tensor(1.0314)\n"
     ]
    },
    {
     "name": "stderr",
     "output_type": "stream",
     "text": [
      "2025-02-19 20:50:27,731 INFO synthesis text 他是一位非常有远见的企业家，总是能看到别人看不到的机会，并且能够及时抓住，从而带领公司不断发展壮大，成为行业中的领跑者，令人敬佩。\n",
      "2025-02-19 20:50:37,261 INFO yield speech len 14.04, rtf 0.6787631076964897\n",
      "100%|██████████| 1/1 [00:10<00:00, 10.11s/it]\n"
     ]
    },
    {
     "name": "stdout",
     "output_type": "stream",
     "text": [
      "min value is  tensor(-1.0223)\n",
      "max value is  tensor(1.0314)\n"
     ]
    },
    {
     "name": "stderr",
     "output_type": "stream",
     "text": [
      "2025-02-19 20:50:37,880 INFO synthesis text 今天的会议十分成功，各部门的负责人就未来的工作进行了详细的讨论，大家提出了许多有建设性的意见，并且决定实施一些新的策略，以推动公司进步。\n",
      "2025-02-19 20:50:46,395 INFO yield speech len 12.76, rtf 0.6673001196690861\n",
      "100%|██████████| 1/1 [00:09<00:00,  9.11s/it]\n"
     ]
    },
    {
     "name": "stdout",
     "output_type": "stream",
     "text": [
      "min value is  tensor(-1.0223)\n",
      "max value is  tensor(1.0314)\n"
     ]
    },
    {
     "name": "stderr",
     "output_type": "stream",
     "text": [
      "2025-02-19 20:50:46,997 INFO synthesis text 这座图书馆藏书丰富，里面有从古至今的各种书籍，不仅有文学作品，还有历史文献和科技资料，深深吸引了许多读者，仿佛是知识的宝库，人人都向往。\n",
      "2025-02-19 20:50:58,796 INFO yield speech len 17.04, rtf 0.6924185534598123\n",
      "100%|██████████| 1/1 [00:12<00:00, 12.38s/it]\n",
      "172it [26:18, 42.52s/it]"
     ]
    },
    {
     "name": "stdout",
     "output_type": "stream",
     "text": [
      "min value is  tensor(-1.0223)\n",
      "max value is  tensor(1.0314)\n"
     ]
    },
    {
     "name": "stderr",
     "output_type": "stream",
     "text": [
      "2025-02-19 20:50:59,397 INFO synthesis text 我们的学校不仅注重学术成绩的提升，也十分关注学生们的身心健康，定期组织心理辅导和体育活动，努力营造一个全面发展的学习环境，让每个孩子都能健康成长。\n",
      "2025-02-19 20:51:11,758 INFO yield speech len 17.96, rtf 0.6882304736394393\n",
      "100%|██████████| 1/1 [00:12<00:00, 12.94s/it]\n"
     ]
    },
    {
     "name": "stdout",
     "output_type": "stream",
     "text": [
      "min value is  tensor(-1.0223)\n",
      "max value is  tensor(1.0314)\n"
     ]
    },
    {
     "name": "stderr",
     "output_type": "stream",
     "text": [
      "2025-02-19 20:51:12,372 INFO synthesis text 在这座城市里，文化多元、历史悠久，各种文化活动层出不穷，从戏剧到音乐，从美术到舞蹈，每一项艺术形式都能在这里找到展示的舞台，给人留下深刻印象。\n",
      "2025-02-19 20:51:26,713 INFO yield speech len 21.72, rtf 0.6602846785803527\n",
      "100%|██████████| 1/1 [00:14<00:00, 14.93s/it]\n"
     ]
    },
    {
     "name": "stdout",
     "output_type": "stream",
     "text": [
      "min value is  tensor(-1.0223)\n",
      "max value is  tensor(1.0314)\n"
     ]
    },
    {
     "name": "stderr",
     "output_type": "stream",
     "text": [
      "2025-02-19 20:51:27,316 INFO synthesis text 科学技术的迅速发展改变了我们的生活方式，不仅带来了许多便利，还引发了不少社会问题，因此，我们必须保持理性，全面分析技术的利弊，以做出明智的决策。\n",
      "2025-02-19 20:51:37,899 INFO yield speech len 15.44, rtf 0.6854855180404347\n",
      "100%|██████████| 1/1 [00:11<00:00, 11.16s/it]\n"
     ]
    },
    {
     "name": "stdout",
     "output_type": "stream",
     "text": [
      "min value is  tensor(-1.0223)\n",
      "max value is  tensor(1.0314)\n"
     ]
    },
    {
     "name": "stderr",
     "output_type": "stream",
     "text": [
      "2025-02-19 20:51:38,500 INFO synthesis text 这个餐厅的菜肴别具一格，厨师用心调配每道菜的配料和味道，每一口都能让人感受到食材的鲜美和浓郁的香气，真是一场视觉与味觉的盛宴。\n",
      "2025-02-19 20:51:50,086 INFO yield speech len 17.16, rtf 0.6751582200154835\n",
      "100%|██████████| 1/1 [00:12<00:00, 12.17s/it]\n",
      "173it [27:09, 45.15s/it]"
     ]
    },
    {
     "name": "stdout",
     "output_type": "stream",
     "text": [
      "min value is  tensor(-1.0223)\n",
      "max value is  tensor(1.0314)\n"
     ]
    },
    {
     "name": "stderr",
     "output_type": "stream",
     "text": [
      "2025-02-19 20:51:50,696 INFO synthesis text 在这座城市的街头，每一条巷弄都有着独特的魅力，有些老街保存着传统的手工艺品商铺，而一些现代化的购物中心则展现着时尚与潮流的最新风向。\n",
      "2025-02-19 20:52:02,880 INFO yield speech len 17.64, rtf 0.6906909737186907\n",
      "100%|██████████| 1/1 [00:12<00:00, 12.77s/it]\n"
     ]
    },
    {
     "name": "stdout",
     "output_type": "stream",
     "text": [
      "min value is  tensor(-1.0223)\n",
      "max value is  tensor(1.0314)\n"
     ]
    },
    {
     "name": "stderr",
     "output_type": "stream",
     "text": [
      "2025-02-19 20:52:03,481 INFO synthesis text 他把自己的梦想和实际行动结合起来，从不满足于现状，而是不断创新，敢于尝试新的领域，最终取得了令人瞩目的成就，证明了自己的价值与实力。\n",
      "2025-02-19 20:52:13,937 INFO yield speech len 15.2, rtf 0.6879236980488426\n",
      "100%|██████████| 1/1 [00:11<00:00, 11.04s/it]\n"
     ]
    },
    {
     "name": "stdout",
     "output_type": "stream",
     "text": [
      "min value is  tensor(-1.0223)\n",
      "max value is  tensor(1.0314)\n"
     ]
    },
    {
     "name": "stderr",
     "output_type": "stream",
     "text": [
      "2025-02-19 20:52:14,536 INFO synthesis text 春天是个充满希望的季节，万物复苏，鸟语花香，尤其是在山间，空气清新，景色如画，每一步都仿佛踏进了自然的怀抱，令人心旷神怡。\n",
      "2025-02-19 20:52:24,990 INFO yield speech len 15.56, rtf 0.6718395301799235\n",
      "100%|██████████| 1/1 [00:11<00:00, 11.03s/it]\n"
     ]
    },
    {
     "name": "stdout",
     "output_type": "stream",
     "text": [
      "min value is  tensor(-1.0223)\n",
      "max value is  tensor(1.0314)\n"
     ]
    },
    {
     "name": "stderr",
     "output_type": "stream",
     "text": [
      "2025-02-19 20:52:25,583 INFO synthesis text 最近的天气阴晴不定，早晨和晚上温度较低，中午则时常阳光明媚，街道上的行人穿着厚厚的衣物，但也时常有人脱下外套，享受温暖的阳光照射。\n",
      "2025-02-19 20:52:35,908 INFO yield speech len 15.12, rtf 0.6828335542527456\n",
      "100%|██████████| 1/1 [00:10<00:00, 10.90s/it]\n",
      "174it [27:55, 45.35s/it]"
     ]
    },
    {
     "name": "stdout",
     "output_type": "stream",
     "text": [
      "min value is  tensor(-1.0223)\n",
      "max value is  tensor(1.0314)\n"
     ]
    },
    {
     "name": "stderr",
     "output_type": "stream",
     "text": [
      "2025-02-19 20:52:36,502 INFO synthesis text 这座城市的夜晚充满了活力和魅力，灯光璀璨，街头的咖啡馆里人们悠闲地交谈，公园里有年轻人跳舞、跑步，整个城市仿佛在夜幕下焕发出新的生机。\n",
      "2025-02-19 20:52:48,513 INFO yield speech len 17.92, rtf 0.6702226453593798\n",
      "100%|██████████| 1/1 [00:12<00:00, 12.59s/it]\n"
     ]
    },
    {
     "name": "stdout",
     "output_type": "stream",
     "text": [
      "min value is  tensor(-1.0223)\n",
      "max value is  tensor(1.0314)\n"
     ]
    },
    {
     "name": "stderr",
     "output_type": "stream",
     "text": [
      "2025-02-19 20:52:49,133 INFO synthesis text 在这个快速发展的时代，如何保持内心的平静，找到真正属于自己的生活节奏，成为了许多人关注的话题，有些人选择冥想，有些人选择旅行，让自己重新充电。\n",
      "2025-02-19 20:53:00,335 INFO yield speech len 16.04, rtf 0.6983857796971044\n",
      "100%|██████████| 1/1 [00:11<00:00, 11.80s/it]\n"
     ]
    },
    {
     "name": "stdout",
     "output_type": "stream",
     "text": [
      "min value is  tensor(-1.0223)\n",
      "max value is  tensor(1.0314)\n"
     ]
    },
    {
     "name": "stderr",
     "output_type": "stream",
     "text": [
      "2025-02-19 20:53:00,936 INFO synthesis text 新的一年，许多人都立下了新的目标，希望能够抓住每一个机遇，不断超越自我，实现自己的梦想，无论遇到什么困难，都要坚持走自己的路，勇往直前。\n",
      "2025-02-19 20:53:11,450 INFO yield speech len 15.56, rtf 0.6757022942246386\n",
      "100%|██████████| 1/1 [00:11<00:00, 11.09s/it]\n"
     ]
    },
    {
     "name": "stdout",
     "output_type": "stream",
     "text": [
      "min value is  tensor(-1.0223)\n",
      "max value is  tensor(1.0314)\n"
     ]
    },
    {
     "name": "stderr",
     "output_type": "stream",
     "text": [
      "2025-02-19 20:53:12,047 INFO synthesis text 在这片绿意盎然的森林中，鸟语花香，山川与溪流交织成一幅美丽的自然画卷，令人陶醉其中，仿佛与大自然融为一体，心情格外舒畅。\n",
      "2025-02-19 20:53:22,162 INFO yield speech len 15.32, rtf 0.6602450543844357\n",
      "100%|██████████| 1/1 [00:10<00:00, 10.69s/it]\n",
      "175it [28:41, 45.62s/it]"
     ]
    },
    {
     "name": "stdout",
     "output_type": "stream",
     "text": [
      "min value is  tensor(-1.0223)\n",
      "max value is  tensor(1.0314)\n"
     ]
    },
    {
     "name": "stderr",
     "output_type": "stream",
     "text": [
      "2025-02-19 20:53:22,772 INFO synthesis text 今天的会议讨论了许多重要议题，各部门负责人都提出了自己的见解，大家激烈辩论，最终达成了共识，决议通过后，大家都表示信心满满。\n",
      "2025-02-19 20:53:33,422 INFO yield speech len 16.44, rtf 0.6477944752305673\n",
      "100%|██████████| 1/1 [00:11<00:00, 11.24s/it]\n"
     ]
    },
    {
     "name": "stdout",
     "output_type": "stream",
     "text": [
      "min value is  tensor(-1.0223)\n",
      "max value is  tensor(1.0314)\n"
     ]
    },
    {
     "name": "stderr",
     "output_type": "stream",
     "text": [
      "2025-02-19 20:53:34,038 INFO synthesis text 那座古老的城堡屹立在山顶，风吹过，松树摇曳，似乎隐藏着千年的故事，探索其中的历史和秘密，是一次充满冒险的旅程，令人兴奋不已。\n",
      "2025-02-19 20:53:46,232 INFO yield speech len 17.76, rtf 0.686544998809024\n",
      "100%|██████████| 1/1 [00:12<00:00, 12.79s/it]\n"
     ]
    },
    {
     "name": "stdout",
     "output_type": "stream",
     "text": [
      "min value is  tensor(-1.0223)\n",
      "max value is  tensor(1.0314)\n"
     ]
    },
    {
     "name": "stderr",
     "output_type": "stream",
     "text": [
      "2025-02-19 20:53:46,848 INFO synthesis text 他精通多种语言，尤其擅长英语、法语和西班牙语，出国旅行时总能与当地人流利对话，给人留下深刻的印象，成了大家眼中的语言天才。\n",
      "2025-02-19 20:53:56,473 INFO yield speech len 13.84, rtf 0.6953254428213043\n",
      "100%|██████████| 1/1 [00:10<00:00, 10.22s/it]\n"
     ]
    },
    {
     "name": "stdout",
     "output_type": "stream",
     "text": [
      "min value is  tensor(-1.0223)\n",
      "max value is  tensor(1.0314)\n"
     ]
    },
    {
     "name": "stderr",
     "output_type": "stream",
     "text": [
      "2025-02-19 20:53:57,084 INFO synthesis text 春天来临时，田野里绿意盎然，百花齐放，空气清新，阳光透过云层洒在大地上，整个世界充满了生机，仿佛一切都焕发了新的活力。\n",
      "2025-02-19 20:54:09,846 INFO yield speech len 18.44, rtf 0.6921083834062688\n",
      "100%|██████████| 1/1 [00:13<00:00, 13.35s/it]\n",
      "176it [29:29, 46.24s/it]"
     ]
    },
    {
     "name": "stdout",
     "output_type": "stream",
     "text": [
      "min value is  tensor(-1.0223)\n",
      "max value is  tensor(1.0314)\n"
     ]
    },
    {
     "name": "stderr",
     "output_type": "stream",
     "text": [
      "2025-02-19 20:54:10,453 INFO synthesis text 这位画家的作品充满了灵感和创意，每一幅画都透露出他对生活的独特理解，不拘一格的风格让人叹为观止，给人留下深刻的印象。\n",
      "2025-02-19 20:54:19,734 INFO yield speech len 13.16, rtf 0.7052128256997802\n",
      "100%|██████████| 1/1 [00:09<00:00,  9.86s/it]\n"
     ]
    },
    {
     "name": "stdout",
     "output_type": "stream",
     "text": [
      "min value is  tensor(-1.0223)\n",
      "max value is  tensor(1.0314)\n"
     ]
    },
    {
     "name": "stderr",
     "output_type": "stream",
     "text": [
      "2025-02-19 20:54:20,339 INFO synthesis text 这个城市的地铁系统非常发达，四通八达，快速而高效，解决了人们日常出行的难题，节省了大量时间，让市民们的生活更加便利。\n",
      "2025-02-19 20:54:30,721 INFO yield speech len 15.64, rtf 0.6638245814291717\n",
      "100%|██████████| 1/1 [00:10<00:00, 10.96s/it]\n"
     ]
    },
    {
     "name": "stdout",
     "output_type": "stream",
     "text": [
      "min value is  tensor(-1.0223)\n",
      "max value is  tensor(1.0314)\n"
     ]
    },
    {
     "name": "stderr",
     "output_type": "stream",
     "text": [
      "2025-02-19 20:54:31,323 INFO synthesis text 他一心想要成为一名医生，为了这个目标，他刻苦学习，夜以继日地钻研医学知识，终于成功进入了医学院，开始了人生的新篇章。\n",
      "2025-02-19 20:54:41,800 INFO yield speech len 14.44, rtf 0.7255190627396603\n",
      "100%|██████████| 1/1 [00:11<00:00, 11.06s/it]\n"
     ]
    },
    {
     "name": "stdout",
     "output_type": "stream",
     "text": [
      "min value is  tensor(-1.0223)\n",
      "max value is  tensor(1.0314)\n"
     ]
    },
    {
     "name": "stderr",
     "output_type": "stream",
     "text": [
      "2025-02-19 20:54:42,428 INFO synthesis text 这家餐厅的菜单非常丰富，菜肴色香味俱佳，无论是传统的中式佳肴，还是西式的精致美食，都让人垂涎欲滴，成为了食客们的热门去处。\n",
      "2025-02-19 20:54:54,583 INFO yield speech len 16.0, rtf 0.7596788555383682\n",
      "100%|██████████| 1/1 [00:12<00:00, 12.76s/it]\n",
      "177it [30:14, 45.79s/it]"
     ]
    },
    {
     "name": "stdout",
     "output_type": "stream",
     "text": [
      "min value is  tensor(-1.0223)\n",
      "max value is  tensor(1.0314)\n"
     ]
    },
    {
     "name": "stderr",
     "output_type": "stream",
     "text": [
      "2025-02-19 20:54:55,183 INFO synthesis text 夏天的夜晚，星光闪烁，温暖的微风拂过，草地上繁花似锦，大家围坐在一起，聊着天，享受着悠闲的时光，心情格外愉快。\n",
      "2025-02-19 20:55:04,290 INFO yield speech len 12.56, rtf 0.7251116120891207\n",
      "100%|██████████| 1/1 [00:09<00:00,  9.69s/it]\n"
     ]
    },
    {
     "name": "stdout",
     "output_type": "stream",
     "text": [
      "min value is  tensor(-1.0223)\n",
      "max value is  tensor(1.0314)\n"
     ]
    },
    {
     "name": "stderr",
     "output_type": "stream",
     "text": [
      "2025-02-19 20:55:04,907 INFO synthesis text 这部电影的剧情跌宕起伏，人物关系复杂多变，演员们的演技非常精湛，几乎每个细节都让人感动，最后的结局出乎意料，令人久久难以忘怀。\n",
      "2025-02-19 20:55:16,271 INFO yield speech len 15.84, rtf 0.7174652333211418\n",
      "100%|██████████| 1/1 [00:11<00:00, 11.96s/it]\n"
     ]
    },
    {
     "name": "stdout",
     "output_type": "stream",
     "text": [
      "min value is  tensor(-1.0223)\n",
      "max value is  tensor(1.0314)\n"
     ]
    },
    {
     "name": "stderr",
     "output_type": "stream",
     "text": [
      "2025-02-19 20:55:16,868 INFO synthesis text 城市的繁华与乡村的宁静截然不同，每当我回到家乡，走在那条熟悉的小路上，耳边传来的是鸟儿的歌唱，空气中弥漫着泥土的清香。\n",
      "2025-02-19 20:55:27,371 INFO yield speech len 14.96, rtf 0.7020222630730287\n",
      "100%|██████████| 1/1 [00:11<00:00, 11.08s/it]\n"
     ]
    },
    {
     "name": "stdout",
     "output_type": "stream",
     "text": [
      "min value is  tensor(-1.0223)\n",
      "max value is  tensor(1.0314)\n"
     ]
    },
    {
     "name": "stderr",
     "output_type": "stream",
     "text": [
      "2025-02-19 20:55:27,969 INFO synthesis text 这位企业家以敏锐的眼光和远见卓识，成功将公司从一个小型企业发展成了行业的领军者，不仅改变了自己的命运，也创造了大量就业机会。\n",
      "2025-02-19 20:55:37,814 INFO yield speech len 14.36, rtf 0.6856169541234094\n",
      "100%|██████████| 1/1 [00:10<00:00, 10.42s/it]\n",
      "178it [30:57, 45.02s/it]"
     ]
    },
    {
     "name": "stdout",
     "output_type": "stream",
     "text": [
      "min value is  tensor(-1.0223)\n",
      "max value is  tensor(1.0314)\n"
     ]
    },
    {
     "name": "stderr",
     "output_type": "stream",
     "text": [
      "2025-02-19 20:55:38,413 INFO synthesis text 这个项目的实施面临着诸多困难，但在团队成员的共同努力下，最终克服了种种难题，完成了任务，取得了令人瞩目的成绩。\n",
      "2025-02-19 20:55:48,321 INFO yield speech len 14.12, rtf 0.7017131736528435\n",
      "100%|██████████| 1/1 [00:10<00:00, 10.49s/it]\n"
     ]
    },
    {
     "name": "stdout",
     "output_type": "stream",
     "text": [
      "min value is  tensor(-1.0223)\n",
      "max value is  tensor(1.0314)\n"
     ]
    },
    {
     "name": "stderr",
     "output_type": "stream",
     "text": [
      "2025-02-19 20:55:48,987 INFO synthesis text 每年的春晚都是家喻户晓的盛事，各种精彩的节目、明星的表演、幽默的笑话和精彩的舞蹈都让观众目不暇接，成为了人们阖家团圆的重要时刻。\n",
      "2025-02-19 20:55:58,371 INFO yield speech len 13.0, rtf 0.7218810228201059\n",
      "100%|██████████| 1/1 [00:10<00:00, 10.03s/it]\n"
     ]
    },
    {
     "name": "stdout",
     "output_type": "stream",
     "text": [
      "min value is  tensor(-1.0223)\n",
      "max value is  tensor(1.0314)\n"
     ]
    },
    {
     "name": "stderr",
     "output_type": "stream",
     "text": [
      "2025-02-19 20:55:58,966 INFO synthesis text 他每天早晨都会去跑步，既保持了身体健康，又提高了自己的意志力，不论天气多么寒冷或者炎热，他都从不间断，这种坚持让他获得了不小的收获。\n",
      "2025-02-19 20:56:08,331 INFO yield speech len 13.48, rtf 0.6947124570342836\n",
      "100%|██████████| 1/1 [00:09<00:00,  9.94s/it]\n"
     ]
    },
    {
     "name": "stdout",
     "output_type": "stream",
     "text": [
      "min value is  tensor(-1.0223)\n",
      "max value is  tensor(1.0314)\n"
     ]
    },
    {
     "name": "stderr",
     "output_type": "stream",
     "text": [
      "2025-02-19 20:56:08,926 INFO synthesis text 这次旅行让我体验到了不一样的风景和文化，无论是历史悠久的古老遗址，还是现代化的大都市，每一站都充满了新奇与惊喜，留给我深刻的印象。\n",
      "2025-02-19 20:56:18,247 INFO yield speech len 13.8, rtf 0.6754433935967045\n",
      "100%|██████████| 1/1 [00:09<00:00,  9.89s/it]\n",
      "179it [31:37, 43.64s/it]"
     ]
    },
    {
     "name": "stdout",
     "output_type": "stream",
     "text": [
      "min value is  tensor(-1.0223)\n",
      "max value is  tensor(1.0314)\n"
     ]
    },
    {
     "name": "stderr",
     "output_type": "stream",
     "text": [
      "2025-02-19 20:56:18,843 INFO synthesis text 在这片辽阔的大草原上，牛羊成群，牧民们骑马奔驰，过着悠闲自在的生活，天空湛蓝，空气清新，每一口呼吸都让人感到无比畅快。\n",
      "2025-02-19 20:56:31,225 INFO yield speech len 17.52, rtf 0.706748916133898\n",
      "100%|██████████| 1/1 [00:12<00:00, 12.96s/it]\n"
     ]
    },
    {
     "name": "stdout",
     "output_type": "stream",
     "text": [
      "min value is  tensor(-1.0223)\n",
      "max value is  tensor(1.0314)\n"
     ]
    },
    {
     "name": "stderr",
     "output_type": "stream",
     "text": [
      "2025-02-19 20:56:31,834 INFO synthesis text 这位科学家的研究成果在学术界引起了广泛关注，他通过实验数据证明了一个重要的理论，使得许多人对这个课题有了新的认识，成为了该领域的先锋人物。\n",
      "2025-02-19 20:56:42,750 INFO yield speech len 15.36, rtf 0.7107335608452559\n",
      "100%|██████████| 1/1 [00:11<00:00, 11.50s/it]\n"
     ]
    },
    {
     "name": "stdout",
     "output_type": "stream",
     "text": [
      "min value is  tensor(-1.0223)\n",
      "max value is  tensor(1.0314)\n"
     ]
    },
    {
     "name": "stderr",
     "output_type": "stream",
     "text": [
      "2025-02-19 20:56:43,367 INFO synthesis text 这部历史剧以真实的史实为背景，生动地再现了那个动荡的年代，剧中的人物复杂多样，每个细节都充满了历史的沉淀，让人对过去的历史产生了深刻的思考。\n",
      "2025-02-19 20:56:54,450 INFO yield speech len 16.44, rtf 0.6741362186533981\n",
      "100%|██████████| 1/1 [00:11<00:00, 11.67s/it]\n"
     ]
    },
    {
     "name": "stdout",
     "output_type": "stream",
     "text": [
      "min value is  tensor(-1.0223)\n",
      "max value is  tensor(1.0314)\n"
     ]
    },
    {
     "name": "stderr",
     "output_type": "stream",
     "text": [
      "2025-02-19 20:56:55,051 INFO synthesis text 她从小就对绘画充满了兴趣，经常拿起画笔，将眼前的景色转化为一幅幅美丽的画作，每一笔都充满了灵感，展现了她非凡的艺术天赋。\n",
      "2025-02-19 20:57:04,053 INFO yield speech len 12.88, rtf 0.6988977423365812\n",
      "100%|██████████| 1/1 [00:09<00:00,  9.58s/it]\n",
      "180it [32:23, 44.29s/it]"
     ]
    },
    {
     "name": "stdout",
     "output_type": "stream",
     "text": [
      "min value is  tensor(-1.0223)\n",
      "max value is  tensor(1.0314)\n"
     ]
    },
    {
     "name": "stderr",
     "output_type": "stream",
     "text": [
      "2025-02-19 20:57:04,652 INFO synthesis text 他从不急功近利，而是踏实肯干，脚踏实地，逐渐在自己的领域中站稳了脚跟，凭借着出色的业务能力和真诚的待人态度，获得了周围人的认可。\n",
      "2025-02-19 20:57:13,974 INFO yield speech len 13.68, rtf 0.6814292648382354\n",
      "100%|██████████| 1/1 [00:09<00:00,  9.90s/it]\n"
     ]
    },
    {
     "name": "stdout",
     "output_type": "stream",
     "text": [
      "min value is  tensor(-1.0223)\n",
      "max value is  tensor(1.0314)\n"
     ]
    },
    {
     "name": "stderr",
     "output_type": "stream",
     "text": [
      "2025-02-19 20:57:14,579 INFO synthesis text 无论多么艰难的任务，只要我们齐心协力，就没有克服不了的困难。通过大家的共同努力，我们最终达成了目标，获得了丰硕的成果，心里非常满足。\n",
      "2025-02-19 20:57:23,491 INFO yield speech len 12.84, rtf 0.6940637422127888\n",
      "100%|██████████| 1/1 [00:09<00:00,  9.49s/it]\n"
     ]
    },
    {
     "name": "stdout",
     "output_type": "stream",
     "text": [
      "min value is  tensor(-1.0223)\n",
      "max value is  tensor(1.0314)\n"
     ]
    },
    {
     "name": "stderr",
     "output_type": "stream",
     "text": [
      "2025-02-19 20:57:24,100 INFO synthesis text 这片古老的遗址蕴藏着丰富的历史文化资源，考古学家们在这里进行了多次挖掘，发现了大量珍贵的文物，每一次的发现都让人兴奋不已。\n",
      "2025-02-19 20:57:35,356 INFO yield speech len 15.92, rtf 0.7070131487582796\n",
      "100%|██████████| 1/1 [00:11<00:00, 11.84s/it]\n"
     ]
    },
    {
     "name": "stdout",
     "output_type": "stream",
     "text": [
      "min value is  tensor(-1.0223)\n",
      "max value is  tensor(1.0314)\n"
     ]
    },
    {
     "name": "stderr",
     "output_type": "stream",
     "text": [
      "2025-02-19 20:57:35,956 INFO synthesis text 这个国家的文化底蕴深厚，既有丰富的传统艺术，又有悠久的历史背景，各种古老的传说和故事至今仍然在民间流传，吸引着世界各地的游客。\n",
      "2025-02-19 20:57:45,843 INFO yield speech len 14.84, rtf 0.6662509672725297\n",
      "100%|██████████| 1/1 [00:10<00:00, 10.47s/it]\n",
      "181it [33:05, 43.54s/it]"
     ]
    },
    {
     "name": "stdout",
     "output_type": "stream",
     "text": [
      "min value is  tensor(-1.0223)\n",
      "max value is  tensor(1.0314)\n"
     ]
    },
    {
     "name": "stderr",
     "output_type": "stream",
     "text": [
      "2025-02-19 20:57:46,450 INFO synthesis text 在他的带领下，团队成员们紧密合作，互帮互助，最终完成了这个庞大的项目，大家都对成果感到非常满意，齐心协力的精神也让大家更加团结。\n",
      "2025-02-19 20:57:57,032 INFO yield speech len 15.04, rtf 0.7035856551312386\n",
      "100%|██████████| 1/1 [00:11<00:00, 11.17s/it]\n"
     ]
    },
    {
     "name": "stdout",
     "output_type": "stream",
     "text": [
      "min value is  tensor(-1.0223)\n",
      "max value is  tensor(1.0314)\n"
     ]
    },
    {
     "name": "stderr",
     "output_type": "stream",
     "text": [
      "2025-02-19 20:57:57,632 INFO synthesis text 这家新开的书店非常有特色，不仅有大量畅销书籍，还有很多独立出版的书籍，提供了一个安静舒适的阅读空间，吸引了众多书迷前来驻足。\n",
      "2025-02-19 20:58:08,451 INFO yield speech len 15.52, rtf 0.697091344705562\n",
      "100%|██████████| 1/1 [00:11<00:00, 11.39s/it]\n"
     ]
    },
    {
     "name": "stdout",
     "output_type": "stream",
     "text": [
      "min value is  tensor(-1.0223)\n",
      "max value is  tensor(1.0314)\n"
     ]
    },
    {
     "name": "stderr",
     "output_type": "stream",
     "text": [
      "2025-02-19 20:58:09,053 INFO synthesis text 他总是能迅速发现问题并提出解决方案，工作中井井有条，做事有计划，凭借着扎实的专业能力和卓越的领导才能，带领团队迈向了一个又一个高峰。\n",
      "2025-02-19 20:58:19,915 INFO yield speech len 15.28, rtf 0.710920544819058\n",
      "100%|██████████| 1/1 [00:11<00:00, 11.44s/it]\n"
     ]
    },
    {
     "name": "stdout",
     "output_type": "stream",
     "text": [
      "min value is  tensor(-1.0223)\n",
      "max value is  tensor(1.0314)\n"
     ]
    },
    {
     "name": "stderr",
     "output_type": "stream",
     "text": [
      "2025-02-19 20:58:20,517 INFO synthesis text 在这个信息时代，技术的发展日新月异，许多新的科技产品层出不穷，给我们的生活带来了极大的便利，改变了我们工作、学习和娱乐的方式。\n",
      "2025-02-19 20:58:30,699 INFO yield speech len 14.6, rtf 0.6973788183029384\n",
      "100%|██████████| 1/1 [00:10<00:00, 10.76s/it]\n",
      "182it [33:50, 43.94s/it]"
     ]
    },
    {
     "name": "stdout",
     "output_type": "stream",
     "text": [
      "min value is  tensor(-1.0223)\n",
      "max value is  tensor(1.0314)\n"
     ]
    },
    {
     "name": "stderr",
     "output_type": "stream",
     "text": [
      "2025-02-19 20:58:31,302 INFO synthesis text 这场演唱会的每一首歌都深深打动了观众，无论是经典的老歌，还是新推出的作品，歌手们的精湛演技和感人演绎都让观众久久不能平静，充满感动。\n",
      "2025-02-19 20:58:40,932 INFO yield speech len 14.0, rtf 0.6877973079681396\n",
      "100%|██████████| 1/1 [00:10<00:00, 10.21s/it]\n",
      "183it [34:00, 11.15s/it]"
     ]
    },
    {
     "name": "stdout",
     "output_type": "stream",
     "text": [
      "Done.\n"
     ]
    },
    {
     "name": "stderr",
     "output_type": "stream",
     "text": [
      "\n"
     ]
    }
   ],
   "source": [
    "def zero_shot():\n",
    "\tprint(\"Using zero shot.\")\n",
    "\tfor idx, input_data in enumerate(tqdm(input_generator())):\n",
    "\t\tfor subidx, data in enumerate(input_data):\n",
    "\t\t\tglobal_idx = idx * batch + subidx + 1\n",
    "\t\t\tfilename = os.path.join(output_dir, f\"{global_idx}.wav\")\n",
    "\t\t\tif os.path.exists(filename):\n",
    "\t\t\t\tprint(\"Skip \", filename)\n",
    "\t\t\t\tcontinue\n",
    "\t\t\tret = list(cosyvoice.inference_zero_shot(data, prompt_text, prompt_audio, stream=False))[0]\n",
    "\t\t\ttorchaudio.save(filename, ret['tts_speech'], cosyvoice.sample_rate)\n",
    "def cross_shot():\n",
    "\tprint(\"Using cross shot to \" + cross_lang + \".\")\n",
    "\tinstruct_text = f\"用{cross_lang}说这句话\"\n",
    "\tfor idx, input_data in enumerate(tqdm(input_generator())):\n",
    "\t\tfor subidx, data in enumerate(input_data):\n",
    "\t\t\tglobal_idx = idx * batch + subidx + 1\n",
    "\t\t\tfilename = os.path.join(output_dir, f\"{global_idx}.wav\")\n",
    "\t\t\tif os.path.exists(filename):\n",
    "\t\t\t\tprint(\"Skip \", filename)\n",
    "\t\t\t\tcontinue\n",
    "\t\t\tret = list(cosyvoice.inference_instruct2(data, instruct_text, prompt_audio, stream=False))[0]\n",
    "\t\t\ttorchaudio.save(filename, ret['tts_speech'], cosyvoice.sample_rate)\n",
    "if cross_lang == \"\":\n",
    "\tzero_shot()\n",
    "else:\n",
    "\tcross_shot()\n",
    "print(\"Done.\")"
   ]
  },
  {
   "cell_type": "code",
   "execution_count": null,
   "metadata": {},
   "outputs": [],
   "source": []
  }
 ],
 "metadata": {
  "kernelspec": {
   "display_name": "Python 3",
   "language": "python",
   "name": "python3"
  },
  "language_info": {
   "codemirror_mode": {
    "name": "ipython",
    "version": 3
   },
   "file_extension": ".py",
   "mimetype": "text/x-python",
   "name": "python",
   "nbconvert_exporter": "python",
   "pygments_lexer": "ipython3",
   "version": "3.8.18"
  }
 },
 "nbformat": 4,
 "nbformat_minor": 2
}
