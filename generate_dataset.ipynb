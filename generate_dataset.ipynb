{
 "cells": [
  {
   "cell_type": "code",
   "execution_count": 1,
   "metadata": {},
   "outputs": [
    {
     "name": "stderr",
     "output_type": "stream",
     "text": [
      "2025-02-24 00:57:08,473 - modelscope - INFO - PyTorch version 2.3.1+cu121 Found.\n",
      "2025-02-24 00:57:08,476 - modelscope - INFO - Loading ast index from C:\\Users\\CHENHAOYUAN\\.cache\\modelscope\\ast_indexer\n",
      "2025-02-24 00:57:08,584 - modelscope - INFO - Loading done! Current index file version is 1.15.0, with md5 553a05bea23a95025342c8774cbd7108 and a total number of 980 components indexed\n"
     ]
    },
    {
     "name": "stdout",
     "output_type": "stream",
     "text": [
      "failed to import ttsfrd, use WeTextProcessing instead\n"
     ]
    }
   ],
   "source": [
    "import sys, os\n",
    "from tqdm import tqdm\n",
    "sys.path.append(R\"D:\\GITHUB\\FunAudioLLM-APP\\cosyvoice\")\n",
    "sys.path.append(R\"D:\\GITHUB\\FunAudioLLM-APP\\cosyvoice\\third_party\\Matcha-TTS\")\n",
    "\n",
    "from cosyvoice.cli.cosyvoice import CosyVoice, CosyVoice2\n",
    "from cosyvoice.utils.file_utils import load_wav\n",
    "from cosyvoice.utils.common import set_all_random_seed\n",
    "import torchaudio"
   ]
  },
  {
   "cell_type": "markdown",
   "metadata": {},
   "source": [
    "## 加载模型"
   ]
  },
  {
   "cell_type": "code",
   "execution_count": 2,
   "metadata": {},
   "outputs": [
    {
     "name": "stderr",
     "output_type": "stream",
     "text": [
      "d:\\anaconda3\\envs\\cosyvoice\\lib\\site-packages\\diffusers\\models\\lora.py:393: FutureWarning: `LoRACompatibleLinear` is deprecated and will be removed in version 1.0.0. Use of `LoRACompatibleLinear` is deprecated. Please switch to PEFT backend by installing PEFT: `pip install peft`.\n",
      "  deprecate(\"LoRACompatibleLinear\", \"1.0.0\", deprecation_message)\n",
      "2025-02-24 00:57:19,106 INFO input frame rate=25\n",
      "d:\\anaconda3\\envs\\cosyvoice\\lib\\site-packages\\onnxruntime\\capi\\onnxruntime_inference_collection.py:69: UserWarning: Specified provider 'CUDAExecutionProvider' is not in available provider names.Available providers: 'AzureExecutionProvider, CPUExecutionProvider'\n",
      "  warnings.warn(\n",
      "2025-02-24 00:57:20,735 WETEXT INFO building fst for zh_normalizer ...\n",
      "2025-02-24 00:57:20,735 INFO building fst for zh_normalizer ...\n",
      "2025-02-24 00:57:43,918 WETEXT INFO done\n",
      "2025-02-24 00:57:43,918 INFO done\n",
      "2025-02-24 00:57:43,919 WETEXT INFO fst path: d:\\anaconda3\\envs\\cosyvoice\\lib\\site-packages\\tn\\zh_tn_tagger.fst\n",
      "2025-02-24 00:57:43,919 INFO fst path: d:\\anaconda3\\envs\\cosyvoice\\lib\\site-packages\\tn\\zh_tn_tagger.fst\n",
      "2025-02-24 00:57:43,920 WETEXT INFO           d:\\anaconda3\\envs\\cosyvoice\\lib\\site-packages\\tn\\zh_tn_verbalizer.fst\n",
      "2025-02-24 00:57:43,920 INFO           d:\\anaconda3\\envs\\cosyvoice\\lib\\site-packages\\tn\\zh_tn_verbalizer.fst\n",
      "2025-02-24 00:57:43,929 WETEXT INFO found existing fst: d:\\anaconda3\\envs\\cosyvoice\\lib\\site-packages\\tn\\en_tn_tagger.fst\n",
      "2025-02-24 00:57:43,929 INFO found existing fst: d:\\anaconda3\\envs\\cosyvoice\\lib\\site-packages\\tn\\en_tn_tagger.fst\n",
      "2025-02-24 00:57:43,930 WETEXT INFO                     d:\\anaconda3\\envs\\cosyvoice\\lib\\site-packages\\tn\\en_tn_verbalizer.fst\n",
      "2025-02-24 00:57:43,930 INFO                     d:\\anaconda3\\envs\\cosyvoice\\lib\\site-packages\\tn\\en_tn_verbalizer.fst\n",
      "2025-02-24 00:57:43,930 WETEXT INFO skip building fst for en_normalizer ...\n",
      "2025-02-24 00:57:43,930 INFO skip building fst for en_normalizer ...\n"
     ]
    }
   ],
   "source": [
    "cosyvoice = CosyVoice2(R'D:\\GITHUB\\FunAudioLLM-APP\\cosyvoice\\pretrained_models\\CosyVoice2-0.5B', load_jit=False, load_trt=False, fp16=False)"
   ]
  },
  {
   "cell_type": "markdown",
   "metadata": {},
   "source": [
    "## 加载音频\n",
    "需要手动标记一下音频的内容"
   ]
  },
  {
   "cell_type": "code",
   "execution_count": 3,
   "metadata": {},
   "outputs": [],
   "source": [
    "prompt_audio = load_wav(R'D:\\GITHUB\\OpenVoice\\inputs\\train\\tvboy1_denoised.wav', 16000)\n",
    "prompt_text = \"两个或者三个吧，嗯肚子很胀，就是，有点，嗯，有时候会吐的\""
   ]
  },
  {
   "cell_type": "markdown",
   "metadata": {},
   "source": [
    "## 配置"
   ]
  },
  {
   "cell_type": "code",
   "execution_count": 4,
   "metadata": {},
   "outputs": [
    {
     "name": "stdout",
     "output_type": "stream",
     "text": [
      "['今年在外包装上还首次有了防伪记号。', '既想让马儿跑，又不给马儿足够的草，其结果也就在意料之中。', '最后，张金中在漆黑的夜色下涮洗。', '赵云的朋友郝超英建议先带董静去海口躲躲。', '救援队正在加快安装固定泵，通过抽水稳定水位。']\n",
      "Got dataset:  30\n",
      "Output folder:  ./assets/raw_dataset/tvboy_denoised_mandarin_v2_valid_seed34751218\n",
      "Using seed:  34751218\n"
     ]
    }
   ],
   "source": [
    "batch = 4 # doesn't work at this moment\n",
    "output_dir = \"./assets/raw_dataset/tvboy_denoised_mandarin_v2_valid_seed34751218\"\n",
    "seed = 34751218\n",
    "\n",
    "# 以下选一个\n",
    "\n",
    "## 普通话\n",
    "input_txts = \"./assets/text/mandarin_v2_valid.txt\"\n",
    "cross_lang = \"\"\n",
    "skip_line = 1 # 跟数据集版本有关，v1为0，v2为1\n",
    "\n",
    "## 粤语\n",
    "# input_txts = \"./cantonese.txt\"\n",
    "# cross_lang = \"粤语\"\n",
    "\n",
    "# ！！下面的不要动\n",
    "\n",
    "if not os.path.exists(output_dir):\n",
    "\tos.makedirs(output_dir, exist_ok=True)\n",
    "with open(input_txts, 'r', encoding='utf-8') as f:\n",
    "\tlines = f.readlines()\n",
    "\tinput_text_lines = []\n",
    "\tfor i in range(0, len(lines), skip_line+1):\n",
    "\t\tline = lines[i].strip()\n",
    "\t\tif line == \"\": continue\n",
    "\t\tinput_text_lines.append(line)\n",
    "\tprint(input_text_lines[:5])\n",
    "\tprint(\"Got dataset: \", len(input_text_lines))\n",
    "\tdef input_generator():\n",
    "\t\tfor i in range(0, len(input_text_lines), batch):\n",
    "\t\t\tyield input_text_lines[i:min(i+batch, len(input_text_lines))]\n",
    "set_all_random_seed(seed)\n",
    "print(\"Output folder: \", output_dir)\n",
    "print(\"Using seed: \", seed)"
   ]
  },
  {
   "cell_type": "markdown",
   "metadata": {},
   "source": [
    "## 测试推理"
   ]
  },
  {
   "cell_type": "code",
   "execution_count": 7,
   "metadata": {},
   "outputs": [
    {
     "name": "stdout",
     "output_type": "stream",
     "text": [
      "Using zero infer.\n"
     ]
    },
    {
     "name": "stderr",
     "output_type": "stream",
     "text": [
      "  0%|          | 0/1 [00:00<?, ?it/s]"
     ]
    },
    {
     "name": "stdout",
     "output_type": "stream",
     "text": [
      "min value is  tensor(-1.0223)\n",
      "max value is  tensor(1.0314)\n"
     ]
    },
    {
     "name": "stderr",
     "output_type": "stream",
     "text": [
      "2025-02-24 00:38:34,547 INFO synthesis text 从A到B需要C来维持，然而若D到E然后从F到G就会让H达不到I隔壁的J。\n",
      "d:\\anaconda3\\envs\\cosyvoice\\lib\\site-packages\\transformers\\models\\qwen2\\modeling_qwen2.py:544: UserWarning: 1Torch was not compiled with flash attention. (Triggered internally at C:\\actions-runner\\_work\\pytorch\\pytorch\\builder\\windows\\pytorch\\aten\\src\\ATen\\native\\transformers\\cuda\\sdp_utils.cpp:455.)\n",
      "  attn_output = torch.nn.functional.scaled_dot_product_attention(\n",
      "We detected that you are passing `past_key_values` as a tuple of tuples. This is deprecated and will be removed in v4.47. Please convert your cache or use an appropriate `Cache` class (https://huggingface.co/docs/transformers/kv_cache#legacy-cache-format)\n",
      "2025-02-24 00:38:44,181 INFO yield speech len 13.8, rtf 0.6980435399041659\n",
      "100%|██████████| 1/1 [00:10<00:00, 10.38s/it]"
     ]
    },
    {
     "name": "stdout",
     "output_type": "stream",
     "text": [
      "Done.\n"
     ]
    },
    {
     "name": "stderr",
     "output_type": "stream",
     "text": [
      "\n"
     ]
    }
   ],
   "source": [
    "sample_text = \"从A到B需要C来维持，然而若D到E然后从F到G就会让H达不到I隔壁的J。\" #K、L、M、N、O、P、Q、R、S、T、U、V、W、X、Y、Z。\" # input_text_lines[0]\n",
    "def zero_infer():\n",
    "\tprint(\"Using zero infer.\")\n",
    "\tret = list(cosyvoice.inference_zero_shot(sample_text, prompt_text, prompt_audio, stream=False))[0]\n",
    "\ttorchaudio.save(\"zero_infer.wav\", ret['tts_speech'], cosyvoice.sample_rate)\n",
    "def cross_infer():\n",
    "\tprint(\"Using cross shot to \" + cross_lang + \".\")\n",
    "\tinstruct_text = f\"用{cross_lang}说这句话\"\n",
    "\tret = list(cosyvoice.inference_instruct2(sample_text, instruct_text, prompt_audio, stream=False))[0]\n",
    "\ttorchaudio.save(\"cross_infer.wav\", ret['tts_speech'], cosyvoice.sample_rate)\n",
    "if cross_lang == \"\":\n",
    "\tzero_infer()\n",
    "else:\n",
    "\tcross_infer()\n",
    "print(\"Done.\")"
   ]
  },
  {
   "cell_type": "markdown",
   "metadata": {},
   "source": [
    "## 生成"
   ]
  },
  {
   "cell_type": "code",
   "execution_count": 5,
   "metadata": {},
   "outputs": [
    {
     "name": "stdout",
     "output_type": "stream",
     "text": [
      "Using zero shot.\n"
     ]
    },
    {
     "name": "stderr",
     "output_type": "stream",
     "text": [
      "0it [00:00, ?it/s]"
     ]
    },
    {
     "name": "stdout",
     "output_type": "stream",
     "text": [
      "min value is  tensor(-1.0223)\n",
      "max value is  tensor(1.0314)\n"
     ]
    },
    {
     "name": "stderr",
     "output_type": "stream",
     "text": [
      "2025-02-24 00:57:47,648 INFO synthesis text 今年在外包装上还首次有了防伪记号。\n",
      "d:\\anaconda3\\envs\\cosyvoice\\lib\\site-packages\\transformers\\models\\qwen2\\modeling_qwen2.py:544: UserWarning: 1Torch was not compiled with flash attention. (Triggered internally at C:\\actions-runner\\_work\\pytorch\\pytorch\\builder\\windows\\pytorch\\aten\\src\\ATen\\native\\transformers\\cuda\\sdp_utils.cpp:455.)\n",
      "  attn_output = torch.nn.functional.scaled_dot_product_attention(\n",
      "We detected that you are passing `past_key_values` as a tuple of tuples. This is deprecated and will be removed in v4.47. Please convert your cache or use an appropriate `Cache` class (https://huggingface.co/docs/transformers/kv_cache#legacy-cache-format)\n",
      "2025-02-24 00:57:51,937 INFO yield speech len 5.16, rtf 0.8312660594319188\n",
      "100%|██████████| 1/1 [00:04<00:00,  4.96s/it]\n"
     ]
    },
    {
     "name": "stdout",
     "output_type": "stream",
     "text": [
      "min value is  tensor(-1.0223)\n",
      "max value is  tensor(1.0314)\n"
     ]
    },
    {
     "name": "stderr",
     "output_type": "stream",
     "text": [
      "2025-02-24 00:57:52,528 INFO synthesis text 既想让马儿跑，又不给马儿足够的草，其结果也就在意料之中。\n",
      "2025-02-24 00:57:57,339 INFO yield speech len 6.92, rtf 0.6952387749115166\n",
      "100%|██████████| 1/1 [00:05<00:00,  5.38s/it]\n"
     ]
    },
    {
     "name": "stdout",
     "output_type": "stream",
     "text": [
      "min value is  tensor(-1.0223)\n",
      "max value is  tensor(1.0314)\n"
     ]
    },
    {
     "name": "stderr",
     "output_type": "stream",
     "text": [
      "2025-02-24 00:57:57,926 INFO synthesis text 最后，张金中在漆黑的夜色下涮洗。\n",
      "2025-02-24 00:58:02,310 INFO yield speech len 6.12, rtf 0.7163965624142317\n",
      "100%|██████████| 1/1 [00:04<00:00,  4.96s/it]\n"
     ]
    },
    {
     "name": "stdout",
     "output_type": "stream",
     "text": [
      "min value is  tensor(-1.0223)\n",
      "max value is  tensor(1.0314)\n"
     ]
    },
    {
     "name": "stderr",
     "output_type": "stream",
     "text": [
      "2025-02-24 00:58:02,900 INFO synthesis text 赵云的朋友郝超英建议先带董静去海口躲躲。\n",
      "2025-02-24 00:58:06,556 INFO yield speech len 5.04, rtf 0.7254962410245623\n",
      "100%|██████████| 1/1 [00:04<00:00,  4.24s/it]\n",
      "1it [00:19, 19.60s/it]"
     ]
    },
    {
     "name": "stdout",
     "output_type": "stream",
     "text": [
      "min value is  tensor(-1.0223)\n",
      "max value is  tensor(1.0314)\n"
     ]
    },
    {
     "name": "stderr",
     "output_type": "stream",
     "text": [
      "2025-02-24 00:58:07,142 INFO synthesis text 救援队正在加快安装固定泵，通过抽水稳定水位。\n",
      "2025-02-24 00:58:11,656 INFO yield speech len 6.32, rtf 0.7141291340695152\n",
      "100%|██████████| 1/1 [00:05<00:00,  5.09s/it]\n",
      "2025-02-24 00:58:11,671 WARNING synthesis text 非要让我脸红么。 too short than prompt text 两个或者三个吧，嗯肚子很胀，就是，有点，嗯，有时候会吐的, this may lead to bad performance\n"
     ]
    },
    {
     "name": "stdout",
     "output_type": "stream",
     "text": [
      "min value is  tensor(-1.0223)\n",
      "max value is  tensor(1.0314)\n"
     ]
    },
    {
     "name": "stderr",
     "output_type": "stream",
     "text": [
      "2025-02-24 00:58:12,243 INFO synthesis text 非要让我脸红么。\n",
      "2025-02-24 00:58:14,423 INFO yield speech len 2.48, rtf 0.8789289382196241\n",
      "100%|██████████| 1/1 [00:02<00:00,  2.76s/it]\n"
     ]
    },
    {
     "name": "stdout",
     "output_type": "stream",
     "text": [
      "min value is  tensor(-1.0223)\n",
      "max value is  tensor(1.0314)\n"
     ]
    },
    {
     "name": "stderr",
     "output_type": "stream",
     "text": [
      "2025-02-24 00:58:15,037 INFO synthesis text 丰田发言人伊藤穰一拒绝对报告内容置评。\n",
      "2025-02-24 00:58:19,448 INFO yield speech len 6.28, rtf 0.7025054305981678\n",
      "100%|██████████| 1/1 [00:05<00:00,  5.01s/it]\n",
      "2025-02-24 00:58:19,466 WARNING synthesis text 这阵势，准有大事。 too short than prompt text 两个或者三个吧，嗯肚子很胀，就是，有点，嗯，有时候会吐的, this may lead to bad performance\n"
     ]
    },
    {
     "name": "stdout",
     "output_type": "stream",
     "text": [
      "min value is  tensor(-1.0223)\n",
      "max value is  tensor(1.0314)\n"
     ]
    },
    {
     "name": "stderr",
     "output_type": "stream",
     "text": [
      "2025-02-24 00:58:20,041 INFO synthesis text 这阵势，准有大事。\n",
      "2025-02-24 00:58:22,556 INFO yield speech len 3.32, rtf 0.7575234734868429\n",
      "100%|██████████| 1/1 [00:03<00:00,  3.10s/it]\n",
      "2it [00:35, 17.48s/it]"
     ]
    },
    {
     "name": "stdout",
     "output_type": "stream",
     "text": [
      "min value is  tensor(-1.0223)\n",
      "max value is  tensor(1.0314)\n"
     ]
    },
    {
     "name": "stderr",
     "output_type": "stream",
     "text": [
      "2025-02-24 00:58:23,147 INFO synthesis text 孟京接过报纸看，如逢友人—这里面的文章都是闫楠的风格。\n",
      "2025-02-24 00:58:28,891 INFO yield speech len 8.64, rtf 0.6648236954653705\n",
      "100%|██████████| 1/1 [00:06<00:00,  6.32s/it]\n"
     ]
    },
    {
     "name": "stdout",
     "output_type": "stream",
     "text": [
      "min value is  tensor(-1.0223)\n",
      "max value is  tensor(1.0314)\n"
     ]
    },
    {
     "name": "stderr",
     "output_type": "stream",
     "text": [
      "2025-02-24 00:58:29,489 INFO synthesis text 另外，高温也会对女性卵细胞产生影响。\n",
      "2025-02-24 00:58:33,456 INFO yield speech len 5.48, rtf 0.7238496394052992\n",
      "100%|██████████| 1/1 [00:04<00:00,  4.55s/it]\n"
     ]
    },
    {
     "name": "stdout",
     "output_type": "stream",
     "text": [
      "min value is  tensor(-1.0223)\n",
      "max value is  tensor(1.0314)\n"
     ]
    },
    {
     "name": "stderr",
     "output_type": "stream",
     "text": [
      "2025-02-24 00:58:34,051 INFO synthesis text 他的母亲魏春坐在地上，已经哭得喉咙沙哑。\n",
      "2025-02-24 00:58:38,132 INFO yield speech len 5.64, rtf 0.7235410788380509\n",
      "100%|██████████| 1/1 [00:04<00:00,  4.66s/it]\n"
     ]
    },
    {
     "name": "stdout",
     "output_type": "stream",
     "text": [
      "min value is  tensor(-1.0223)\n",
      "max value is  tensor(1.0314)\n"
     ]
    },
    {
     "name": "stderr",
     "output_type": "stream",
     "text": [
      "2025-02-24 00:58:38,724 INFO synthesis text 传闻越来越多，后来连老汉儿自己都怕了。\n",
      "2025-02-24 00:58:42,313 INFO yield speech len 5.24, rtf 0.6850590232674402\n",
      "100%|██████████| 1/1 [00:04<00:00,  4.17s/it]\n",
      "3it [00:55, 18.52s/it]"
     ]
    },
    {
     "name": "stdout",
     "output_type": "stream",
     "text": [
      "min value is  tensor(-1.0223)\n",
      "max value is  tensor(1.0314)\n"
     ]
    },
    {
     "name": "stderr",
     "output_type": "stream",
     "text": [
      "2025-02-24 00:58:42,916 INFO synthesis text 可那些鸡头是卖淫嫖娼的组织者，是后台老板，是最大的赢利者。\n",
      "2025-02-24 00:58:47,990 INFO yield speech len 7.52, rtf 0.6746488682767179\n",
      "100%|██████████| 1/1 [00:05<00:00,  5.66s/it]\n"
     ]
    },
    {
     "name": "stdout",
     "output_type": "stream",
     "text": [
      "min value is  tensor(-1.0223)\n",
      "max value is  tensor(1.0314)\n"
     ]
    },
    {
     "name": "stderr",
     "output_type": "stream",
     "text": [
      "2025-02-24 00:58:48,587 INFO synthesis text 但是，杰雅瑞南的当务之急是，保持参加下届大选的资格。\n",
      "2025-02-24 00:58:55,033 INFO yield speech len 9.96, rtf 0.6472508112589518\n",
      "100%|██████████| 1/1 [00:07<00:00,  7.03s/it]\n",
      "2025-02-24 00:58:55,051 WARNING synthesis text 这类传统企业会越来越多。 too short than prompt text 两个或者三个吧，嗯肚子很胀，就是，有点，嗯，有时候会吐的, this may lead to bad performance\n"
     ]
    },
    {
     "name": "stdout",
     "output_type": "stream",
     "text": [
      "min value is  tensor(-1.0223)\n",
      "max value is  tensor(1.0314)\n"
     ]
    },
    {
     "name": "stderr",
     "output_type": "stream",
     "text": [
      "2025-02-24 00:58:55,625 INFO synthesis text 这类传统企业会越来越多。\n",
      "2025-02-24 00:58:58,274 INFO yield speech len 3.4, rtf 0.7788901469286751\n",
      "100%|██████████| 1/1 [00:03<00:00,  3.23s/it]\n"
     ]
    },
    {
     "name": "stdout",
     "output_type": "stream",
     "text": [
      "min value is  tensor(-1.0223)\n",
      "max value is  tensor(1.0314)\n"
     ]
    },
    {
     "name": "stderr",
     "output_type": "stream",
     "text": [
      "2025-02-24 00:58:58,858 INFO synthesis text 完了，姑娘估计没法儿原谅他了。\n",
      "2025-02-24 00:59:02,250 INFO yield speech len 4.68, rtf 0.724707047144572\n",
      "100%|██████████| 1/1 [00:03<00:00,  3.97s/it]\n",
      "4it [01:15, 19.08s/it]"
     ]
    },
    {
     "name": "stdout",
     "output_type": "stream",
     "text": [
      "min value is  tensor(-1.0223)\n",
      "max value is  tensor(1.0314)\n"
     ]
    },
    {
     "name": "stderr",
     "output_type": "stream",
     "text": [
      "2025-02-24 00:59:02,839 INFO synthesis text 历史书上介绍慈掉却不说顽固党，编的人水平还没我高呢。\n",
      "2025-02-24 00:59:07,861 INFO yield speech len 7.44, rtf 0.6749776742791617\n",
      "100%|██████████| 1/1 [00:05<00:00,  5.60s/it]\n",
      "2025-02-24 00:59:07,877 WARNING synthesis text 恩，加油吧一起。 too short than prompt text 两个或者三个吧，嗯肚子很胀，就是，有点，嗯，有时候会吐的, this may lead to bad performance\n"
     ]
    },
    {
     "name": "stdout",
     "output_type": "stream",
     "text": [
      "min value is  tensor(-1.0223)\n",
      "max value is  tensor(1.0314)\n"
     ]
    },
    {
     "name": "stderr",
     "output_type": "stream",
     "text": [
      "2025-02-24 00:59:08,459 INFO synthesis text 恩，加油吧一起。\n",
      "2025-02-24 00:59:10,691 INFO yield speech len 2.64, rtf 0.8456959868922378\n",
      "100%|██████████| 1/1 [00:02<00:00,  2.82s/it]\n"
     ]
    },
    {
     "name": "stdout",
     "output_type": "stream",
     "text": [
      "min value is  tensor(-1.0223)\n",
      "max value is  tensor(1.0314)\n"
     ]
    },
    {
     "name": "stderr",
     "output_type": "stream",
     "text": [
      "2025-02-24 00:59:11,280 INFO synthesis text 年幼的小孩扶着铁栅栏玩耍，身着破烂。\n",
      "2025-02-24 00:59:15,186 INFO yield speech len 5.64, rtf 0.6924411083789582\n",
      "100%|██████████| 1/1 [00:04<00:00,  4.48s/it]\n"
     ]
    },
    {
     "name": "stdout",
     "output_type": "stream",
     "text": [
      "min value is  tensor(-1.0223)\n",
      "max value is  tensor(1.0314)\n"
     ]
    },
    {
     "name": "stderr",
     "output_type": "stream",
     "text": [
      "2025-02-24 00:59:15,779 INFO synthesis text 周页面访问量为五点九零三亿，环比下滑百分之二点四。\n",
      "2025-02-24 00:59:20,451 INFO yield speech len 6.92, rtf 0.6751055662342579\n",
      "100%|██████████| 1/1 [00:05<00:00,  5.25s/it]\n",
      "5it [01:33, 18.76s/it]"
     ]
    },
    {
     "name": "stdout",
     "output_type": "stream",
     "text": [
      "min value is  tensor(-1.0223)\n",
      "max value is  tensor(1.0314)\n"
     ]
    },
    {
     "name": "stderr",
     "output_type": "stream",
     "text": [
      "2025-02-24 00:59:21,045 INFO synthesis text 陈氏说，他还没有与绑匪直接谈话。\n",
      "2025-02-24 00:59:24,547 INFO yield speech len 5.04, rtf 0.6949022175773741\n",
      "100%|██████████| 1/1 [00:04<00:00,  4.08s/it]\n",
      "2025-02-24 00:59:24,564 WARNING synthesis text 图为榫卯石构件。 too short than prompt text 两个或者三个吧，嗯肚子很胀，就是，有点，嗯，有时候会吐的, this may lead to bad performance\n"
     ]
    },
    {
     "name": "stdout",
     "output_type": "stream",
     "text": [
      "min value is  tensor(-1.0223)\n",
      "max value is  tensor(1.0314)\n"
     ]
    },
    {
     "name": "stderr",
     "output_type": "stream",
     "text": [
      "2025-02-24 00:59:25,138 INFO synthesis text 图为榫卯石构件。\n",
      "2025-02-24 00:59:27,456 INFO yield speech len 2.8, rtf 0.8277619736535209\n",
      "100%|██████████| 1/1 [00:02<00:00,  2.90s/it]\n"
     ]
    },
    {
     "name": "stdout",
     "output_type": "stream",
     "text": [
      "min value is  tensor(-1.0223)\n",
      "max value is  tensor(1.0314)\n"
     ]
    },
    {
     "name": "stderr",
     "output_type": "stream",
     "text": [
      "2025-02-24 00:59:28,041 INFO synthesis text 购买的经适房能否用于自住以外的用途？\n",
      "2025-02-24 00:59:31,494 INFO yield speech len 5.08, rtf 0.6797093106067087\n",
      "100%|██████████| 1/1 [00:04<00:00,  4.03s/it]\n"
     ]
    },
    {
     "name": "stdout",
     "output_type": "stream",
     "text": [
      "min value is  tensor(-1.0223)\n",
      "max value is  tensor(1.0314)\n"
     ]
    },
    {
     "name": "stderr",
     "output_type": "stream",
     "text": [
      "2025-02-24 00:59:32,090 INFO synthesis text 坐上电梯后，它抖抖突然掉下来了，没有任何先兆。\n",
      "2025-02-24 00:59:36,044 INFO yield speech len 5.52, rtf 0.7163459840028182\n",
      "100%|██████████| 1/1 [00:04<00:00,  4.54s/it]\n",
      "6it [01:49, 17.68s/it]"
     ]
    },
    {
     "name": "stdout",
     "output_type": "stream",
     "text": [
      "min value is  tensor(-1.0223)\n",
      "max value is  tensor(1.0314)\n"
     ]
    },
    {
     "name": "stderr",
     "output_type": "stream",
     "text": [
      "2025-02-24 00:59:36,631 INFO synthesis text 什么时候这条路才能有些绿色呀？\n",
      "2025-02-24 00:59:39,338 INFO yield speech len 3.64, rtf 0.7435701050601162\n",
      "100%|██████████| 1/1 [00:03<00:00,  3.28s/it]\n"
     ]
    },
    {
     "name": "stdout",
     "output_type": "stream",
     "text": [
      "min value is  tensor(-1.0223)\n",
      "max value is  tensor(1.0314)\n"
     ]
    },
    {
     "name": "stderr",
     "output_type": "stream",
     "text": [
      "2025-02-24 00:59:39,927 INFO synthesis text 精华仍在提炼，脚本即将出膛。\n",
      "2025-02-24 00:59:42,857 INFO yield speech len 3.88, rtf 0.7551121343042433\n",
      "100%|██████████| 1/1 [00:03<00:00,  3.51s/it]\n"
     ]
    },
    {
     "name": "stdout",
     "output_type": "stream",
     "text": [
      "min value is  tensor(-1.0223)\n",
      "max value is  tensor(1.0314)\n"
     ]
    },
    {
     "name": "stderr",
     "output_type": "stream",
     "text": [
      "2025-02-24 00:59:43,445 INFO synthesis text 然后就出门了，留下错愕的老婆。\n",
      "2025-02-24 00:59:46,926 INFO yield speech len 4.84, rtf 0.7192723022019568\n",
      "100%|██████████| 1/1 [00:04<00:00,  4.06s/it]\n"
     ]
    },
    {
     "name": "stdout",
     "output_type": "stream",
     "text": [
      "min value is  tensor(-1.0223)\n",
      "max value is  tensor(1.0314)\n"
     ]
    },
    {
     "name": "stderr",
     "output_type": "stream",
     "text": [
      "2025-02-24 00:59:47,519 INFO synthesis text 一七二七年改土归流，盐津归属乌蒙府大关厅。\n",
      "2025-02-24 00:59:52,983 INFO yield speech len 8.24, rtf 0.6630192393238105\n",
      "100%|██████████| 1/1 [00:06<00:00,  6.04s/it]\n",
      "7it [02:06, 17.44s/it]"
     ]
    },
    {
     "name": "stdout",
     "output_type": "stream",
     "text": [
      "min value is  tensor(-1.0223)\n",
      "max value is  tensor(1.0314)\n"
     ]
    },
    {
     "name": "stderr",
     "output_type": "stream",
     "text": [
      "2025-02-24 00:59:53,571 INFO synthesis text 他能率领队友守住澳大利亚队的疯狂进攻吗？\n",
      "2025-02-24 00:59:57,906 INFO yield speech len 6.52, rtf 0.6646285027814058\n",
      "100%|██████████| 1/1 [00:04<00:00,  4.91s/it]\n"
     ]
    },
    {
     "name": "stdout",
     "output_type": "stream",
     "text": [
      "min value is  tensor(-1.0223)\n",
      "max value is  tensor(1.0314)\n"
     ]
    },
    {
     "name": "stderr",
     "output_type": "stream",
     "text": [
      "2025-02-24 00:59:58,495 INFO synthesis text 王奇孤身一人，无儿无女，靠政府补助和拾荒度日。\n",
      "2025-02-24 01:00:02,381 INFO yield speech len 5.48, rtf 0.7089962489413518\n",
      "100%|██████████| 1/1 [00:04<00:00,  4.46s/it]\n",
      "8it [02:15, 16.93s/it]"
     ]
    },
    {
     "name": "stdout",
     "output_type": "stream",
     "text": [
      "Done.\n"
     ]
    },
    {
     "name": "stderr",
     "output_type": "stream",
     "text": [
      "\n"
     ]
    }
   ],
   "source": [
    "SkipExisted = True\n",
    "def zero_shot():\n",
    "\tprint(\"Using zero shot.\")\n",
    "\tfor idx, input_data in enumerate(tqdm(input_generator())):\n",
    "\t\tfor subidx, data in enumerate(input_data):\n",
    "\t\t\tglobal_idx = idx * batch + subidx + 1\n",
    "\t\t\tfilename = os.path.join(output_dir, f\"{global_idx}.wav\")\n",
    "\t\t\tif SkipExisted and os.path.exists(filename):\n",
    "\t\t\t\tprint(\"Skip \", filename)\n",
    "\t\t\t\tcontinue\n",
    "\t\t\tret = list(cosyvoice.inference_zero_shot(data, prompt_text, prompt_audio, stream=False))[0]\n",
    "\t\t\ttorchaudio.save(filename, ret['tts_speech'], cosyvoice.sample_rate)\n",
    "def cross_shot():\n",
    "\tprint(\"Using cross shot to \" + cross_lang + \".\")\n",
    "\tinstruct_text = f\"用{cross_lang}说这句话\"\n",
    "\tfor idx, input_data in enumerate(tqdm(input_generator())):\n",
    "\t\tfor subidx, data in enumerate(input_data):\n",
    "\t\t\tglobal_idx = idx * batch + subidx + 1\n",
    "\t\t\tfilename = os.path.join(output_dir, f\"{global_idx}.wav\")\n",
    "\t\t\tif SkipExisted and os.path.exists(filename):\n",
    "\t\t\t\tprint(\"Skip \", filename)\n",
    "\t\t\t\tcontinue\n",
    "\t\t\tret = list(cosyvoice.inference_instruct2(data, instruct_text, prompt_audio, stream=False))[0]\n",
    "\t\t\ttorchaudio.save(filename, ret['tts_speech'], cosyvoice.sample_rate)\n",
    "if cross_lang == \"\":\n",
    "\tzero_shot()\n",
    "else:\n",
    "\tcross_shot()\n",
    "print(\"Done.\")"
   ]
  },
  {
   "cell_type": "code",
   "execution_count": null,
   "metadata": {},
   "outputs": [],
   "source": []
  }
 ],
 "metadata": {
  "kernelspec": {
   "display_name": "Python 3",
   "language": "python",
   "name": "python3"
  },
  "language_info": {
   "codemirror_mode": {
    "name": "ipython",
    "version": 3
   },
   "file_extension": ".py",
   "mimetype": "text/x-python",
   "name": "python",
   "nbconvert_exporter": "python",
   "pygments_lexer": "ipython3",
   "version": "3.8.18"
  }
 },
 "nbformat": 4,
 "nbformat_minor": 2
}
