{
 "cells": [
  {
   "cell_type": "code",
   "execution_count": 1,
   "metadata": {},
   "outputs": [
    {
     "name": "stderr",
     "output_type": "stream",
     "text": [
      "2025-02-18 14:53:34,889 - modelscope - INFO - PyTorch version 2.3.1+cu121 Found.\n",
      "2025-02-18 14:53:34,894 - modelscope - INFO - Loading ast index from C:\\Users\\CHENHAOYUAN\\.cache\\modelscope\\ast_indexer\n",
      "2025-02-18 14:53:35,032 - modelscope - INFO - Loading done! Current index file version is 1.15.0, with md5 553a05bea23a95025342c8774cbd7108 and a total number of 980 components indexed\n"
     ]
    },
    {
     "name": "stdout",
     "output_type": "stream",
     "text": [
      "failed to import ttsfrd, use WeTextProcessing instead\n"
     ]
    }
   ],
   "source": [
    "import sys, os\n",
    "from tqdm import tqdm\n",
    "sys.path.append(R\"D:\\GITHUB\\FunAudioLLM-APP\\cosyvoice\")\n",
    "sys.path.append(R\"D:\\GITHUB\\FunAudioLLM-APP\\cosyvoice\\third_party\\Matcha-TTS\")\n",
    "\n",
    "from cosyvoice.cli.cosyvoice import CosyVoice, CosyVoice2\n",
    "from cosyvoice.utils.file_utils import load_wav\n",
    "from cosyvoice.utils.common import set_all_random_seed\n",
    "import torchaudio"
   ]
  },
  {
   "cell_type": "markdown",
   "metadata": {},
   "source": [
    "## 加载模型"
   ]
  },
  {
   "cell_type": "code",
   "execution_count": 2,
   "metadata": {},
   "outputs": [
    {
     "name": "stderr",
     "output_type": "stream",
     "text": [
      "d:\\anaconda3\\envs\\cosyvoice\\lib\\site-packages\\diffusers\\models\\lora.py:393: FutureWarning: `LoRACompatibleLinear` is deprecated and will be removed in version 1.0.0. Use of `LoRACompatibleLinear` is deprecated. Please switch to PEFT backend by installing PEFT: `pip install peft`.\n",
      "  deprecate(\"LoRACompatibleLinear\", \"1.0.0\", deprecation_message)\n",
      "2025-02-18 14:53:49,458 INFO input frame rate=25\n",
      "d:\\anaconda3\\envs\\cosyvoice\\lib\\site-packages\\onnxruntime\\capi\\onnxruntime_inference_collection.py:69: UserWarning: Specified provider 'CUDAExecutionProvider' is not in available provider names.Available providers: 'AzureExecutionProvider, CPUExecutionProvider'\n",
      "  warnings.warn(\n",
      "2025-02-18 14:53:51,280 WETEXT INFO building fst for zh_normalizer ...\n",
      "2025-02-18 14:53:51,280 INFO building fst for zh_normalizer ...\n",
      "2025-02-18 14:54:13,830 WETEXT INFO done\n",
      "2025-02-18 14:54:13,830 INFO done\n",
      "2025-02-18 14:54:13,831 WETEXT INFO fst path: d:\\anaconda3\\envs\\cosyvoice\\lib\\site-packages\\tn\\zh_tn_tagger.fst\n",
      "2025-02-18 14:54:13,831 INFO fst path: d:\\anaconda3\\envs\\cosyvoice\\lib\\site-packages\\tn\\zh_tn_tagger.fst\n",
      "2025-02-18 14:54:13,832 WETEXT INFO           d:\\anaconda3\\envs\\cosyvoice\\lib\\site-packages\\tn\\zh_tn_verbalizer.fst\n",
      "2025-02-18 14:54:13,832 INFO           d:\\anaconda3\\envs\\cosyvoice\\lib\\site-packages\\tn\\zh_tn_verbalizer.fst\n",
      "2025-02-18 14:54:13,841 WETEXT INFO found existing fst: d:\\anaconda3\\envs\\cosyvoice\\lib\\site-packages\\tn\\en_tn_tagger.fst\n",
      "2025-02-18 14:54:13,841 INFO found existing fst: d:\\anaconda3\\envs\\cosyvoice\\lib\\site-packages\\tn\\en_tn_tagger.fst\n",
      "2025-02-18 14:54:13,841 WETEXT INFO                     d:\\anaconda3\\envs\\cosyvoice\\lib\\site-packages\\tn\\en_tn_verbalizer.fst\n",
      "2025-02-18 14:54:13,841 INFO                     d:\\anaconda3\\envs\\cosyvoice\\lib\\site-packages\\tn\\en_tn_verbalizer.fst\n",
      "2025-02-18 14:54:13,842 WETEXT INFO skip building fst for en_normalizer ...\n",
      "2025-02-18 14:54:13,842 INFO skip building fst for en_normalizer ...\n"
     ]
    }
   ],
   "source": [
    "cosyvoice = CosyVoice2(R'D:\\GITHUB\\FunAudioLLM-APP\\cosyvoice\\pretrained_models\\CosyVoice2-0.5B', load_jit=False, load_trt=False, fp16=False)"
   ]
  },
  {
   "cell_type": "markdown",
   "metadata": {},
   "source": [
    "## 加载音频\n",
    "需要手动标记一下音频的内容"
   ]
  },
  {
   "cell_type": "code",
   "execution_count": 3,
   "metadata": {},
   "outputs": [],
   "source": [
    "prompt_audio = load_wav(R'D:\\GITHUB\\OpenVoice\\inputs\\train\\tvboy1_denoised.wav', 16000)\n",
    "prompt_text = \"两个或者三个吧，嗯肚子很胀，就是，有点，嗯，有时候会吐的\""
   ]
  },
  {
   "cell_type": "markdown",
   "metadata": {},
   "source": [
    "## 配置"
   ]
  },
  {
   "cell_type": "code",
   "execution_count": 4,
   "metadata": {},
   "outputs": [
    {
     "name": "stdout",
     "output_type": "stream",
     "text": [
      "Got dataset:  418\n",
      "Output folder:  ./tvboy_denoised_mandarin_seed34751218\n",
      "Using seed:  34751218\n"
     ]
    }
   ],
   "source": [
    "batch = 4 # doesn't work at this moment\n",
    "output_dir = \"./tvboy_denoised_mandarin_seed34751218\"\n",
    "seed = 34751218\n",
    "\n",
    "# 以下选一个\n",
    "\n",
    "## 普通话\n",
    "input_txts = \"./mandarin.txt\"\n",
    "cross_lang = \"\"\n",
    "\n",
    "## 粤语\n",
    "# input_txts = \"./cantonese.txt\"\n",
    "# cross_lang = \"粤语\"\n",
    "\n",
    "# ！！下面的不要动\n",
    "\n",
    "if not os.path.exists(output_dir):\n",
    "\tos.makedirs(output_dir, exist_ok=True)\n",
    "with open(input_txts, 'r', encoding='utf-8') as f:\n",
    "\tinput_text_lines = [ x.strip() for x in f.readlines() if x.strip() != \"\" ]\n",
    "\tprint(\"Got dataset: \", len(input_text_lines))\n",
    "\tdef input_generator():\n",
    "\t\tfor i in range(0, len(input_text_lines), batch):\n",
    "\t\t\tyield input_text_lines[i:min(i+batch, len(input_text_lines))]\n",
    "set_all_random_seed(seed)\n",
    "print(\"Output folder: \", output_dir)\n",
    "print(\"Using seed: \", seed)"
   ]
  },
  {
   "cell_type": "markdown",
   "metadata": {},
   "source": [
    "## 测试推理"
   ]
  },
  {
   "cell_type": "code",
   "execution_count": 61,
   "metadata": {},
   "outputs": [
    {
     "name": "stdout",
     "output_type": "stream",
     "text": [
      "Using zero infer.\n"
     ]
    },
    {
     "name": "stderr",
     "output_type": "stream",
     "text": [
      "  0%|          | 0/1 [00:00<?, ?it/s]2025-02-17 11:49:48,140 INFO synthesis text 他在家里吃苹果，喝茶，打电话，唱歌。\n",
      "2025-02-17 11:49:53,008 INFO yield speech len 6.92, rtf 0.7034620453167513\n",
      "100%|██████████| 1/1 [00:05<00:00,  5.28s/it]"
     ]
    },
    {
     "name": "stdout",
     "output_type": "stream",
     "text": [
      "Done.\n"
     ]
    },
    {
     "name": "stderr",
     "output_type": "stream",
     "text": [
      "\n"
     ]
    }
   ],
   "source": [
    "sample_text = input_text_lines[0]\n",
    "def zero_infer():\n",
    "\tprint(\"Using zero infer.\")\n",
    "\tret = list(cosyvoice.inference_zero_shot(sample_text, prompt_text, prompt_audio, stream=False))[0]\n",
    "\ttorchaudio.save(\"zero_infer.wav\", ret['tts_speech'], cosyvoice.sample_rate)\n",
    "def cross_infer():\n",
    "\tprint(\"Using cross shot to \" + cross_lang + \".\")\n",
    "\tinstruct_text = f\"用{cross_lang}说这句话\"\n",
    "\tret = list(cosyvoice.inference_instruct2(sample_text, instruct_text, prompt_audio, stream=False))[0]\n",
    "\ttorchaudio.save(\"cross_infer.wav\", ret['tts_speech'], cosyvoice.sample_rate)\n",
    "if cross_lang == \"\":\n",
    "\tzero_infer()\n",
    "else:\n",
    "\tcross_infer()\n",
    "print(\"Done.\")"
   ]
  },
  {
   "cell_type": "markdown",
   "metadata": {},
   "source": [
    "## 生成"
   ]
  },
  {
   "cell_type": "code",
   "execution_count": 5,
   "metadata": {},
   "outputs": [
    {
     "name": "stdout",
     "output_type": "stream",
     "text": [
      "Using zero shot.\n"
     ]
    },
    {
     "name": "stderr",
     "output_type": "stream",
     "text": [
      "0it [00:00, ?it/s]"
     ]
    },
    {
     "name": "stdout",
     "output_type": "stream",
     "text": [
      "Skip  ./tvboy_denoised_mandarin_seed34751218\\1.wav\n",
      "Skip  ./tvboy_denoised_mandarin_seed34751218\\2.wav\n",
      "Skip  ./tvboy_denoised_mandarin_seed34751218\\3.wav\n",
      "Skip  ./tvboy_denoised_mandarin_seed34751218\\4.wav\n",
      "Skip  ./tvboy_denoised_mandarin_seed34751218\\5.wav\n",
      "Skip  ./tvboy_denoised_mandarin_seed34751218\\6.wav\n",
      "Skip  ./tvboy_denoised_mandarin_seed34751218\\7.wav\n",
      "Skip  ./tvboy_denoised_mandarin_seed34751218\\8.wav\n",
      "Skip  ./tvboy_denoised_mandarin_seed34751218\\9.wav\n",
      "Skip  ./tvboy_denoised_mandarin_seed34751218\\10.wav\n",
      "Skip  ./tvboy_denoised_mandarin_seed34751218\\11.wav\n",
      "Skip  ./tvboy_denoised_mandarin_seed34751218\\12.wav\n",
      "Skip  ./tvboy_denoised_mandarin_seed34751218\\13.wav\n",
      "Skip  ./tvboy_denoised_mandarin_seed34751218\\14.wav\n",
      "Skip  ./tvboy_denoised_mandarin_seed34751218\\15.wav\n",
      "Skip  ./tvboy_denoised_mandarin_seed34751218\\16.wav\n",
      "Skip  ./tvboy_denoised_mandarin_seed34751218\\17.wav\n",
      "Skip  ./tvboy_denoised_mandarin_seed34751218\\18.wav\n",
      "Skip  ./tvboy_denoised_mandarin_seed34751218\\19.wav\n",
      "Skip  ./tvboy_denoised_mandarin_seed34751218\\20.wav\n",
      "Skip  ./tvboy_denoised_mandarin_seed34751218\\21.wav\n",
      "Skip  ./tvboy_denoised_mandarin_seed34751218\\22.wav\n",
      "Skip  ./tvboy_denoised_mandarin_seed34751218\\23.wav\n",
      "Skip  ./tvboy_denoised_mandarin_seed34751218\\24.wav\n",
      "Skip  ./tvboy_denoised_mandarin_seed34751218\\25.wav\n",
      "Skip  ./tvboy_denoised_mandarin_seed34751218\\26.wav\n",
      "Skip  ./tvboy_denoised_mandarin_seed34751218\\27.wav\n",
      "Skip  ./tvboy_denoised_mandarin_seed34751218\\28.wav\n",
      "Skip  ./tvboy_denoised_mandarin_seed34751218\\29.wav\n",
      "Skip  ./tvboy_denoised_mandarin_seed34751218\\30.wav\n",
      "Skip  ./tvboy_denoised_mandarin_seed34751218\\31.wav\n",
      "Skip  ./tvboy_denoised_mandarin_seed34751218\\32.wav\n",
      "Skip  ./tvboy_denoised_mandarin_seed34751218\\33.wav\n",
      "Skip  ./tvboy_denoised_mandarin_seed34751218\\34.wav\n",
      "Skip  ./tvboy_denoised_mandarin_seed34751218\\35.wav\n",
      "Skip  ./tvboy_denoised_mandarin_seed34751218\\36.wav\n",
      "Skip  ./tvboy_denoised_mandarin_seed34751218\\37.wav\n",
      "Skip  ./tvboy_denoised_mandarin_seed34751218\\38.wav\n",
      "Skip  ./tvboy_denoised_mandarin_seed34751218\\39.wav\n",
      "Skip  ./tvboy_denoised_mandarin_seed34751218\\40.wav\n",
      "Skip  ./tvboy_denoised_mandarin_seed34751218\\41.wav\n",
      "Skip  ./tvboy_denoised_mandarin_seed34751218\\42.wav\n",
      "Skip  ./tvboy_denoised_mandarin_seed34751218\\43.wav\n",
      "Skip  ./tvboy_denoised_mandarin_seed34751218\\44.wav\n",
      "Skip  ./tvboy_denoised_mandarin_seed34751218\\45.wav\n",
      "Skip  ./tvboy_denoised_mandarin_seed34751218\\46.wav\n",
      "Skip  ./tvboy_denoised_mandarin_seed34751218\\47.wav\n",
      "Skip  ./tvboy_denoised_mandarin_seed34751218\\48.wav\n",
      "Skip  ./tvboy_denoised_mandarin_seed34751218\\49.wav\n",
      "Skip  ./tvboy_denoised_mandarin_seed34751218\\50.wav\n",
      "Skip  ./tvboy_denoised_mandarin_seed34751218\\51.wav\n",
      "Skip  ./tvboy_denoised_mandarin_seed34751218\\52.wav\n",
      "Skip  ./tvboy_denoised_mandarin_seed34751218\\53.wav\n",
      "Skip  ./tvboy_denoised_mandarin_seed34751218\\54.wav\n",
      "Skip  ./tvboy_denoised_mandarin_seed34751218\\55.wav\n",
      "Skip  ./tvboy_denoised_mandarin_seed34751218\\56.wav\n",
      "Skip  ./tvboy_denoised_mandarin_seed34751218\\57.wav\n",
      "Skip  ./tvboy_denoised_mandarin_seed34751218\\58.wav\n",
      "Skip  ./tvboy_denoised_mandarin_seed34751218\\59.wav\n",
      "Skip  ./tvboy_denoised_mandarin_seed34751218\\60.wav\n",
      "Skip  ./tvboy_denoised_mandarin_seed34751218\\61.wav\n",
      "Skip  ./tvboy_denoised_mandarin_seed34751218\\62.wav\n",
      "Skip  ./tvboy_denoised_mandarin_seed34751218\\63.wav\n",
      "Skip  ./tvboy_denoised_mandarin_seed34751218\\64.wav\n",
      "Skip  ./tvboy_denoised_mandarin_seed34751218\\65.wav\n",
      "Skip  ./tvboy_denoised_mandarin_seed34751218\\66.wav\n",
      "Skip  ./tvboy_denoised_mandarin_seed34751218\\67.wav\n",
      "Skip  ./tvboy_denoised_mandarin_seed34751218\\68.wav\n",
      "Skip  ./tvboy_denoised_mandarin_seed34751218\\69.wav\n",
      "Skip  ./tvboy_denoised_mandarin_seed34751218\\70.wav\n",
      "Skip  ./tvboy_denoised_mandarin_seed34751218\\71.wav\n",
      "Skip  ./tvboy_denoised_mandarin_seed34751218\\72.wav\n",
      "Skip  ./tvboy_denoised_mandarin_seed34751218\\73.wav\n",
      "Skip  ./tvboy_denoised_mandarin_seed34751218\\74.wav\n",
      "Skip  ./tvboy_denoised_mandarin_seed34751218\\75.wav\n",
      "Skip  ./tvboy_denoised_mandarin_seed34751218\\76.wav\n",
      "Skip  ./tvboy_denoised_mandarin_seed34751218\\77.wav\n",
      "Skip  ./tvboy_denoised_mandarin_seed34751218\\78.wav\n",
      "Skip  ./tvboy_denoised_mandarin_seed34751218\\79.wav\n",
      "Skip  ./tvboy_denoised_mandarin_seed34751218\\80.wav\n",
      "Skip  ./tvboy_denoised_mandarin_seed34751218\\81.wav\n",
      "Skip  ./tvboy_denoised_mandarin_seed34751218\\82.wav\n",
      "Skip  ./tvboy_denoised_mandarin_seed34751218\\83.wav\n",
      "Skip  ./tvboy_denoised_mandarin_seed34751218\\84.wav\n",
      "Skip  ./tvboy_denoised_mandarin_seed34751218\\85.wav\n",
      "Skip  ./tvboy_denoised_mandarin_seed34751218\\86.wav\n",
      "Skip  ./tvboy_denoised_mandarin_seed34751218\\87.wav\n",
      "Skip  ./tvboy_denoised_mandarin_seed34751218\\88.wav\n",
      "Skip  ./tvboy_denoised_mandarin_seed34751218\\89.wav\n",
      "Skip  ./tvboy_denoised_mandarin_seed34751218\\90.wav\n",
      "Skip  ./tvboy_denoised_mandarin_seed34751218\\91.wav\n",
      "Skip  ./tvboy_denoised_mandarin_seed34751218\\92.wav\n",
      "Skip  ./tvboy_denoised_mandarin_seed34751218\\93.wav\n",
      "Skip  ./tvboy_denoised_mandarin_seed34751218\\94.wav\n",
      "Skip  ./tvboy_denoised_mandarin_seed34751218\\95.wav\n",
      "Skip  ./tvboy_denoised_mandarin_seed34751218\\96.wav\n",
      "Skip  ./tvboy_denoised_mandarin_seed34751218\\97.wav\n",
      "Skip  ./tvboy_denoised_mandarin_seed34751218\\98.wav\n",
      "Skip  ./tvboy_denoised_mandarin_seed34751218\\99.wav\n",
      "Skip  ./tvboy_denoised_mandarin_seed34751218\\100.wav\n",
      "Skip  ./tvboy_denoised_mandarin_seed34751218\\101.wav\n",
      "Skip  ./tvboy_denoised_mandarin_seed34751218\\102.wav\n",
      "Skip  ./tvboy_denoised_mandarin_seed34751218\\103.wav\n",
      "Skip  ./tvboy_denoised_mandarin_seed34751218\\104.wav\n",
      "Skip  ./tvboy_denoised_mandarin_seed34751218\\105.wav\n",
      "Skip  ./tvboy_denoised_mandarin_seed34751218\\106.wav\n",
      "Skip  ./tvboy_denoised_mandarin_seed34751218\\107.wav\n",
      "Skip  ./tvboy_denoised_mandarin_seed34751218\\108.wav\n",
      "Skip  ./tvboy_denoised_mandarin_seed34751218\\109.wav\n",
      "Skip  ./tvboy_denoised_mandarin_seed34751218\\110.wav\n",
      "Skip  ./tvboy_denoised_mandarin_seed34751218\\111.wav\n",
      "Skip  ./tvboy_denoised_mandarin_seed34751218\\112.wav\n",
      "Skip  ./tvboy_denoised_mandarin_seed34751218\\113.wav\n",
      "Skip  ./tvboy_denoised_mandarin_seed34751218\\114.wav\n",
      "Skip  ./tvboy_denoised_mandarin_seed34751218\\115.wav\n",
      "Skip  ./tvboy_denoised_mandarin_seed34751218\\116.wav\n",
      "Skip  ./tvboy_denoised_mandarin_seed34751218\\117.wav\n",
      "Skip  ./tvboy_denoised_mandarin_seed34751218\\118.wav\n",
      "Skip  ./tvboy_denoised_mandarin_seed34751218\\119.wav\n",
      "Skip  ./tvboy_denoised_mandarin_seed34751218\\120.wav\n",
      "Skip  ./tvboy_denoised_mandarin_seed34751218\\121.wav\n",
      "Skip  ./tvboy_denoised_mandarin_seed34751218\\122.wav\n",
      "Skip  ./tvboy_denoised_mandarin_seed34751218\\123.wav\n",
      "Skip  ./tvboy_denoised_mandarin_seed34751218\\124.wav\n",
      "Skip  ./tvboy_denoised_mandarin_seed34751218\\125.wav\n",
      "Skip  ./tvboy_denoised_mandarin_seed34751218\\126.wav\n",
      "Skip  ./tvboy_denoised_mandarin_seed34751218\\127.wav\n",
      "Skip  ./tvboy_denoised_mandarin_seed34751218\\128.wav\n",
      "Skip  ./tvboy_denoised_mandarin_seed34751218\\129.wav\n",
      "Skip  ./tvboy_denoised_mandarin_seed34751218\\130.wav\n",
      "Skip  ./tvboy_denoised_mandarin_seed34751218\\131.wav\n",
      "Skip  ./tvboy_denoised_mandarin_seed34751218\\132.wav\n",
      "Skip  ./tvboy_denoised_mandarin_seed34751218\\133.wav\n",
      "Skip  ./tvboy_denoised_mandarin_seed34751218\\134.wav\n",
      "Skip  ./tvboy_denoised_mandarin_seed34751218\\135.wav\n",
      "Skip  ./tvboy_denoised_mandarin_seed34751218\\136.wav\n",
      "Skip  ./tvboy_denoised_mandarin_seed34751218\\137.wav\n",
      "Skip  ./tvboy_denoised_mandarin_seed34751218\\138.wav\n",
      "Skip  ./tvboy_denoised_mandarin_seed34751218\\139.wav\n",
      "Skip  ./tvboy_denoised_mandarin_seed34751218\\140.wav\n",
      "Skip  ./tvboy_denoised_mandarin_seed34751218\\141.wav\n",
      "Skip  ./tvboy_denoised_mandarin_seed34751218\\142.wav\n",
      "Skip  ./tvboy_denoised_mandarin_seed34751218\\143.wav\n",
      "Skip  ./tvboy_denoised_mandarin_seed34751218\\144.wav\n",
      "Skip  ./tvboy_denoised_mandarin_seed34751218\\145.wav\n",
      "Skip  ./tvboy_denoised_mandarin_seed34751218\\146.wav\n",
      "Skip  ./tvboy_denoised_mandarin_seed34751218\\147.wav\n",
      "Skip  ./tvboy_denoised_mandarin_seed34751218\\148.wav\n",
      "Skip  ./tvboy_denoised_mandarin_seed34751218\\149.wav\n",
      "Skip  ./tvboy_denoised_mandarin_seed34751218\\150.wav\n",
      "Skip  ./tvboy_denoised_mandarin_seed34751218\\151.wav\n",
      "Skip  ./tvboy_denoised_mandarin_seed34751218\\152.wav\n",
      "Skip  ./tvboy_denoised_mandarin_seed34751218\\153.wav\n",
      "Skip  ./tvboy_denoised_mandarin_seed34751218\\154.wav\n",
      "Skip  ./tvboy_denoised_mandarin_seed34751218\\155.wav\n",
      "Skip  ./tvboy_denoised_mandarin_seed34751218\\156.wav\n",
      "Skip  ./tvboy_denoised_mandarin_seed34751218\\157.wav\n",
      "Skip  ./tvboy_denoised_mandarin_seed34751218\\158.wav\n",
      "Skip  ./tvboy_denoised_mandarin_seed34751218\\159.wav\n",
      "Skip  ./tvboy_denoised_mandarin_seed34751218\\160.wav\n",
      "Skip  ./tvboy_denoised_mandarin_seed34751218\\161.wav\n",
      "Skip  ./tvboy_denoised_mandarin_seed34751218\\162.wav\n",
      "Skip  ./tvboy_denoised_mandarin_seed34751218\\163.wav\n",
      "Skip  ./tvboy_denoised_mandarin_seed34751218\\164.wav\n",
      "Skip  ./tvboy_denoised_mandarin_seed34751218\\165.wav\n",
      "Skip  ./tvboy_denoised_mandarin_seed34751218\\166.wav\n",
      "Skip  ./tvboy_denoised_mandarin_seed34751218\\167.wav\n",
      "Skip  ./tvboy_denoised_mandarin_seed34751218\\168.wav\n",
      "Skip  ./tvboy_denoised_mandarin_seed34751218\\169.wav\n",
      "Skip  ./tvboy_denoised_mandarin_seed34751218\\170.wav\n",
      "Skip  ./tvboy_denoised_mandarin_seed34751218\\171.wav\n",
      "Skip  ./tvboy_denoised_mandarin_seed34751218\\172.wav\n",
      "Skip  ./tvboy_denoised_mandarin_seed34751218\\173.wav\n",
      "Skip  ./tvboy_denoised_mandarin_seed34751218\\174.wav\n",
      "Skip  ./tvboy_denoised_mandarin_seed34751218\\175.wav\n",
      "Skip  ./tvboy_denoised_mandarin_seed34751218\\176.wav\n",
      "Skip  ./tvboy_denoised_mandarin_seed34751218\\177.wav\n",
      "Skip  ./tvboy_denoised_mandarin_seed34751218\\178.wav\n",
      "Skip  ./tvboy_denoised_mandarin_seed34751218\\179.wav\n",
      "Skip  ./tvboy_denoised_mandarin_seed34751218\\180.wav\n",
      "Skip  ./tvboy_denoised_mandarin_seed34751218\\181.wav\n",
      "Skip  ./tvboy_denoised_mandarin_seed34751218\\182.wav\n",
      "Skip  ./tvboy_denoised_mandarin_seed34751218\\183.wav\n",
      "Skip  ./tvboy_denoised_mandarin_seed34751218\\184.wav\n",
      "Skip  ./tvboy_denoised_mandarin_seed34751218\\185.wav\n",
      "Skip  ./tvboy_denoised_mandarin_seed34751218\\186.wav\n",
      "Skip  ./tvboy_denoised_mandarin_seed34751218\\187.wav\n",
      "Skip  ./tvboy_denoised_mandarin_seed34751218\\188.wav\n",
      "Skip  ./tvboy_denoised_mandarin_seed34751218\\189.wav\n",
      "Skip  ./tvboy_denoised_mandarin_seed34751218\\190.wav\n",
      "Skip  ./tvboy_denoised_mandarin_seed34751218\\191.wav\n",
      "Skip  ./tvboy_denoised_mandarin_seed34751218\\192.wav\n",
      "Skip  ./tvboy_denoised_mandarin_seed34751218\\193.wav\n",
      "Skip  ./tvboy_denoised_mandarin_seed34751218\\194.wav\n",
      "Skip  ./tvboy_denoised_mandarin_seed34751218\\195.wav\n",
      "Skip  ./tvboy_denoised_mandarin_seed34751218\\196.wav\n",
      "Skip  ./tvboy_denoised_mandarin_seed34751218\\197.wav\n",
      "Skip  ./tvboy_denoised_mandarin_seed34751218\\198.wav\n",
      "Skip  ./tvboy_denoised_mandarin_seed34751218\\199.wav\n",
      "Skip  ./tvboy_denoised_mandarin_seed34751218\\200.wav\n",
      "Skip  ./tvboy_denoised_mandarin_seed34751218\\201.wav\n",
      "Skip  ./tvboy_denoised_mandarin_seed34751218\\202.wav\n",
      "Skip  ./tvboy_denoised_mandarin_seed34751218\\203.wav\n",
      "Skip  ./tvboy_denoised_mandarin_seed34751218\\204.wav\n",
      "Skip  ./tvboy_denoised_mandarin_seed34751218\\205.wav\n",
      "Skip  ./tvboy_denoised_mandarin_seed34751218\\206.wav\n",
      "Skip  ./tvboy_denoised_mandarin_seed34751218\\207.wav\n",
      "Skip  ./tvboy_denoised_mandarin_seed34751218\\208.wav\n",
      "Skip  ./tvboy_denoised_mandarin_seed34751218\\209.wav\n",
      "Skip  ./tvboy_denoised_mandarin_seed34751218\\210.wav\n",
      "Skip  ./tvboy_denoised_mandarin_seed34751218\\211.wav\n",
      "Skip  ./tvboy_denoised_mandarin_seed34751218\\212.wav\n",
      "Skip  ./tvboy_denoised_mandarin_seed34751218\\213.wav\n",
      "Skip  ./tvboy_denoised_mandarin_seed34751218\\214.wav\n",
      "Skip  ./tvboy_denoised_mandarin_seed34751218\\215.wav\n",
      "Skip  ./tvboy_denoised_mandarin_seed34751218\\216.wav\n",
      "Skip  ./tvboy_denoised_mandarin_seed34751218\\217.wav\n",
      "Skip  ./tvboy_denoised_mandarin_seed34751218\\218.wav\n",
      "Skip  ./tvboy_denoised_mandarin_seed34751218\\219.wav\n",
      "Skip  ./tvboy_denoised_mandarin_seed34751218\\220.wav\n",
      "Skip  ./tvboy_denoised_mandarin_seed34751218\\221.wav\n",
      "Skip  ./tvboy_denoised_mandarin_seed34751218\\222.wav\n",
      "Skip  ./tvboy_denoised_mandarin_seed34751218\\223.wav\n",
      "Skip  ./tvboy_denoised_mandarin_seed34751218\\224.wav\n",
      "Skip  ./tvboy_denoised_mandarin_seed34751218\\225.wav\n",
      "Skip  ./tvboy_denoised_mandarin_seed34751218\\226.wav\n",
      "Skip  ./tvboy_denoised_mandarin_seed34751218\\227.wav\n",
      "Skip  ./tvboy_denoised_mandarin_seed34751218\\228.wav\n",
      "Skip  ./tvboy_denoised_mandarin_seed34751218\\229.wav\n",
      "Skip  ./tvboy_denoised_mandarin_seed34751218\\230.wav\n",
      "Skip  ./tvboy_denoised_mandarin_seed34751218\\231.wav\n",
      "Skip  ./tvboy_denoised_mandarin_seed34751218\\232.wav\n",
      "Skip  ./tvboy_denoised_mandarin_seed34751218\\233.wav\n",
      "Skip  ./tvboy_denoised_mandarin_seed34751218\\234.wav\n",
      "Skip  ./tvboy_denoised_mandarin_seed34751218\\235.wav\n",
      "Skip  ./tvboy_denoised_mandarin_seed34751218\\236.wav\n",
      "Skip  ./tvboy_denoised_mandarin_seed34751218\\237.wav\n",
      "Skip  ./tvboy_denoised_mandarin_seed34751218\\238.wav\n",
      "Skip  ./tvboy_denoised_mandarin_seed34751218\\239.wav\n",
      "Skip  ./tvboy_denoised_mandarin_seed34751218\\240.wav\n",
      "Skip  ./tvboy_denoised_mandarin_seed34751218\\241.wav\n",
      "Skip  ./tvboy_denoised_mandarin_seed34751218\\242.wav\n",
      "Skip  ./tvboy_denoised_mandarin_seed34751218\\243.wav\n",
      "Skip  ./tvboy_denoised_mandarin_seed34751218\\244.wav\n",
      "Skip  ./tvboy_denoised_mandarin_seed34751218\\245.wav\n",
      "Skip  ./tvboy_denoised_mandarin_seed34751218\\246.wav\n",
      "Skip  ./tvboy_denoised_mandarin_seed34751218\\247.wav\n",
      "Skip  ./tvboy_denoised_mandarin_seed34751218\\248.wav\n",
      "Skip  ./tvboy_denoised_mandarin_seed34751218\\249.wav\n",
      "Skip  ./tvboy_denoised_mandarin_seed34751218\\250.wav\n",
      "Skip  ./tvboy_denoised_mandarin_seed34751218\\251.wav\n",
      "Skip  ./tvboy_denoised_mandarin_seed34751218\\252.wav\n",
      "Skip  ./tvboy_denoised_mandarin_seed34751218\\253.wav\n",
      "Skip  ./tvboy_denoised_mandarin_seed34751218\\254.wav\n",
      "Skip  ./tvboy_denoised_mandarin_seed34751218\\255.wav\n",
      "Skip  ./tvboy_denoised_mandarin_seed34751218\\256.wav\n",
      "Skip  ./tvboy_denoised_mandarin_seed34751218\\257.wav\n",
      "Skip  ./tvboy_denoised_mandarin_seed34751218\\258.wav\n",
      "Skip  ./tvboy_denoised_mandarin_seed34751218\\259.wav\n",
      "Skip  ./tvboy_denoised_mandarin_seed34751218\\260.wav\n",
      "Skip  ./tvboy_denoised_mandarin_seed34751218\\261.wav\n",
      "Skip  ./tvboy_denoised_mandarin_seed34751218\\262.wav\n",
      "Skip  ./tvboy_denoised_mandarin_seed34751218\\263.wav\n",
      "Skip  ./tvboy_denoised_mandarin_seed34751218\\264.wav\n",
      "Skip  ./tvboy_denoised_mandarin_seed34751218\\265.wav\n",
      "Skip  ./tvboy_denoised_mandarin_seed34751218\\266.wav\n",
      "Skip  ./tvboy_denoised_mandarin_seed34751218\\267.wav\n",
      "Skip  ./tvboy_denoised_mandarin_seed34751218\\268.wav\n",
      "Skip  ./tvboy_denoised_mandarin_seed34751218\\269.wav\n",
      "Skip  ./tvboy_denoised_mandarin_seed34751218\\270.wav\n",
      "Skip  ./tvboy_denoised_mandarin_seed34751218\\271.wav\n",
      "Skip  ./tvboy_denoised_mandarin_seed34751218\\272.wav\n",
      "Skip  ./tvboy_denoised_mandarin_seed34751218\\273.wav\n",
      "Skip  ./tvboy_denoised_mandarin_seed34751218\\274.wav\n",
      "Skip  ./tvboy_denoised_mandarin_seed34751218\\275.wav\n",
      "Skip  ./tvboy_denoised_mandarin_seed34751218\\276.wav\n",
      "Skip  ./tvboy_denoised_mandarin_seed34751218\\277.wav\n",
      "Skip  ./tvboy_denoised_mandarin_seed34751218\\278.wav\n",
      "Skip  ./tvboy_denoised_mandarin_seed34751218\\279.wav\n",
      "Skip  ./tvboy_denoised_mandarin_seed34751218\\280.wav\n",
      "Skip  ./tvboy_denoised_mandarin_seed34751218\\281.wav\n",
      "Skip  ./tvboy_denoised_mandarin_seed34751218\\282.wav\n",
      "Skip  ./tvboy_denoised_mandarin_seed34751218\\283.wav\n",
      "Skip  ./tvboy_denoised_mandarin_seed34751218\\284.wav\n",
      "Skip  ./tvboy_denoised_mandarin_seed34751218\\285.wav\n",
      "Skip  ./tvboy_denoised_mandarin_seed34751218\\286.wav\n",
      "Skip  ./tvboy_denoised_mandarin_seed34751218\\287.wav\n",
      "Skip  ./tvboy_denoised_mandarin_seed34751218\\288.wav\n",
      "Skip  ./tvboy_denoised_mandarin_seed34751218\\289.wav\n",
      "Skip  ./tvboy_denoised_mandarin_seed34751218\\290.wav\n",
      "Skip  ./tvboy_denoised_mandarin_seed34751218\\291.wav\n",
      "Skip  ./tvboy_denoised_mandarin_seed34751218\\292.wav\n",
      "Skip  ./tvboy_denoised_mandarin_seed34751218\\293.wav\n",
      "Skip  ./tvboy_denoised_mandarin_seed34751218\\294.wav\n",
      "Skip  ./tvboy_denoised_mandarin_seed34751218\\295.wav\n",
      "Skip  ./tvboy_denoised_mandarin_seed34751218\\296.wav\n",
      "Skip  ./tvboy_denoised_mandarin_seed34751218\\297.wav\n",
      "Skip  ./tvboy_denoised_mandarin_seed34751218\\298.wav\n",
      "Skip  ./tvboy_denoised_mandarin_seed34751218\\299.wav\n",
      "Skip  ./tvboy_denoised_mandarin_seed34751218\\300.wav\n",
      "Skip  ./tvboy_denoised_mandarin_seed34751218\\301.wav\n",
      "Skip  ./tvboy_denoised_mandarin_seed34751218\\302.wav\n",
      "Skip  ./tvboy_denoised_mandarin_seed34751218\\303.wav\n",
      "Skip  ./tvboy_denoised_mandarin_seed34751218\\304.wav\n",
      "Skip  ./tvboy_denoised_mandarin_seed34751218\\305.wav\n",
      "Skip  ./tvboy_denoised_mandarin_seed34751218\\306.wav\n",
      "Skip  ./tvboy_denoised_mandarin_seed34751218\\307.wav\n",
      "Skip  ./tvboy_denoised_mandarin_seed34751218\\308.wav\n",
      "Skip  ./tvboy_denoised_mandarin_seed34751218\\309.wav\n",
      "Skip  ./tvboy_denoised_mandarin_seed34751218\\310.wav\n",
      "Skip  ./tvboy_denoised_mandarin_seed34751218\\311.wav\n",
      "Skip  ./tvboy_denoised_mandarin_seed34751218\\312.wav\n",
      "Skip  ./tvboy_denoised_mandarin_seed34751218\\313.wav\n",
      "Skip  ./tvboy_denoised_mandarin_seed34751218\\314.wav\n",
      "Skip  ./tvboy_denoised_mandarin_seed34751218\\315.wav\n",
      "Skip  ./tvboy_denoised_mandarin_seed34751218\\316.wav\n",
      "Skip  ./tvboy_denoised_mandarin_seed34751218\\317.wav\n",
      "Skip  ./tvboy_denoised_mandarin_seed34751218\\318.wav\n",
      "Skip  ./tvboy_denoised_mandarin_seed34751218\\319.wav\n",
      "Skip  ./tvboy_denoised_mandarin_seed34751218\\320.wav\n",
      "Skip  ./tvboy_denoised_mandarin_seed34751218\\321.wav\n",
      "Skip  ./tvboy_denoised_mandarin_seed34751218\\322.wav\n",
      "Skip  ./tvboy_denoised_mandarin_seed34751218\\323.wav\n",
      "Skip  ./tvboy_denoised_mandarin_seed34751218\\324.wav\n"
     ]
    },
    {
     "name": "stderr",
     "output_type": "stream",
     "text": []
    },
    {
     "name": "stdout",
     "output_type": "stream",
     "text": [
      "min value is  tensor(-1.0223)\n",
      "max value is  tensor(1.0314)\n"
     ]
    },
    {
     "name": "stderr",
     "output_type": "stream",
     "text": [
      "2025-02-18 14:54:18,137 INFO synthesis text 计算机科学的快速发展使得人工智能得到了广泛应用。\n",
      "d:\\anaconda3\\envs\\cosyvoice\\lib\\site-packages\\transformers\\models\\qwen2\\modeling_qwen2.py:544: UserWarning: 1Torch was not compiled with flash attention. (Triggered internally at C:\\actions-runner\\_work\\pytorch\\pytorch\\builder\\windows\\pytorch\\aten\\src\\ATen\\native\\transformers\\cuda\\sdp_utils.cpp:455.)\n",
      "  attn_output = torch.nn.functional.scaled_dot_product_attention(\n",
      "We detected that you are passing `past_key_values` as a tuple of tuples. This is deprecated and will be removed in v4.47. Please convert your cache or use an appropriate `Cache` class (https://huggingface.co/docs/transformers/kv_cache#legacy-cache-format)\n",
      "2025-02-18 14:54:23,478 INFO yield speech len 6.32, rtf 0.8450118801261804\n",
      "100%|██████████| 1/1 [00:05<00:00,  5.96s/it]\n"
     ]
    },
    {
     "name": "stdout",
     "output_type": "stream",
     "text": [
      "min value is  tensor(-1.0223)\n",
      "max value is  tensor(1.0314)\n"
     ]
    },
    {
     "name": "stderr",
     "output_type": "stream",
     "text": [
      "2025-02-18 14:54:24,057 INFO synthesis text 激光技术的进步在医疗、通信等领域发挥了重要作用。\n",
      "2025-02-18 14:54:27,620 INFO yield speech len 4.8, rtf 0.7422582805156708\n",
      "100%|██████████| 1/1 [00:04<00:00,  4.13s/it]\n"
     ]
    },
    {
     "name": "stdout",
     "output_type": "stream",
     "text": [
      "min value is  tensor(-1.0223)\n",
      "max value is  tensor(1.0314)\n"
     ]
    },
    {
     "name": "stderr",
     "output_type": "stream",
     "text": [
      "2025-02-18 14:54:28,191 INFO synthesis text 量子计算的出现可能改变传统计算机架构的基本规则。\n",
      "2025-02-18 14:54:32,539 INFO yield speech len 6.48, rtf 0.6709457179646433\n",
      "100%|██████████| 1/1 [00:04<00:00,  4.91s/it]\n"
     ]
    },
    {
     "name": "stdout",
     "output_type": "stream",
     "text": [
      "min value is  tensor(-1.0223)\n",
      "max value is  tensor(1.0314)\n"
     ]
    },
    {
     "name": "stderr",
     "output_type": "stream",
     "text": [
      "2025-02-18 14:54:33,115 INFO synthesis text 电磁波的传播速度接近光速，这一现象在相对论中得到了证实。\n",
      "2025-02-18 14:54:38,383 INFO yield speech len 7.76, rtf 0.6788239651119586\n",
      "100%|██████████| 1/1 [00:05<00:00,  5.83s/it]\n",
      "82it [00:20,  3.92it/s]"
     ]
    },
    {
     "name": "stdout",
     "output_type": "stream",
     "text": [
      "min value is  tensor(-1.0223)\n",
      "max value is  tensor(1.0314)\n"
     ]
    },
    {
     "name": "stderr",
     "output_type": "stream",
     "text": [
      "2025-02-18 14:54:38,955 INFO synthesis text 天文学家通过望远镜观测到遥远星系的光谱数据，揭示了宇宙膨胀的奥秘。\n",
      "2025-02-18 14:54:45,305 INFO yield speech len 9.84, rtf 0.6453407004596742\n",
      "100%|██████████| 1/1 [00:06<00:00,  6.91s/it]\n"
     ]
    },
    {
     "name": "stdout",
     "output_type": "stream",
     "text": [
      "min value is  tensor(-1.0223)\n",
      "max value is  tensor(1.0314)\n"
     ]
    },
    {
     "name": "stderr",
     "output_type": "stream",
     "text": [
      "2025-02-18 14:54:45,892 INFO synthesis text 核聚变技术被认为是未来能源解决方案的潜在突破。\n",
      "2025-02-18 14:54:49,965 INFO yield speech len 5.8, rtf 0.7021731754829144\n",
      "100%|██████████| 1/1 [00:04<00:00,  4.65s/it]\n"
     ]
    },
    {
     "name": "stdout",
     "output_type": "stream",
     "text": [
      "min value is  tensor(-1.0223)\n",
      "max value is  tensor(1.0314)\n"
     ]
    },
    {
     "name": "stderr",
     "output_type": "stream",
     "text": [
      "2025-02-18 14:54:50,529 INFO synthesis text 生物学家研究了不同物种的基因组，揭示了物种进化的遗传机制。\n",
      "2025-02-18 14:54:55,905 INFO yield speech len 8.04, rtf 0.6685989709635873\n",
      "100%|██████████| 1/1 [00:05<00:00,  5.93s/it]\n"
     ]
    },
    {
     "name": "stdout",
     "output_type": "stream",
     "text": [
      "min value is  tensor(-1.0223)\n",
      "max value is  tensor(1.0314)\n"
     ]
    },
    {
     "name": "stderr",
     "output_type": "stream",
     "text": [
      "2025-02-18 14:54:56,481 INFO synthesis text 数学中的傅里叶变换广泛应用于信号处理和图像处理。\n",
      "2025-02-18 14:55:01,668 INFO yield speech len 7.72, rtf 0.6719694236399596\n",
      "100%|██████████| 1/1 [00:05<00:00,  5.75s/it]\n",
      "83it [00:44,  1.54it/s]"
     ]
    },
    {
     "name": "stdout",
     "output_type": "stream",
     "text": [
      "min value is  tensor(-1.0223)\n",
      "max value is  tensor(1.0314)\n"
     ]
    },
    {
     "name": "stderr",
     "output_type": "stream",
     "text": [
      "2025-02-18 14:55:02,264 INFO synthesis text 纳米技术使得材料科学进入了一个全新的领域。\n",
      "2025-02-18 14:55:05,623 INFO yield speech len 4.72, rtf 0.7116219249822326\n",
      "100%|██████████| 1/1 [00:03<00:00,  3.94s/it]\n"
     ]
    },
    {
     "name": "stdout",
     "output_type": "stream",
     "text": [
      "min value is  tensor(-1.0223)\n",
      "max value is  tensor(1.0314)\n"
     ]
    },
    {
     "name": "stderr",
     "output_type": "stream",
     "text": [
      "2025-02-18 14:55:06,205 INFO synthesis text 人类基因组计划为医学研究提供了重要的基因数据资源。\n",
      "2025-02-18 14:55:10,691 INFO yield speech len 6.6, rtf 0.6797079606489702\n",
      "100%|██████████| 1/1 [00:05<00:00,  5.05s/it]\n"
     ]
    },
    {
     "name": "stdout",
     "output_type": "stream",
     "text": [
      "min value is  tensor(-1.0223)\n",
      "max value is  tensor(1.0314)\n"
     ]
    },
    {
     "name": "stderr",
     "output_type": "stream",
     "text": [
      "2025-02-18 14:55:11,280 INFO synthesis text 经济学中的供求关系决定了市场的价格波动。\n",
      "2025-02-18 14:55:14,675 INFO yield speech len 4.36, rtf 0.778481665007565\n",
      "100%|██████████| 1/1 [00:03<00:00,  3.97s/it]\n"
     ]
    },
    {
     "name": "stdout",
     "output_type": "stream",
     "text": [
      "min value is  tensor(-1.0223)\n",
      "max value is  tensor(1.0314)\n"
     ]
    },
    {
     "name": "stderr",
     "output_type": "stream",
     "text": [
      "2025-02-18 14:55:15,268 INFO synthesis text 通过人工神经网络，我们能够模拟人类大脑的某些功能。\n",
      "2025-02-18 14:55:19,467 INFO yield speech len 5.76, rtf 0.7289360380835004\n",
      "100%|██████████| 1/1 [00:04<00:00,  4.78s/it]\n",
      "84it [01:01,  1.06s/it]"
     ]
    },
    {
     "name": "stdout",
     "output_type": "stream",
     "text": [
      "min value is  tensor(-1.0223)\n",
      "max value is  tensor(1.0314)\n"
     ]
    },
    {
     "name": "stderr",
     "output_type": "stream",
     "text": [
      "2025-02-18 14:55:20,046 INFO synthesis text 气候变化引发了全球范围内的极端天气事件。\n",
      "2025-02-18 14:55:23,303 INFO yield speech len 4.56, rtf 0.7143009127232067\n",
      "100%|██████████| 1/1 [00:03<00:00,  3.83s/it]\n"
     ]
    },
    {
     "name": "stdout",
     "output_type": "stream",
     "text": [
      "min value is  tensor(-1.0223)\n",
      "max value is  tensor(1.0314)\n"
     ]
    },
    {
     "name": "stderr",
     "output_type": "stream",
     "text": [
      "2025-02-18 14:55:23,896 INFO synthesis text 在药理学研究中，临床试验是验证药物效果的重要步骤。\n",
      "2025-02-18 14:55:28,919 INFO yield speech len 7.08, rtf 0.7095641335525081\n",
      "100%|██████████| 1/1 [00:05<00:00,  5.60s/it]\n"
     ]
    },
    {
     "name": "stdout",
     "output_type": "stream",
     "text": [
      "min value is  tensor(-1.0223)\n",
      "max value is  tensor(1.0314)\n"
     ]
    },
    {
     "name": "stderr",
     "output_type": "stream",
     "text": [
      "2025-02-18 14:55:29,496 INFO synthesis text 大数据分析可以揭示出隐藏在数据中的复杂模式。\n",
      "2025-02-18 14:55:33,022 INFO yield speech len 4.84, rtf 0.7285747646300261\n",
      "100%|██████████| 1/1 [00:04<00:00,  4.09s/it]\n"
     ]
    },
    {
     "name": "stdout",
     "output_type": "stream",
     "text": [
      "min value is  tensor(-1.0223)\n",
      "max value is  tensor(1.0314)\n"
     ]
    },
    {
     "name": "stderr",
     "output_type": "stream",
     "text": [
      "2025-02-18 14:55:33,630 INFO synthesis text 电池的能量密度是影响电动车续航里程的关键因素。\n",
      "2025-02-18 14:55:37,599 INFO yield speech len 5.76, rtf 0.6889686816268498\n",
      "100%|██████████| 1/1 [00:04<00:00,  4.55s/it]\n",
      "85it [01:20,  1.62s/it]"
     ]
    },
    {
     "name": "stdout",
     "output_type": "stream",
     "text": [
      "min value is  tensor(-1.0223)\n",
      "max value is  tensor(1.0314)\n"
     ]
    },
    {
     "name": "stderr",
     "output_type": "stream",
     "text": [
      "2025-02-18 14:55:38,216 INFO synthesis text 医学影像学技术能够帮助医生更早地发现疾病。\n",
      "2025-02-18 14:55:42,015 INFO yield speech len 5.12, rtf 0.7418944500386715\n",
      "100%|██████████| 1/1 [00:04<00:00,  4.39s/it]\n"
     ]
    },
    {
     "name": "stdout",
     "output_type": "stream",
     "text": [
      "min value is  tensor(-1.0223)\n",
      "max value is  tensor(1.0314)\n"
     ]
    },
    {
     "name": "stderr",
     "output_type": "stream",
     "text": [
      "2025-02-18 14:55:42,596 INFO synthesis text 心理学研究表明，人类行为受遗传和环境因素的双重影响。\n",
      "2025-02-18 14:55:46,671 INFO yield speech len 6.04, rtf 0.6747295524900323\n",
      "100%|██████████| 1/1 [00:04<00:00,  4.64s/it]\n"
     ]
    },
    {
     "name": "stdout",
     "output_type": "stream",
     "text": [
      "min value is  tensor(-1.0223)\n",
      "max value is  tensor(1.0314)\n"
     ]
    },
    {
     "name": "stderr",
     "output_type": "stream",
     "text": [
      "2025-02-18 14:55:47,244 INFO synthesis text 环境科学家提出了全球变暖可能带来海平面上升的警告。\n",
      "2025-02-18 14:55:51,828 INFO yield speech len 6.6, rtf 0.6944698637182063\n",
      "100%|██████████| 1/1 [00:05<00:00,  5.14s/it]\n"
     ]
    },
    {
     "name": "stdout",
     "output_type": "stream",
     "text": [
      "min value is  tensor(-1.0223)\n",
      "max value is  tensor(1.0314)\n"
     ]
    },
    {
     "name": "stderr",
     "output_type": "stream",
     "text": [
      "2025-02-18 14:55:52,404 INFO synthesis text 人工智能的深度学习算法能够处理复杂的数据模式。\n",
      "2025-02-18 14:55:57,226 INFO yield speech len 7.12, rtf 0.6772740168517895\n",
      "100%|██████████| 1/1 [00:05<00:00,  5.38s/it]\n",
      "86it [01:39,  2.43s/it]"
     ]
    },
    {
     "name": "stdout",
     "output_type": "stream",
     "text": [
      "min value is  tensor(-1.0223)\n",
      "max value is  tensor(1.0314)\n"
     ]
    },
    {
     "name": "stderr",
     "output_type": "stream",
     "text": [
      "2025-02-18 14:55:57,805 INFO synthesis text 物理学家研究量子态的叠加原理，以探索量子计算的潜力。\n",
      "2025-02-18 14:56:02,193 INFO yield speech len 6.4, rtf 0.6855950504541397\n",
      "100%|██████████| 1/1 [00:04<00:00,  4.95s/it]\n"
     ]
    },
    {
     "name": "stdout",
     "output_type": "stream",
     "text": [
      "min value is  tensor(-1.0223)\n",
      "max value is  tensor(1.0314)\n"
     ]
    },
    {
     "name": "stderr",
     "output_type": "stream",
     "text": [
      "2025-02-18 14:56:02,772 INFO synthesis text 在化学反应中，催化剂能够加速反应速率而不被消耗。\n",
      "2025-02-18 14:56:08,624 INFO yield speech len 8.72, rtf 0.6710579089068491\n",
      "100%|██████████| 1/1 [00:06<00:00,  6.42s/it]\n"
     ]
    },
    {
     "name": "stdout",
     "output_type": "stream",
     "text": [
      "min value is  tensor(-1.0223)\n",
      "max value is  tensor(1.0314)\n"
     ]
    },
    {
     "name": "stderr",
     "output_type": "stream",
     "text": [
      "2025-02-18 14:56:09,202 INFO synthesis text 网络安全专家采用加密技术保护用户的隐私信息。\n",
      "2025-02-18 14:56:14,056 INFO yield speech len 7.32, rtf 0.6631266223928316\n",
      "100%|██████████| 1/1 [00:05<00:00,  5.42s/it]\n"
     ]
    },
    {
     "name": "stdout",
     "output_type": "stream",
     "text": [
      "min value is  tensor(-1.0223)\n",
      "max value is  tensor(1.0314)\n"
     ]
    },
    {
     "name": "stderr",
     "output_type": "stream",
     "text": [
      "2025-02-18 14:56:14,634 INFO synthesis text 量子力学中的不确定性原理挑战了经典物理学的绝对确定性观念。\n",
      "2025-02-18 14:56:19,905 INFO yield speech len 7.88, rtf 0.6688255343945498\n",
      "100%|██████████| 1/1 [00:05<00:00,  5.84s/it]\n",
      "87it [02:02,  3.66s/it]"
     ]
    },
    {
     "name": "stdout",
     "output_type": "stream",
     "text": [
      "min value is  tensor(-1.0223)\n",
      "max value is  tensor(1.0314)\n"
     ]
    },
    {
     "name": "stderr",
     "output_type": "stream",
     "text": [
      "2025-02-18 14:56:20,501 INFO synthesis text 语言学家分析语言的音韵结构，以揭示其深层次的规律。\n",
      "2025-02-18 14:56:25,769 INFO yield speech len 8.04, rtf 0.6552702455378291\n",
      "100%|██████████| 1/1 [00:05<00:00,  5.84s/it]\n"
     ]
    },
    {
     "name": "stdout",
     "output_type": "stream",
     "text": [
      "min value is  tensor(-1.0223)\n",
      "max value is  tensor(1.0314)\n"
     ]
    },
    {
     "name": "stderr",
     "output_type": "stream",
     "text": [
      "2025-02-18 14:56:26,354 INFO synthesis text 经济学家通过模型分析预测未来的经济走势。\n",
      "2025-02-18 14:56:30,402 INFO yield speech len 5.84, rtf 0.6932395778290213\n",
      "100%|██████████| 1/1 [00:04<00:00,  4.62s/it]\n"
     ]
    },
    {
     "name": "stdout",
     "output_type": "stream",
     "text": [
      "min value is  tensor(-1.0223)\n",
      "max value is  tensor(1.0314)\n"
     ]
    },
    {
     "name": "stderr",
     "output_type": "stream",
     "text": [
      "2025-02-18 14:56:30,998 INFO synthesis text 精密仪器的校准对于实验结果的准确性至关重要。\n",
      "2025-02-18 14:56:35,721 INFO yield speech len 7.04, rtf 0.6709614260630175\n",
      "100%|██████████| 1/1 [00:05<00:00,  5.31s/it]\n"
     ]
    },
    {
     "name": "stdout",
     "output_type": "stream",
     "text": [
      "min value is  tensor(-1.0223)\n",
      "max value is  tensor(1.0314)\n"
     ]
    },
    {
     "name": "stderr",
     "output_type": "stream",
     "text": [
      "2025-02-18 14:56:36,294 INFO synthesis text 数据库管理系统用于高效地存储和查询大规模的数据集。\n",
      "2025-02-18 14:56:40,491 INFO yield speech len 6.28, rtf 0.6683899338837641\n",
      "100%|██████████| 1/1 [00:04<00:00,  4.76s/it]\n",
      "88it [02:23,  5.00s/it]"
     ]
    },
    {
     "name": "stdout",
     "output_type": "stream",
     "text": [
      "min value is  tensor(-1.0223)\n",
      "max value is  tensor(1.0314)\n"
     ]
    },
    {
     "name": "stderr",
     "output_type": "stream",
     "text": [
      "2025-02-18 14:56:41,066 INFO synthesis text 化学反应的速率常数受温度、浓度等因素的影响。\n",
      "2025-02-18 14:56:44,734 INFO yield speech len 5.32, rtf 0.6894257731903765\n",
      "100%|██████████| 1/1 [00:04<00:00,  4.23s/it]\n"
     ]
    },
    {
     "name": "stdout",
     "output_type": "stream",
     "text": [
      "min value is  tensor(-1.0223)\n",
      "max value is  tensor(1.0314)\n"
     ]
    },
    {
     "name": "stderr",
     "output_type": "stream",
     "text": [
      "2025-02-18 14:56:45,308 INFO synthesis text 天体物理学家利用红移现象研究宇宙的膨胀历史。\n",
      "2025-02-18 14:56:50,513 INFO yield speech len 7.4, rtf 0.7033698623244826\n",
      "100%|██████████| 1/1 [00:05<00:00,  5.77s/it]\n"
     ]
    },
    {
     "name": "stdout",
     "output_type": "stream",
     "text": [
      "min value is  tensor(-1.0223)\n",
      "max value is  tensor(1.0314)\n"
     ]
    },
    {
     "name": "stderr",
     "output_type": "stream",
     "text": [
      "2025-02-18 14:56:51,091 INFO synthesis text 在量子物理学的研究中，量子纠缠是一种复杂的现象，它表明两个或多个粒子即使在空间上相隔甚远，也可以通过某种方式即时相互影响。\n",
      "2025-02-18 14:57:02,654 INFO yield speech len 19.16, rtf 0.6034865011004167\n",
      "100%|██████████| 1/1 [00:12<00:00, 12.13s/it]\n"
     ]
    },
    {
     "name": "stdout",
     "output_type": "stream",
     "text": [
      "min value is  tensor(-1.0223)\n",
      "max value is  tensor(1.0314)\n"
     ]
    },
    {
     "name": "stderr",
     "output_type": "stream",
     "text": [
      "2025-02-18 14:57:03,245 INFO synthesis text 量子力学的数学模型使用了希尔伯特空间的概念，它是描述量子态的重要工具。\n",
      "2025-02-18 14:57:09,224 INFO yield speech len 9.2, rtf 0.6499360436978548\n",
      "100%|██████████| 1/1 [00:06<00:00,  6.55s/it]\n",
      "89it [02:51,  7.42s/it]"
     ]
    },
    {
     "name": "stdout",
     "output_type": "stream",
     "text": [
      "min value is  tensor(-1.0223)\n",
      "max value is  tensor(1.0314)\n"
     ]
    },
    {
     "name": "stderr",
     "output_type": "stream",
     "text": [
      "2025-02-18 14:57:09,809 INFO synthesis text 为了更好地理解这一现象，学者们提出了量子信息理论，其中包括量子计算、量子通信等前沿技术。\n",
      "2025-02-18 14:57:15,872 INFO yield speech len 8.96, rtf 0.6767086684703826\n",
      "100%|██████████| 1/1 [00:06<00:00,  6.63s/it]\n"
     ]
    },
    {
     "name": "stdout",
     "output_type": "stream",
     "text": [
      "min value is  tensor(-1.0223)\n",
      "max value is  tensor(1.0314)\n"
     ]
    },
    {
     "name": "stderr",
     "output_type": "stream",
     "text": [
      "2025-02-18 14:57:16,454 INFO synthesis text 现代医学技术的发展使得癌症的早期诊断和治疗更加精准。\n",
      "2025-02-18 14:57:20,677 INFO yield speech len 6.36, rtf 0.6640192097837819\n",
      "100%|██████████| 1/1 [00:04<00:00,  4.79s/it]\n"
     ]
    },
    {
     "name": "stdout",
     "output_type": "stream",
     "text": [
      "min value is  tensor(-1.0223)\n",
      "max value is  tensor(1.0314)\n"
     ]
    },
    {
     "name": "stderr",
     "output_type": "stream",
     "text": [
      "2025-02-18 14:57:21,245 INFO synthesis text 大脑神经科学的研究揭示了学习和记忆的神经机制。\n",
      "2025-02-18 14:57:26,139 INFO yield speech len 6.92, rtf 0.7071174638119736\n",
      "100%|██████████| 1/1 [00:05<00:00,  5.45s/it]\n"
     ]
    },
    {
     "name": "stdout",
     "output_type": "stream",
     "text": [
      "min value is  tensor(-1.0223)\n",
      "max value is  tensor(1.0314)\n"
     ]
    },
    {
     "name": "stderr",
     "output_type": "stream",
     "text": [
      "2025-02-18 14:57:26,722 INFO synthesis text 物理学中的相对论和量子力学为我们理解宇宙提供了两种不同的视角。\n",
      "2025-02-18 14:57:31,665 INFO yield speech len 7.44, rtf 0.6643302017642605\n",
      "100%|██████████| 1/1 [00:05<00:00,  5.51s/it]\n",
      "90it [03:14,  9.33s/it]"
     ]
    },
    {
     "name": "stdout",
     "output_type": "stream",
     "text": [
      "min value is  tensor(-1.0223)\n",
      "max value is  tensor(1.0314)\n"
     ]
    },
    {
     "name": "stderr",
     "output_type": "stream",
     "text": [
      "2025-02-18 14:57:32,235 INFO synthesis text 在流体力学中，研究流体的流动规律对于工程设计至关重要。\n",
      "2025-02-18 14:57:37,196 INFO yield speech len 7.68, rtf 0.645945779979229\n",
      "100%|██████████| 1/1 [00:05<00:00,  5.52s/it]\n"
     ]
    },
    {
     "name": "stdout",
     "output_type": "stream",
     "text": [
      "min value is  tensor(-1.0223)\n",
      "max value is  tensor(1.0314)\n"
     ]
    },
    {
     "name": "stderr",
     "output_type": "stream",
     "text": [
      "2025-02-18 14:57:37,773 INFO synthesis text 环境保护政策的实施有助于减少工业污染对生态系统的破坏。\n",
      "2025-02-18 14:57:42,191 INFO yield speech len 6.84, rtf 0.6459803609123007\n",
      "100%|██████████| 1/1 [00:04<00:00,  4.98s/it]\n"
     ]
    },
    {
     "name": "stdout",
     "output_type": "stream",
     "text": [
      "min value is  tensor(-1.0223)\n",
      "max value is  tensor(1.0314)\n"
     ]
    },
    {
     "name": "stderr",
     "output_type": "stream",
     "text": [
      "2025-02-18 14:57:42,782 INFO synthesis text 机器学习在图像识别领域取得了显著进展，应用广泛。\n",
      "2025-02-18 14:57:47,953 INFO yield speech len 7.6, rtf 0.6804075052863674\n",
      "100%|██████████| 1/1 [00:05<00:00,  5.75s/it]\n"
     ]
    },
    {
     "name": "stdout",
     "output_type": "stream",
     "text": [
      "min value is  tensor(-1.0223)\n",
      "max value is  tensor(1.0314)\n"
     ]
    },
    {
     "name": "stderr",
     "output_type": "stream",
     "text": [
      "2025-02-18 14:57:48,544 INFO synthesis text 通过基因编辑技术，科学家可以对生物体的基因组进行精准修改。\n",
      "2025-02-18 14:57:53,188 INFO yield speech len 6.96, rtf 0.6673298690510893\n",
      "100%|██████████| 1/1 [00:05<00:00,  5.22s/it]\n",
      "91it [03:35, 11.20s/it]"
     ]
    },
    {
     "name": "stdout",
     "output_type": "stream",
     "text": [
      "min value is  tensor(-1.0223)\n",
      "max value is  tensor(1.0314)\n"
     ]
    },
    {
     "name": "stderr",
     "output_type": "stream",
     "text": [
      "2025-02-18 14:57:53,768 INFO synthesis text 电动汽车的普及有助于减少温室气体排放和空气污染。\n",
      "2025-02-18 14:57:58,905 INFO yield speech len 7.2, rtf 0.7133980260954963\n",
      "100%|██████████| 1/1 [00:05<00:00,  5.70s/it]\n"
     ]
    },
    {
     "name": "stdout",
     "output_type": "stream",
     "text": [
      "min value is  tensor(-1.0223)\n",
      "max value is  tensor(1.0314)\n"
     ]
    },
    {
     "name": "stderr",
     "output_type": "stream",
     "text": [
      "2025-02-18 14:57:59,495 INFO synthesis text 量子纠缠实验挑战了我们对经典物理学的传统认知。\n",
      "2025-02-18 14:58:04,023 INFO yield speech len 6.56, rtf 0.6901778462456494\n",
      "100%|██████████| 1/1 [00:05<00:00,  5.10s/it]\n"
     ]
    },
    {
     "name": "stdout",
     "output_type": "stream",
     "text": [
      "min value is  tensor(-1.0223)\n",
      "max value is  tensor(1.0314)\n"
     ]
    },
    {
     "name": "stderr",
     "output_type": "stream",
     "text": [
      "2025-02-18 14:58:04,607 INFO synthesis text 人工智能领域的强化学习技术使得计算机能够在复杂环境中自主学习。\n",
      "2025-02-18 14:58:10,056 INFO yield speech len 8.24, rtf 0.6613680749263579\n",
      "100%|██████████| 1/1 [00:06<00:00,  6.02s/it]\n"
     ]
    },
    {
     "name": "stdout",
     "output_type": "stream",
     "text": [
      "min value is  tensor(-1.0223)\n",
      "max value is  tensor(1.0314)\n"
     ]
    },
    {
     "name": "stderr",
     "output_type": "stream",
     "text": [
      "2025-02-18 14:58:10,631 INFO synthesis text 化学反应中的催化过程通常会降低反应的活化能。\n",
      "2025-02-18 14:58:14,165 INFO yield speech len 5.32, rtf 0.6643775710485931\n",
      "100%|██████████| 1/1 [00:04<00:00,  4.10s/it]\n",
      "92it [03:56, 12.96s/it]"
     ]
    },
    {
     "name": "stdout",
     "output_type": "stream",
     "text": [
      "min value is  tensor(-1.0223)\n",
      "max value is  tensor(1.0314)\n"
     ]
    },
    {
     "name": "stderr",
     "output_type": "stream",
     "text": [
      "2025-02-18 14:58:14,816 INFO synthesis text 数学中的拓扑学为我们提供了一种研究空间形状和性质的全新视角。\n",
      "2025-02-18 14:58:21,549 INFO yield speech len 10.44, rtf 0.644850548199767\n",
      "100%|██████████| 1/1 [00:07<00:00,  7.37s/it]\n"
     ]
    },
    {
     "name": "stdout",
     "output_type": "stream",
     "text": [
      "min value is  tensor(-1.0223)\n",
      "max value is  tensor(1.0314)\n"
     ]
    },
    {
     "name": "stderr",
     "output_type": "stream",
     "text": [
      "2025-02-18 14:58:22,125 INFO synthesis text 通过遥感技术，科学家可以监测到地球表面的环境变化。\n",
      "2025-02-18 14:58:25,749 INFO yield speech len 5.36, rtf 0.6761944116051517\n",
      "100%|██████████| 1/1 [00:04<00:00,  4.19s/it]\n"
     ]
    },
    {
     "name": "stdout",
     "output_type": "stream",
     "text": [
      "min value is  tensor(-1.0223)\n",
      "max value is  tensor(1.0314)\n"
     ]
    },
    {
     "name": "stderr",
     "output_type": "stream",
     "text": [
      "2025-02-18 14:58:26,325 INFO synthesis text 信息技术的发展推动了数字经济的快速崛起。\n",
      "2025-02-18 14:58:30,063 INFO yield speech len 5.36, rtf 0.6973791478285148\n",
      "100%|██████████| 1/1 [00:04<00:00,  4.30s/it]\n"
     ]
    },
    {
     "name": "stdout",
     "output_type": "stream",
     "text": [
      "min value is  tensor(-1.0223)\n",
      "max value is  tensor(1.0314)\n"
     ]
    },
    {
     "name": "stderr",
     "output_type": "stream",
     "text": [
      "2025-02-18 14:58:30,683 INFO synthesis text 天文学家通过天文望远镜研究太阳系之外的行星系统。\n",
      "2025-02-18 14:58:35,533 INFO yield speech len 7.08, rtf 0.6850292453658109\n",
      "100%|██████████| 1/1 [00:05<00:00,  5.45s/it]\n",
      "93it [04:18, 14.68s/it]"
     ]
    },
    {
     "name": "stdout",
     "output_type": "stream",
     "text": [
      "min value is  tensor(-1.0223)\n",
      "max value is  tensor(1.0314)\n"
     ]
    },
    {
     "name": "stderr",
     "output_type": "stream",
     "text": [
      "2025-02-18 14:58:36,111 INFO synthesis text 生态学家研究了不同物种之间的食物链和能量流动。\n",
      "2025-02-18 14:58:40,138 INFO yield speech len 5.6, rtf 0.7191880685942514\n",
      "100%|██████████| 1/1 [00:04<00:00,  4.59s/it]\n"
     ]
    },
    {
     "name": "stdout",
     "output_type": "stream",
     "text": [
      "min value is  tensor(-1.0223)\n",
      "max value is  tensor(1.0314)\n"
     ]
    },
    {
     "name": "stderr",
     "output_type": "stream",
     "text": [
      "2025-02-18 14:58:40,727 INFO synthesis text 大数据技术让我们能够从海量信息中提取出有价值的洞察。\n",
      "2025-02-18 14:58:46,993 INFO yield speech len 9.8, rtf 0.6393386393177266\n",
      "100%|██████████| 1/1 [00:06<00:00,  6.84s/it]\n"
     ]
    },
    {
     "name": "stdout",
     "output_type": "stream",
     "text": [
      "min value is  tensor(-1.0223)\n",
      "max value is  tensor(1.0314)\n"
     ]
    },
    {
     "name": "stderr",
     "output_type": "stream",
     "text": [
      "2025-02-18 14:58:47,566 INFO synthesis text 纳米医学研究正在探索如何通过纳米粒子治疗癌症。\n",
      "2025-02-18 14:58:51,692 INFO yield speech len 6.2, rtf 0.6654109108832574\n",
      "100%|██████████| 1/1 [00:04<00:00,  4.69s/it]\n"
     ]
    },
    {
     "name": "stdout",
     "output_type": "stream",
     "text": [
      "min value is  tensor(-1.0223)\n",
      "max value is  tensor(1.0314)\n"
     ]
    },
    {
     "name": "stderr",
     "output_type": "stream",
     "text": [
      "2025-02-18 14:58:52,272 INFO synthesis text 电子工程师设计的电路能够实现复杂的计算功能。\n",
      "2025-02-18 14:58:57,028 INFO yield speech len 7.48, rtf 0.6359012687907499\n",
      "100%|██████████| 1/1 [00:05<00:00,  5.32s/it]\n",
      "94it [04:39, 16.22s/it]"
     ]
    },
    {
     "name": "stdout",
     "output_type": "stream",
     "text": [
      "min value is  tensor(-1.0223)\n",
      "max value is  tensor(1.0314)\n"
     ]
    },
    {
     "name": "stderr",
     "output_type": "stream",
     "text": [
      "2025-02-18 14:58:57,603 INFO synthesis text 气象学家利用气象卫星监测全球天气变化和灾害预警。\n",
      "2025-02-18 14:59:01,964 INFO yield speech len 6.44, rtf 0.6770991760751475\n",
      "100%|██████████| 1/1 [00:04<00:00,  4.92s/it]\n"
     ]
    },
    {
     "name": "stdout",
     "output_type": "stream",
     "text": [
      "min value is  tensor(-1.0223)\n",
      "max value is  tensor(1.0314)\n"
     ]
    },
    {
     "name": "stderr",
     "output_type": "stream",
     "text": [
      "2025-02-18 14:59:02,544 INFO synthesis text 电磁学的基本原理揭示了电与磁的相互关系。\n",
      "2025-02-18 14:59:05,974 INFO yield speech len 4.84, rtf 0.7084900682622737\n",
      "100%|██████████| 1/1 [00:03<00:00,  4.00s/it]\n"
     ]
    },
    {
     "name": "stdout",
     "output_type": "stream",
     "text": [
      "min value is  tensor(-1.0223)\n",
      "max value is  tensor(1.0314)\n"
     ]
    },
    {
     "name": "stderr",
     "output_type": "stream",
     "text": [
      "2025-02-18 14:59:06,554 INFO synthesis text 科学家通过克隆技术复制了多种植物和动物的基因。\n",
      "2025-02-18 14:59:11,009 INFO yield speech len 6.6, rtf 0.6750816648656672\n",
      "100%|██████████| 1/1 [00:05<00:00,  5.02s/it]\n"
     ]
    },
    {
     "name": "stdout",
     "output_type": "stream",
     "text": [
      "min value is  tensor(-1.0223)\n",
      "max value is  tensor(1.0314)\n"
     ]
    },
    {
     "name": "stderr",
     "output_type": "stream",
     "text": [
      "2025-02-18 14:59:11,595 INFO synthesis text 网络空间的安全防护已经成为国家安全的重要组成部分。\n",
      "2025-02-18 14:59:16,220 INFO yield speech len 6.96, rtf 0.6645284850021889\n",
      "100%|██████████| 1/1 [00:05<00:00,  5.19s/it]\n",
      "95it [04:58, 16.95s/it]"
     ]
    },
    {
     "name": "stdout",
     "output_type": "stream",
     "text": [
      "min value is  tensor(-1.0223)\n",
      "max value is  tensor(1.0314)\n"
     ]
    },
    {
     "name": "stderr",
     "output_type": "stream",
     "text": [
      "2025-02-18 14:59:16,795 INFO synthesis text 在量子光学实验中，光子可以被用来进行信息传输和处理。\n",
      "2025-02-18 14:59:21,440 INFO yield speech len 6.96, rtf 0.6673163723671574\n",
      "100%|██████████| 1/1 [00:05<00:00,  5.21s/it]\n"
     ]
    },
    {
     "name": "stdout",
     "output_type": "stream",
     "text": [
      "min value is  tensor(-1.0223)\n",
      "max value is  tensor(1.0314)\n"
     ]
    },
    {
     "name": "stderr",
     "output_type": "stream",
     "text": [
      "2025-02-18 14:59:22,018 INFO synthesis text 生物医学工程师开发的人工器官可以替代人体的部分功能。\n",
      "2025-02-18 14:59:26,950 INFO yield speech len 7.68, rtf 0.6419966618220012\n",
      "100%|██████████| 1/1 [00:05<00:00,  5.50s/it]\n"
     ]
    },
    {
     "name": "stdout",
     "output_type": "stream",
     "text": [
      "min value is  tensor(-1.0223)\n",
      "max value is  tensor(1.0314)\n"
     ]
    },
    {
     "name": "stderr",
     "output_type": "stream",
     "text": [
      "2025-02-18 14:59:27,523 INFO synthesis text 音响工程师设计的音响系统能够提供高质量的声音体验。\n",
      "2025-02-18 14:59:31,368 INFO yield speech len 5.64, rtf 0.6817512478388793\n",
      "100%|██████████| 1/1 [00:04<00:00,  4.41s/it]\n"
     ]
    },
    {
     "name": "stdout",
     "output_type": "stream",
     "text": [
      "min value is  tensor(-1.0223)\n",
      "max value is  tensor(1.0314)\n"
     ]
    },
    {
     "name": "stderr",
     "output_type": "stream",
     "text": [
      "2025-02-18 14:59:31,947 INFO synthesis text 人工智能在自然语言处理中的应用正在改变我们的沟通方式。\n",
      "2025-02-18 14:59:35,750 INFO yield speech len 5.72, rtf 0.6648524241013961\n",
      "100%|██████████| 1/1 [00:04<00:00,  4.37s/it]\n",
      "96it [05:18, 17.61s/it]"
     ]
    },
    {
     "name": "stdout",
     "output_type": "stream",
     "text": [
      "min value is  tensor(-1.0223)\n",
      "max value is  tensor(1.0314)\n"
     ]
    },
    {
     "name": "stderr",
     "output_type": "stream",
     "text": [
      "2025-02-18 14:59:36,337 INFO synthesis text 化学分子结构的分析帮助科学家发现了许多新型药物。\n",
      "2025-02-18 14:59:40,615 INFO yield speech len 6.32, rtf 0.6766860243640368\n",
      "100%|██████████| 1/1 [00:04<00:00,  4.85s/it]\n"
     ]
    },
    {
     "name": "stdout",
     "output_type": "stream",
     "text": [
      "min value is  tensor(-1.0223)\n",
      "max value is  tensor(1.0314)\n"
     ]
    },
    {
     "name": "stderr",
     "output_type": "stream",
     "text": [
      "2025-02-18 14:59:41,187 INFO synthesis text 机器人技术的进步使得自动化生产线的效率大幅提升。\n",
      "2025-02-18 14:59:44,976 INFO yield speech len 5.6, rtf 0.6765854784420559\n",
      "100%|██████████| 1/1 [00:04<00:00,  4.35s/it]\n"
     ]
    },
    {
     "name": "stdout",
     "output_type": "stream",
     "text": [
      "min value is  tensor(-1.0223)\n",
      "max value is  tensor(1.0314)\n"
     ]
    },
    {
     "name": "stderr",
     "output_type": "stream",
     "text": [
      "2025-02-18 14:59:45,551 INFO synthesis text 海洋学家研究海洋流动与气候变化之间的复杂关系。\n",
      "2025-02-18 14:59:49,991 INFO yield speech len 6.44, rtf 0.6895154529476758\n",
      "100%|██████████| 1/1 [00:04<00:00,  5.00s/it]\n"
     ]
    },
    {
     "name": "stdout",
     "output_type": "stream",
     "text": [
      "min value is  tensor(-1.0223)\n",
      "max value is  tensor(1.0314)\n"
     ]
    },
    {
     "name": "stderr",
     "output_type": "stream",
     "text": [
      "2025-02-18 14:59:50,575 INFO synthesis text 在这座城市，早晨的阳光洒在大街小巷，空气清新，鸟儿在树梢唱歌，风吹过每一条街道，带着些许的寒意。\n",
      "2025-02-18 14:59:59,735 INFO yield speech len 14.48, rtf 0.6325825637216725\n",
      "100%|██████████| 1/1 [00:09<00:00,  9.73s/it]\n",
      "97it [05:42, 19.33s/it]2025-02-18 14:59:59,753 WARNING synthesis text 明天的天气预报说有大风。 too short than prompt text 两个或者三个吧，嗯肚子很胀，就是，有点，嗯，有时候会吐的, this may lead to bad performance\n"
     ]
    },
    {
     "name": "stdout",
     "output_type": "stream",
     "text": [
      "min value is  tensor(-1.0223)\n",
      "max value is  tensor(1.0314)\n"
     ]
    },
    {
     "name": "stderr",
     "output_type": "stream",
     "text": [
      "2025-02-18 15:00:00,311 INFO synthesis text 明天的天气预报说有大风。\n",
      "2025-02-18 15:00:02,566 INFO yield speech len 2.72, rtf 0.8291790590566747\n",
      "100%|██████████| 1/1 [00:02<00:00,  2.82s/it]\n",
      "2025-02-18 15:00:02,580 WARNING synthesis text 他每天都去公园跑步。 too short than prompt text 两个或者三个吧，嗯肚子很胀，就是，有点，嗯，有时候会吐的, this may lead to bad performance\n"
     ]
    },
    {
     "name": "stdout",
     "output_type": "stream",
     "text": [
      "min value is  tensor(-1.0223)\n",
      "max value is  tensor(1.0314)\n"
     ]
    },
    {
     "name": "stderr",
     "output_type": "stream",
     "text": [
      "2025-02-18 15:00:03,134 INFO synthesis text 他每天都去公园跑步。\n",
      "2025-02-18 15:00:05,719 INFO yield speech len 3.28, rtf 0.7882729536149561\n",
      "100%|██████████| 1/1 [00:03<00:00,  3.14s/it]\n",
      "2025-02-18 15:00:05,736 WARNING synthesis text 我们要一起去吃火锅吗？ too short than prompt text 两个或者三个吧，嗯肚子很胀，就是，有点，嗯，有时候会吐的, this may lead to bad performance\n"
     ]
    },
    {
     "name": "stdout",
     "output_type": "stream",
     "text": [
      "min value is  tensor(-1.0223)\n",
      "max value is  tensor(1.0314)\n"
     ]
    },
    {
     "name": "stderr",
     "output_type": "stream",
     "text": [
      "2025-02-18 15:00:06,292 INFO synthesis text 我们要一起去吃火锅吗？\n",
      "2025-02-18 15:00:08,592 INFO yield speech len 2.44, rtf 0.942934341117984\n",
      "100%|██████████| 1/1 [00:02<00:00,  2.86s/it]\n",
      "2025-02-18 15:00:08,606 WARNING synthesis text 这本书非常有趣，值得一读。 too short than prompt text 两个或者三个吧，嗯肚子很胀，就是，有点，嗯，有时候会吐的, this may lead to bad performance\n"
     ]
    },
    {
     "name": "stdout",
     "output_type": "stream",
     "text": [
      "min value is  tensor(-1.0223)\n",
      "max value is  tensor(1.0314)\n"
     ]
    },
    {
     "name": "stderr",
     "output_type": "stream",
     "text": [
      "2025-02-18 15:00:09,157 INFO synthesis text 这本书非常有趣，值得一读。\n",
      "2025-02-18 15:00:11,737 INFO yield speech len 3.44, rtf 0.7499457791794178\n",
      "100%|██████████| 1/1 [00:03<00:00,  3.14s/it]\n",
      "98it [05:54, 17.29s/it]"
     ]
    },
    {
     "name": "stdout",
     "output_type": "stream",
     "text": [
      "min value is  tensor(-1.0223)\n",
      "max value is  tensor(1.0314)\n"
     ]
    },
    {
     "name": "stderr",
     "output_type": "stream",
     "text": [
      "2025-02-18 15:00:12,304 INFO synthesis text 老师讲解了很多难题，大家都明白了。\n",
      "2025-02-18 15:00:15,212 INFO yield speech len 3.84, rtf 0.7572168484330177\n",
      "100%|██████████| 1/1 [00:03<00:00,  3.46s/it]\n",
      "2025-02-18 15:00:15,229 WARNING synthesis text 这条街上的商店琳琅满目。 too short than prompt text 两个或者三个吧，嗯肚子很胀，就是，有点，嗯，有时候会吐的, this may lead to bad performance\n"
     ]
    },
    {
     "name": "stdout",
     "output_type": "stream",
     "text": [
      "min value is  tensor(-1.0223)\n",
      "max value is  tensor(1.0314)\n"
     ]
    },
    {
     "name": "stderr",
     "output_type": "stream",
     "text": [
      "2025-02-18 15:00:15,789 INFO synthesis text 这条街上的商店琳琅满目。\n",
      "2025-02-18 15:00:18,755 INFO yield speech len 3.72, rtf 0.7976817187442574\n",
      "100%|██████████| 1/1 [00:03<00:00,  3.53s/it]\n",
      "2025-02-18 15:00:18,772 WARNING synthesis text 风吹过湖面，水波荡漾。 too short than prompt text 两个或者三个吧，嗯肚子很胀，就是，有点，嗯，有时候会吐的, this may lead to bad performance\n"
     ]
    },
    {
     "name": "stdout",
     "output_type": "stream",
     "text": [
      "min value is  tensor(-1.0223)\n",
      "max value is  tensor(1.0314)\n"
     ]
    },
    {
     "name": "stderr",
     "output_type": "stream",
     "text": [
      "2025-02-18 15:00:19,337 INFO synthesis text 风吹过湖面，水波荡漾。\n",
      "2025-02-18 15:00:21,802 INFO yield speech len 3.24, rtf 0.7606696199487756\n",
      "100%|██████████| 1/1 [00:03<00:00,  3.03s/it]\n",
      "2025-02-18 15:00:21,819 WARNING synthesis text 那只猫在树上爬来爬去。 too short than prompt text 两个或者三个吧，嗯肚子很胀，就是，有点，嗯，有时候会吐的, this may lead to bad performance\n"
     ]
    },
    {
     "name": "stdout",
     "output_type": "stream",
     "text": [
      "min value is  tensor(-1.0223)\n",
      "max value is  tensor(1.0314)\n"
     ]
    },
    {
     "name": "stderr",
     "output_type": "stream",
     "text": [
      "2025-02-18 15:00:22,370 INFO synthesis text 那只猫在树上爬来爬去。\n",
      "2025-02-18 15:00:24,608 INFO yield speech len 2.84, rtf 0.7879932161787866\n",
      "100%|██████████| 1/1 [00:02<00:00,  2.79s/it]\n",
      "99it [06:07, 16.04s/it]"
     ]
    },
    {
     "name": "stdout",
     "output_type": "stream",
     "text": [
      "min value is  tensor(-1.0223)\n",
      "max value is  tensor(1.0314)\n"
     ]
    },
    {
     "name": "stderr",
     "output_type": "stream",
     "text": [
      "2025-02-18 15:00:25,185 INFO synthesis text 我和朋友去市场买了新鲜的蔬菜。\n",
      "2025-02-18 15:00:27,807 INFO yield speech len 3.44, rtf 0.7624070311701575\n",
      "100%|██████████| 1/1 [00:03<00:00,  3.19s/it]\n"
     ]
    },
    {
     "name": "stdout",
     "output_type": "stream",
     "text": [
      "min value is  tensor(-1.0223)\n",
      "max value is  tensor(1.0314)\n"
     ]
    },
    {
     "name": "stderr",
     "output_type": "stream",
     "text": [
      "2025-02-18 15:00:28,394 INFO synthesis text 昨天我在电影院看了一部电影。\n",
      "2025-02-18 15:00:30,882 INFO yield speech len 3.28, rtf 0.758461908596318\n",
      "100%|██████████| 1/1 [00:03<00:00,  3.06s/it]\n"
     ]
    },
    {
     "name": "stdout",
     "output_type": "stream",
     "text": [
      "min value is  tensor(-1.0223)\n",
      "max value is  tensor(1.0314)\n"
     ]
    },
    {
     "name": "stderr",
     "output_type": "stream",
     "text": [
      "2025-02-18 15:00:31,461 INFO synthesis text 我们准备了一场别开生面的聚会。\n",
      "2025-02-18 15:00:34,617 INFO yield speech len 4.12, rtf 0.7658999521755477\n",
      "100%|██████████| 1/1 [00:03<00:00,  3.72s/it]\n"
     ]
    },
    {
     "name": "stdout",
     "output_type": "stream",
     "text": [
      "min value is  tensor(-1.0223)\n",
      "max value is  tensor(1.0314)\n"
     ]
    },
    {
     "name": "stderr",
     "output_type": "stream",
     "text": [
      "2025-02-18 15:00:35,194 INFO synthesis text 他们家的花园里有各种各样的花朵。\n",
      "2025-02-18 15:00:38,220 INFO yield speech len 4.16, rtf 0.7273486027350792\n",
      "100%|██████████| 1/1 [00:03<00:00,  3.59s/it]\n",
      "100it [06:20, 15.34s/it]"
     ]
    },
    {
     "name": "stdout",
     "output_type": "stream",
     "text": [
      "min value is  tensor(-1.0223)\n",
      "max value is  tensor(1.0314)\n"
     ]
    },
    {
     "name": "stderr",
     "output_type": "stream",
     "text": [
      "2025-02-18 15:00:38,795 INFO synthesis text 早上醒来，阳光透过窗帘照进房间。\n",
      "2025-02-18 15:00:42,104 INFO yield speech len 4.52, rtf 0.7321992806628743\n",
      "100%|██████████| 1/1 [00:03<00:00,  3.87s/it]\n",
      "2025-02-18 15:00:42,122 WARNING synthesis text 爷爷喜欢在公园里打太极拳。 too short than prompt text 两个或者三个吧，嗯肚子很胀，就是，有点，嗯，有时候会吐的, this may lead to bad performance\n"
     ]
    },
    {
     "name": "stdout",
     "output_type": "stream",
     "text": [
      "min value is  tensor(-1.0223)\n",
      "max value is  tensor(1.0314)\n"
     ]
    },
    {
     "name": "stderr",
     "output_type": "stream",
     "text": [
      "2025-02-18 15:00:42,688 INFO synthesis text 爷爷喜欢在公园里打太极拳。\n",
      "2025-02-18 15:00:46,320 INFO yield speech len 5.04, rtf 0.7206487750250196\n",
      "100%|██████████| 1/1 [00:04<00:00,  4.20s/it]\n"
     ]
    },
    {
     "name": "stdout",
     "output_type": "stream",
     "text": [
      "min value is  tensor(-1.0223)\n",
      "max value is  tensor(1.0314)\n"
     ]
    },
    {
     "name": "stderr",
     "output_type": "stream",
     "text": [
      "2025-02-18 15:00:46,886 INFO synthesis text 她唱的歌声如同天籁一般美妙。\n",
      "2025-02-18 15:00:49,498 INFO yield speech len 3.64, rtf 0.7176509270301231\n",
      "100%|██████████| 1/1 [00:03<00:00,  3.17s/it]\n"
     ]
    },
    {
     "name": "stdout",
     "output_type": "stream",
     "text": [
      "min value is  tensor(-1.0223)\n",
      "max value is  tensor(1.0314)\n"
     ]
    },
    {
     "name": "stderr",
     "output_type": "stream",
     "text": [
      "2025-02-18 15:00:50,076 INFO synthesis text 大海的波浪拍打着岸边的岩石。\n",
      "2025-02-18 15:00:52,492 INFO yield speech len 3.12, rtf 0.7744536950038029\n",
      "100%|██████████| 1/1 [00:02<00:00,  2.98s/it]\n",
      "101it [06:35, 15.03s/it]"
     ]
    },
    {
     "name": "stdout",
     "output_type": "stream",
     "text": [
      "min value is  tensor(-1.0223)\n",
      "max value is  tensor(1.0314)\n"
     ]
    },
    {
     "name": "stderr",
     "output_type": "stream",
     "text": [
      "2025-02-18 15:00:53,069 INFO synthesis text 他的脚步声在寂静的夜晚回荡。\n",
      "2025-02-18 15:00:56,147 INFO yield speech len 4.2, rtf 0.7327729747408912\n",
      "100%|██████████| 1/1 [00:03<00:00,  3.64s/it]\n",
      "2025-02-18 15:00:56,164 WARNING synthesis text 突然间，窗外响起了雷声。 too short than prompt text 两个或者三个吧，嗯肚子很胀，就是，有点，嗯，有时候会吐的, this may lead to bad performance\n"
     ]
    },
    {
     "name": "stdout",
     "output_type": "stream",
     "text": [
      "min value is  tensor(-1.0223)\n",
      "max value is  tensor(1.0314)\n"
     ]
    },
    {
     "name": "stderr",
     "output_type": "stream",
     "text": [
      "2025-02-18 15:00:56,727 INFO synthesis text 突然间，窗外响起了雷声。\n",
      "2025-02-18 15:00:59,319 INFO yield speech len 3.48, rtf 0.7450354510340197\n",
      "100%|██████████| 1/1 [00:03<00:00,  3.16s/it]\n",
      "2025-02-18 15:00:59,339 WARNING synthesis text 孩子们在操场上快乐地奔跑。 too short than prompt text 两个或者三个吧，嗯肚子很胀，就是，有点，嗯，有时候会吐的, this may lead to bad performance\n"
     ]
    },
    {
     "name": "stdout",
     "output_type": "stream",
     "text": [
      "min value is  tensor(-1.0223)\n",
      "max value is  tensor(1.0314)\n"
     ]
    },
    {
     "name": "stderr",
     "output_type": "stream",
     "text": [
      "2025-02-18 15:00:59,900 INFO synthesis text 孩子们在操场上快乐地奔跑。\n",
      "2025-02-18 15:01:02,692 INFO yield speech len 3.96, rtf 0.704869477435796\n",
      "100%|██████████| 1/1 [00:03<00:00,  3.36s/it]\n"
     ]
    },
    {
     "name": "stdout",
     "output_type": "stream",
     "text": [
      "min value is  tensor(-1.0223)\n",
      "max value is  tensor(1.0314)\n"
     ]
    },
    {
     "name": "stderr",
     "output_type": "stream",
     "text": [
      "2025-02-18 15:01:03,262 INFO synthesis text 那条小河绕过村庄，蜿蜒流淌。\n",
      "2025-02-18 15:01:06,761 INFO yield speech len 5.32, rtf 0.6577110380158389\n",
      "100%|██████████| 1/1 [00:04<00:00,  4.06s/it]\n",
      "102it [06:49, 14.80s/it]2025-02-18 15:01:06,779 WARNING synthesis text 这座城市的夜景非常迷人。 too short than prompt text 两个或者三个吧，嗯肚子很胀，就是，有点，嗯，有时候会吐的, this may lead to bad performance\n"
     ]
    },
    {
     "name": "stdout",
     "output_type": "stream",
     "text": [
      "min value is  tensor(-1.0223)\n",
      "max value is  tensor(1.0314)\n"
     ]
    },
    {
     "name": "stderr",
     "output_type": "stream",
     "text": [
      "2025-02-18 15:01:07,329 INFO synthesis text 这座城市的夜景非常迷人。\n",
      "2025-02-18 15:01:10,054 INFO yield speech len 3.84, rtf 0.7094875598947208\n",
      "100%|██████████| 1/1 [00:03<00:00,  3.28s/it]\n",
      "2025-02-18 15:01:10,071 WARNING synthesis text 他每天都骑自行车去上班。 too short than prompt text 两个或者三个吧，嗯肚子很胀，就是，有点，嗯，有时候会吐的, this may lead to bad performance\n"
     ]
    },
    {
     "name": "stdout",
     "output_type": "stream",
     "text": [
      "min value is  tensor(-1.0223)\n",
      "max value is  tensor(1.0314)\n"
     ]
    },
    {
     "name": "stderr",
     "output_type": "stream",
     "text": [
      "2025-02-18 15:01:10,624 INFO synthesis text 他每天都骑自行车去上班。\n",
      "2025-02-18 15:01:12,976 INFO yield speech len 3.12, rtf 0.7539587143139961\n",
      "100%|██████████| 1/1 [00:02<00:00,  2.91s/it]\n"
     ]
    },
    {
     "name": "stdout",
     "output_type": "stream",
     "text": [
      "min value is  tensor(-1.0223)\n",
      "max value is  tensor(1.0314)\n"
     ]
    },
    {
     "name": "stderr",
     "output_type": "stream",
     "text": [
      "2025-02-18 15:01:13,554 INFO synthesis text 秋天的落叶飘落在地上，五彩斑斓。\n",
      "2025-02-18 15:01:16,714 INFO yield speech len 4.48, rtf 0.705269564475332\n",
      "100%|██████████| 1/1 [00:03<00:00,  3.72s/it]\n"
     ]
    },
    {
     "name": "stdout",
     "output_type": "stream",
     "text": [
      "min value is  tensor(-1.0223)\n",
      "max value is  tensor(1.0314)\n"
     ]
    },
    {
     "name": "stderr",
     "output_type": "stream",
     "text": [
      "2025-02-18 15:01:17,282 INFO synthesis text 她的笑容像春天的阳光一样温暖。\n",
      "2025-02-18 15:01:20,291 INFO yield speech len 4.04, rtf 0.7447649346719873\n",
      "100%|██████████| 1/1 [00:03<00:00,  3.56s/it]\n",
      "103it [07:02, 14.43s/it]2025-02-18 15:01:20,307 WARNING synthesis text 我在图书馆读了三本书。 too short than prompt text 两个或者三个吧，嗯肚子很胀，就是，有点，嗯，有时候会吐的, this may lead to bad performance\n"
     ]
    },
    {
     "name": "stdout",
     "output_type": "stream",
     "text": [
      "min value is  tensor(-1.0223)\n",
      "max value is  tensor(1.0314)\n"
     ]
    },
    {
     "name": "stderr",
     "output_type": "stream",
     "text": [
      "2025-02-18 15:01:20,862 INFO synthesis text 我在图书馆读了三本书。\n",
      "2025-02-18 15:01:23,302 INFO yield speech len 3.44, rtf 0.7093472536220107\n",
      "100%|██████████| 1/1 [00:03<00:00,  3.00s/it]\n"
     ]
    },
    {
     "name": "stdout",
     "output_type": "stream",
     "text": [
      "min value is  tensor(-1.0223)\n",
      "max value is  tensor(1.0314)\n"
     ]
    },
    {
     "name": "stderr",
     "output_type": "stream",
     "text": [
      "2025-02-18 15:01:23,874 INFO synthesis text 他们决定一起去爬山，享受大自然的美景。\n",
      "2025-02-18 15:01:27,188 INFO yield speech len 4.84, rtf 0.6846518555948558\n",
      "100%|██████████| 1/1 [00:03<00:00,  3.87s/it]\n"
     ]
    },
    {
     "name": "stdout",
     "output_type": "stream",
     "text": [
      "min value is  tensor(-1.0223)\n",
      "max value is  tensor(1.0314)\n"
     ]
    },
    {
     "name": "stderr",
     "output_type": "stream",
     "text": [
      "2025-02-18 15:01:27,765 INFO synthesis text 他跑得非常快，像风一样轻盈。\n",
      "2025-02-18 15:01:31,052 INFO yield speech len 4.68, rtf 0.7024370197556977\n",
      "100%|██████████| 1/1 [00:03<00:00,  3.85s/it]\n"
     ]
    },
    {
     "name": "stdout",
     "output_type": "stream",
     "text": [
      "min value is  tensor(-1.0223)\n",
      "max value is  tensor(1.0314)\n"
     ]
    },
    {
     "name": "stderr",
     "output_type": "stream",
     "text": [
      "2025-02-18 15:01:31,632 INFO synthesis text 白雪覆盖着大地，仿佛进入了童话世界。\n",
      "2025-02-18 15:01:35,091 INFO yield speech len 5.24, rtf 0.6599918121599969\n",
      "100%|██████████| 1/1 [00:04<00:00,  4.03s/it]\n",
      "104it [07:17, 14.54s/it]"
     ]
    },
    {
     "name": "stdout",
     "output_type": "stream",
     "text": [
      "min value is  tensor(-1.0223)\n",
      "max value is  tensor(1.0314)\n"
     ]
    },
    {
     "name": "stderr",
     "output_type": "stream",
     "text": [
      "2025-02-18 15:01:35,669 INFO synthesis text 餐厅里传来了愉快的谈话声和笑声。\n",
      "2025-02-18 15:01:39,032 INFO yield speech len 4.84, rtf 0.6948771062961295\n",
      "100%|██████████| 1/1 [00:03<00:00,  3.93s/it]\n"
     ]
    },
    {
     "name": "stdout",
     "output_type": "stream",
     "text": [
      "min value is  tensor(-1.0223)\n",
      "max value is  tensor(1.0314)\n"
     ]
    },
    {
     "name": "stderr",
     "output_type": "stream",
     "text": [
      "2025-02-18 15:01:39,609 INFO synthesis text 我们去山顶看日出，景色美得令人叹为观止。\n",
      "2025-02-18 15:01:43,687 INFO yield speech len 6.0, rtf 0.6797613302866617\n",
      "100%|██████████| 1/1 [00:04<00:00,  4.64s/it]\n",
      "105it [07:26,  4.25s/it]"
     ]
    },
    {
     "name": "stdout",
     "output_type": "stream",
     "text": [
      "Done.\n"
     ]
    },
    {
     "name": "stderr",
     "output_type": "stream",
     "text": [
      "\n"
     ]
    }
   ],
   "source": [
    "def zero_shot():\n",
    "\tprint(\"Using zero shot.\")\n",
    "\tfor idx, input_data in enumerate(tqdm(input_generator())):\n",
    "\t\tfor subidx, data in enumerate(input_data):\n",
    "\t\t\tglobal_idx = idx * batch + subidx + 1\n",
    "\t\t\tfilename = os.path.join(output_dir, f\"{global_idx}.wav\")\n",
    "\t\t\tif os.path.exists(filename):\n",
    "\t\t\t\tprint(\"Skip \", filename)\n",
    "\t\t\t\tcontinue\n",
    "\t\t\tret = list(cosyvoice.inference_zero_shot(data, prompt_text, prompt_audio, stream=False))[0]\n",
    "\t\t\ttorchaudio.save(filename, ret['tts_speech'], cosyvoice.sample_rate)\n",
    "def cross_shot():\n",
    "\tprint(\"Using cross shot to \" + cross_lang + \".\")\n",
    "\tinstruct_text = f\"用{cross_lang}说这句话\"\n",
    "\tfor idx, input_data in enumerate(tqdm(input_generator())):\n",
    "\t\tfor subidx, data in enumerate(input_data):\n",
    "\t\t\tglobal_idx = idx * batch + subidx + 1\n",
    "\t\t\tfilename = os.path.join(output_dir, f\"{global_idx}.wav\")\n",
    "\t\t\tif os.path.exists(filename):\n",
    "\t\t\t\tprint(\"Skip \", filename)\n",
    "\t\t\t\tcontinue\n",
    "\t\t\tret = list(cosyvoice.inference_instruct2(data, instruct_text, prompt_audio, stream=False))[0]\n",
    "\t\t\ttorchaudio.save(filename, ret['tts_speech'], cosyvoice.sample_rate)\n",
    "if cross_lang == \"\":\n",
    "\tzero_shot()\n",
    "else:\n",
    "\tcross_shot()\n",
    "print(\"Done.\")"
   ]
  },
  {
   "cell_type": "code",
   "execution_count": null,
   "metadata": {},
   "outputs": [],
   "source": []
  }
 ],
 "metadata": {
  "kernelspec": {
   "display_name": "Python 3",
   "language": "python",
   "name": "python3"
  },
  "language_info": {
   "codemirror_mode": {
    "name": "ipython",
    "version": 3
   },
   "file_extension": ".py",
   "mimetype": "text/x-python",
   "name": "python",
   "nbconvert_exporter": "python",
   "pygments_lexer": "ipython3",
   "version": "3.8.18"
  }
 },
 "nbformat": 4,
 "nbformat_minor": 2
}
