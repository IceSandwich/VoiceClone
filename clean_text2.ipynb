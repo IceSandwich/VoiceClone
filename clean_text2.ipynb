{
 "cells": [
  {
   "cell_type": "code",
   "execution_count": 1,
   "metadata": {},
   "outputs": [
    {
     "name": "stdout",
     "output_type": "stream",
     "text": [
      "Got dataset: 1205\n"
     ]
    }
   ],
   "source": [
    "import typing\n",
    "dataset: typing.List[typing.Tuple[str, str]] = []\n",
    "with open(\"assets/text/mandarin_train_partial_clean.txt\", \"r\", encoding=\"utf-8\") as f:\n",
    "\tlines = f.readlines()\n",
    "\tfor i in range(0, len(lines), 2):\n",
    "\t\ttext = lines[i].strip().strip('\\n')\n",
    "\t\tphome = lines[i+1].strip().strip('\\n')\n",
    "\t\tdataset.append((text, phome))\n",
    "print(f\"Got dataset: {len(dataset)}\")"
   ]
  },
  {
   "cell_type": "code",
   "execution_count": 3,
   "metadata": {},
   "outputs": [
    {
     "name": "stdout",
     "output_type": "stream",
     "text": [
      "Unhandle: 414\n",
      "== 在邹焰焰闲聊的话音中，他那些高官“哥们儿”能量都不可小觑。\n",
      "== zai4 zou1 yan4 yan4 xian2 liao2 de hua4 yin1 zhong1 ta1 na4 xie1 gao1 guan1 ge1 menr neng2 liang4 dou1 bu4 ke2 xiao3 qu4\n",
      "remain: []\n",
      "\n"
     ]
    }
   ],
   "source": [
    "modified_ds = dataset.copy()\n",
    "for k, (text, phome) in enumerate(dataset):\n",
    "\tnewphome = []\n",
    "\tphomes = phome.split(' ')\n",
    "\tskip_one = False\n",
    "\tunhandle = False\n",
    "\tfor i, ch in enumerate(text):\n",
    "\t\tif skip_one:\n",
    "\t\t\tskip_one = False\n",
    "\t\t\tcontinue\n",
    "\t\tif ch == \"。\" or ch == '.': newphome.append('.')\n",
    "\t\telif ch == '，': newphome.append(',')\n",
    "\t\telif ch == '-' or ch == '—': newphome.append('.')\n",
    "\t\telif ch == '“' or ch == '”': newphome.append('\\\"')\n",
    "\t\telif ch == '？': newphome.append('?')\n",
    "\t\telif ch == '！': newphome.append('!')\n",
    "\t\telif ch == '：': newphome.append(':')\n",
    "\t\telif ch == '、': newphome.append(',')\n",
    "\t\telif ch == '；': newphome.append(',')\n",
    "\t\telif ch == '…': newphome.append('.')\n",
    "\t\telse:\n",
    "\t\t\tif len(phomes) == 0:\n",
    "\t\t\t\tunhandle = True\n",
    "\t\t\t\tbreak\n",
    "\t\t\tp = phomes.pop(0)\n",
    "\t\t\tif len(p) >= 3 and p[-2] == 'r' and text[i+1] == '儿':\n",
    "\t\t\t\tnewphome.append(p[:-2] + p[-1])\n",
    "\t\t\t\tnewphome.append('er2')\n",
    "\t\t\t\tskip_one = True\n",
    "\t\t\telse:\n",
    "\t\t\t\tnewphome.append(p)\n",
    "\tif len(phomes) == 0 and not unhandle:\n",
    "\t\tmodified_ds[k] = (text, ' '.join(newphome))\n",
    "\telse:\n",
    "\t\tprint(f\"Unhandle: {k}\\n== {text}\\n== {phome}\\nremain: {phomes}\\n\")"
   ]
  },
  {
   "cell_type": "code",
   "execution_count": 4,
   "metadata": {},
   "outputs": [
    {
     "data": {
      "text/plain": [
       "('在邹焰焰闲聊的话音中，他那些高官“哥们儿”能量都不可小觑。',\n",
       " 'zai4 zou1 yan4 yan4 xian2 liao2 de hua4 yin1 zhong1 ta1 na4 xie1 gao1 guan1 ge1 menr neng2 liang4 dou1 bu4 ke2 xiao3 qu4')"
      ]
     },
     "execution_count": 4,
     "metadata": {},
     "output_type": "execute_result"
    }
   ],
   "source": [
    "modified_ds[414]"
   ]
  },
  {
   "cell_type": "code",
   "execution_count": 5,
   "metadata": {},
   "outputs": [],
   "source": [
    "modified_ds[414] = (modified_ds[414][0], 'zai4 zou1 yan4 yan4 xian2 liao2 de hua4 yin1 zhong1 , ta1 na4 xie1 gao1 guan1 \" ge1 men2 er2 \" neng2 liang4 dou1 bu4 ke2 xiao3 qu4 .')"
   ]
  },
  {
   "cell_type": "code",
   "execution_count": 6,
   "metadata": {},
   "outputs": [
    {
     "data": {
      "text/plain": [
       "[('躺在急救担架上的男子双目紧闭，头发散发出一股烧焦的味道。',\n",
       "  'tang3 zai4 ji2 jiu4 dan1 jia4 shang4 de nan2 zi shuang1 mu4 jin3 bi4 , tou2 fa4 san4 fa1 chu1 yi4 gu3 shao1 jiao1 de wei4 dao4 .'),\n",
       " ('工业园区是承接产业转移、加速产业集聚、培育产业集群的主要载体。',\n",
       "  'gong1 ye4 yuan2 qu1 shi4 cheng2 jie1 chan3 ye4 zhuan3 yi2 , jia1 su4 chan3 ye4 ji2 ju4 , pei2 yu4 chan3 ye4 ji2 qun2 de zhu3 yao4 zai4 ti3 .'),\n",
       " ('那一刻，我才真正的懂你，就像懂我现在的自己。',\n",
       "  'na4 yi2 ke4 , wo3 cai2 zhen1 zheng4 de dong2 ni3 , jiu4 xiang4 dong3 wo3 xian4 zai4 de zi4 ji3 .'),\n",
       " ('由于列车长时间停靠，车厢内的空气越来越“闷”。',\n",
       "  'you2 yu2 lie4 che1 zhang3 shi2 jian1 ting2 kao4 , che1 xiang1 nei4 de kong1 qi4 yue4 lai2 yue4 \" men1 \" .'),\n",
       " ('但如果按车队规模，一嗨数千辆车的量级绝对算不上最大。',\n",
       "  'dan4 ru2 guo3 an4 che1 dui4 gui1 mo2 , yi1 hai1 shu4 qian1 liang4 che1 de liang4 ji2 jue2 dui4 suan4 bu2 shang4 zui4 da4 .')]"
      ]
     },
     "execution_count": 6,
     "metadata": {},
     "output_type": "execute_result"
    }
   ],
   "source": [
    "modified_ds[:5]"
   ]
  },
  {
   "cell_type": "code",
   "execution_count": 7,
   "metadata": {},
   "outputs": [],
   "source": [
    "with open(\"assets/text/mandarin_train_full_clean.txt\", \"w\", encoding=\"utf-8\") as f:\n",
    "\tfor (text, phome) in modified_ds:\n",
    "\t\tf.write(text + \"\\n\" + phome + \"\\n\")"
   ]
  },
  {
   "cell_type": "code",
   "execution_count": null,
   "metadata": {},
   "outputs": [
    {
     "data": {
      "text/plain": [
       "[('我媳妇儿天天跟我在家，每次我想抽烟都硬拉着我，啪啪啪。',\n",
       "  '我媳妇儿天天跟我在家每次我想抽烟都硬拉着我啪啪啪',\n",
       "  'wo3 xi2 fur4 tian1 tian1 gen1 wo3 zai4 jia1 mei3 ci4 wo2 xiang3 chou1 yan1 dou1 ying4 la1 zhe wo3 pa1 pa1 pa1',\n",
       "  24,\n",
       "  23),\n",
       " ('大海深处，早已铆足了劲儿的钻头终于钻入了地层之中。',\n",
       "  '大海深处早已铆足了劲儿的钻头终于钻入了地层之中',\n",
       "  'da4 hai3 shen1 chu4 zao2 yi2 mao3 zu2 le jinr4 de zuan4 tou zhong1 yu2 zuan1 ru4 le di4 ceng2 zhi1 zhong1',\n",
       "  23,\n",
       "  22),\n",
       " ('甘当“绿叶”的巩汉林提前一天就来到南京对词儿走台。',\n",
       "  '甘当绿叶的巩汉林提前一天就来到南京对词儿走台',\n",
       "  'gan1 dang1 lv4 ye4 de gong3 han4 lin2 ti2 qian2 yi4 tian1 jiu4 lai2 dao4 nan2 jing1 dui4 cir2 zou3 tai2',\n",
       "  22,\n",
       "  21),\n",
       " ('在邹焰焰闲聊的话音中，他那些高官“哥们儿”能量都不可小觑。',\n",
       "  '在邹焰焰闲聊的话音中他那些高官哥们儿能量都不可小觑',\n",
       "  'zai4 zou1 yan4 yan4 xian2 liao2 de hua4 yin1 zhong1 ta1 na4 xie1 gao1 guan1 ge1 menr neng2 liang4 dou1 bu4 ke2 xiao3 qu4',\n",
       "  25,\n",
       "  24),\n",
       " ('原来她把睡房灯泡拆下来整个儿吞掉，只吃剩下了一根电线。',\n",
       "  '原来她把睡房灯泡拆下来整个儿吞掉只吃剩下了一根电线',\n",
       "  'yuan2 lai2 ta1 ba3 shui4 fang2 deng1 pao4 chai1 xia4 lai zheng3 ger4 tun1 diao4 zhi3 chi1 sheng4 xia4 le yi4 gen1 dian4 xian4',\n",
       "  25,\n",
       "  24),\n",
       " ('在日本听罗斯特洛波维奇指挥的音乐会，我曾亲身到过那块儿土地。',\n",
       "  '在日本听罗斯特洛波维奇指挥的音乐会我曾亲身到过那块儿土地',\n",
       "  'zai4 ri4 ben3 ting1 luo2 si1 te4 luo4 bo1 wei2 qi2 zhi3 hui1 de yin1 yue4 hui4 wo3 ceng2 qin1 shen1 dao4 guo4 na4 kuair4 tu3 di4',\n",
       "  28,\n",
       "  27),\n",
       " ('全家商量过了，春节就搬过来住，今年过个不串房檐儿的大年。',\n",
       "  '全家商量过了春节就搬过来住今年过个不串房檐儿的大年',\n",
       "  'quan2 jia1 shang1 liang guo4 le chun1 jie2 jiu4 ban1 guo4 lai2 zhu4 jin1 nian2 guo4 ge bu2 chuan4 fang2 yanr2 de da4 nian2',\n",
       "  25,\n",
       "  24),\n",
       " ('小女孩儿已经惨不忍睹，围观群众不禁哀叹道“太惨了，太惨了”。',\n",
       "  '小女孩儿已经惨不忍睹围观群众不禁哀叹道太惨了太惨了',\n",
       "  'xiao2 nv3 hair2 yi3 jing1 can3 bu4 ren2 du3 wei2 guan1 qun2 zhong4 bu4 jin1 ai1 tan4 dao4 tai4 can3 le tai4 can3 le',\n",
       "  25,\n",
       "  24),\n",
       " ('行啊没问题，不过你也知道的，周末路上都很堵，估计得晚到一点儿。',\n",
       "  '行啊没问题不过你也知道的周末路上都很堵估计得晚到一点儿',\n",
       "  'xing2 a mei2 wen4 ti bu2 guo4 ni2 ye3 zhi1 dao4 de zhou1 mo4 lu4 shang4 dou1 hen2 du3 gu1 ji4 dei2 wan3 dao4 yi4 dianr3',\n",
       "  27,\n",
       "  26),\n",
       " ('长白山特别险峻，我们有的作者因为在那儿创作，已经去世了。',\n",
       "  '长白山特别险峻我们有的作者因为在那儿创作已经去世了',\n",
       "  'chang2 bai2 shan1 te4 bie2 xian3 jun4 wo3 men you3 de zuo4 zhe3 yin1 wei4 zai4 nar4 chuang4 zuo4 yi3 jing1 qu4 shi4 le',\n",
       "  25,\n",
       "  24),\n",
       " ('拈花寺以东的胡同儿道路并不算窄，但两旁却停满了私家车。',\n",
       "  '拈花寺以东的胡同儿道路并不算窄但两旁却停满了私家车',\n",
       "  'nian1 hua1 si4 yi3 dong1 de hu2 tongr4 dao4 lu4 bing4 bu suan4 zhai3 dan4 liang3 pang2 que4 ting2 man3 le si1 jia1 che1',\n",
       "  25,\n",
       "  24),\n",
       " ('赵蕊蕊从小喜欢画画，和许多女孩儿一样，她也很喜欢漫画书。',\n",
       "  '赵蕊蕊从小喜欢画画和许多女孩儿一样她也很喜欢漫画书',\n",
       "  'zhao4 rui2 rui3 cong2 xiao2 xi3 huan hua4 hua4 he2 xu3 duo1 nv3 hair2 yi2 yang4 ta1 ye3 hen2 xi3 huan man4 hua4 shu1',\n",
       "  25,\n",
       "  24),\n",
       " ('他愣住了，好一会儿头脑里才反应出“不明飞行物”这个概念。',\n",
       "  '他愣住了好一会儿头脑里才反应出不明飞行物这个概念',\n",
       "  'ta1 leng4 zhu4 le hao3 yi2 huir4 tou2 nao2 li3 cai2 fan3 ying4 chu1 bu4 ming2 fei1 xing2 wu4 zhe4 ge gai4 nian4',\n",
       "  24,\n",
       "  23),\n",
       " ('连上岗前培训、支摊儿的功夫都省了，这家可真能压缩成本。',\n",
       "  '连上岗前培训支摊儿的功夫都省了这家可真能压缩成本',\n",
       "  'lian2 shang4 gang3 qian2 pei2 xun4 zhi1 tanr1 de gong1 fu dou1 sheng3 le zhe4 jia1 ke3 zhen1 neng2 ya1 suo1 cheng2 ben3',\n",
       "  24,\n",
       "  23),\n",
       " ('而照片中的尹恩惠更如同专业模特儿一样，让人回味无穷。',\n",
       "  '而照片中的尹恩惠更如同专业模特儿一样让人回味无穷',\n",
       "  'er2 zhao4 pian4 zhong1 de yin3 en1 hui4 geng4 ru2 tong2 zhuan1 ye4 mo2 ter4 yi2 yang4 rang4 ren2 hui2 wei4 wu2 qiong2',\n",
       "  24,\n",
       "  23),\n",
       " ('甘慧萍也不晓得到底咋回事儿，两口子拌了几句嘴后回了家。',\n",
       "  '甘慧萍也不晓得到底咋回事儿两口子拌了几句嘴后回了家',\n",
       "  'gan1 hui4 ping2 ye3 bu4 xiao3 de2 dao4 di2 za3 hui2 shir4 liang2 kou3 zi ban4 le ji3 ju4 zui3 hou4 hui2 le jia1',\n",
       "  25,\n",
       "  24),\n",
       " ('而模特儿出身的熊黛林拼搏精神可嘉，更发生疑似走光事件。',\n",
       "  '而模特儿出身的熊黛林拼搏精神可嘉更发生疑似走光事件',\n",
       "  'er2 mo2 ter4 chu1 shen1 de xiong2 dai4 lin2 pin1 bo2 jing1 shen2 ke3 jia1 geng4 fa1 sheng1 yi2 si4 zou3 guang1 shi4 jian4',\n",
       "  25,\n",
       "  24)]"
      ]
     },
     "execution_count": 19,
     "metadata": {},
     "output_type": "execute_result"
    }
   ],
   "source": [
    "invalid_text = []\n",
    "for i, (text, phome) in enumerate(dataset):\n",
    "\tnormalized = text.replace('，','').replace('。','').replace('.','').replace('—','').replace(\"“\",'').replace(\"”\",'').replace('？','').replace('！','').replace('：','').replace('！','').replace('、','').replace('；','').replace('…','')\n",
    "\tphome_count = len(phome.split(' '))\n",
    "\tif len(normalized)!= phome_count:\n",
    "\t\tinvalid_text.append((i, text, normalized, phome, len(normalized), phome_count))\n",
    "invalid_text"
   ]
  },
  {
   "cell_type": "code",
   "execution_count": 20,
   "metadata": {},
   "outputs": [],
   "source": [
    "import jieba, pypinyin"
   ]
  },
  {
   "cell_type": "code",
   "execution_count": 21,
   "metadata": {},
   "outputs": [
    {
     "name": "stderr",
     "output_type": "stream",
     "text": [
      "Building prefix dict from the default dictionary ...\n",
      "Loading model from cache /tmp/jieba.cache\n",
      "Loading model cost 0.442 seconds.\n",
      "Prefix dict has been built successfully.\n"
     ]
    },
    {
     "name": "stdout",
     "output_type": "stream",
     "text": [
      "['zhao4', 'rui3', 'rui3']\n",
      "['cong2', 'xiao3']\n",
      "['xi3', 'huan1']\n",
      "['hua4', 'hua4']\n",
      "['，']\n",
      "['he2']\n",
      "['xu3', 'duo1']\n",
      "['nv3', 'hai2', 'er2']\n",
      "['yi1', 'yang4']\n",
      "['，']\n",
      "['ta1']\n",
      "['ye3']\n",
      "['hen3']\n",
      "['xi3', 'huan1']\n",
      "['man4', 'hua4', 'shu1']\n",
      "['。']\n"
     ]
    }
   ],
   "source": [
    "cuts = list(jieba.cut(\"赵蕊蕊从小喜欢画画，和许多女孩儿一样，她也很喜欢漫画书。\"))\n",
    "for cut in cuts:\n",
    "\tx = pypinyin.lazy_pinyin(cut, style=pypinyin.Style.TONE3, tone_sandhi=True)\n",
    "\tprint(x)"
   ]
  },
  {
   "cell_type": "code",
   "execution_count": null,
   "metadata": {},
   "outputs": [],
   "source": []
  }
 ],
 "metadata": {
  "kernelspec": {
   "display_name": "voicelab",
   "language": "python",
   "name": "python3"
  },
  "language_info": {
   "codemirror_mode": {
    "name": "ipython",
    "version": 3
   },
   "file_extension": ".py",
   "mimetype": "text/x-python",
   "name": "python",
   "nbconvert_exporter": "python",
   "pygments_lexer": "ipython3",
   "version": "3.10.16"
  }
 },
 "nbformat": 4,
 "nbformat_minor": 2
}
